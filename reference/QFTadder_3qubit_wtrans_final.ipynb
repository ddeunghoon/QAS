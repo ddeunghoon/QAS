{
 "cells": [
  {
   "cell_type": "code",
   "execution_count": null,
   "id": "aa083284-74a4-4948-9b93-5b4c696edc5a",
   "metadata": {},
   "outputs": [
    {
     "name": "stderr",
     "output_type": "stream",
     "text": [
      "<frozen importlib._bootstrap>:219: RuntimeWarning: scipy._lib.messagestream.MessageStream size changed, may indicate binary incompatibility. Expected 56 from C header, got 64 from PyObject\n"
     ]
    }
   ],
   "source": [
    "import numpy as np\n",
    "\n",
    "# Importing standard Qiskit libraries\n",
    "from qiskit import *\n",
    "from qiskit.tools.jupyter import *\n",
    "from qiskit.visualization import *\n",
    "from ibm_quantum_widgets import *\n",
    "from qiskit.providers.aer import QasmSimulator\n",
    "from qiskit.providers.aer import AerSimulator\n",
    "from qiskit.visualization import plot_histogram\n",
    "\n",
    "# Loading your IBM Quantum account(s)\n",
    "provider = IBMQ.load_account()"
   ]
  },
  {
   "cell_type": "code",
   "execution_count": 10,
   "id": "2efe3872-97b6-432c-a165-45c7f1807546",
   "metadata": {},
   "outputs": [
    {
     "name": "stderr",
     "output_type": "stream",
     "text": [
      "ibmqfactory.load_account:WARNING:2022-06-29 01:26:48,917: Credentials are already in use. The existing account in the session will be replaced.\n"
     ]
    },
    {
     "name": "stdout",
     "output_type": "stream",
     "text": [
      "\n",
      "Total count for 00 and 11 are: {'000': 861, '001': 155, '010': 208, '011': 299, '100': 1325, '101': 410, '110': 401, '111': 341}\n"
     ]
    },
    {
     "data": {
      "text/plain": [
       "OrderedDict([('cx', 60),\n",
       "             ('rz', 42),\n",
       "             ('sx', 12),\n",
       "             ('x', 7),\n",
       "             ('barrier', 4),\n",
       "             ('measure', 3)])"
      ]
     },
     "execution_count": 3,
     "metadata": {},
     "output_type": "execute_result"
    }
   ],
   "source": [
    "q = QuantumRegister(6, 'q')\n",
    "c = ClassicalRegister(3, 'c')\n",
    "c_qftadder = QuantumCircuit(q, c)\n",
    "\n",
    "#Test\n",
    "c_qftadder.x(q[2])\n",
    "#c_qftadder.x(q[1])\n",
    "#c_qftadder.x(q[0])\n",
    "\n",
    "\n",
    "#QFT\n",
    "c_qftadder.barrier(q[0],q[1],q[2],q[3],q[4],q[5])\n",
    "\n",
    "c_qftadder.h(q[5])\n",
    "c_qftadder.cp(np.pi/4,q[3],q[5])\n",
    "c_qftadder.cp(np.pi/2,q[4],q[5])\n",
    "c_qftadder.h(q[4])\n",
    "c_qftadder.cp(np.pi/2,q[3],q[4])\n",
    "c_qftadder.h(q[3])\n",
    "c_qftadder.swap(q[3], q[5])\n",
    "\n",
    "c_qftadder.barrier(q[0],q[1],q[2],q[3],q[4],q[5])\n",
    "\n",
    "#CZ\n",
    "c_qftadder.cp(np.pi, q[0], q[3])\n",
    "c_qftadder.cp(np.pi / 2, q[1], q[3])\n",
    "c_qftadder.cp(np.pi / 4, q[2], q[3])\n",
    "c_qftadder.cp(np.pi, q[1], q[4])\n",
    "c_qftadder.cp(np.pi / 2, q[2], q[4])\n",
    "c_qftadder.cp(np.pi, q[2], q[5])\n",
    "\n",
    "c_qftadder.barrier(q[0],q[1],q[2],q[3],q[4],q[5])\n",
    "\n",
    "#IQFT\n",
    "c_qftadder.swap(q[3], q[5])\n",
    "c_qftadder.h([3])\n",
    "c_qftadder.cp(-np.pi/2, q[3], q[4])\n",
    "c_qftadder.h(q[4])\n",
    "c_qftadder.cp(-np.pi/2, q[4], q[5])\n",
    "c_qftadder.cp(-np.pi/4, q[3], q[5])\n",
    "c_qftadder.h(q[5])\n",
    "\n",
    "#Measure\n",
    "c_qftadder.barrier(q[0],q[1],q[2],q[3],q[4],q[5])\n",
    "c_qftadder.measure(q[3], c[0])\n",
    "c_qftadder.measure(q[4], c[1])\n",
    "c_qftadder.measure(q[5], c[2])"
   ]
  },
  {
   "cell_type": "code",
   "execution_count": 11,
   "id": "3a5d3dea-8e0b-4097-9f1b-4169fee2dfad",
   "metadata": {},
   "outputs": [],
   "source": [
    "%matplotlib inline\n",
    "c_qftadder.draw(output='mpl')"
   ]
  },
  {
   "cell_type": "code",
   "execution_count": 18,
   "id": "c474d450-270c-4c4f-b16e-fa664f913f6e",
   "metadata": {},
   "outputs": [],
   "source": [
    "#provider = IBMQ.get_provider(hub='ibm-q-skku', group='korea-university', project='ku-graduate')\n",
    "#backend = provider.get_backend('ibmq_qasm_simulator')\n",
    "#backend = provider.get_backend('ibm_perth')\n",
    "simulator = Aer.get_backend('aer_simulator')"
   ]
  },
  {
   "cell_type": "code",
   "execution_count": 19,
   "id": "1b3b0bfd-1751-446f-b572-1937a5478a28",
   "metadata": {},
   "outputs": [],
   "source": [
    "re_transpile=transpile(c_qftadder, backend)\n",
    "#re_transpile.draw(output='mpl', idle_wires=False)"
   ]
  },
  {
   "cell_type": "code",
   "execution_count": 20,
   "id": "37945fa4-b478-4622-b90a-5fd385bcac6b",
   "metadata": {},
   "outputs": [],
   "source": [
    "re_transpile=transpile(c_qftadder, backend, optimization_level = 3)\n",
    "#re_transpile.draw(output='mpl', idle_wires=False)"
   ]
  },
  {
   "cell_type": "code",
   "execution_count": 21,
   "id": "5f0ce4fd-6cec-4761-af60-8e4fb6985c50",
   "metadata": {
    "tags": []
   },
   "outputs": [],
   "source": [
    "#job = execute(c_qftadder, backend, shots=100000)\n",
    "#job = execute(re_transpile, backend)\n",
    "#result = job.result()\n",
    "#counts = result.get_counts(c_qftadder)\n",
    "result=simulator.run(re_transpile).result()\n",
    "counts = result.get_counts(re_transpile)\n",
    "print(\"\\nTotal count for 00 and 11 are:\",counts)\n",
    "#_qftadder.draw()\n",
    "re_transpile.draw()"
   ]
  },
  {
   "cell_type": "code",
   "execution_count": null,
   "id": "4a1d3a42-4733-4e2a-973f-415bfec1e63e",
   "metadata": {},
   "outputs": [],
   "source": [
    "re_transpile.count_ops()"
   ]
  }
 ],
 "metadata": {
  "kernelspec": {
   "display_name": "Python 3 (ipykernel)",
   "language": "python",
   "name": "python3"
  },
  "language_info": {
   "codemirror_mode": {
    "name": "ipython",
    "version": 3
   },
   "file_extension": ".py",
   "mimetype": "text/x-python",
   "name": "python",
   "nbconvert_exporter": "python",
   "pygments_lexer": "ipython3",
   "version": "3.8.13"
  },
  "widgets": {
   "application/vnd.jupyter.widget-state+json": {
    "state": {
     "00e54d56e9a2441e8254d501947d9b3d": {
      "model_module": "@jupyter-widgets/controls",
      "model_module_version": "1.5.0",
      "model_name": "HTMLModel",
      "state": {
       "layout": "IPY_MODEL_d9037a63bc2f486eb7bc2b96aa8d9383",
       "style": "IPY_MODEL_e4175d1be2be4d1ead80d4b69a241055",
       "value": "<h5>Status</h5>"
      }
     },
     "0296444ca11f4194942f80104a96f2ac": {
      "model_module": "@jupyter-widgets/controls",
      "model_module_version": "1.5.0",
      "model_name": "ButtonModel",
      "state": {
       "icon": "close",
       "layout": "IPY_MODEL_d0de607e88b747ec862d5ae4784efba0",
       "style": "IPY_MODEL_31d9afc1eb034ee79f098e18f923e7ea"
      }
     },
     "02f05195fa34441cb0d7d101fd80a128": {
      "model_module": "@jupyter-widgets/base",
      "model_module_version": "1.2.0",
      "model_name": "LayoutModel",
      "state": {
       "width": "95px"
      }
     },
     "03e82206cbf6445d82a36d57293fcf25": {
      "model_module": "@jupyter-widgets/controls",
      "model_module_version": "1.5.0",
      "model_name": "HTMLModel",
      "state": {
       "layout": "IPY_MODEL_2b2553ca2a2c45c294f67008b220f2d3",
       "style": "IPY_MODEL_266931f9b336476eb6c5539080fc14f9",
       "value": "<h5>Job ID</h5>"
      }
     },
     "05b021462ea245bb8a4411b5dd71ebfd": {
      "model_module": "@jupyter-widgets/controls",
      "model_module_version": "1.5.0",
      "model_name": "HTMLModel",
      "state": {
       "layout": "IPY_MODEL_cd4022ff8bea4dbc958d5c0ee8340e8a",
       "style": "IPY_MODEL_71dd4333c97843c6857fdbe50c3fa9f2",
       "value": "ibmq_jakarta"
      }
     },
     "06a2bed75fdb4cf18765a83d3cb0a52e": {
      "model_module": "@jupyter-widgets/base",
      "model_module_version": "1.2.0",
      "model_name": "LayoutModel",
      "state": {
       "width": "190px"
      }
     },
     "06f4629befd4499ba00fd4d77da5e282": {
      "model_module": "@jupyter-widgets/base",
      "model_module_version": "1.2.0",
      "model_name": "LayoutModel",
      "state": {
       "overflow_x": "scroll"
      }
     },
     "072104819ed243238e108958a4fe4d75": {
      "model_module": "@jupyter-widgets/controls",
      "model_module_version": "1.5.0",
      "model_name": "DescriptionStyleModel",
      "state": {
       "description_width": ""
      }
     },
     "07afe00329754422be63dcc87434e27d": {
      "model_module": "@jupyter-widgets/base",
      "model_module_version": "1.2.0",
      "model_name": "LayoutModel",
      "state": {
       "margin": "0px 0px 10px 0px"
      }
     },
     "08e05b2d139e46f9a38b0060064fd87c": {
      "model_module": "@jupyter-widgets/controls",
      "model_module_version": "1.5.0",
      "model_name": "DescriptionStyleModel",
      "state": {
       "description_width": ""
      }
     },
     "0a56b3bae9c44b249dd012023b3ea112": {
      "model_module": "@jupyter-widgets/base",
      "model_module_version": "1.2.0",
      "model_name": "LayoutModel",
      "state": {
       "width": "190px"
      }
     },
     "0c2aab700d2c46ba98ebe00ac8bbcbab": {
      "model_module": "@jupyter-widgets/controls",
      "model_module_version": "1.5.0",
      "model_name": "HTMLModel",
      "state": {
       "layout": "IPY_MODEL_b36b23bde1c34087a55e8b94c0dec6f1",
       "style": "IPY_MODEL_7487f443df094ef2853b7bcd26ddb1c9",
       "value": "<h5>Status</h5>"
      }
     },
     "0cbc82abba5e49f0983e10ba4a498189": {
      "model_module": "@jupyter-widgets/base",
      "model_module_version": "1.2.0",
      "model_name": "LayoutModel",
      "state": {
       "max_width": "700px",
       "min_width": "700px"
      }
     },
     "0cd6f0372ab74d429da6a43ef650893f": {
      "model_module": "@jupyter-widgets/controls",
      "model_module_version": "1.5.0",
      "model_name": "HTMLModel",
      "state": {
       "layout": "IPY_MODEL_330a1d518d57474ab7bf11d326127124",
       "style": "IPY_MODEL_92203a51dfb34b24a89081e7647aa685",
       "value": "<h5>Message</h5>"
      }
     },
     "0db60d669849474a991f094737f2bbc1": {
      "model_module": "@jupyter-widgets/controls",
      "model_module_version": "1.5.0",
      "model_name": "DescriptionStyleModel",
      "state": {
       "description_width": ""
      }
     },
     "0e1d676fac8c40df912f566a5add89da": {
      "model_module": "@jupyter-widgets/controls",
      "model_module_version": "1.5.0",
      "model_name": "DescriptionStyleModel",
      "state": {
       "description_width": ""
      }
     },
     "0f50ce3dcfad497bb68d5fb91911235c": {
      "model_module": "@jupyter-widgets/controls",
      "model_module_version": "1.5.0",
      "model_name": "ButtonModel",
      "state": {
       "icon": "close",
       "layout": "IPY_MODEL_77d8576642d349658dcbf1a9094d96d4",
       "style": "IPY_MODEL_20f7d530fcba4e4da719cf05b63cf96f"
      }
     },
     "12987018d4f9485a9c12ba34aae68c8e": {
      "model_module": "@jupyter-widgets/controls",
      "model_module_version": "1.5.0",
      "model_name": "HBoxModel",
      "state": {
       "children": [
        "IPY_MODEL_0296444ca11f4194942f80104a96f2ac",
        "IPY_MODEL_c7df185e10674f0898bb1b975827ffc8",
        "IPY_MODEL_93dcb6424c534207ad61dc0d4cc3bcad",
        "IPY_MODEL_a2bbac4f989048f68ceeb68f41349317",
        "IPY_MODEL_f19eba9cd7be431d9af0298098f3cd13",
        "IPY_MODEL_6852c0acbf454b3a998b23691fc46f63"
       ],
       "layout": "IPY_MODEL_62f960a76dbc4d19991ef41ff41b305c"
      }
     },
     "140899199612456293825ffce336f0f9": {
      "model_module": "@jupyter-widgets/controls",
      "model_module_version": "1.5.0",
      "model_name": "ButtonStyleModel",
      "state": {
       "button_color": "white"
      }
     },
     "1410c78d6be344888ec2825a3bed940a": {
      "model_module": "@jupyter-widgets/controls",
      "model_module_version": "1.5.0",
      "model_name": "HBoxModel",
      "state": {
       "children": [
        "IPY_MODEL_8bb4a96139e846d9b1977666de1c44b8",
        "IPY_MODEL_d0ab2487e219436a9efa9721882acb69",
        "IPY_MODEL_2bc5172c3fb2407b82c02521848a5cc7",
        "IPY_MODEL_c676f608066e49b69fbe451870e969da",
        "IPY_MODEL_584a2edea35a42bb96a1f4d94951d95f"
       ],
       "layout": "IPY_MODEL_4afcf0a490914d6bb9fd2eaee451a78a"
      }
     },
     "14624153c1d742dba06c6585dd9d5178": {
      "model_module": "@jupyter-widgets/base",
      "model_module_version": "1.2.0",
      "model_name": "LayoutModel",
      "state": {
       "width": "95px"
      }
     },
     "14ad13660ee34e8e84cf259768c49a8d": {
      "model_module": "@jupyter-widgets/base",
      "model_module_version": "1.2.0",
      "model_name": "LayoutModel",
      "state": {
       "max_width": "700px",
       "min_width": "700px"
      }
     },
     "14e03ee34618482b92871a3270c72959": {
      "model_module": "@jupyter-widgets/base",
      "model_module_version": "1.2.0",
      "model_name": "LayoutModel",
      "state": {
       "margin": "0px 0px 0px 37px",
       "width": "600px"
      }
     },
     "158d667d31e24d8b9692f8afd74b4914": {
      "model_module": "@jupyter-widgets/base",
      "model_module_version": "1.2.0",
      "model_name": "LayoutModel",
      "state": {
       "max_width": "700px",
       "min_width": "700px"
      }
     },
     "1623fced9e474c35846f097db172974e": {
      "model_module": "@jupyter-widgets/base",
      "model_module_version": "1.2.0",
      "model_name": "LayoutModel",
      "state": {
       "overflow_x": "scroll"
      }
     },
     "19b6c844b54c4d5eb550f566e744ed18": {
      "model_module": "@jupyter-widgets/base",
      "model_module_version": "1.2.0",
      "model_name": "LayoutModel",
      "state": {
       "width": "190px"
      }
     },
     "1b0544c2c8d54595b6643535a0535fdc": {
      "model_module": "@jupyter-widgets/controls",
      "model_module_version": "1.5.0",
      "model_name": "DescriptionStyleModel",
      "state": {
       "description_width": ""
      }
     },
     "1e501eaf94d7464b8967ba1b76b32e8d": {
      "model_module": "@jupyter-widgets/base",
      "model_module_version": "1.2.0",
      "model_name": "LayoutModel",
      "state": {
       "width": "145px"
      }
     },
     "20f7d530fcba4e4da719cf05b63cf96f": {
      "model_module": "@jupyter-widgets/controls",
      "model_module_version": "1.5.0",
      "model_name": "ButtonStyleModel",
      "state": {
       "button_color": "white"
      }
     },
     "21e6790d293e4400ac845146bf25984e": {
      "model_module": "@jupyter-widgets/controls",
      "model_module_version": "1.5.0",
      "model_name": "ButtonModel",
      "state": {
       "icon": "close",
       "layout": "IPY_MODEL_db9536bd840c4c7988d6f5e5261f615a",
       "style": "IPY_MODEL_140899199612456293825ffce336f0f9"
      }
     },
     "232f92f40fe6452ba1e492191f4a8993": {
      "model_module": "@jupyter-widgets/base",
      "model_module_version": "1.2.0",
      "model_name": "LayoutModel",
      "state": {
       "grid_template_areas": "\n                                       \". . . . right \"\n                                        ",
       "grid_template_columns": "20% 20% 20% 20% 20%",
       "width": "100%"
      }
     },
     "23e8935d20044a5fa979e12b654d9b62": {
      "model_module": "@jupyter-widgets/controls",
      "model_module_version": "1.5.0",
      "model_name": "HTMLModel",
      "state": {
       "layout": "IPY_MODEL_8444090a0154409a9a64c00232d45218",
       "style": "IPY_MODEL_cfad16ee8cb14442a6c8d1788c6d1267",
       "value": "<font style='color:#34BC6E'>DONE</font>"
      }
     },
     "2448f3919e1b4d3fa83f5cc120cf1cbd": {
      "model_module": "@jupyter-widgets/base",
      "model_module_version": "1.2.0",
      "model_name": "LayoutModel",
      "state": {
       "width": "95px"
      }
     },
     "2496765c20b64958ba8b7042f06f0dfe": {
      "model_module": "@jupyter-widgets/base",
      "model_module_version": "1.2.0",
      "model_name": "LayoutModel",
      "state": {
       "width": "145px"
      }
     },
     "266931f9b336476eb6c5539080fc14f9": {
      "model_module": "@jupyter-widgets/controls",
      "model_module_version": "1.5.0",
      "model_name": "DescriptionStyleModel",
      "state": {
       "description_width": ""
      }
     },
     "296c9dd08aae49a8b812b786134c8abc": {
      "model_module": "@jupyter-widgets/controls",
      "model_module_version": "1.5.0",
      "model_name": "ButtonModel",
      "state": {
       "button_style": "primary",
       "description": "Clear",
       "layout": "IPY_MODEL_4e3d3ed6d5894496b0f68e7fdb1ac86d",
       "style": "IPY_MODEL_938bf0771da14aa1b2ba9f6477a59eed"
      }
     },
     "2b2553ca2a2c45c294f67008b220f2d3": {
      "model_module": "@jupyter-widgets/base",
      "model_module_version": "1.2.0",
      "model_name": "LayoutModel",
      "state": {
       "width": "190px"
      }
     },
     "2bc5172c3fb2407b82c02521848a5cc7": {
      "model_module": "@jupyter-widgets/controls",
      "model_module_version": "1.5.0",
      "model_name": "HTMLModel",
      "state": {
       "layout": "IPY_MODEL_8b4e91af0b7b41e4a1fa07ee85a02876",
       "style": "IPY_MODEL_78b12c1e2d5e4c59b17b7d000e688a6c",
       "value": "<h5>Status</h5>"
      }
     },
     "2dc474589ab348ebab58a2610a2fe8b9": {
      "model_module": "@jupyter-widgets/base",
      "model_module_version": "1.2.0",
      "model_name": "LayoutModel",
      "state": {
       "overflow_x": "scroll"
      }
     },
     "302c40326c494411a901195cc7b642f8": {
      "model_module": "@jupyter-widgets/controls",
      "model_module_version": "1.5.0",
      "model_name": "DescriptionStyleModel",
      "state": {
       "description_width": ""
      }
     },
     "31d9afc1eb034ee79f098e18f923e7ea": {
      "model_module": "@jupyter-widgets/controls",
      "model_module_version": "1.5.0",
      "model_name": "ButtonStyleModel",
      "state": {
       "button_color": "white"
      }
     },
     "330a1d518d57474ab7bf11d326127124": {
      "model_module": "@jupyter-widgets/base",
      "model_module_version": "1.2.0",
      "model_name": "LayoutModel",
      "state": {}
     },
     "363c8aa4d2a34925bd7bd34458f1a6d9": {
      "model_module": "@jupyter-widgets/controls",
      "model_module_version": "1.5.0",
      "model_name": "HTMLModel",
      "state": {
       "layout": "IPY_MODEL_07afe00329754422be63dcc87434e27d",
       "style": "IPY_MODEL_afee7978a1674ac9906cced43e567a32",
       "value": "<p style='font-family: IBM Plex Sans, Arial, Helvetica, sans-serif; font-size: 20px; font-weight: medium;'>Circuit Properties</p>"
      }
     },
     "36e3c6c5acf94a7a8e651b5685cafcbc": {
      "model_module": "@jupyter-widgets/base",
      "model_module_version": "1.2.0",
      "model_name": "LayoutModel",
      "state": {
       "grid_template_areas": "\n                                       \". . . . right \"\n                                        ",
       "grid_template_columns": "20% 20% 20% 20% 20%",
       "width": "100%"
      }
     },
     "398ce9c2c39043ad9b37546a1e87868f": {
      "model_module": "@jupyter-widgets/controls",
      "model_module_version": "1.5.0",
      "model_name": "ButtonStyleModel",
      "state": {}
     },
     "39c3bdf186b4488984eedde3f79fead1": {
      "model_module": "@jupyter-widgets/controls",
      "model_module_version": "1.5.0",
      "model_name": "DescriptionStyleModel",
      "state": {
       "description_width": ""
      }
     },
     "39f7c54e2e894b6bacdfd55af55d4921": {
      "model_module": "@jupyter-widgets/controls",
      "model_module_version": "1.5.0",
      "model_name": "DescriptionStyleModel",
      "state": {
       "description_width": ""
      }
     },
     "3a47549de81d4aa0ba3f6aba45c31839": {
      "model_module": "@jupyter-widgets/base",
      "model_module_version": "1.2.0",
      "model_name": "LayoutModel",
      "state": {
       "width": "190px"
      }
     },
     "3a4f3c0225644164aa5f5f33269ce984": {
      "model_module": "@jupyter-widgets/controls",
      "model_module_version": "1.5.0",
      "model_name": "HTMLModel",
      "state": {
       "layout": "IPY_MODEL_4d6eb19623504d7c8d750aab9789590f",
       "style": "IPY_MODEL_a3e7bbb9525d44b8893f57b9d12c9e81",
       "value": "-"
      }
     },
     "3a7d06c7a8c84b1ab39ae434c3e0fa22": {
      "model_module": "@jupyter-widgets/controls",
      "model_module_version": "1.5.0",
      "model_name": "ButtonModel",
      "state": {
       "button_style": "primary",
       "description": "Clear",
       "layout": "IPY_MODEL_5bd1d90d541346e69b130371976a950d",
       "style": "IPY_MODEL_e36141dfd12a44a3b7e1fdd68427e11c"
      }
     },
     "3bb60d4756ea4cc49dfbfc3b43717ec2": {
      "model_module": "@jupyter-widgets/controls",
      "model_module_version": "1.5.0",
      "model_name": "HTMLModel",
      "state": {
       "layout": "IPY_MODEL_06a2bed75fdb4cf18765a83d3cb0a52e",
       "style": "IPY_MODEL_0db60d669849474a991f094737f2bbc1",
       "value": "62bb51e3716a3142a7561451"
      }
     },
     "3ca9fd65d73744d99995bb2eabdcc7a9": {
      "model_module": "@jupyter-widgets/controls",
      "model_module_version": "1.5.0",
      "model_name": "HTMLModel",
      "state": {
       "layout": "IPY_MODEL_8d2ce49d51c84131a17873198f389266",
       "style": "IPY_MODEL_d02321c842c24dc581fc7c2210c8e259",
       "value": "<h5>Queue</h5>"
      }
     },
     "4499c8d186ae4903ac20d641389e2d6e": {
      "model_module": "@jupyter-widgets/controls",
      "model_module_version": "1.5.0",
      "model_name": "HTMLModel",
      "state": {
       "layout": "IPY_MODEL_1623fced9e474c35846f097db172974e",
       "style": "IPY_MODEL_d39d8d60256945d684386978d6aef132",
       "value": "job has successfully run"
      }
     },
     "453dbf035ff744c2a95cab75cdf29602": {
      "model_module": "@jupyter-widgets/base",
      "model_module_version": "1.2.0",
      "model_name": "LayoutModel",
      "state": {
       "margin": "0px 5px 0px 0px",
       "width": "32px"
      }
     },
     "462e5cb948c54c5194d1c9636339b3ae": {
      "model_module": "@jupyter-widgets/controls",
      "model_module_version": "1.5.0",
      "model_name": "GridBoxModel",
      "state": {
       "children": [
        "IPY_MODEL_296c9dd08aae49a8b812b786134c8abc"
       ],
       "layout": "IPY_MODEL_232f92f40fe6452ba1e492191f4a8993"
      }
     },
     "465c5aa5e52e4c9a9202226512dcc6bb": {
      "model_module": "@jupyter-widgets/controls",
      "model_module_version": "1.5.0",
      "model_name": "HTMLModel",
      "state": {
       "layout": "IPY_MODEL_972500fed3414edaac4fe92b8944e99f",
       "style": "IPY_MODEL_7857c173e06542e7af66deef74f7401e",
       "value": "<p style='font-family: IBM Plex Sans, Arial, Helvetica, sans-serif; font-size: 20px; font-weight: medium;'>Circuit Properties</p>"
      }
     },
     "469535a5df6e4d728e83564c322bef92": {
      "model_module": "@jupyter-widgets/controls",
      "model_module_version": "1.5.0",
      "model_name": "DescriptionStyleModel",
      "state": {
       "description_width": ""
      }
     },
     "46d403eee22a496990b46e678d088f4c": {
      "model_module": "@jupyter-widgets/controls",
      "model_module_version": "1.5.0",
      "model_name": "HBoxModel",
      "state": {
       "children": [
        "IPY_MODEL_21e6790d293e4400ac845146bf25984e",
        "IPY_MODEL_abe47654973046049eea8cc23b7dc7a2",
        "IPY_MODEL_05b021462ea245bb8a4411b5dd71ebfd",
        "IPY_MODEL_5d9388963eae411eb152505f93003d69",
        "IPY_MODEL_3a4f3c0225644164aa5f5f33269ce984",
        "IPY_MODEL_497364b68be8489eb82d91e722c97630"
       ],
       "layout": "IPY_MODEL_158d667d31e24d8b9692f8afd74b4914"
      }
     },
     "497364b68be8489eb82d91e722c97630": {
      "model_module": "@jupyter-widgets/controls",
      "model_module_version": "1.5.0",
      "model_name": "HTMLModel",
      "state": {
       "layout": "IPY_MODEL_2dc474589ab348ebab58a2610a2fe8b9",
       "style": "IPY_MODEL_6535f5dd8c2545bc888addb1c1bc81f5",
       "value": "job has successfully run"
      }
     },
     "4afcf0a490914d6bb9fd2eaee451a78a": {
      "model_module": "@jupyter-widgets/base",
      "model_module_version": "1.2.0",
      "model_name": "LayoutModel",
      "state": {
       "margin": "0px 0px 0px 37px",
       "width": "600px"
      }
     },
     "4c4c7b3d0a2745cbab3f2d6d7c536012": {
      "model_module": "@jupyter-widgets/controls",
      "model_module_version": "1.5.0",
      "model_name": "HTMLModel",
      "state": {
       "layout": "IPY_MODEL_7395e39057cf47189352064fab9233d4",
       "style": "IPY_MODEL_08e05b2d139e46f9a38b0060064fd87c",
       "value": "<h5>Queue</h5>"
      }
     },
     "4c51a16654a64ebb9ed07fc7916dada6": {
      "model_module": "@jupyter-widgets/base",
      "model_module_version": "1.2.0",
      "model_name": "LayoutModel",
      "state": {
       "overflow_x": "scroll"
      }
     },
     "4d6eb19623504d7c8d750aab9789590f": {
      "model_module": "@jupyter-widgets/base",
      "model_module_version": "1.2.0",
      "model_name": "LayoutModel",
      "state": {
       "width": "70px"
      }
     },
     "4e3d3ed6d5894496b0f68e7fdb1ac86d": {
      "model_module": "@jupyter-widgets/base",
      "model_module_version": "1.2.0",
      "model_name": "LayoutModel",
      "state": {
       "grid_area": "right",
       "padding": "0px 0px 0px 0px",
       "width": "70px"
      }
     },
     "4e6e7e0c53674114ae8669b280702112": {
      "model_module": "@jupyter-widgets/base",
      "model_module_version": "1.2.0",
      "model_name": "LayoutModel",
      "state": {
       "width": "190px"
      }
     },
     "508ebf7d57b1475d82f504d75e6d8ea4": {
      "model_module": "@jupyter-widgets/controls",
      "model_module_version": "1.5.0",
      "model_name": "DescriptionStyleModel",
      "state": {
       "description_width": ""
      }
     },
     "530620ef5a2c4e0cb4927b684ff2e574": {
      "model_module": "@jupyter-widgets/base",
      "model_module_version": "1.2.0",
      "model_name": "LayoutModel",
      "state": {
       "overflow_x": "scroll"
      }
     },
     "53582f59f1ad47f78d70d7eca999fd0d": {
      "model_module": "@jupyter-widgets/controls",
      "model_module_version": "1.5.0",
      "model_name": "GridBoxModel",
      "state": {
       "children": [
        "IPY_MODEL_3a7d06c7a8c84b1ab39ae434c3e0fa22"
       ],
       "layout": "IPY_MODEL_8c44325b24da4a88b4282d0b9a0e9b2f"
      }
     },
     "5468c102ac4941daa54a708f47b09384": {
      "model_module": "@jupyter-widgets/base",
      "model_module_version": "1.2.0",
      "model_name": "LayoutModel",
      "state": {
       "max_width": "700px",
       "min_width": "700px"
      }
     },
     "549812b1003d48b98689731d8a7d0ab3": {
      "model_module": "@jupyter-widgets/controls",
      "model_module_version": "1.5.0",
      "model_name": "ButtonStyleModel",
      "state": {
       "button_color": "white"
      }
     },
     "584a2edea35a42bb96a1f4d94951d95f": {
      "model_module": "@jupyter-widgets/controls",
      "model_module_version": "1.5.0",
      "model_name": "HTMLModel",
      "state": {
       "layout": "IPY_MODEL_8e70c20f6d8144508281ebe836510cfc",
       "style": "IPY_MODEL_943d222faa6d40a18bc64ec6fa47e15c",
       "value": "<h5>Message</h5>"
      }
     },
     "5bd1d90d541346e69b130371976a950d": {
      "model_module": "@jupyter-widgets/base",
      "model_module_version": "1.2.0",
      "model_name": "LayoutModel",
      "state": {
       "grid_area": "right",
       "padding": "0px 0px 0px 0px",
       "width": "70px"
      }
     },
     "5d9388963eae411eb152505f93003d69": {
      "model_module": "@jupyter-widgets/controls",
      "model_module_version": "1.5.0",
      "model_name": "HTMLModel",
      "state": {
       "layout": "IPY_MODEL_02f05195fa34441cb0d7d101fd80a128",
       "style": "IPY_MODEL_469535a5df6e4d728e83564c322bef92",
       "value": "<font style='color:#34BC6E'>DONE</font>"
      }
     },
     "5e4f7a6355954156ac5e826cc937b37c": {
      "model_module": "@jupyter-widgets/controls",
      "model_module_version": "1.5.0",
      "model_name": "DescriptionStyleModel",
      "state": {
       "description_width": ""
      }
     },
     "5e7b1a064251430896d051182b9c91ff": {
      "model_module": "@jupyter-widgets/controls",
      "model_module_version": "1.5.0",
      "model_name": "HTMLModel",
      "state": {
       "layout": "IPY_MODEL_e424eaa68026401b809b178a221f5c12",
       "style": "IPY_MODEL_6feccf432cb24100aa81a537e02e7ab5",
       "value": "ibm_lagos"
      }
     },
     "5f3e56ca8884470593ff394e5642a3ef": {
      "model_module": "@jupyter-widgets/controls",
      "model_module_version": "1.5.0",
      "model_name": "DescriptionStyleModel",
      "state": {
       "description_width": ""
      }
     },
     "62f960a76dbc4d19991ef41ff41b305c": {
      "model_module": "@jupyter-widgets/base",
      "model_module_version": "1.2.0",
      "model_name": "LayoutModel",
      "state": {
       "max_width": "700px",
       "min_width": "700px"
      }
     },
     "63111edd2a32400fbc78bd9eeb8b24ae": {
      "model_module": "@jupyter-widgets/controls",
      "model_module_version": "1.5.0",
      "model_name": "DescriptionStyleModel",
      "state": {
       "description_width": ""
      }
     },
     "6367012019194640a157442c0c71370a": {
      "model_module": "@jupyter-widgets/base",
      "model_module_version": "1.2.0",
      "model_name": "LayoutModel",
      "state": {}
     },
     "64d905cbaa8d4c248339a97abd7ddc17": {
      "model_module": "@jupyter-widgets/controls",
      "model_module_version": "1.5.0",
      "model_name": "DescriptionStyleModel",
      "state": {
       "description_width": ""
      }
     },
     "6535f5dd8c2545bc888addb1c1bc81f5": {
      "model_module": "@jupyter-widgets/controls",
      "model_module_version": "1.5.0",
      "model_name": "DescriptionStyleModel",
      "state": {
       "description_width": ""
      }
     },
     "656cf5edb2064a47b4fd7a0f71462900": {
      "model_module": "@jupyter-widgets/controls",
      "model_module_version": "1.5.0",
      "model_name": "HTMLModel",
      "state": {
       "layout": "IPY_MODEL_f1bcb1fcc8504712b8c56c6acf795bad",
       "style": "IPY_MODEL_072104819ed243238e108958a4fe4d75",
       "value": "-"
      }
     },
     "664394c25b8c4e39938583c05e5785cd": {
      "model_module": "@jupyter-widgets/controls",
      "model_module_version": "1.5.0",
      "model_name": "DescriptionStyleModel",
      "state": {
       "description_width": ""
      }
     },
     "664f7fe1bee546e3a2e9922326bbe5ac": {
      "model_module": "@jupyter-widgets/controls",
      "model_module_version": "1.5.0",
      "model_name": "HTMLModel",
      "state": {
       "layout": "IPY_MODEL_700217fdf8704decb4ee9c88a85393de",
       "style": "IPY_MODEL_302c40326c494411a901195cc7b642f8",
       "value": "<p style='font-family: IBM Plex Sans, Arial, Helvetica, sans-serif; font-size: 20px; font-weight: medium;'>Circuit Properties</p>"
      }
     },
     "6678bf91ae124aba9f06df24332332a4": {
      "model_module": "@jupyter-widgets/controls",
      "model_module_version": "1.5.0",
      "model_name": "HTMLModel",
      "state": {
       "layout": "IPY_MODEL_4c51a16654a64ebb9ed07fc7916dada6",
       "style": "IPY_MODEL_1b0544c2c8d54595b6643535a0535fdc",
       "value": "job has successfully run"
      }
     },
     "6852c0acbf454b3a998b23691fc46f63": {
      "model_module": "@jupyter-widgets/controls",
      "model_module_version": "1.5.0",
      "model_name": "HTMLModel",
      "state": {
       "layout": "IPY_MODEL_dc51601a2ed447d1a87cebd45ef40238",
       "style": "IPY_MODEL_39f7c54e2e894b6bacdfd55af55d4921",
       "value": "job has successfully run"
      }
     },
     "6beac0545f6e4eb3b33f1b70b85e67cd": {
      "model_module": "@jupyter-widgets/controls",
      "model_module_version": "1.5.0",
      "model_name": "ButtonModel",
      "state": {
       "icon": "close",
       "layout": "IPY_MODEL_e5f6a86a49bf493c8ec6cf2b40fa17fc",
       "style": "IPY_MODEL_549812b1003d48b98689731d8a7d0ab3"
      }
     },
     "6c7aa0e5b6074213be83766b4a160335": {
      "model_module": "@jupyter-widgets/base",
      "model_module_version": "1.2.0",
      "model_name": "LayoutModel",
      "state": {
       "width": "145px"
      }
     },
     "6d0bdba06ae34901be38e328bbb3f535": {
      "model_module": "@jupyter-widgets/controls",
      "model_module_version": "1.5.0",
      "model_name": "DescriptionStyleModel",
      "state": {
       "description_width": ""
      }
     },
     "6e17aa6928364eb1b55328d66cf97bda": {
      "model_module": "@jupyter-widgets/controls",
      "model_module_version": "1.5.0",
      "model_name": "DescriptionStyleModel",
      "state": {
       "description_width": ""
      }
     },
     "6ebe89c0480e46d9b4e4b04f428b15ce": {
      "model_module": "@jupyter-widgets/controls",
      "model_module_version": "1.5.0",
      "model_name": "HTMLModel",
      "state": {
       "layout": "IPY_MODEL_801404cfa15344f4afeabd1b439bdb8a",
       "style": "IPY_MODEL_d473444b2e004cc7987bf2b9adc115d9",
       "value": "ibm_perth"
      }
     },
     "6feccf432cb24100aa81a537e02e7ab5": {
      "model_module": "@jupyter-widgets/controls",
      "model_module_version": "1.5.0",
      "model_name": "DescriptionStyleModel",
      "state": {
       "description_width": ""
      }
     },
     "700217fdf8704decb4ee9c88a85393de": {
      "model_module": "@jupyter-widgets/base",
      "model_module_version": "1.2.0",
      "model_name": "LayoutModel",
      "state": {
       "margin": "0px 0px 10px 0px"
      }
     },
     "71dd4333c97843c6857fdbe50c3fa9f2": {
      "model_module": "@jupyter-widgets/controls",
      "model_module_version": "1.5.0",
      "model_name": "DescriptionStyleModel",
      "state": {
       "description_width": ""
      }
     },
     "7266f3a0f1af458ebc4bcf76d8d3ed83": {
      "model_module": "@jupyter-widgets/controls",
      "model_module_version": "1.5.0",
      "model_name": "HBoxModel",
      "state": {
       "children": [
        "IPY_MODEL_03e82206cbf6445d82a36d57293fcf25",
        "IPY_MODEL_c4b8156459094c1c9cdb2a7fa014160f",
        "IPY_MODEL_00e54d56e9a2441e8254d501947d9b3d",
        "IPY_MODEL_4c4c7b3d0a2745cbab3f2d6d7c536012",
        "IPY_MODEL_a727b7f744bf42ac890168c22b5886a6"
       ],
       "layout": "IPY_MODEL_14e03ee34618482b92871a3270c72959"
      }
     },
     "7395e39057cf47189352064fab9233d4": {
      "model_module": "@jupyter-widgets/base",
      "model_module_version": "1.2.0",
      "model_name": "LayoutModel",
      "state": {
       "width": "70px"
      }
     },
     "74838dc8574648e085dfb20d2572e560": {
      "model_module": "@jupyter-widgets/base",
      "model_module_version": "1.2.0",
      "model_name": "LayoutModel",
      "state": {
       "width": "145px"
      }
     },
     "7487f443df094ef2853b7bcd26ddb1c9": {
      "model_module": "@jupyter-widgets/controls",
      "model_module_version": "1.5.0",
      "model_name": "DescriptionStyleModel",
      "state": {
       "description_width": ""
      }
     },
     "77d8576642d349658dcbf1a9094d96d4": {
      "model_module": "@jupyter-widgets/base",
      "model_module_version": "1.2.0",
      "model_name": "LayoutModel",
      "state": {
       "margin": "0px 5px 0px 0px",
       "width": "32px"
      }
     },
     "7857c173e06542e7af66deef74f7401e": {
      "model_module": "@jupyter-widgets/controls",
      "model_module_version": "1.5.0",
      "model_name": "DescriptionStyleModel",
      "state": {
       "description_width": ""
      }
     },
     "78b12c1e2d5e4c59b17b7d000e688a6c": {
      "model_module": "@jupyter-widgets/controls",
      "model_module_version": "1.5.0",
      "model_name": "DescriptionStyleModel",
      "state": {
       "description_width": ""
      }
     },
     "7c290c10ca604228b068a26c352e2388": {
      "model_module": "@jupyter-widgets/controls",
      "model_module_version": "1.5.0",
      "model_name": "HBoxModel",
      "state": {
       "children": [
        "IPY_MODEL_6beac0545f6e4eb3b33f1b70b85e67cd",
        "IPY_MODEL_3bb60d4756ea4cc49dfbfc3b43717ec2",
        "IPY_MODEL_ad37cbff2f5347c9bcfe4a0cbb265869",
        "IPY_MODEL_84e502689f534178befb062c324d8557",
        "IPY_MODEL_7dfba5d8a78d49168f04915217555bf9",
        "IPY_MODEL_6678bf91ae124aba9f06df24332332a4"
       ],
       "layout": "IPY_MODEL_14ad13660ee34e8e84cf259768c49a8d"
      }
     },
     "7dfba5d8a78d49168f04915217555bf9": {
      "model_module": "@jupyter-widgets/controls",
      "model_module_version": "1.5.0",
      "model_name": "HTMLModel",
      "state": {
       "layout": "IPY_MODEL_8837ccba9c7e46fcb48c0bfee7edafba",
       "style": "IPY_MODEL_b4f1716f0fd74ad6a95126a3fa797ff1",
       "value": "-"
      }
     },
     "801404cfa15344f4afeabd1b439bdb8a": {
      "model_module": "@jupyter-widgets/base",
      "model_module_version": "1.2.0",
      "model_name": "LayoutModel",
      "state": {
       "width": "145px"
      }
     },
     "8444090a0154409a9a64c00232d45218": {
      "model_module": "@jupyter-widgets/base",
      "model_module_version": "1.2.0",
      "model_name": "LayoutModel",
      "state": {
       "width": "95px"
      }
     },
     "84965b2f9ad4415a8e582b39c1fe0c69": {
      "model_module": "@jupyter-widgets/base",
      "model_module_version": "1.2.0",
      "model_name": "LayoutModel",
      "state": {
       "width": "70px"
      }
     },
     "84e502689f534178befb062c324d8557": {
      "model_module": "@jupyter-widgets/controls",
      "model_module_version": "1.5.0",
      "model_name": "HTMLModel",
      "state": {
       "layout": "IPY_MODEL_9e43eb5de6e14771b0bbe72c9a39bc3b",
       "style": "IPY_MODEL_9824f0ac23be4b6ba90c781830e3a582",
       "value": "<font style='color:#34BC6E'>DONE</font>"
      }
     },
     "86aae6c7d9884646bfbf75538bb71898": {
      "model_module": "@jupyter-widgets/controls",
      "model_module_version": "1.5.0",
      "model_name": "DescriptionStyleModel",
      "state": {
       "description_width": ""
      }
     },
     "8837ccba9c7e46fcb48c0bfee7edafba": {
      "model_module": "@jupyter-widgets/base",
      "model_module_version": "1.2.0",
      "model_name": "LayoutModel",
      "state": {
       "width": "70px"
      }
     },
     "893450fb8e5d4e1ea499b0f037a51cd6": {
      "model_module": "@jupyter-widgets/controls",
      "model_module_version": "1.5.0",
      "model_name": "DescriptionStyleModel",
      "state": {
       "description_width": ""
      }
     },
     "8b4e91af0b7b41e4a1fa07ee85a02876": {
      "model_module": "@jupyter-widgets/base",
      "model_module_version": "1.2.0",
      "model_name": "LayoutModel",
      "state": {
       "width": "95px"
      }
     },
     "8bb4a96139e846d9b1977666de1c44b8": {
      "model_module": "@jupyter-widgets/controls",
      "model_module_version": "1.5.0",
      "model_name": "HTMLModel",
      "state": {
       "layout": "IPY_MODEL_0a56b3bae9c44b249dd012023b3ea112",
       "style": "IPY_MODEL_8da0d12c93b44d9994c6f75aab4d3321",
       "value": "<h5>Job ID</h5>"
      }
     },
     "8c44325b24da4a88b4282d0b9a0e9b2f": {
      "model_module": "@jupyter-widgets/base",
      "model_module_version": "1.2.0",
      "model_name": "LayoutModel",
      "state": {
       "grid_template_areas": "\n                                       \". . . . right \"\n                                        ",
       "grid_template_columns": "20% 20% 20% 20% 20%",
       "width": "100%"
      }
     },
     "8d2ce49d51c84131a17873198f389266": {
      "model_module": "@jupyter-widgets/base",
      "model_module_version": "1.2.0",
      "model_name": "LayoutModel",
      "state": {
       "width": "70px"
      }
     },
     "8da0d12c93b44d9994c6f75aab4d3321": {
      "model_module": "@jupyter-widgets/controls",
      "model_module_version": "1.5.0",
      "model_name": "DescriptionStyleModel",
      "state": {
       "description_width": ""
      }
     },
     "8dbafe01423f4f139ee94c08a011f0e9": {
      "model_module": "@jupyter-widgets/controls",
      "model_module_version": "1.5.0",
      "model_name": "HTMLModel",
      "state": {
       "layout": "IPY_MODEL_06f4629befd4499ba00fd4d77da5e282",
       "style": "IPY_MODEL_6e17aa6928364eb1b55328d66cf97bda",
       "value": "job has successfully run"
      }
     },
     "8e70c20f6d8144508281ebe836510cfc": {
      "model_module": "@jupyter-widgets/base",
      "model_module_version": "1.2.0",
      "model_name": "LayoutModel",
      "state": {}
     },
     "8e772b2821934d0694925f6cc7538b88": {
      "model_module": "@jupyter-widgets/controls",
      "model_module_version": "1.5.0",
      "model_name": "HTMLModel",
      "state": {
       "layout": "IPY_MODEL_cee3484d6a0b4347b79187633cb35e68",
       "style": "IPY_MODEL_0e1d676fac8c40df912f566a5add89da",
       "value": "62bb522c08f9743983663d4a"
      }
     },
     "92203a51dfb34b24a89081e7647aa685": {
      "model_module": "@jupyter-widgets/controls",
      "model_module_version": "1.5.0",
      "model_name": "DescriptionStyleModel",
      "state": {
       "description_width": ""
      }
     },
     "92eef0695c374ee8a285c8d0a1a7deb1": {
      "model_module": "@jupyter-widgets/base",
      "model_module_version": "1.2.0",
      "model_name": "LayoutModel",
      "state": {
       "max_width": "700px",
       "min_width": "700px"
      }
     },
     "938bf0771da14aa1b2ba9f6477a59eed": {
      "model_module": "@jupyter-widgets/controls",
      "model_module_version": "1.5.0",
      "model_name": "ButtonStyleModel",
      "state": {}
     },
     "93dcb6424c534207ad61dc0d4cc3bcad": {
      "model_module": "@jupyter-widgets/controls",
      "model_module_version": "1.5.0",
      "model_name": "HTMLModel",
      "state": {
       "layout": "IPY_MODEL_6c7aa0e5b6074213be83766b4a160335",
       "style": "IPY_MODEL_63111edd2a32400fbc78bd9eeb8b24ae",
       "value": "ibm_lagos"
      }
     },
     "93f9735d91824c998f30956c9677c359": {
      "model_module": "@jupyter-widgets/controls",
      "model_module_version": "1.5.0",
      "model_name": "DescriptionStyleModel",
      "state": {
       "description_width": ""
      }
     },
     "943d222faa6d40a18bc64ec6fa47e15c": {
      "model_module": "@jupyter-widgets/controls",
      "model_module_version": "1.5.0",
      "model_name": "DescriptionStyleModel",
      "state": {
       "description_width": ""
      }
     },
     "96e6ea00ba83458695628450b65c7177": {
      "model_module": "@jupyter-widgets/controls",
      "model_module_version": "1.5.0",
      "model_name": "HTMLModel",
      "state": {
       "layout": "IPY_MODEL_ca6b80e555b44752b7d27b5cae865116",
       "style": "IPY_MODEL_ef7fb7085c324756ad481909299b8cf2",
       "value": "-"
      }
     },
     "972500fed3414edaac4fe92b8944e99f": {
      "model_module": "@jupyter-widgets/base",
      "model_module_version": "1.2.0",
      "model_name": "LayoutModel",
      "state": {
       "margin": "0px 0px 10px 0px"
      }
     },
     "9824f0ac23be4b6ba90c781830e3a582": {
      "model_module": "@jupyter-widgets/controls",
      "model_module_version": "1.5.0",
      "model_name": "DescriptionStyleModel",
      "state": {
       "description_width": ""
      }
     },
     "9860e955fce643d79cb0606a47747157": {
      "model_module": "@jupyter-widgets/base",
      "model_module_version": "1.2.0",
      "model_name": "LayoutModel",
      "state": {
       "width": "70px"
      }
     },
     "9e43eb5de6e14771b0bbe72c9a39bc3b": {
      "model_module": "@jupyter-widgets/base",
      "model_module_version": "1.2.0",
      "model_name": "LayoutModel",
      "state": {
       "width": "95px"
      }
     },
     "9fe5248b0cf24cc89de20087d02392ad": {
      "model_module": "@jupyter-widgets/controls",
      "model_module_version": "1.5.0",
      "model_name": "HBoxModel",
      "state": {
       "children": [
        "IPY_MODEL_0f50ce3dcfad497bb68d5fb91911235c",
        "IPY_MODEL_a0b8d511f4e544e7b096786796eac8a5",
        "IPY_MODEL_ff88516dafb545bc92f7e76932e96d80",
        "IPY_MODEL_23e8935d20044a5fa979e12b654d9b62",
        "IPY_MODEL_96e6ea00ba83458695628450b65c7177",
        "IPY_MODEL_4499c8d186ae4903ac20d641389e2d6e"
       ],
       "layout": "IPY_MODEL_0cbc82abba5e49f0983e10ba4a498189"
      }
     },
     "a021aefb3ac841f0b82e69aac6bd8d4e": {
      "model_module": "@jupyter-widgets/base",
      "model_module_version": "1.2.0",
      "model_name": "LayoutModel",
      "state": {
       "width": "190px"
      }
     },
     "a0b8d511f4e544e7b096786796eac8a5": {
      "model_module": "@jupyter-widgets/controls",
      "model_module_version": "1.5.0",
      "model_name": "HTMLModel",
      "state": {
       "layout": "IPY_MODEL_3a47549de81d4aa0ba3f6aba45c31839",
       "style": "IPY_MODEL_5e4f7a6355954156ac5e826cc937b37c",
       "value": "62bb0b49d4d0c2b7a61e0053"
      }
     },
     "a2bbac4f989048f68ceeb68f41349317": {
      "model_module": "@jupyter-widgets/controls",
      "model_module_version": "1.5.0",
      "model_name": "HTMLModel",
      "state": {
       "layout": "IPY_MODEL_14624153c1d742dba06c6585dd9d5178",
       "style": "IPY_MODEL_664394c25b8c4e39938583c05e5785cd",
       "value": "<font style='color:#34BC6E'>DONE</font>"
      }
     },
     "a3237cff6e804c6eab8395cc3aa910f8": {
      "model_module": "@jupyter-widgets/controls",
      "model_module_version": "1.5.0",
      "model_name": "HBoxModel",
      "state": {
       "children": [
        "IPY_MODEL_a78b820384104a5e8fe1f8a9862fcc4c",
        "IPY_MODEL_cdd18db4d1d746b98a4465473ccea087",
        "IPY_MODEL_5e7b1a064251430896d051182b9c91ff",
        "IPY_MODEL_d589e93480624570b710efbc9a4dc274",
        "IPY_MODEL_d6e3be2da26042c2a9423e7e1c08d935",
        "IPY_MODEL_e850e2d078f246e49b063458f824b991"
       ],
       "layout": "IPY_MODEL_5468c102ac4941daa54a708f47b09384"
      }
     },
     "a3be630eb73749de9b26c3949b8bc37c": {
      "model_module": "@jupyter-widgets/controls",
      "model_module_version": "1.5.0",
      "model_name": "DescriptionStyleModel",
      "state": {
       "description_width": ""
      }
     },
     "a3e7bbb9525d44b8893f57b9d12c9e81": {
      "model_module": "@jupyter-widgets/controls",
      "model_module_version": "1.5.0",
      "model_name": "DescriptionStyleModel",
      "state": {
       "description_width": ""
      }
     },
     "a6f57d601bd748d180b1d0849b08402c": {
      "model_module": "@jupyter-widgets/controls",
      "model_module_version": "1.5.0",
      "model_name": "DescriptionStyleModel",
      "state": {
       "description_width": ""
      }
     },
     "a727b7f744bf42ac890168c22b5886a6": {
      "model_module": "@jupyter-widgets/controls",
      "model_module_version": "1.5.0",
      "model_name": "HTMLModel",
      "state": {
       "layout": "IPY_MODEL_6367012019194640a157442c0c71370a",
       "style": "IPY_MODEL_b884d994e7e94c1083d4803e4c82d7b6",
       "value": "<h5>Message</h5>"
      }
     },
     "a78b820384104a5e8fe1f8a9862fcc4c": {
      "model_module": "@jupyter-widgets/controls",
      "model_module_version": "1.5.0",
      "model_name": "ButtonModel",
      "state": {
       "icon": "close",
       "layout": "IPY_MODEL_453dbf035ff744c2a95cab75cdf29602",
       "style": "IPY_MODEL_ce74d454d3ec414c82af9897211c9a87"
      }
     },
     "ab73488f8e2e4b0bb76c84de85393c58": {
      "model_module": "@jupyter-widgets/controls",
      "model_module_version": "1.5.0",
      "model_name": "HBoxModel",
      "state": {
       "children": [
        "IPY_MODEL_fb3ba555ac8344d78450b0ecdb7dd070",
        "IPY_MODEL_8e772b2821934d0694925f6cc7538b88",
        "IPY_MODEL_6ebe89c0480e46d9b4e4b04f428b15ce",
        "IPY_MODEL_b4855d46859749f1b99a326d5eef1dd7",
        "IPY_MODEL_656cf5edb2064a47b4fd7a0f71462900",
        "IPY_MODEL_8dbafe01423f4f139ee94c08a011f0e9"
       ],
       "layout": "IPY_MODEL_92eef0695c374ee8a285c8d0a1a7deb1"
      }
     },
     "abe47654973046049eea8cc23b7dc7a2": {
      "model_module": "@jupyter-widgets/controls",
      "model_module_version": "1.5.0",
      "model_name": "HTMLModel",
      "state": {
       "layout": "IPY_MODEL_19b6c844b54c4d5eb550f566e744ed18",
       "style": "IPY_MODEL_6d0bdba06ae34901be38e328bbb3f535",
       "value": "62bb0bb0716a31ca0c5611e8"
      }
     },
     "ad37cbff2f5347c9bcfe4a0cbb265869": {
      "model_module": "@jupyter-widgets/controls",
      "model_module_version": "1.5.0",
      "model_name": "HTMLModel",
      "state": {
       "layout": "IPY_MODEL_ce2debcf76b54bb594adcddde6b67eb6",
       "style": "IPY_MODEL_39c3bdf186b4488984eedde3f79fead1",
       "value": "ibm_perth"
      }
     },
     "afee7978a1674ac9906cced43e567a32": {
      "model_module": "@jupyter-widgets/controls",
      "model_module_version": "1.5.0",
      "model_name": "DescriptionStyleModel",
      "state": {
       "description_width": ""
      }
     },
     "b0bef6e77bc04c54a281060f7c69f740": {
      "model_module": "@jupyter-widgets/controls",
      "model_module_version": "1.5.0",
      "model_name": "DescriptionStyleModel",
      "state": {
       "description_width": ""
      }
     },
     "b1a45e923cdb47b885963b859918c42f": {
      "model_module": "@jupyter-widgets/base",
      "model_module_version": "1.2.0",
      "model_name": "LayoutModel",
      "state": {
       "width": "70px"
      }
     },
     "b36b23bde1c34087a55e8b94c0dec6f1": {
      "model_module": "@jupyter-widgets/base",
      "model_module_version": "1.2.0",
      "model_name": "LayoutModel",
      "state": {
       "width": "95px"
      }
     },
     "b458a449c00746f2af758515ae9e2b80": {
      "model_module": "@jupyter-widgets/controls",
      "model_module_version": "1.5.0",
      "model_name": "GridBoxModel",
      "state": {
       "children": [
        "IPY_MODEL_fa9fe5e2ec2d44be90786c5166a452e4"
       ],
       "layout": "IPY_MODEL_36e3c6c5acf94a7a8e651b5685cafcbc"
      }
     },
     "b4855d46859749f1b99a326d5eef1dd7": {
      "model_module": "@jupyter-widgets/controls",
      "model_module_version": "1.5.0",
      "model_name": "HTMLModel",
      "state": {
       "layout": "IPY_MODEL_b56a385575be4cdea17f8c04f112f520",
       "style": "IPY_MODEL_93f9735d91824c998f30956c9677c359",
       "value": "<font style='color:#34BC6E'>DONE</font>"
      }
     },
     "b4f1716f0fd74ad6a95126a3fa797ff1": {
      "model_module": "@jupyter-widgets/controls",
      "model_module_version": "1.5.0",
      "model_name": "DescriptionStyleModel",
      "state": {
       "description_width": ""
      }
     },
     "b56a385575be4cdea17f8c04f112f520": {
      "model_module": "@jupyter-widgets/base",
      "model_module_version": "1.2.0",
      "model_name": "LayoutModel",
      "state": {
       "width": "95px"
      }
     },
     "b884d994e7e94c1083d4803e4c82d7b6": {
      "model_module": "@jupyter-widgets/controls",
      "model_module_version": "1.5.0",
      "model_name": "DescriptionStyleModel",
      "state": {
       "description_width": ""
      }
     },
     "bb9632d551b74b90b7ebd995dd7e9e12": {
      "model_module": "@jupyter-widgets/base",
      "model_module_version": "1.2.0",
      "model_name": "LayoutModel",
      "state": {
       "width": "190px"
      }
     },
     "bd3be08f4c0745419190256bf9f9b8b0": {
      "model_module": "@jupyter-widgets/base",
      "model_module_version": "1.2.0",
      "model_name": "LayoutModel",
      "state": {
       "margin": "0px 0px 0px 37px",
       "width": "600px"
      }
     },
     "c2b53ee29bb545fab7ee56d0d7fb641c": {
      "model_module": "@jupyter-widgets/controls",
      "model_module_version": "1.5.0",
      "model_name": "HTMLModel",
      "state": {
       "layout": "IPY_MODEL_2496765c20b64958ba8b7042f06f0dfe",
       "style": "IPY_MODEL_508ebf7d57b1475d82f504d75e6d8ea4",
       "value": "<h5>Backend</h5>"
      }
     },
     "c3ade91843ce47d3bcfaba64fdce3866": {
      "model_module": "@jupyter-widgets/controls",
      "model_module_version": "1.5.0",
      "model_name": "DescriptionStyleModel",
      "state": {
       "description_width": ""
      }
     },
     "c3e4bc14447f47cbb6666047b2422657": {
      "model_module": "@jupyter-widgets/controls",
      "model_module_version": "1.5.0",
      "model_name": "DescriptionStyleModel",
      "state": {
       "description_width": ""
      }
     },
     "c4b8156459094c1c9cdb2a7fa014160f": {
      "model_module": "@jupyter-widgets/controls",
      "model_module_version": "1.5.0",
      "model_name": "HTMLModel",
      "state": {
       "layout": "IPY_MODEL_74838dc8574648e085dfb20d2572e560",
       "style": "IPY_MODEL_893450fb8e5d4e1ea499b0f037a51cd6",
       "value": "<h5>Backend</h5>"
      }
     },
     "c5cbccbfc10949a583804666e8ba5f25": {
      "model_module": "@jupyter-widgets/controls",
      "model_module_version": "1.5.0",
      "model_name": "HBoxModel",
      "state": {
       "children": [
        "IPY_MODEL_f2b9d9048b834ccca3ba8c290e3192b6",
        "IPY_MODEL_c2b53ee29bb545fab7ee56d0d7fb641c",
        "IPY_MODEL_0c2aab700d2c46ba98ebe00ac8bbcbab",
        "IPY_MODEL_3ca9fd65d73744d99995bb2eabdcc7a9",
        "IPY_MODEL_0cd6f0372ab74d429da6a43ef650893f"
       ],
       "layout": "IPY_MODEL_bd3be08f4c0745419190256bf9f9b8b0"
      }
     },
     "c676f608066e49b69fbe451870e969da": {
      "model_module": "@jupyter-widgets/controls",
      "model_module_version": "1.5.0",
      "model_name": "HTMLModel",
      "state": {
       "layout": "IPY_MODEL_9860e955fce643d79cb0606a47747157",
       "style": "IPY_MODEL_b0bef6e77bc04c54a281060f7c69f740",
       "value": "<h5>Queue</h5>"
      }
     },
     "c7df185e10674f0898bb1b975827ffc8": {
      "model_module": "@jupyter-widgets/controls",
      "model_module_version": "1.5.0",
      "model_name": "HTMLModel",
      "state": {
       "layout": "IPY_MODEL_bb9632d551b74b90b7ebd995dd7e9e12",
       "style": "IPY_MODEL_e186d67a9c4f4cdc82ce99f48fbd129a",
       "value": "62bba960d6549714b997802e"
      }
     },
     "ca6b80e555b44752b7d27b5cae865116": {
      "model_module": "@jupyter-widgets/base",
      "model_module_version": "1.2.0",
      "model_name": "LayoutModel",
      "state": {
       "width": "70px"
      }
     },
     "cd4022ff8bea4dbc958d5c0ee8340e8a": {
      "model_module": "@jupyter-widgets/base",
      "model_module_version": "1.2.0",
      "model_name": "LayoutModel",
      "state": {
       "width": "145px"
      }
     },
     "cdd0f2b5b6ed4cabb4f228971979f736": {
      "model_module": "@jupyter-widgets/base",
      "model_module_version": "1.2.0",
      "model_name": "LayoutModel",
      "state": {
       "margin": "0px 5px 0px 0px",
       "width": "32px"
      }
     },
     "cdd18db4d1d746b98a4465473ccea087": {
      "model_module": "@jupyter-widgets/controls",
      "model_module_version": "1.5.0",
      "model_name": "HTMLModel",
      "state": {
       "layout": "IPY_MODEL_a021aefb3ac841f0b82e69aac6bd8d4e",
       "style": "IPY_MODEL_64d905cbaa8d4c248339a97abd7ddc17",
       "value": "62bbaa6008f974bc38663f9f"
      }
     },
     "ce2debcf76b54bb594adcddde6b67eb6": {
      "model_module": "@jupyter-widgets/base",
      "model_module_version": "1.2.0",
      "model_name": "LayoutModel",
      "state": {
       "width": "145px"
      }
     },
     "ce74d454d3ec414c82af9897211c9a87": {
      "model_module": "@jupyter-widgets/controls",
      "model_module_version": "1.5.0",
      "model_name": "ButtonStyleModel",
      "state": {
       "button_color": "white"
      }
     },
     "cee3484d6a0b4347b79187633cb35e68": {
      "model_module": "@jupyter-widgets/base",
      "model_module_version": "1.2.0",
      "model_name": "LayoutModel",
      "state": {
       "width": "190px"
      }
     },
     "cfad16ee8cb14442a6c8d1788c6d1267": {
      "model_module": "@jupyter-widgets/controls",
      "model_module_version": "1.5.0",
      "model_name": "DescriptionStyleModel",
      "state": {
       "description_width": ""
      }
     },
     "d02321c842c24dc581fc7c2210c8e259": {
      "model_module": "@jupyter-widgets/controls",
      "model_module_version": "1.5.0",
      "model_name": "DescriptionStyleModel",
      "state": {
       "description_width": ""
      }
     },
     "d0ab2487e219436a9efa9721882acb69": {
      "model_module": "@jupyter-widgets/controls",
      "model_module_version": "1.5.0",
      "model_name": "HTMLModel",
      "state": {
       "layout": "IPY_MODEL_d2493e12d929410f9715f7ce847dfc8d",
       "style": "IPY_MODEL_5f3e56ca8884470593ff394e5642a3ef",
       "value": "<h5>Backend</h5>"
      }
     },
     "d0de607e88b747ec862d5ae4784efba0": {
      "model_module": "@jupyter-widgets/base",
      "model_module_version": "1.2.0",
      "model_name": "LayoutModel",
      "state": {
       "margin": "0px 5px 0px 0px",
       "width": "32px"
      }
     },
     "d2493e12d929410f9715f7ce847dfc8d": {
      "model_module": "@jupyter-widgets/base",
      "model_module_version": "1.2.0",
      "model_name": "LayoutModel",
      "state": {
       "width": "145px"
      }
     },
     "d39d8d60256945d684386978d6aef132": {
      "model_module": "@jupyter-widgets/controls",
      "model_module_version": "1.5.0",
      "model_name": "DescriptionStyleModel",
      "state": {
       "description_width": ""
      }
     },
     "d473444b2e004cc7987bf2b9adc115d9": {
      "model_module": "@jupyter-widgets/controls",
      "model_module_version": "1.5.0",
      "model_name": "DescriptionStyleModel",
      "state": {
       "description_width": ""
      }
     },
     "d589e93480624570b710efbc9a4dc274": {
      "model_module": "@jupyter-widgets/controls",
      "model_module_version": "1.5.0",
      "model_name": "HTMLModel",
      "state": {
       "layout": "IPY_MODEL_2448f3919e1b4d3fa83f5cc120cf1cbd",
       "style": "IPY_MODEL_c3e4bc14447f47cbb6666047b2422657",
       "value": "<font style='color:#34BC6E'>DONE</font>"
      }
     },
     "d6e3be2da26042c2a9423e7e1c08d935": {
      "model_module": "@jupyter-widgets/controls",
      "model_module_version": "1.5.0",
      "model_name": "HTMLModel",
      "state": {
       "layout": "IPY_MODEL_b1a45e923cdb47b885963b859918c42f",
       "style": "IPY_MODEL_a3be630eb73749de9b26c3949b8bc37c",
       "value": "-"
      }
     },
     "d9037a63bc2f486eb7bc2b96aa8d9383": {
      "model_module": "@jupyter-widgets/base",
      "model_module_version": "1.2.0",
      "model_name": "LayoutModel",
      "state": {
       "width": "95px"
      }
     },
     "db9536bd840c4c7988d6f5e5261f615a": {
      "model_module": "@jupyter-widgets/base",
      "model_module_version": "1.2.0",
      "model_name": "LayoutModel",
      "state": {
       "margin": "0px 5px 0px 0px",
       "width": "32px"
      }
     },
     "dc51601a2ed447d1a87cebd45ef40238": {
      "model_module": "@jupyter-widgets/base",
      "model_module_version": "1.2.0",
      "model_name": "LayoutModel",
      "state": {
       "overflow_x": "scroll"
      }
     },
     "e186d67a9c4f4cdc82ce99f48fbd129a": {
      "model_module": "@jupyter-widgets/controls",
      "model_module_version": "1.5.0",
      "model_name": "DescriptionStyleModel",
      "state": {
       "description_width": ""
      }
     },
     "e36141dfd12a44a3b7e1fdd68427e11c": {
      "model_module": "@jupyter-widgets/controls",
      "model_module_version": "1.5.0",
      "model_name": "ButtonStyleModel",
      "state": {}
     },
     "e4175d1be2be4d1ead80d4b69a241055": {
      "model_module": "@jupyter-widgets/controls",
      "model_module_version": "1.5.0",
      "model_name": "DescriptionStyleModel",
      "state": {
       "description_width": ""
      }
     },
     "e424eaa68026401b809b178a221f5c12": {
      "model_module": "@jupyter-widgets/base",
      "model_module_version": "1.2.0",
      "model_name": "LayoutModel",
      "state": {
       "width": "145px"
      }
     },
     "e585d7c80c124a39955e9235e1de5857": {
      "model_module": "@jupyter-widgets/controls",
      "model_module_version": "1.5.0",
      "model_name": "DescriptionStyleModel",
      "state": {
       "description_width": ""
      }
     },
     "e5d1237226564d5bb201792a3a2d1e85": {
      "model_module": "@jupyter-widgets/controls",
      "model_module_version": "1.5.0",
      "model_name": "ButtonStyleModel",
      "state": {
       "button_color": "white"
      }
     },
     "e5f6a86a49bf493c8ec6cf2b40fa17fc": {
      "model_module": "@jupyter-widgets/base",
      "model_module_version": "1.2.0",
      "model_name": "LayoutModel",
      "state": {
       "margin": "0px 5px 0px 0px",
       "width": "32px"
      }
     },
     "e850e2d078f246e49b063458f824b991": {
      "model_module": "@jupyter-widgets/controls",
      "model_module_version": "1.5.0",
      "model_name": "HTMLModel",
      "state": {
       "layout": "IPY_MODEL_530620ef5a2c4e0cb4927b684ff2e574",
       "style": "IPY_MODEL_a6f57d601bd748d180b1d0849b08402c",
       "value": "job has successfully run"
      }
     },
     "ef7fb7085c324756ad481909299b8cf2": {
      "model_module": "@jupyter-widgets/controls",
      "model_module_version": "1.5.0",
      "model_name": "DescriptionStyleModel",
      "state": {
       "description_width": ""
      }
     },
     "f19eba9cd7be431d9af0298098f3cd13": {
      "model_module": "@jupyter-widgets/controls",
      "model_module_version": "1.5.0",
      "model_name": "HTMLModel",
      "state": {
       "layout": "IPY_MODEL_84965b2f9ad4415a8e582b39c1fe0c69",
       "style": "IPY_MODEL_e585d7c80c124a39955e9235e1de5857",
       "value": "-"
      }
     },
     "f1bcb1fcc8504712b8c56c6acf795bad": {
      "model_module": "@jupyter-widgets/base",
      "model_module_version": "1.2.0",
      "model_name": "LayoutModel",
      "state": {
       "width": "70px"
      }
     },
     "f2b9d9048b834ccca3ba8c290e3192b6": {
      "model_module": "@jupyter-widgets/controls",
      "model_module_version": "1.5.0",
      "model_name": "HTMLModel",
      "state": {
       "layout": "IPY_MODEL_4e6e7e0c53674114ae8669b280702112",
       "style": "IPY_MODEL_86aae6c7d9884646bfbf75538bb71898",
       "value": "<h5>Job ID</h5>"
      }
     },
     "f9966088f419445cbaa4a5b50fc6f7f0": {
      "model_module": "@jupyter-widgets/base",
      "model_module_version": "1.2.0",
      "model_name": "LayoutModel",
      "state": {
       "grid_area": "right",
       "padding": "0px 0px 0px 0px",
       "width": "70px"
      }
     },
     "fa9fe5e2ec2d44be90786c5166a452e4": {
      "model_module": "@jupyter-widgets/controls",
      "model_module_version": "1.5.0",
      "model_name": "ButtonModel",
      "state": {
       "button_style": "primary",
       "description": "Clear",
       "layout": "IPY_MODEL_f9966088f419445cbaa4a5b50fc6f7f0",
       "style": "IPY_MODEL_398ce9c2c39043ad9b37546a1e87868f"
      }
     },
     "fb3ba555ac8344d78450b0ecdb7dd070": {
      "model_module": "@jupyter-widgets/controls",
      "model_module_version": "1.5.0",
      "model_name": "ButtonModel",
      "state": {
       "icon": "close",
       "layout": "IPY_MODEL_cdd0f2b5b6ed4cabb4f228971979f736",
       "style": "IPY_MODEL_e5d1237226564d5bb201792a3a2d1e85"
      }
     },
     "ff88516dafb545bc92f7e76932e96d80": {
      "model_module": "@jupyter-widgets/controls",
      "model_module_version": "1.5.0",
      "model_name": "HTMLModel",
      "state": {
       "layout": "IPY_MODEL_1e501eaf94d7464b8967ba1b76b32e8d",
       "style": "IPY_MODEL_c3ade91843ce47d3bcfaba64fdce3866",
       "value": "ibmq_jakarta"
      }
     }
    },
    "version_major": 2,
    "version_minor": 0
   }
  }
 },
 "nbformat": 4,
 "nbformat_minor": 5
}
