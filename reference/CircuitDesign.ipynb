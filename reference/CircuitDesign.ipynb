{
 "cells": [
  {
   "cell_type": "code",
   "execution_count": 1,
   "id": "bc9ea3f3",
   "metadata": {},
   "outputs": [],
   "source": [
    "from qiskit import IBMQ"
   ]
  },
  {
   "cell_type": "code",
   "execution_count": 4,
   "id": "339cf4e5",
   "metadata": {},
   "outputs": [
    {
     "name": "stderr",
     "output_type": "stream",
     "text": [
      "configrc.store_credentials:WARNING:2022-06-27 19:34:43,822: Credentials already present. Set overwrite=True to overwrite.\n"
     ]
    }
   ],
   "source": [
    "IBMQ.save_account('a8fcfdd741360c52c09b4642c44faf70e583ce6488385dc3832c96efba37b25e7130af197450bc4700d4e45cedd42717310a5e1567a90bc307f6e04eaecabc68')"
   ]
  },
  {
   "cell_type": "code",
   "execution_count": 5,
   "id": "75a75ffc",
   "metadata": {},
   "outputs": [
    {
     "data": {
      "text/plain": [
       "<AccountProvider for IBMQ(hub='ibm-q', group='open', project='main')>"
      ]
     },
     "execution_count": 5,
     "metadata": {},
     "output_type": "execute_result"
    }
   ],
   "source": [
    "IBMQ.load_account()"
   ]
  },
  {
   "cell_type": "code",
   "execution_count": 2,
   "id": "392b5300",
   "metadata": {},
   "outputs": [],
   "source": [
    "from qiskit import *"
   ]
  },
  {
   "cell_type": "code",
   "execution_count": 3,
   "id": "7fe3754a",
   "metadata": {},
   "outputs": [
    {
     "data": {
      "image/png": "[encoded data removed]",
      "text/plain": [
       "<Figure size 327.397x264.88 with 1 Axes>"
      ]
     },
     "execution_count": 3,
     "metadata": {},
     "output_type": "execute_result"
    }
   ],
   "source": [
    "circuit = QuantumCircuit(3, 3)\n",
    "circuit.x(0)\n",
    "circuit.barrier()\n",
    "circuit.h(1)\n",
    "circuit.cx(1, 2)\n",
    "%matplotlib inline\n",
    "circuit.draw(output='mpl')"
   ]
  },
  {
   "cell_type": "code",
   "execution_count": 12,
   "id": "a9b573e6",
   "metadata": {},
   "outputs": [],
   "source": [
    "from qiskit.providers.aer import AerSimulator\n",
    "from qiskit.visualization import plot_histogram"
   ]
  },
  {
   "cell_type": "code",
   "execution_count": 1,
   "id": "45c8d68d",
   "metadata": {},
   "outputs": [
    {
     "name": "stdout",
     "output_type": "stream",
     "text": [
      "['ibmq_qasm_simulator', 'ibmq_armonk', 'ibmq_lima', 'ibmq_belem', 'ibmq_quito', 'simulator_statevector', 'simulator_mps', 'simulator_extended_stabilizer', 'simulator_stabilizer', 'ibmq_manila', 'ibm_nairobi', 'ibm_oslo']\n"
     ]
    }
   ],
   "source": [
    "from qiskit import IBMQ\n",
    "IBMQ.load_account()\n",
    "print([backend.name() for backend in IBMQ.providers()[0].backends()])"
   ]
  },
  {
   "cell_type": "code",
   "execution_count": 3,
   "id": "a245c908",
   "metadata": {},
   "outputs": [],
   "source": [
    "provider = IBMQ.get_provider(hub='ibm-q', group='open', project='main')\n",
    "backend = provider.get_backend('ibmq_qasm_simulator')"
   ]
  },
  {
   "cell_type": "code",
   "execution_count": 4,
   "id": "a289b89c",
   "metadata": {},
   "outputs": [],
   "source": [
    "qasm_str = \"\"\"OPENQASM 2.0;\n",
    "include \"qelib1.inc\";\n",
    "\n",
    "qreg q[4];\n",
    "creg c[4];\n",
    "ccx q[0], q[1], q[3];\n",
    "cx q[0], q[1];\n",
    "ch q[1], q[3];\n",
    "cz q[2], q[3];\n",
    "ch q[1], q[3];\n",
    "cx q[1], q[2];\n",
    "measure q[2] -> c[0];\n",
    "measure q[3] -> c[1];\n",
    "\"\"\" "
   ]
  },
  {
   "cell_type": "code",
   "execution_count": 41,
   "id": "e7c7237e",
   "metadata": {},
   "outputs": [
    {
     "data": {
      "text/plain": [
       "<qiskit.circuit.instructionset.InstructionSet at 0x233a35500c0>"
      ]
     },
     "execution_count": 41,
     "metadata": {},
     "output_type": "execute_result"
    }
   ],
   "source": [
    "circuit = QuantumCircuit(4,4)\n",
    "\n",
    "circuit.ccx(0,1,3)\n",
    "circuit.cx(0,1)\n",
    "circuit.ch(1,3)\n",
    "circuit.cz(2,3)\n",
    "circuit.ch(1,3)\n",
    "circuit.cx(1,2)\n",
    "circuit.measure([3, 2], [1,0])"
   ]
  },
  {
   "cell_type": "code",
   "execution_count": 42,
   "id": "98371e33",
   "metadata": {},
   "outputs": [
    {
     "data": {
      "image/png": "[encoded data removed]",
      "text/plain": [
       "<Figure size 507.997x325.08 with 1 Axes>"
      ]
     },
     "execution_count": 42,
     "metadata": {},
     "output_type": "execute_result"
    }
   ],
   "source": [
    "%matplotlib inline\n",
    "circuit.draw(output='mpl')"
   ]
  },
  {
   "cell_type": "code",
   "execution_count": 38,
   "id": "913fdcfd",
   "metadata": {},
   "outputs": [
    {
     "name": "stdout",
     "output_type": "stream",
     "text": [
      "Circuit depth:  8\n"
     ]
    }
   ],
   "source": [
    "print(\"Circuit depth: \", circuit.depth())"
   ]
  },
  {
   "cell_type": "code",
   "execution_count": 39,
   "id": "4ce06fb0",
   "metadata": {},
   "outputs": [
    {
     "name": "stdout",
     "output_type": "stream",
     "text": [
      "\n",
      "Total count for 00 and 11 are: {'0011': 4000}\n"
     ]
    },
    {
     "data": {
      "text/html": [
       "<pre style=\"word-wrap: normal;white-space: pre;background: #fff0;line-height: 1.1;font-family: &quot;Courier New&quot;,Courier,monospace\">     ┌───┐ ░                                \n",
       "q_0: ┤ X ├─░───■────■───────────────────────\n",
       "     ├───┤ ░   │  ┌─┴─┐                     \n",
       "q_1: ┤ X ├─░───■──┤ X ├──■───────■────■─────\n",
       "     ├───┤ ░   │  └───┘  │       │  ┌─┴─┐┌─┐\n",
       "q_2: ┤ X ├─░───┼─────────┼───■───┼──┤ X ├┤M├\n",
       "     └───┘ ░ ┌─┴─┐     ┌─┴─┐ │ ┌─┴─┐└┬─┬┘└╥┘\n",
       "q_3: ──────░─┤ X ├─────┤ H ├─■─┤ H ├─┤M├──╫─\n",
       "           ░ └───┘     └───┘   └───┘ └╥┘  ║ \n",
       "c: 4/═════════════════════════════════╩═══╩═\n",
       "                                      1   0 </pre>"
      ],
      "text/plain": [
       "     ┌───┐ ░                                \n",
       "q_0: ┤ X ├─░───■────■───────────────────────\n",
       "     ├───┤ ░   │  ┌─┴─┐                     \n",
       "q_1: ┤ X ├─░───■──┤ X ├──■───────■────■─────\n",
       "     ├───┤ ░   │  └───┘  │       │  ┌─┴─┐┌─┐\n",
       "q_2: ┤ X ├─░───┼─────────┼───■───┼──┤ X ├┤M├\n",
       "     └───┘ ░ ┌─┴─┐     ┌─┴─┐ │ ┌─┴─┐└┬─┬┘└╥┘\n",
       "q_3: ──────░─┤ X ├─────┤ H ├─■─┤ H ├─┤M├──╫─\n",
       "           ░ └───┘     └───┘   └───┘ └╥┘  ║ \n",
       "c: 4/═════════════════════════════════╩═══╩═\n",
       "                                      1   0 "
      ]
     },
     "execution_count": 39,
     "metadata": {},
     "output_type": "execute_result"
    }
   ],
   "source": [
    "\n",
    "job = execute(circuit, backend)\n",
    "result = job.result()\n",
    "counts = result.get_counts(circuit)\n",
    "print(\"\\nTotal count for 00 and 11 are:\",counts)\n",
    "circuit.draw()"
   ]
  },
  {
   "cell_type": "code",
   "execution_count": 46,
   "id": "8a6ec788",
   "metadata": {},
   "outputs": [
    {
     "data": {
      "text/plain": [
       "OrderedDict([('cx', 2), ('ch', 2), ('measure', 2), ('ccx', 1), ('cz', 1)])"
      ]
     },
     "execution_count": 46,
     "metadata": {},
     "output_type": "execute_result"
    }
   ],
   "source": [
    "circuit.count_ops()"
   ]
  },
  {
   "cell_type": "code",
   "execution_count": 43,
   "id": "1987a4b6",
   "metadata": {},
   "outputs": [
    {
     "data": {
      "image/png": "[encoded data removed]",
      "text/plain": [
       "<Figure size 1591.6x686.28 with 1 Axes>"
      ]
     },
     "execution_count": 43,
     "metadata": {},
     "output_type": "execute_result"
    }
   ],
   "source": [
    "from qiskit.transpiler import PassManager\n",
    "from qiskit.transpiler.passes import Unroller\n",
    "pass_ = Unroller(['u3', 'cx'])\n",
    "pm = PassManager(pass_)\n",
    "new_circuit = pm.run(circuit) \n",
    "new_circuit.draw(output='mpl')"
   ]
  },
  {
   "cell_type": "code",
   "execution_count": 45,
   "id": "cd28ab61",
   "metadata": {},
   "outputs": [
    {
     "data": {
      "text/plain": [
       "OrderedDict([('u3', 23), ('cx', 11), ('measure', 2)])"
      ]
     },
     "execution_count": 45,
     "metadata": {},
     "output_type": "execute_result"
    }
   ],
   "source": [
    "new_circuit.count_ops()"
   ]
  },
  {
   "cell_type": "code",
   "execution_count": 48,
   "id": "41cdc286",
   "metadata": {},
   "outputs": [],
   "source": [
    "qasm_str1 = \"\"\"OPENQASM 2.0;\n",
    "include \"qelib1.inc\";\n",
    "\n",
    "qreg q[4];\n",
    "creg c[4];\n",
    "ccx q[0], q[1], q[3];\n",
    "cx q[0], q[1];\n",
    "ccx q[1], q[2], q[3];\n",
    "cx q[1], q[2];\n",
    "measure q[2] -> c[0];\n",
    "measure q[3] -> c[1];\n",
    "\"\"\""
   ]
  },
  {
   "cell_type": "code",
   "execution_count": 49,
   "id": "69ed7859",
   "metadata": {},
   "outputs": [],
   "source": [
    "circuit1 = QuantumCircuit.from_qasm_str(qasm_str1)"
   ]
  },
  {
   "cell_type": "code",
   "execution_count": 50,
   "id": "d6d9ab7f",
   "metadata": {},
   "outputs": [
    {
     "data": {
      "image/png": "[encoded data removed]",
      "text/plain": [
       "<Figure size 387.597x325.08 with 1 Axes>"
      ]
     },
     "execution_count": 50,
     "metadata": {},
     "output_type": "execute_result"
    }
   ],
   "source": [
    "%matplotlib inline\n",
    "circuit1.draw(output='mpl')"
   ]
  },
  {
   "cell_type": "code",
   "execution_count": 51,
   "id": "776d625a",
   "metadata": {},
   "outputs": [
    {
     "name": "stdout",
     "output_type": "stream",
     "text": [
      "Circuit depth:  5\n"
     ]
    }
   ],
   "source": [
    "print(\"Circuit depth: \", circuit1.depth())"
   ]
  },
  {
   "cell_type": "code",
   "execution_count": 25,
   "id": "fe15afd9",
   "metadata": {},
   "outputs": [
    {
     "name": "stdout",
     "output_type": "stream",
     "text": [
      "\n",
      "Total count for 00 and 11 are: {'0000': 1000}\n"
     ]
    },
    {
     "data": {
      "text/html": [
       "<pre style=\"word-wrap: normal;white-space: pre;background: #fff0;line-height: 1.1;font-family: &quot;Courier New&quot;,Courier,monospace\">                            \n",
       "q_0: ──■────■───────────────\n",
       "       │  ┌─┴─┐             \n",
       "q_1: ──■──┤ X ├──■────■─────\n",
       "       │  └───┘  │  ┌─┴─┐┌─┐\n",
       "q_2: ──┼─────────■──┤ X ├┤M├\n",
       "     ┌─┴─┐     ┌─┴─┐└┬─┬┘└╥┘\n",
       "q_3: ┤ X ├─────┤ X ├─┤M├──╫─\n",
       "     └───┘     └───┘ └╥┘  ║ \n",
       "c: 4/═════════════════╩═══╩═\n",
       "                      1   0 </pre>"
      ],
      "text/plain": [
       "                            \n",
       "q_0: ──■────■───────────────\n",
       "       │  ┌─┴─┐             \n",
       "q_1: ──■──┤ X ├──■────■─────\n",
       "       │  └───┘  │  ┌─┴─┐┌─┐\n",
       "q_2: ──┼─────────■──┤ X ├┤M├\n",
       "     ┌─┴─┐     ┌─┴─┐└┬─┬┘└╥┘\n",
       "q_3: ┤ X ├─────┤ X ├─┤M├──╫─\n",
       "     └───┘     └───┘ └╥┘  ║ \n",
       "c: 4/═════════════════╩═══╩═\n",
       "                      1   0 "
      ]
     },
     "execution_count": 25,
     "metadata": {},
     "output_type": "execute_result"
    }
   ],
   "source": [
    "simulator = QasmSimulator()\n",
    "job = simulator.run(circuit1, shots=1000)\n",
    "result = job.result()\n",
    "counts = result.get_counts(circuit1)\n",
    "print(\"\\nTotal count for 00 and 11 are:\",counts)\n",
    "circuit1.draw()"
   ]
  },
  {
   "cell_type": "code",
   "execution_count": 52,
   "id": "a04b60b6",
   "metadata": {},
   "outputs": [
    {
     "data": {
      "text/plain": [
       "OrderedDict([('ccx', 2), ('cx', 2), ('measure', 2)])"
      ]
     },
     "execution_count": 52,
     "metadata": {},
     "output_type": "execute_result"
    }
   ],
   "source": [
    "circuit1.count_ops()"
   ]
  },
  {
   "cell_type": "code",
   "execution_count": 53,
   "id": "17aaec39",
   "metadata": {},
   "outputs": [
    {
     "data": {
      "image/png": "[encoded data removed]",
      "text/plain": [
       "<Figure size 1471.2x325.08 with 1 Axes>"
      ]
     },
     "execution_count": 53,
     "metadata": {},
     "output_type": "execute_result"
    }
   ],
   "source": [
    "new_circuit1 = pm.run(circuit1) \n",
    "new_circuit1.draw(output='mpl')"
   ]
  },
  {
   "cell_type": "code",
   "execution_count": 54,
   "id": "27fe4f1f",
   "metadata": {},
   "outputs": [
    {
     "data": {
      "text/plain": [
       "OrderedDict([('u3', 18), ('cx', 14), ('measure', 2)])"
      ]
     },
     "execution_count": 54,
     "metadata": {},
     "output_type": "execute_result"
    }
   ],
   "source": [
    "new_circuit1.count_ops()"
   ]
  },
  {
   "cell_type": "code",
   "execution_count": 35,
   "id": "1ea18844",
   "metadata": {},
   "outputs": [
    {
     "data": {
      "text/plain": [
       "<qiskit.circuit.instructionset.InstructionSet at 0x24fbf6b7a80>"
      ]
     },
     "execution_count": 35,
     "metadata": {},
     "output_type": "execute_result"
    }
   ],
   "source": [
    "circuit2 = QuantumCircuit(3,1)\n",
    "circuit2.swap(0,1)\n"
   ]
  },
  {
   "cell_type": "code",
   "execution_count": 36,
   "id": "0c9f4195",
   "metadata": {},
   "outputs": [
    {
     "data": {
      "image/png": "[encoded data removed]",
      "text/plain": [
       "<Figure size 146.797x264.88 with 1 Axes>"
      ]
     },
     "execution_count": 36,
     "metadata": {},
     "output_type": "execute_result"
    }
   ],
   "source": [
    "%matplotlib inline\n",
    "circuit2.draw(output='mpl')"
   ]
  },
  {
   "cell_type": "code",
   "execution_count": 37,
   "id": "4fd72328",
   "metadata": {},
   "outputs": [
    {
     "name": "stdout",
     "output_type": "stream",
     "text": [
      "Circuit depth:  1\n"
     ]
    }
   ],
   "source": [
    "print(\"Circuit depth: \", circuit2.depth())"
   ]
  },
  {
   "cell_type": "code",
   "execution_count": 45,
   "id": "96969d31",
   "metadata": {},
   "outputs": [],
   "source": [
    "qasm2_str = \"\"\"OPENQASM 2.0;\n",
    "include \"qelib1.inc\";\n",
    "\n",
    "qreg q[4];\n",
    "creg c[4];\n",
    "s q[0];\n",
    "s q[1];\n",
    "h q[0];\n",
    "cx q[0], q[1];\n",
    "cx q[1], q[0];\n",
    "h q[1];\n",
    "\"\"\""
   ]
  },
  {
   "cell_type": "code",
   "execution_count": 46,
   "id": "e0b18fb9",
   "metadata": {},
   "outputs": [],
   "source": [
    "circuit3 = QuantumCircuit.from_qasm_str(qasm2_str)"
   ]
  },
  {
   "cell_type": "code",
   "execution_count": 47,
   "id": "e225769f",
   "metadata": {},
   "outputs": [
    {
     "data": {
      "image/png": "[encoded data removed]",
      "text/plain": [
       "<Figure size 387.597x325.08 with 1 Axes>"
      ]
     },
     "execution_count": 47,
     "metadata": {},
     "output_type": "execute_result"
    }
   ],
   "source": [
    "%matplotlib inline\n",
    "circuit3.draw(output='mpl')"
   ]
  },
  {
   "cell_type": "code",
   "execution_count": 48,
   "id": "8124aa82",
   "metadata": {},
   "outputs": [
    {
     "name": "stdout",
     "output_type": "stream",
     "text": [
      "Circuit depth:  5\n"
     ]
    }
   ],
   "source": [
    "print(\"Circuit depth: \", circuit3.depth())"
   ]
  },
  {
   "cell_type": "code",
   "execution_count": null,
   "id": "58aa9bb0",
   "metadata": {},
   "outputs": [],
   "source": []
  }
 ],
 "metadata": {
  "kernelspec": {
   "display_name": "Python 3 (ipykernel)",
   "language": "python",
   "name": "python3"
  },
  "language_info": {
   "codemirror_mode": {
    "name": "ipython",
    "version": 3
   },
   "file_extension": ".py",
   "mimetype": "text/x-python",
   "name": "python",
   "nbconvert_exporter": "python",
   "pygments_lexer": "ipython3",
   "version": "3.9.12"
  }
 },
 "nbformat": 4,
 "nbformat_minor": 5
}
