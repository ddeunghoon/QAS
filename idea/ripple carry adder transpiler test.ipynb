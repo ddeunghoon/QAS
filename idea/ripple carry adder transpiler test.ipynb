{
 "cells": [
  {
   "cell_type": "code",
   "execution_count": 3,
   "id": "ec32de3b-525f-4255-8e68-a08f999ed479",
   "metadata": {},
   "outputs": [
    {
     "name": "stderr",
     "output_type": "stream",
     "text": [
      "<frozen importlib._bootstrap>:219: RuntimeWarning: scipy._lib.messagestream.MessageStream size changed, may indicate binary incompatibility. Expected 56 from C header, got 64 from PyObject\n"
     ]
    }
   ],
   "source": [
    "import numpy as np\n",
    "\n",
    "# Importing standard Qiskit libraries\n",
    "from qiskit import QuantumCircuit, transpile, Aer, IBMQ\n",
    "from qiskit.tools.jupyter import *\n",
    "from qiskit.visualization import *\n",
    "from ibm_quantum_widgets import *\n",
    "from qiskit.providers.aer import QasmSimulator\n",
    "\n",
    "# Loading your IBM Quantum account(s)\n",
    "provider = IBMQ.load_account()"
   ]
  },
  {
   "cell_type": "code",
   "execution_count": 4,
   "id": "b1a2949f-005c-4919-989c-d3e6d49d5e2b",
   "metadata": {},
   "outputs": [],
   "source": [
    "from qiskit.circuit.library.arithmetic.adders import CDKMRippleCarryAdder"
   ]
  },
  {
   "cell_type": "code",
   "execution_count": 18,
   "id": "96e5ecab-7be3-409d-a04c-cbe3a4cfd57d",
   "metadata": {},
   "outputs": [],
   "source": [
    "qc = CDKMRippleCarryAdder(2, kind='full')"
   ]
  },
  {
   "cell_type": "code",
   "execution_count": 19,
   "id": "0c841bc2-34f5-427f-9166-9725f65d9b2a",
   "metadata": {},
   "outputs": [
    {
     "data": {
      "image/png": "[encoded data removed]",
      "text/plain": [
       "<Figure size 346.29x385.28 with 1 Axes>"
      ]
     },
     "execution_count": 19,
     "metadata": {},
     "output_type": "execute_result"
    }
   ],
   "source": [
    "qc.draw()"
   ]
  },
  {
   "cell_type": "code",
   "execution_count": 20,
   "id": "fb0434be-f9c8-466b-a343-d800299c2a15",
   "metadata": {},
   "outputs": [],
   "source": [
    "from qiskit import QuantumCircuit\n",
    "from qiskit.compiler import transpile\n",
    "from qiskit.transpiler import PassManager\n",
    "from qiskit.transpiler.passes import Unroller"
   ]
  },
  {
   "cell_type": "code",
   "execution_count": 36,
   "id": "01951b61-0269-4730-ae8c-9f4f9cfe0324",
   "metadata": {},
   "outputs": [
    {
     "data": {
      "image/png": "[encoded data removed]",
      "text/plain": [
       "<Figure size 827.89x385.28 with 1 Axes>"
      ]
     },
     "execution_count": 36,
     "metadata": {},
     "output_type": "execute_result"
    }
   ],
   "source": [
    "pass_ = Unroller(['cx','ccx'])\n",
    "pm = PassManager(pass_)\n",
    "basic_circuit = pm.run(qc) \n",
    "basic_circuit.draw(output='mpl')"
   ]
  },
  {
   "cell_type": "code",
   "execution_count": 52,
   "id": "f9d6ba19-d65d-4885-9b7e-6e050f0cabb6",
   "metadata": {},
   "outputs": [
    {
     "name": "stderr",
     "output_type": "stream",
     "text": [
      "ibmqfactory.load_account:WARNING:2022-06-28 06:19:13,251: Credentials are already in use. The existing account in the session will be replaced.\n"
     ]
    },
    {
     "data": {
      "text/plain": [
       "<AccountProvider for IBMQ(hub='ibm-q', group='open', project='main')>"
      ]
     },
     "execution_count": 52,
     "metadata": {},
     "output_type": "execute_result"
    }
   ],
   "source": [
    "IBMQ.load_account()"
   ]
  },
  {
   "cell_type": "code",
   "execution_count": 54,
   "id": "0646418f-bb08-44f7-ae53-d5f835f6eef7",
   "metadata": {},
   "outputs": [
    {
     "data": {
      "text/plain": [
       "[<AccountProvider for IBMQ(hub='ibm-q', group='open', project='main')>]"
      ]
     },
     "execution_count": 54,
     "metadata": {},
     "output_type": "execute_result"
    }
   ],
   "source": [
    "IBMQ.providers()"
   ]
  },
  {
   "cell_type": "code",
   "execution_count": 55,
   "id": "9ea614ee-343d-4ae3-aa64-c72fd2566d12",
   "metadata": {},
   "outputs": [
    {
     "data": {
      "text/plain": [
       "[<IBMQSimulator('ibmq_qasm_simulator') from IBMQ(hub='ibm-q', group='open', project='main')>,\n",
       " <IBMQBackend('ibmq_armonk') from IBMQ(hub='ibm-q', group='open', project='main')>,\n",
       " <IBMQBackend('ibmq_lima') from IBMQ(hub='ibm-q', group='open', project='main')>,\n",
       " <IBMQBackend('ibmq_belem') from IBMQ(hub='ibm-q', group='open', project='main')>,\n",
       " <IBMQBackend('ibmq_quito') from IBMQ(hub='ibm-q', group='open', project='main')>,\n",
       " <IBMQSimulator('simulator_statevector') from IBMQ(hub='ibm-q', group='open', project='main')>,\n",
       " <IBMQSimulator('simulator_mps') from IBMQ(hub='ibm-q', group='open', project='main')>,\n",
       " <IBMQSimulator('simulator_extended_stabilizer') from IBMQ(hub='ibm-q', group='open', project='main')>,\n",
       " <IBMQSimulator('simulator_stabilizer') from IBMQ(hub='ibm-q', group='open', project='main')>,\n",
       " <IBMQBackend('ibmq_manila') from IBMQ(hub='ibm-q', group='open', project='main')>,\n",
       " <IBMQBackend('ibm_nairobi') from IBMQ(hub='ibm-q', group='open', project='main')>,\n",
       " <IBMQBackend('ibm_oslo') from IBMQ(hub='ibm-q', group='open', project='main')>]"
      ]
     },
     "execution_count": 55,
     "metadata": {},
     "output_type": "execute_result"
    }
   ],
   "source": [
    "provider = IBMQ.get_provider('ibm-q')\n",
    "provider.backends()"
   ]
  },
  {
   "cell_type": "code",
   "execution_count": 57,
   "id": "65c311dc-3b75-4c1e-b530-7b7c13fa9700",
   "metadata": {},
   "outputs": [
    {
     "data": {
      "application/vnd.jupyter.widget-view+json": {
       "model_id": "09acd6dd0a944738a95bf6409f987567",
       "version_major": 2,
       "version_minor": 0
      },
      "text/plain": [
       "VBox(children=(HTML(value=\"<h1 style='color:#ffffff;background-color:#000000;padding-top: 1%;padding-bottom: 1…"
      ]
     },
     "metadata": {},
     "output_type": "display_data"
    },
    {
     "data": {
      "text/plain": [
       "<IBMQBackend('ibm_oslo') from IBMQ(hub='ibm-q', group='open', project='main')>"
      ]
     },
     "execution_count": 57,
     "metadata": {},
     "output_type": "execute_result"
    }
   ],
   "source": [
    "import qiskit.tools.jupyter\n",
    "\n",
    "backend_ex = provider.get_backend('ibm_oslo')\n",
    "backend_ex"
   ]
  },
  {
   "cell_type": "code",
   "execution_count": 58,
   "id": "5404cf12-263e-48ed-a2cb-7039531f5b08",
   "metadata": {},
   "outputs": [
    {
     "data": {
      "text/plain": [
       "[<IBMQBackend('ibmq_lima') from IBMQ(hub='ibm-q', group='open', project='main')>,\n",
       " <IBMQBackend('ibmq_belem') from IBMQ(hub='ibm-q', group='open', project='main')>,\n",
       " <IBMQBackend('ibmq_quito') from IBMQ(hub='ibm-q', group='open', project='main')>,\n",
       " <IBMQBackend('ibmq_manila') from IBMQ(hub='ibm-q', group='open', project='main')>,\n",
       " <IBMQBackend('ibm_nairobi') from IBMQ(hub='ibm-q', group='open', project='main')>,\n",
       " <IBMQBackend('ibm_oslo') from IBMQ(hub='ibm-q', group='open', project='main')>]"
      ]
     },
     "execution_count": 58,
     "metadata": {},
     "output_type": "execute_result"
    }
   ],
   "source": [
    "backends = provider.backends(filters = lambda x:x.configuration().n_qubits >= 2 and not x.configuration().simulator\n",
    "                             and x.status().operational==True)\n",
    "backends"
   ]
  },
  {
   "cell_type": "code",
   "execution_count": 59,
   "id": "3720bec4-8dad-480d-858b-4112b3467d0f",
   "metadata": {},
   "outputs": [
    {
     "data": {
      "application/vnd.jupyter.widget-view+json": {
       "model_id": "d149aaa5b3ef4cd3bb481ee00d65fd06",
       "version_major": 2,
       "version_minor": 0
      },
      "text/plain": [
       "VBox(children=(HTML(value=\"<h1 style='color:#ffffff;background-color:#000000;padding-top: 1%;padding-bottom: 1…"
      ]
     },
     "metadata": {},
     "output_type": "display_data"
    },
    {
     "data": {
      "text/plain": [
       "<IBMQBackend('ibm_oslo') from IBMQ(hub='ibm-q', group='open', project='main')>"
      ]
     },
     "execution_count": 59,
     "metadata": {},
     "output_type": "execute_result"
    }
   ],
   "source": [
    "from qiskit.providers.ibmq import least_busy\n",
    "backend = least_busy(provider.backends(filters=lambda x: x.configuration().n_qubits >= 2 and \n",
    "                                        not x.configuration().simulator and x.status().operational==True))\n",
    "backend"
   ]
  },
  {
   "cell_type": "code",
   "execution_count": 60,
   "id": "1fe5b2a4-3f17-4ab1-9958-518dab97301a",
   "metadata": {},
   "outputs": [],
   "source": [
    "# run this cell\n",
    "backend = provider.get_backend('ibm_oslo')"
   ]
  },
  {
   "cell_type": "code",
   "execution_count": 62,
   "id": "e51c0b1d-595a-4b64-aa8a-988f46e82e5d",
   "metadata": {},
   "outputs": [
    {
     "name": "stdout",
     "output_type": "stream",
     "text": [
      "Ripple Carry Adder gate\n"
     ]
    },
    {
     "data": {
      "image/png": "[encoded data removed]",
      "text/plain": [
       "<Figure size 346.29x385.28 with 1 Axes>"
      ]
     },
     "metadata": {},
     "output_type": "display_data"
    },
    {
     "name": "stdout",
     "output_type": "stream",
     "text": [
      "\n",
      "\n",
      "Transpiled RCA gate with all the required connectivity\n"
     ]
    },
    {
     "data": {
      "image/png": "[encoded data removed]",
      "text/plain": [
       "<Figure size 406.49x385.28 with 1 Axes>"
      ]
     },
     "execution_count": 62,
     "metadata": {},
     "output_type": "execute_result"
    }
   ],
   "source": [
    "print('Ripple Carry Adder gate')\n",
    "display(qc.draw())\n",
    "print('\\n\\nTranspiled RCA gate with all the required connectivity')\n",
    "qc.decompose().draw()"
   ]
  },
  {
   "cell_type": "code",
   "execution_count": null,
   "id": "5fe07472-2042-4bd1-bd28-e41bf3ec8868",
   "metadata": {},
   "outputs": [],
   "source": []
  },
  {
   "cell_type": "code",
   "execution_count": 63,
   "id": "ff7d7888-7b23-4f5d-9f4c-ce644a019e47",
   "metadata": {},
   "outputs": [],
   "source": [
    "from qiskit.tools.monitor import job_monitor"
   ]
  },
  {
   "cell_type": "code",
   "execution_count": 96,
   "id": "b3cd8da4-cb8f-4a47-bc05-da35cbb6ec97",
   "metadata": {},
   "outputs": [],
   "source": [
    "def RCA2(a0, a1, b0,b1, backend, layout):\n",
    "    \n",
    "    qc = QuantumCircuit(6,3)\n",
    "    qc.reset(range(3))\n",
    "    \n",
    "    # input \n",
    "    if inp1=='1':\n",
    "        qc.x(0)\n",
    "    if inp2=='1':\n",
    "        qc.x(1)\n",
    "        \n",
    "    qc.barrier()\n",
    "    \n",
    "    #operation\n",
    "    qc.cx(3,1)\n",
    "    qc.cx(1,0)\n",
    "    qc.cx(2,4)\n",
    "    qc.ccx(0,3,1)\n",
    "    qc.ccx(2,1)\n",
    "    qc.ccx(1,4,2)\n",
    "    qc.cx(2,5)\n",
    "    qc.ccx(1,4,2)\n",
    "    qc.cx(2,1)\n",
    "    qc.cx(4,1)\n",
    "    qc.ccx(0,4,1)\n",
    "    qc.cx(1,0)\n",
    "    qc.cx(0,3)\n",
    "    \n",
    "    qc.barrier()\n",
    "    \n",
    "    #measurement\n",
    "    qc.measure(3,0)\n",
    "    qc.measure(4,1)\n",
    "    qc.measure(5,2)\n",
    "  \n",
    "    qc_trans = transpile(qc, backend, initial_layout=layout, optimization_level=3)\n",
    "    job = backend.run(qc_trans, shots=8192)\n",
    "    print(job.job_id())\n",
    "    job_monitor(job)\n",
    "    \n",
    "    output = job.result().get_counts()\n",
    "    \n",
    "    return qc_trans, output"
   ]
  },
  {
   "cell_type": "code",
   "execution_count": 105,
   "id": "efd9083d-e774-4df6-9eaf-ec5926142c27",
   "metadata": {},
   "outputs": [
    {
     "data": {
      "image/png": "[encoded data removed]",
      "text/plain": [
       "<Figure size 146.797x385.28 with 1 Axes>"
      ]
     },
     "execution_count": 105,
     "metadata": {},
     "output_type": "execute_result"
    }
   ],
   "source": [
    "qca = QuantumCircuit(6)\n",
    "qca.x(0)\n",
    "qca.draw()"
   ]
  },
  {
   "cell_type": "code",
   "execution_count": 106,
   "id": "2baddf95-a050-4d46-bc01-8d9b042229e5",
   "metadata": {},
   "outputs": [
    {
     "data": {
      "image/png": "[encoded data removed]",
      "text/plain": [
       "<Figure size 387.597x385.28 with 1 Axes>"
      ]
     },
     "execution_count": 106,
     "metadata": {},
     "output_type": "execute_result"
    }
   ],
   "source": [
    "\n",
    "adder = CDKMRippleCarryAdder(2,kind='full').to_gate()\n",
    "qca.append(adder,[0,1,2,3,4,5])\n",
    "\n",
    "qca.draw()"
   ]
  },
  {
   "cell_type": "code",
   "execution_count": null,
   "id": "b0c3be55-50a6-46f7-943e-a6d86bf8f31f",
   "metadata": {},
   "outputs": [],
   "source": [
    "RCA = RCA2(0,0,0,0, 'ibm_oslo'"
   ]
  }
 ],
 "metadata": {
  "kernelspec": {
   "display_name": "Python 3 (ipykernel)",
   "language": "python",
   "name": "python3"
  },
  "language_info": {
   "codemirror_mode": {
    "name": "ipython",
    "version": 3
   },
   "file_extension": ".py",
   "mimetype": "text/x-python",
   "name": "python",
   "nbconvert_exporter": "python",
   "pygments_lexer": "ipython3",
   "version": "3.8.13"
  },
  "widgets": {
   "application/vnd.jupyter.widget-state+json": {
    "state": {
     "0093a8618f1c4fe7876514614fd1dc6a": {
      "model_module": "@jupyter-widgets/base",
      "model_module_version": "1.2.0",
      "model_name": "LayoutModel",
      "state": {}
     },
     "047f8f253c4142a1a820ab10ba4cda8c": {
      "model_module": "@jupyter-widgets/controls",
      "model_module_version": "1.5.0",
      "model_name": "HTMLMathModel",
      "state": {
       "layout": "IPY_MODEL_604cbf81b596434980d487e9fe398e8d",
       "style": "IPY_MODEL_8b75301afc3b4b7da27f69e2543ab866",
       "value": "<table><style>\ntable {\n    border-collapse: collapse;\n    width: auto;\n}\n\nth, td {\n    text-align: left;\n    padding: 8px;\n}\n\ntr:nth-child(even) {background-color: #f6f6f6;}\n</style><tr><th></th><th></th></tr><tr><td>live_data</td><td>False</td></tr><tr><td>local</td><td>False</td></tr><tr><td>supported_instructions</td><td>['rz', 'u3', 'id', 'u1', 'setf', 'u2', 'sx', 'reset', 'x', 'cx', 'shiftf', 'acquire', 'play', 'delay', 'measure']</td></tr><tr><td>backend_name</td><td>ibm_oslo</td></tr><tr><td>discriminators</td><td>['linear_discriminator', 'quadratic_discriminator', 'hw_qmfk']</td></tr><tr><td>supported_features</td><td>['qobj', 'qasm3']</td></tr><tr><td>rep_delay_range</td><td>[0.0, 500.0]</td></tr><tr><td>n_uchannels</td><td>12</td></tr><tr><td>pulse_num_qubits</td><td>3</td></tr><tr><td>processor_type</td><td>{'family': 'Falcon', 'revision': '5.11', 'segment': 'H'}</td></tr><tr><td>multi_meas_enabled</td><td>True</td></tr><tr><td>meas_kernels</td><td>['hw_qmfk']</td></tr><tr><td>url</td><td>None</td></tr><tr><td>n_registers</td><td>1</td></tr><tr><td>rep_times</td><td>[1000.0]</td></tr><tr><td>dt</td><td>0.2222222222222222</td></tr><tr><td>allow_q_object</td><td>True</td></tr><tr><td>coupling_map</td><td>[[0, 1], [1, 0], [1, 2], [1, 3], [2, 1], [3, 1], [3, 5], [4, 5], [5, 3], [5, 4], [5, 6], [6, 5]]</td></tr><tr><td>channels</td><td>{'acquire0': {'operates': {'qubits': [0]}, 'purpose': 'acquire', 'type': 'acquire'}, 'acquire1': {'operates': {'qubits': [1]}, 'purpose': 'acquire', 'type': 'acquire'}, 'acquire2': {'operates': {'qubits': [2]}, 'purpose': 'acquire', 'type': 'acquire'}, 'acquire3': {'operates': {'qubits': [3]}, 'purpose': 'acquire', 'type': 'acquire'}, 'acquire4': {'operates': {'qubits': [4]}, 'purpose': 'acquire', 'type': 'acquire'}, 'acquire5': {'operates': {'qubits': [5]}, 'purpose': 'acquire', 'type': 'acquire'}, 'acquire6': {'operates': {'qubits': [6]}, 'purpose': 'acquire', 'type': 'acquire'}, 'd0': {'operates': {'qubits': [0]}, 'purpose': 'drive', 'type': 'drive'}, 'd1': {'operates': {'qubits': [1]}, 'purpose': 'drive', 'type': 'drive'}, 'd2': {'operates': {'qubits': [2]}, 'purpose': 'drive', 'type': 'drive'}, 'd3': {'operates': {'qubits': [3]}, 'purpose': 'drive', 'type': 'drive'}, 'd4': {'operates': {'qubits': [4]}, 'purpose': 'drive', 'type': 'drive'}, 'd5': {'operates': {'qubits': [5]}, 'purpose': 'drive', 'type': 'drive'}, 'd6': {'operates': {'qubits': [6]}, 'purpose': 'drive', 'type': 'drive'}, 'm0': {'operates': {'qubits': [0]}, 'purpose': 'measure', 'type': 'measure'}, 'm1': {'operates': {'qubits': [1]}, 'purpose': 'measure', 'type': 'measure'}, 'm2': {'operates': {'qubits': [2]}, 'purpose': 'measure', 'type': 'measure'}, 'm3': {'operates': {'qubits': [3]}, 'purpose': 'measure', 'type': 'measure'}, 'm4': {'operates': {'qubits': [4]}, 'purpose': 'measure', 'type': 'measure'}, 'm5': {'operates': {'qubits': [5]}, 'purpose': 'measure', 'type': 'measure'}, 'm6': {'operates': {'qubits': [6]}, 'purpose': 'measure', 'type': 'measure'}, 'u0': {'operates': {'qubits': [0, 1]}, 'purpose': 'cross-resonance', 'type': 'control'}, 'u1': {'operates': {'qubits': [1, 0]}, 'purpose': 'cross-resonance', 'type': 'control'}, 'u10': {'operates': {'qubits': [5, 6]}, 'purpose': 'cross-resonance', 'type': 'control'}, 'u11': {'operates': {'qubits': [6, 5]}, 'purpose': 'cross-resonance', 'type': 'control'}, 'u2': {'operates': {'qubits': [1, 2]}, 'purpose': 'cross-resonance', 'type': 'control'}, 'u3': {'operates': {'qubits': [1, 3]}, 'purpose': 'cross-resonance', 'type': 'control'}, 'u4': {'operates': {'qubits': [2, 1]}, 'purpose': 'cross-resonance', 'type': 'control'}, 'u5': {'operates': {'qubits': [3, 1]}, 'purpose': 'cross-resonance', 'type': 'control'}, 'u6': {'operates': {'qubits': [3, 5]}, 'purpose': 'cross-resonance', 'type': 'control'}, 'u7': {'operates': {'qubits': [4, 5]}, 'purpose': 'cross-resonance', 'type': 'control'}, 'u8': {'operates': {'qubits': [5, 3]}, 'purpose': 'cross-resonance', 'type': 'control'}, 'u9': {'operates': {'qubits': [5, 4]}, 'purpose': 'cross-resonance', 'type': 'control'}}</td></tr><tr><td>dynamic_reprate_enabled</td><td>True</td></tr><tr><td>memory</td><td>True</td></tr><tr><td>allow_object_storage</td><td>True</td></tr><tr><td>simulator</td><td>False</td></tr><tr><td>open_pulse</td><td>False</td></tr><tr><td>conditional</td><td>False</td></tr><tr><td>timing_constraints</td><td>{'acquire_alignment': 16, 'granularity': 16, 'min_length': 64, 'pulse_alignment': 16}</td></tr><tr><td>online_date</td><td>2022-03-25 04:00:00+00:00</td></tr><tr><td>meas_lo_range</td><td>[[6.729836446, 7.729836446], [6.604835349, 7.604835349000001], [6.8306589760000005, 7.8306589760000005], [6.632327716000001, 7.632327716000001], [6.713651857, 7.713651857], [6.812390622000001, 7.812390622000001], [6.7878388140000006, 7.7878388140000006]]</td></tr><tr><td>hamiltonian</td><td>$$\\begin{align} \\mathcal{H}/\\hbar = & \\sum_{i=0}^{6}\\left(\\frac{\\omega_{q,i}}{2}(\\mathbb{I}-\\sigma_i^{z})+\\frac{\\Delta_{i}}{2}(O_i^2-O_i)+\\Omega_{d,i}D_i(t)\\sigma_i^{X}\\right) \\\\ & + J_{0,1}(\\sigma_{0}^{+}\\sigma_{1}^{-}+\\sigma_{0}^{-}\\sigma_{1}^{+}) + J_{1,2}(\\sigma_{1}^{+}\\sigma_{2}^{-}+\\sigma_{1}^{-}\\sigma_{2}^{+}) + J_{4,5}(\\sigma_{4}^{+}\\sigma_{5}^{-}+\\sigma_{4}^{-}\\sigma_{5}^{+}) + J_{5,6}(\\sigma_{5}^{+}\\sigma_{6}^{-}+\\sigma_{5}^{-}\\sigma_{6}^{+}) \\\\ & + J_{1,3}(\\sigma_{1}^{+}\\sigma_{3}^{-}+\\sigma_{1}^{-}\\sigma_{3}^{+}) + J_{3,5}(\\sigma_{3}^{+}\\sigma_{5}^{-}+\\sigma_{3}^{-}\\sigma_{5}^{+}) \\\\ & + \\Omega_{d,0}(U_{0}^{(0,1)}(t))\\sigma_{0}^{X} + \\Omega_{d,1}(U_{1}^{(1,0)}(t)+U_{3}^{(1,3)}(t)+U_{2}^{(1,2)}(t))\\sigma_{1}^{X} \\\\ & + \\Omega_{d,2}(U_{4}^{(2,1)}(t))\\sigma_{2}^{X} + \\Omega_{d,3}(U_{5}^{(3,1)}(t)+U_{6}^{(3,5)}(t))\\sigma_{3}^{X} \\\\ & + \\Omega_{d,4}(U_{7}^{(4,5)}(t))\\sigma_{4}^{X} + \\Omega_{d,5}(U_{8}^{(5,3)}(t)+U_{10}^{(5,6)}(t)+U_{9}^{(5,4)}(t))\\sigma_{5}^{X} \\\\ & + \\Omega_{d,6}(U_{11}^{(6,5)}(t))\\sigma_{6}^{X} \\\\ \\end{align}$$</td></tr><tr><td>parametric_pulses</td><td>['gaussian', 'gaussian_square', 'drag', 'constant']</td></tr><tr><td>sample_name</td><td>family: Falcon, revision: 5.11, segment: H</td></tr><tr><td>credits_required</td><td>True</td></tr><tr><td>meas_levels</td><td>[1, 2]</td></tr><tr><td>uchannels_enabled</td><td>True</td></tr><tr><td>meas_map</td><td>[[0, 1, 2, 3, 4, 5, 6]]</td></tr><tr><td>u_channel_lo</td><td>[[{'q': 1, 'scale': (1+0j)}], [{'q': 0, 'scale': (1+0j)}], [{'q': 2, 'scale': (1+0j)}], [{'q': 3, 'scale': (1+0j)}], [{'q': 1, 'scale': (1+0j)}], [{'q': 1, 'scale': (1+0j)}], [{'q': 5, 'scale': (1+0j)}], [{'q': 5, 'scale': (1+0j)}], [{'q': 3, 'scale': (1+0j)}], [{'q': 4, 'scale': (1+0j)}], [{'q': 6, 'scale': (1+0j)}], [{'q': 5, 'scale': (1+0j)}]]</td></tr><tr><td>conditional_latency</td><td>[]</td></tr><tr><td>default_rep_delay</td><td>250.0</td></tr><tr><td>dtm</td><td>0.2222222222222222</td></tr><tr><td>acquisition_latency</td><td>[]</td></tr><tr><td>description</td><td>7 qubit device</td></tr><tr><td>pulse_num_channels</td><td>9</td></tr><tr><td>qubit_channel_mapping</td><td>[['u0', 'u1', 'd0', 'm0'], ['u3', 'u1', 'm1', 'u2', 'u4', 'd1', 'u0', 'u5'], ['u2', 'u4', 'd2', 'm2'], ['u3', 'd3', 'u8', 'm3', 'u6', 'u5'], ['u7', 'm4', 'd4', 'u9'], ['u7', 'u8', 'u11', 'u6', 'u9', 'u10', 'd5', 'm5'], ['m6', 'u11', 'u10', 'd6']]</td></tr><tr><td>input_allowed</td><td>['job', 'runtime']</td></tr><tr><td>clops</td><td>2645</td></tr><tr><td>qubit_lo_range</td><td>[[4.425039493971028, 5.425039493971028], [4.546253783996783, 5.546253783996784], [4.4619867212182145, 5.4619867212182145], [4.608082034893607, 5.608082034893607], [4.511074409987105, 5.511074409987105], [4.673289842125353, 5.673289842125353], [4.819303501215827, 5.819303501215827]]</td></tr><tr><td>measure_esp_enabled</td><td>False</td></tr></table>"
      }
     },
     "08167e6392c54e85b613e8455d30853c": {
      "model_module": "@jupyter-widgets/controls",
      "model_module_version": "1.5.0",
      "model_name": "HTMLModel",
      "state": {
       "layout": "IPY_MODEL_7a5d231dcffa452fb11c6413a2ff1c26",
       "style": "IPY_MODEL_46a99707fe20445a878a9124b54954c6",
       "value": "<div><font style='font-weight:bold'>last_update_date</font>: 2022-06-28 06:10:48+00:00</div>"
      }
     },
     "082965598411440290972f58064d3e15": {
      "model_module": "@jupyter-widgets/controls",
      "model_module_version": "1.5.0",
      "model_name": "GridBoxModel",
      "state": {
       "children": [
        "IPY_MODEL_244d2157133946e8ad8623f28dfc990d",
        "IPY_MODEL_d711791e83e642ccb20cec4b4dc556de",
        "IPY_MODEL_047f8f253c4142a1a820ab10ba4cda8c"
       ],
       "layout": "IPY_MODEL_93183ee21db24670997adddf84502cbe"
      }
     },
     "09acd6dd0a944738a95bf6409f987567": {
      "model_module": "@jupyter-widgets/controls",
      "model_module_version": "1.5.0",
      "model_name": "VBoxModel",
      "state": {
       "children": [
        "IPY_MODEL_aad9b7ffea634943a362e88ff195f00f",
        "IPY_MODEL_f2a09eb162d943129b8edf816ae38974"
       ],
       "layout": "IPY_MODEL_b6ee71d16c9b4905b3da4f80c6729e26"
      }
     },
     "0b503bddf7d8481085f3f454fe95eae4": {
      "model_module": "@jupyter-widgets/base",
      "model_module_version": "1.2.0",
      "model_name": "LayoutModel",
      "state": {
       "max_height": "620px"
      }
     },
     "0f12c0aa46f04cc7988d5fa3b6d48e03": {
      "model_module": "@jupyter-widgets/controls",
      "model_module_version": "1.5.0",
      "model_name": "VBoxModel",
      "state": {
       "children": [
        "IPY_MODEL_b10503c4058d4f9f951d701dcdc2339c",
        "IPY_MODEL_dda1aae43287431786bff2c65199c7f7"
       ],
       "layout": "IPY_MODEL_73dca253af7341c5b0305a2804a4e292"
      }
     },
     "0f82f7008b0a40659937d672cb43542f": {
      "model_module": "@jupyter-widgets/base",
      "model_module_version": "1.2.0",
      "model_name": "LayoutModel",
      "state": {}
     },
     "16711c5fd67d4cdc969ab98c57d02716": {
      "model_module": "@jupyter-widgets/controls",
      "model_module_version": "1.5.0",
      "model_name": "DescriptionStyleModel",
      "state": {
       "description_width": ""
      }
     },
     "18272d351eeb49c2b6f2bc3b9cd7aa2f": {
      "model_module": "@jupyter-widgets/base",
      "model_module_version": "1.2.0",
      "model_name": "LayoutModel",
      "state": {}
     },
     "1b0e9ad2a74b4a5eb3c159dc31e07679": {
      "model_module": "@jupyter-widgets/base",
      "model_module_version": "1.2.0",
      "model_name": "LayoutModel",
      "state": {}
     },
     "1e4c14bc0cd240328a9fb03ca1e78d62": {
      "model_module": "@jupyter-widgets/base",
      "model_module_version": "1.2.0",
      "model_name": "LayoutModel",
      "state": {
       "margin": "0px 0px 10px 0px"
      }
     },
     "20f0046d142749ada62300645c4d3a48": {
      "model_module": "@jupyter-widgets/base",
      "model_module_version": "1.2.0",
      "model_name": "LayoutModel",
      "state": {
       "grid_area": "left",
       "width": "100%"
      }
     },
     "2109c1a6bcfc4a44810aab2f6c7002b8": {
      "model_module": "@jupyter-widgets/controls",
      "model_module_version": "1.5.0",
      "model_name": "DescriptionStyleModel",
      "state": {
       "description_width": ""
      }
     },
     "2280d357d49b4533b18afe3a45307712": {
      "model_module": "@jupyter-widgets/controls",
      "model_module_version": "1.5.0",
      "model_name": "DescriptionStyleModel",
      "state": {
       "description_width": ""
      }
     },
     "2290adaa8b47499395496a1390567cba": {
      "model_module": "@jupyter-widgets/base",
      "model_module_version": "1.2.0",
      "model_name": "LayoutModel",
      "state": {
       "grid_gap": "0px 0px",
       "grid_template_areas": "\n                               \"left right right right\"\n                               \"bottom bottom bottom bottom\"\n                               ",
       "grid_template_columns": "31% 23% 23% 23%",
       "grid_template_rows": "auto auto"
      }
     },
     "23d4ad82e1dc4025b264ccb570aec2ed": {
      "model_module": "@jupyter-widgets/base",
      "model_module_version": "1.2.0",
      "model_name": "LayoutModel",
      "state": {
       "margin": "0px 0px 0px 37px",
       "width": "600px"
      }
     },
     "244d2157133946e8ad8623f28dfc990d": {
      "model_module": "@jupyter-widgets/controls",
      "model_module_version": "1.5.0",
      "model_name": "HTMLMathModel",
      "state": {
       "layout": "IPY_MODEL_20f0046d142749ada62300645c4d3a48",
       "style": "IPY_MODEL_b22266cb58af4645959ad37c99356b0d",
       "value": "<table><style>\ntable {\n    border-collapse: collapse;\n    width: auto;\n}\n\nth, td {\n    text-align: left;\n    padding: 8px;\n}\n\ntr:nth-child(even) {background-color: #f6f6f6;}\n</style><tr><th>Property</th><th>Value</th></tr><tr><td><font style='font-weight:bold'>n_qubits</font></td><td>7</td></tr><tr><td><font style='font-weight:bold'>quantum_volume</font></td><td>32</td></tr><tr><td><font style='font-weight:bold'>operational</font></td><td>True</td></tr><tr><td><font style='font-weight:bold'>status_msg</font></td><td>active</td></tr><tr><td><font style='font-weight:bold'>pending_jobs</font></td><td>60</td></tr><tr><td><font style='font-weight:bold'>backend_version</font></td><td>1.0.3</td></tr><tr><td><font style='font-weight:bold'>basis_gates</font></td><td>['id', 'rz', 'sx', 'x', 'cx', 'reset']</td></tr><tr><td><font style='font-weight:bold'>max_shots</font></td><td>20000</td></tr><tr><td><font style='font-weight:bold'>max_experiments</font></td><td>100</td></tr></table>"
      }
     },
     "2799db3b44634036a3eb6e118d229bb1": {
      "model_module": "@jupyter-widgets/base",
      "model_module_version": "1.2.0",
      "model_name": "LayoutModel",
      "state": {
       "grid_gap": "0px 0px",
       "grid_template_areas": "\n                                                   \"top top top\"\n                                                   \"left middle right\"\n                                                   ",
       "grid_template_columns": "33% 33% 33%",
       "grid_template_rows": "auto auto"
      }
     },
     "29a024a0aeee42c8a61eae9890474bfe": {
      "model_module": "@jupyter-widgets/base",
      "model_module_version": "1.2.0",
      "model_name": "LayoutModel",
      "state": {
       "width": "95px"
      }
     },
     "29e52a364e5f43ea940ecd9c0482cd3c": {
      "model_module": "@jupyter-widgets/controls",
      "model_module_version": "1.5.0",
      "model_name": "DescriptionStyleModel",
      "state": {
       "description_width": ""
      }
     },
     "2c13a45d770844b5b6838062ed2d9c86": {
      "model_module": "@jupyter-widgets/controls",
      "model_module_version": "1.5.0",
      "model_name": "HTMLModel",
      "state": {
       "layout": "IPY_MODEL_4cee6f0eba47458ba80ba62a3c0eab35",
       "style": "IPY_MODEL_70d5081804ae44c8bf4c0a73a3850130",
       "value": "<h5>Job ID</h5>"
      }
     },
     "2d7ffaf07534463d9be7bec430d44435": {
      "model_module": "@jupyter-widgets/controls",
      "model_module_version": "1.5.0",
      "model_name": "HTMLModel",
      "state": {
       "layout": "IPY_MODEL_86084bc5d7ad4a37bbb59935ce5e55c9",
       "style": "IPY_MODEL_29e52a364e5f43ea940ecd9c0482cd3c",
       "value": "<table><style>\ntable {\n    border-collapse: collapse;\n    width: auto;\n}\n\nth, td {\n    text-align: left;\n    padding: 8px;\n}\n\ntr:nth-child(even) {background-color: #f6f6f6;};\n</style><tr><th></th><th>Type</th><th>Gate error</th></tr><tr><td><font style='font-weight:bold'>cx4_5</font></td><td>cx</td><td>0.01049</td></tr><tr><td><font style='font-weight:bold'>cx5_4</font></td><td>cx</td><td>0.01049</td></tr><tr><td><font style='font-weight:bold'>cx2_1</font></td><td>cx</td><td>0.00714</td></tr><tr><td><font style='font-weight:bold'>cx1_2</font></td><td>cx</td><td>0.00714</td></tr></table>"
      }
     },
     "2f176ecc11da4f0cb140d709a3e1726e": {
      "model_module": "@jupyter-widgets/controls",
      "model_module_version": "1.5.0",
      "model_name": "DescriptionStyleModel",
      "state": {
       "description_width": ""
      }
     },
     "306ad6d6a9554d7192d1358679b55a8e": {
      "model_module": "@jupyter-widgets/controls",
      "model_module_version": "1.5.0",
      "model_name": "DescriptionStyleModel",
      "state": {
       "description_width": ""
      }
     },
     "33cd473acdc8422fafd33ff496edad60": {
      "model_module": "@jupyter-widgets/controls",
      "model_module_version": "1.5.0",
      "model_name": "HTMLModel",
      "state": {
       "layout": "IPY_MODEL_1b0e9ad2a74b4a5eb3c159dc31e07679",
       "style": "IPY_MODEL_3a01df1415384e4098d5c099bd2063f2",
       "value": "<div><font style='font-weight:bold'>last_update_date</font>: Tue 28 June 2022 at 06:10 UTC</div>"
      }
     },
     "3564fc2f46f94a16baabcbb6657d4778": {
      "model_module": "@jupyter-widgets/base",
      "model_module_version": "1.2.0",
      "model_name": "LayoutModel",
      "state": {
       "overflow_y": "scroll"
      }
     },
     "364eb32f33f9490b9e9fc31f101907b8": {
      "model_module": "@jupyter-widgets/controls",
      "model_module_version": "1.5.0",
      "model_name": "DescriptionStyleModel",
      "state": {
       "description_width": ""
      }
     },
     "3784df9e49454621932260257bd65e7c": {
      "model_module": "@jupyter-widgets/base",
      "model_module_version": "1.2.0",
      "model_name": "LayoutModel",
      "state": {
       "grid_area": "bottom",
       "width": "auto"
      }
     },
     "3a01df1415384e4098d5c099bd2063f2": {
      "model_module": "@jupyter-widgets/controls",
      "model_module_version": "1.5.0",
      "model_name": "DescriptionStyleModel",
      "state": {
       "description_width": ""
      }
     },
     "3b3ee13c841f47cd984fe0a4e44e5d47": {
      "model_module": "@jupyter-widgets/controls",
      "model_module_version": "1.5.0",
      "model_name": "ButtonStyleModel",
      "state": {}
     },
     "45b35c816f244e9a82e15d2ed2134fcd": {
      "model_module": "@jupyter-widgets/controls",
      "model_module_version": "1.5.0",
      "model_name": "HBoxModel",
      "state": {
       "children": [
        "IPY_MODEL_2c13a45d770844b5b6838062ed2d9c86",
        "IPY_MODEL_4ac97f19b7c64bb6b20bfba843960038",
        "IPY_MODEL_7641a0b80a7040658fed5bd1dd638d01",
        "IPY_MODEL_834533fad4fd4f3480fa4b40bdbb069b",
        "IPY_MODEL_d91f45b9e6d342eba8679696dd202b27"
       ],
       "layout": "IPY_MODEL_23d4ad82e1dc4025b264ccb570aec2ed"
      }
     },
     "46a99707fe20445a878a9124b54954c6": {
      "model_module": "@jupyter-widgets/controls",
      "model_module_version": "1.5.0",
      "model_name": "DescriptionStyleModel",
      "state": {
       "description_width": ""
      }
     },
     "49633c370f75485e8c3f6c70958ee45a": {
      "model_module": "@jupyter-widgets/base",
      "model_module_version": "1.2.0",
      "model_name": "LayoutModel",
      "state": {
       "width": "145px"
      }
     },
     "4ac97f19b7c64bb6b20bfba843960038": {
      "model_module": "@jupyter-widgets/controls",
      "model_module_version": "1.5.0",
      "model_name": "HTMLModel",
      "state": {
       "layout": "IPY_MODEL_49633c370f75485e8c3f6c70958ee45a",
       "style": "IPY_MODEL_2280d357d49b4533b18afe3a45307712",
       "value": "<h5>Backend</h5>"
      }
     },
     "4ca6db4d1e7f4c508f75604bfc815684": {
      "model_module": "@jupyter-widgets/controls",
      "model_module_version": "1.5.0",
      "model_name": "VBoxModel",
      "state": {
       "children": [
        "IPY_MODEL_33cd473acdc8422fafd33ff496edad60",
        "IPY_MODEL_5f9c0629cb0c4784aeb86d3dc553f5a2"
       ],
       "layout": "IPY_MODEL_18272d351eeb49c2b6f2bc3b9cd7aa2f"
      }
     },
     "4cee6f0eba47458ba80ba62a3c0eab35": {
      "model_module": "@jupyter-widgets/base",
      "model_module_version": "1.2.0",
      "model_name": "LayoutModel",
      "state": {
       "width": "190px"
      }
     },
     "4deb5271fa3a407db0a05d1c93cab8cb": {
      "model_module": "@jupyter-widgets/base",
      "model_module_version": "1.2.0",
      "model_name": "LayoutModel",
      "state": {
       "grid_gap": "0px 0px",
       "grid_template_areas": "\n                                                   \"top top top\"\n                                                   \"left middle right\"\n                                                   ",
       "grid_template_columns": "33% 33% 33%",
       "grid_template_rows": "auto auto"
      }
     },
     "502a8c655c2a4639ac8b3bf2a0be19b6": {
      "model_module": "@jupyter-widgets/controls",
      "model_module_version": "1.5.0",
      "model_name": "HTMLModel",
      "state": {
       "layout": "IPY_MODEL_b5440f440c624303b13bacbcc3883159",
       "style": "IPY_MODEL_364eb32f33f9490b9e9fc31f101907b8",
       "value": "<table><style>\ntable {\n    border-collapse: collapse;\n    width: auto;\n}\n\nth, td {\n    text-align: left;\n    padding: 8px;\n}\n\ntr:nth-child(even) {background-color: #f6f6f6;};\n</style><tr><th></th><th>Type</th><th>Gate error</th></tr><tr><td><font style='font-weight:bold'>cx6_5</font></td><td>cx</td><td>0.00755</td></tr><tr><td><font style='font-weight:bold'>cx5_6</font></td><td>cx</td><td>0.00755</td></tr><tr><td><font style='font-weight:bold'>cx0_1</font></td><td>cx</td><td>0.00972</td></tr><tr><td><font style='font-weight:bold'>cx1_0</font></td><td>cx</td><td>0.00972</td></tr></table>"
      }
     },
     "53ae476f29b44e4b964ca6ae466c5216": {
      "model_module": "@jupyter-widgets/base",
      "model_module_version": "1.2.0",
      "model_name": "LayoutModel",
      "state": {
       "grid_area": "middle"
      }
     },
     "56a28fb0947843a7939cf9510a6d9ebd": {
      "model_module": "@jupyter-widgets/base",
      "model_module_version": "1.2.0",
      "model_name": "LayoutModel",
      "state": {
       "margin": "0px 0px 0px 0px"
      }
     },
     "59256444bded4c13b6c8de02a5889991": {
      "model_module": "@jupyter-widgets/output",
      "model_module_version": "1.0.0",
      "model_name": "OutputModel",
      "state": {
       "layout": "IPY_MODEL_ec2c376f949345c4beff39d4d4f58468",
       "outputs": [
        {
         "data": {
          "image/png": "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\n",
          "text/plain": "<Figure size 360x360 with 1 Axes>"
         },
         "metadata": {},
         "output_type": "display_data"
        }
       ]
      }
     },
     "5f9c0629cb0c4784aeb86d3dc553f5a2": {
      "model_module": "@jupyter-widgets/controls",
      "model_module_version": "1.5.0",
      "model_name": "HTMLModel",
      "state": {
       "layout": "IPY_MODEL_c9a71523df8d4370b44c4cf1b56336d5",
       "style": "IPY_MODEL_7816609cc1144fd6856b90e4c76f4ae2",
       "value": "<table><style>\ntable {\n    border-collapse: collapse;\n    width: auto;\n}\n\nth, td {\n    text-align: left;\n    padding: 8px;\n}\n\ntr:nth-child(even) {background-color: #f6f6f6;}\n</style><tr><th></th><th>Frequency</th><th>T1</th><th>T2</th><th>RZ</th><th>SX</th><th>X</th><th>Readout error</th></tr><tr><td><font style='font-weight:bold'>Q0</font></td><td>4.92504 GHz</td><td>134.78733 us</td><td>147.6838 us</td><td>0</td><td>0.00022</td><td>0.00022</td><td>0.011 </td><tr><td><font style='font-weight:bold'>Q1</font></td><td>5.04625 GHz</td><td>86.82466 us</td><td>33.61631 us</td><td>0</td><td>0.00031</td><td>0.00031</td><td>0.013 </td><tr><td><font style='font-weight:bold'>Q2</font></td><td>4.96199 GHz</td><td>225.97597 us</td><td>78.74645 us</td><td>0</td><td>0.00018</td><td>0.00018</td><td>0.0074 </td><tr><td><font style='font-weight:bold'>Q3</font></td><td>5.10808 GHz</td><td>63.84002 us</td><td>36.92709 us</td><td>0</td><td>0.00055</td><td>0.00055</td><td>0.0174 </td><tr><td><font style='font-weight:bold'>Q4</font></td><td>5.01107 GHz</td><td>120.43604 us</td><td>136.28387 us</td><td>0</td><td>0.00026</td><td>0.00026</td><td>0.0272 </td><tr><td><font style='font-weight:bold'>Q5</font></td><td>5.17329 GHz</td><td>130.62955 us</td><td>36.36279 us</td><td>0</td><td>0.00043</td><td>0.00043</td><td>0.0118 </td><tr><td><font style='font-weight:bold'>Q6</font></td><td>5.3193 GHz</td><td>100.78667 us</td><td>58.54227 us</td><td>0</td><td>0.00029</td><td>0.00029</td><td>0.0295 </td></table>"
      }
     },
     "604cbf81b596434980d487e9fe398e8d": {
      "model_module": "@jupyter-widgets/base",
      "model_module_version": "1.2.0",
      "model_name": "LayoutModel",
      "state": {
       "grid_area": "bottom",
       "width": "auto"
      }
     },
     "62cae098f6744bcfa84ef8cd047e3a8c": {
      "model_module": "@jupyter-widgets/base",
      "model_module_version": "1.2.0",
      "model_name": "LayoutModel",
      "state": {
       "align_items": "center",
       "display": "flex-inline",
       "grid_area": "right",
       "max_height": "325px",
       "padding": "10px 10px 10px 10px",
       "width": "auto"
      }
     },
     "650ce201dac643bc82a4303f7c260d0f": {
      "model_module": "@jupyter-widgets/base",
      "model_module_version": "1.2.0",
      "model_name": "LayoutModel",
      "state": {
       "grid_area": "left"
      }
     },
     "65ca9ae8236c402d848b60274040c275": {
      "model_module": "@jupyter-widgets/controls",
      "model_module_version": "1.5.0",
      "model_name": "GridBoxModel",
      "state": {
       "children": [
        "IPY_MODEL_08167e6392c54e85b613e8455d30853c",
        "IPY_MODEL_805325f7017d48df9ae5df6693335a7a",
        "IPY_MODEL_c8448c50563246edac30802ac5e137ff",
        "IPY_MODEL_b18cb0492ec54572b951459331b6b163"
       ],
       "layout": "IPY_MODEL_2799db3b44634036a3eb6e118d229bb1"
      }
     },
     "693c0bdc9b094fb1809fb38ca3468423": {
      "model_module": "@jupyter-widgets/controls",
      "model_module_version": "1.5.0",
      "model_name": "ButtonModel",
      "state": {
       "button_style": "primary",
       "description": "Clear",
       "layout": "IPY_MODEL_f3f6845ab7994329a3b93b8343af6a91",
       "style": "IPY_MODEL_3b3ee13c841f47cd984fe0a4e44e5d47"
      }
     },
     "6b93dbc448d246599fd82b42b5259204": {
      "model_module": "@jupyter-widgets/base",
      "model_module_version": "1.2.0",
      "model_name": "LayoutModel",
      "state": {
       "align_items": "center",
       "display": "flex-inline"
      }
     },
     "6d03cc4550124d42860e5f711acbbef8": {
      "model_module": "@jupyter-widgets/controls",
      "model_module_version": "1.5.0",
      "model_name": "DescriptionStyleModel",
      "state": {
       "description_width": ""
      }
     },
     "6d266111c0f943c18c3e3ff731012989": {
      "model_module": "@jupyter-widgets/controls",
      "model_module_version": "1.5.0",
      "model_name": "DescriptionStyleModel",
      "state": {
       "description_width": ""
      }
     },
     "70d5081804ae44c8bf4c0a73a3850130": {
      "model_module": "@jupyter-widgets/controls",
      "model_module_version": "1.5.0",
      "model_name": "DescriptionStyleModel",
      "state": {
       "description_width": ""
      }
     },
     "70df807a641246aeb5c03f6cd38dacf6": {
      "model_module": "@jupyter-widgets/controls",
      "model_module_version": "1.5.0",
      "model_name": "GridBoxModel",
      "state": {
       "children": [
        "IPY_MODEL_f46607bec4d9446c90d152183e871691",
        "IPY_MODEL_2d7ffaf07534463d9be7bec430d44435",
        "IPY_MODEL_7240faba5d4a47e590b93c3720f9c86e",
        "IPY_MODEL_502a8c655c2a4639ac8b3bf2a0be19b6"
       ],
       "layout": "IPY_MODEL_4deb5271fa3a407db0a05d1c93cab8cb"
      }
     },
     "7240faba5d4a47e590b93c3720f9c86e": {
      "model_module": "@jupyter-widgets/controls",
      "model_module_version": "1.5.0",
      "model_name": "HTMLModel",
      "state": {
       "layout": "IPY_MODEL_53ae476f29b44e4b964ca6ae466c5216",
       "style": "IPY_MODEL_2109c1a6bcfc4a44810aab2f6c7002b8",
       "value": "<table><style>\ntable {\n    border-collapse: collapse;\n    width: auto;\n}\n\nth, td {\n    text-align: left;\n    padding: 8px;\n}\n\ntr:nth-child(even) {background-color: #f6f6f6;};\n</style><tr><th></th><th>Type</th><th>Gate error</th></tr><tr><td><font style='font-weight:bold'>cx1_3</font></td><td>cx</td><td>0.00924</td></tr><tr><td><font style='font-weight:bold'>cx3_1</font></td><td>cx</td><td>0.00924</td></tr><tr><td><font style='font-weight:bold'>cx5_3</font></td><td>cx</td><td>0.00767</td></tr><tr><td><font style='font-weight:bold'>cx3_5</font></td><td>cx</td><td>0.00767</td></tr></table>"
      }
     },
     "73dca253af7341c5b0305a2804a4e292": {
      "model_module": "@jupyter-widgets/base",
      "model_module_version": "1.2.0",
      "model_name": "LayoutModel",
      "state": {}
     },
     "7641a0b80a7040658fed5bd1dd638d01": {
      "model_module": "@jupyter-widgets/controls",
      "model_module_version": "1.5.0",
      "model_name": "HTMLModel",
      "state": {
       "layout": "IPY_MODEL_29a024a0aeee42c8a61eae9890474bfe",
       "style": "IPY_MODEL_ed4f577fbff34b7993a928c862e8644f",
       "value": "<h5>Status</h5>"
      }
     },
     "7816609cc1144fd6856b90e4c76f4ae2": {
      "model_module": "@jupyter-widgets/controls",
      "model_module_version": "1.5.0",
      "model_name": "DescriptionStyleModel",
      "state": {
       "description_width": ""
      }
     },
     "7830e6f0a14e4e7cafd2f7babfe4e912": {
      "model_module": "@jupyter-widgets/base",
      "model_module_version": "1.2.0",
      "model_name": "LayoutModel",
      "state": {
       "grid_area": "left",
       "width": "100%"
      }
     },
     "7a5d231dcffa452fb11c6413a2ff1c26": {
      "model_module": "@jupyter-widgets/base",
      "model_module_version": "1.2.0",
      "model_name": "LayoutModel",
      "state": {
       "grid_area": "top"
      }
     },
     "805325f7017d48df9ae5df6693335a7a": {
      "model_module": "@jupyter-widgets/controls",
      "model_module_version": "1.5.0",
      "model_name": "HTMLModel",
      "state": {
       "layout": "IPY_MODEL_650ce201dac643bc82a4303f7c260d0f",
       "style": "IPY_MODEL_6d266111c0f943c18c3e3ff731012989",
       "value": "<table><style>\ntable {\n    border-collapse: collapse;\n    width: auto;\n}\n\nth, td {\n    text-align: left;\n    padding: 8px;\n}\n\ntr:nth-child(even) {background-color: #f6f6f6;};\n</style><tr><th></th><th>Type</th><th>Gate error</th></tr><tr><td><font style='font-weight:bold'>cx4_5</font></td><td>cx</td><td>0.01049</td></tr><tr><td><font style='font-weight:bold'>cx5_4</font></td><td>cx</td><td>0.01049</td></tr><tr><td><font style='font-weight:bold'>cx2_1</font></td><td>cx</td><td>0.00714</td></tr><tr><td><font style='font-weight:bold'>cx1_2</font></td><td>cx</td><td>0.00714</td></tr></table>"
      }
     },
     "834533fad4fd4f3480fa4b40bdbb069b": {
      "model_module": "@jupyter-widgets/controls",
      "model_module_version": "1.5.0",
      "model_name": "HTMLModel",
      "state": {
       "layout": "IPY_MODEL_faaf7471fb234cbf80934db842db1ee5",
       "style": "IPY_MODEL_16711c5fd67d4cdc969ab98c57d02716",
       "value": "<h5>Queue</h5>"
      }
     },
     "85ee62de7cd74ddd91747e6a503d1fdb": {
      "model_module": "@jupyter-widgets/base",
      "model_module_version": "1.2.0",
      "model_name": "LayoutModel",
      "state": {
       "grid_area": "right"
      }
     },
     "86084bc5d7ad4a37bbb59935ce5e55c9": {
      "model_module": "@jupyter-widgets/base",
      "model_module_version": "1.2.0",
      "model_name": "LayoutModel",
      "state": {
       "grid_area": "left"
      }
     },
     "8b75301afc3b4b7da27f69e2543ab866": {
      "model_module": "@jupyter-widgets/controls",
      "model_module_version": "1.5.0",
      "model_name": "DescriptionStyleModel",
      "state": {
       "description_width": ""
      }
     },
     "90230e16554c4b8eac2e191c356d492d": {
      "model_module": "@jupyter-widgets/controls",
      "model_module_version": "1.5.0",
      "model_name": "GridBoxModel",
      "state": {
       "children": [
        "IPY_MODEL_e1c001a17093486faed4039027d0df57",
        "IPY_MODEL_59256444bded4c13b6c8de02a5889991",
        "IPY_MODEL_be87c3e225d34e689bd45eb9b20c9e9e"
       ],
       "layout": "IPY_MODEL_2290adaa8b47499395496a1390567cba"
      }
     },
     "93183ee21db24670997adddf84502cbe": {
      "model_module": "@jupyter-widgets/base",
      "model_module_version": "1.2.0",
      "model_name": "LayoutModel",
      "state": {
       "grid_gap": "0px 0px",
       "grid_template_areas": "\n                               \"left right right right\"\n                               \"bottom bottom bottom bottom\"\n                               ",
       "grid_template_columns": "31% 23% 23% 23%",
       "grid_template_rows": "auto auto"
      }
     },
     "97ec54a7d7f24e1798893cf3ccf69ea6": {
      "model_module": "@jupyter-widgets/controls",
      "model_module_version": "1.5.0",
      "model_name": "GridBoxModel",
      "state": {
       "children": [
        "IPY_MODEL_693c0bdc9b094fb1809fb38ca3468423"
       ],
       "layout": "IPY_MODEL_f3e08dd71c17474d9c92168bd2d0f85c"
      }
     },
     "9941e44658254208ac56d66563081b04": {
      "model_module": "@jupyter-widgets/controls",
      "model_module_version": "1.5.0",
      "model_name": "DescriptionStyleModel",
      "state": {
       "description_width": ""
      }
     },
     "9b10bd61641f45f183ef6d2eac72eb64": {
      "model_module": "@jupyter-widgets/controls",
      "model_module_version": "1.5.0",
      "model_name": "DescriptionStyleModel",
      "state": {
       "description_width": ""
      }
     },
     "9bcc2e03a8f14920b412f04b3901d013": {
      "model_module": "@jupyter-widgets/base",
      "model_module_version": "1.2.0",
      "model_name": "LayoutModel",
      "state": {
       "grid_area": "top"
      }
     },
     "9f7ec59e69424564a0793986b4c55e2d": {
      "model_module": "@jupyter-widgets/controls",
      "model_module_version": "1.5.0",
      "model_name": "HTMLModel",
      "state": {
       "layout": "IPY_MODEL_1e4c14bc0cd240328a9fb03ca1e78d62",
       "style": "IPY_MODEL_306ad6d6a9554d7192d1358679b55a8e",
       "value": "<p style='font-family: IBM Plex Sans, Arial, Helvetica, sans-serif; font-size: 20px; font-weight: medium;'>Circuit Properties</p>"
      }
     },
     "a3e1323705e4425598443954b96065b6": {
      "model_module": "@jupyter-widgets/output",
      "model_module_version": "1.0.0",
      "model_name": "OutputModel",
      "state": {
       "layout": "IPY_MODEL_b4f23ba112cb475e835fa0bd84f2a872",
       "outputs": [
        {
         "data": {
          "image/png": "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\n",
          "text/plain": "<Figure size 792x648 with 5 Axes>"
         },
         "metadata": {},
         "output_type": "display_data"
        }
       ]
      }
     },
     "aad9b7ffea634943a362e88ff195f00f": {
      "model_module": "@jupyter-widgets/controls",
      "model_module_version": "1.5.0",
      "model_name": "HTMLModel",
      "state": {
       "layout": "IPY_MODEL_56a28fb0947843a7939cf9510a6d9ebd",
       "style": "IPY_MODEL_d79bf786fc8c4ba79f52f4f98f6c0a89",
       "value": "<h1 style='color:#ffffff;background-color:#000000;padding-top: 1%;padding-bottom: 1%;padding-left: 1%; margin-top: 0px'>ibm_oslo</h1>"
      }
     },
     "ab9e787ae13841898cd46f3fbc586c29": {
      "model_module": "@jupyter-widgets/controls",
      "model_module_version": "1.5.0",
      "model_name": "TabModel",
      "state": {
       "layout": "IPY_MODEL_0b503bddf7d8481085f3f454fe95eae4"
      }
     },
     "b10503c4058d4f9f951d701dcdc2339c": {
      "model_module": "@jupyter-widgets/controls",
      "model_module_version": "1.5.0",
      "model_name": "HTMLModel",
      "state": {
       "layout": "IPY_MODEL_ec8f429ee1484f8f8e24afb0430c7cff",
       "style": "IPY_MODEL_6d03cc4550124d42860e5f711acbbef8",
       "value": "<div><font style='font-weight:bold'>last_update_date</font>: Tue 28 June 2022 at 06:10 UTC</div>"
      }
     },
     "b18cb0492ec54572b951459331b6b163": {
      "model_module": "@jupyter-widgets/controls",
      "model_module_version": "1.5.0",
      "model_name": "HTMLModel",
      "state": {
       "layout": "IPY_MODEL_85ee62de7cd74ddd91747e6a503d1fdb",
       "style": "IPY_MODEL_f588c73efd494432b6eaaf5ed04e6c74",
       "value": "<table><style>\ntable {\n    border-collapse: collapse;\n    width: auto;\n}\n\nth, td {\n    text-align: left;\n    padding: 8px;\n}\n\ntr:nth-child(even) {background-color: #f6f6f6;};\n</style><tr><th></th><th>Type</th><th>Gate error</th></tr><tr><td><font style='font-weight:bold'>cx6_5</font></td><td>cx</td><td>0.00755</td></tr><tr><td><font style='font-weight:bold'>cx5_6</font></td><td>cx</td><td>0.00755</td></tr><tr><td><font style='font-weight:bold'>cx0_1</font></td><td>cx</td><td>0.00972</td></tr><tr><td><font style='font-weight:bold'>cx1_0</font></td><td>cx</td><td>0.00972</td></tr></table>"
      }
     },
     "b22266cb58af4645959ad37c99356b0d": {
      "model_module": "@jupyter-widgets/controls",
      "model_module_version": "1.5.0",
      "model_name": "DescriptionStyleModel",
      "state": {
       "description_width": ""
      }
     },
     "b4f23ba112cb475e835fa0bd84f2a872": {
      "model_module": "@jupyter-widgets/base",
      "model_module_version": "1.2.0",
      "model_name": "LayoutModel",
      "state": {
       "align_items": "center",
       "display": "flex-inline"
      }
     },
     "b5440f440c624303b13bacbcc3883159": {
      "model_module": "@jupyter-widgets/base",
      "model_module_version": "1.2.0",
      "model_name": "LayoutModel",
      "state": {
       "grid_area": "right"
      }
     },
     "b67770e05baa42378edabf6960d13ccb": {
      "model_module": "@jupyter-widgets/controls",
      "model_module_version": "1.5.0",
      "model_name": "DescriptionStyleModel",
      "state": {
       "description_width": ""
      }
     },
     "b6ee71d16c9b4905b3da4f80c6729e26": {
      "model_module": "@jupyter-widgets/base",
      "model_module_version": "1.2.0",
      "model_name": "LayoutModel",
      "state": {
       "border": "4px solid #000000",
       "max_height": "650px",
       "min_height": "650px",
       "overflow_y": "hidden"
      }
     },
     "babaa26b206147b990325e2806fcfd96": {
      "model_module": "@jupyter-widgets/controls",
      "model_module_version": "1.5.0",
      "model_name": "DescriptionStyleModel",
      "state": {
       "description_width": ""
      }
     },
     "bcca5f29c95343d98e42450fe1ae3ae2": {
      "model_module": "@jupyter-widgets/base",
      "model_module_version": "1.2.0",
      "model_name": "LayoutModel",
      "state": {
       "max_height": "620px"
      }
     },
     "be87c3e225d34e689bd45eb9b20c9e9e": {
      "model_module": "@jupyter-widgets/controls",
      "model_module_version": "1.5.0",
      "model_name": "HTMLMathModel",
      "state": {
       "layout": "IPY_MODEL_3784df9e49454621932260257bd65e7c",
       "style": "IPY_MODEL_c22e03db2fc3430f964d22c5e1a5439e",
       "value": "<table><style>\ntable {\n    border-collapse: collapse;\n    width: auto;\n}\n\nth, td {\n    text-align: left;\n    padding: 8px;\n}\n\ntr:nth-child(even) {background-color: #f6f6f6;}\n</style><tr><th></th><th></th></tr><tr><td>live_data</td><td>False</td></tr><tr><td>local</td><td>False</td></tr><tr><td>supported_instructions</td><td>['rz', 'u3', 'id', 'u1', 'setf', 'u2', 'sx', 'reset', 'x', 'cx', 'shiftf', 'acquire', 'play', 'delay', 'measure']</td></tr><tr><td>backend_name</td><td>ibm_oslo</td></tr><tr><td>discriminators</td><td>['linear_discriminator', 'quadratic_discriminator', 'hw_qmfk']</td></tr><tr><td>supported_features</td><td>['qobj', 'qasm3']</td></tr><tr><td>rep_delay_range</td><td>[0.0, 500.0]</td></tr><tr><td>n_uchannels</td><td>12</td></tr><tr><td>pulse_num_qubits</td><td>3</td></tr><tr><td>processor_type</td><td>{'family': 'Falcon', 'revision': '5.11', 'segment': 'H'}</td></tr><tr><td>multi_meas_enabled</td><td>True</td></tr><tr><td>meas_kernels</td><td>['hw_qmfk']</td></tr><tr><td>url</td><td>None</td></tr><tr><td>n_registers</td><td>1</td></tr><tr><td>rep_times</td><td>[1000.0]</td></tr><tr><td>dt</td><td>0.2222222222222222</td></tr><tr><td>allow_q_object</td><td>True</td></tr><tr><td>coupling_map</td><td>[[0, 1], [1, 0], [1, 2], [1, 3], [2, 1], [3, 1], [3, 5], [4, 5], [5, 3], [5, 4], [5, 6], [6, 5]]</td></tr><tr><td>channels</td><td>{'acquire0': {'operates': {'qubits': [0]}, 'purpose': 'acquire', 'type': 'acquire'}, 'acquire1': {'operates': {'qubits': [1]}, 'purpose': 'acquire', 'type': 'acquire'}, 'acquire2': {'operates': {'qubits': [2]}, 'purpose': 'acquire', 'type': 'acquire'}, 'acquire3': {'operates': {'qubits': [3]}, 'purpose': 'acquire', 'type': 'acquire'}, 'acquire4': {'operates': {'qubits': [4]}, 'purpose': 'acquire', 'type': 'acquire'}, 'acquire5': {'operates': {'qubits': [5]}, 'purpose': 'acquire', 'type': 'acquire'}, 'acquire6': {'operates': {'qubits': [6]}, 'purpose': 'acquire', 'type': 'acquire'}, 'd0': {'operates': {'qubits': [0]}, 'purpose': 'drive', 'type': 'drive'}, 'd1': {'operates': {'qubits': [1]}, 'purpose': 'drive', 'type': 'drive'}, 'd2': {'operates': {'qubits': [2]}, 'purpose': 'drive', 'type': 'drive'}, 'd3': {'operates': {'qubits': [3]}, 'purpose': 'drive', 'type': 'drive'}, 'd4': {'operates': {'qubits': [4]}, 'purpose': 'drive', 'type': 'drive'}, 'd5': {'operates': {'qubits': [5]}, 'purpose': 'drive', 'type': 'drive'}, 'd6': {'operates': {'qubits': [6]}, 'purpose': 'drive', 'type': 'drive'}, 'm0': {'operates': {'qubits': [0]}, 'purpose': 'measure', 'type': 'measure'}, 'm1': {'operates': {'qubits': [1]}, 'purpose': 'measure', 'type': 'measure'}, 'm2': {'operates': {'qubits': [2]}, 'purpose': 'measure', 'type': 'measure'}, 'm3': {'operates': {'qubits': [3]}, 'purpose': 'measure', 'type': 'measure'}, 'm4': {'operates': {'qubits': [4]}, 'purpose': 'measure', 'type': 'measure'}, 'm5': {'operates': {'qubits': [5]}, 'purpose': 'measure', 'type': 'measure'}, 'm6': {'operates': {'qubits': [6]}, 'purpose': 'measure', 'type': 'measure'}, 'u0': {'operates': {'qubits': [0, 1]}, 'purpose': 'cross-resonance', 'type': 'control'}, 'u1': {'operates': {'qubits': [1, 0]}, 'purpose': 'cross-resonance', 'type': 'control'}, 'u10': {'operates': {'qubits': [5, 6]}, 'purpose': 'cross-resonance', 'type': 'control'}, 'u11': {'operates': {'qubits': [6, 5]}, 'purpose': 'cross-resonance', 'type': 'control'}, 'u2': {'operates': {'qubits': [1, 2]}, 'purpose': 'cross-resonance', 'type': 'control'}, 'u3': {'operates': {'qubits': [1, 3]}, 'purpose': 'cross-resonance', 'type': 'control'}, 'u4': {'operates': {'qubits': [2, 1]}, 'purpose': 'cross-resonance', 'type': 'control'}, 'u5': {'operates': {'qubits': [3, 1]}, 'purpose': 'cross-resonance', 'type': 'control'}, 'u6': {'operates': {'qubits': [3, 5]}, 'purpose': 'cross-resonance', 'type': 'control'}, 'u7': {'operates': {'qubits': [4, 5]}, 'purpose': 'cross-resonance', 'type': 'control'}, 'u8': {'operates': {'qubits': [5, 3]}, 'purpose': 'cross-resonance', 'type': 'control'}, 'u9': {'operates': {'qubits': [5, 4]}, 'purpose': 'cross-resonance', 'type': 'control'}}</td></tr><tr><td>dynamic_reprate_enabled</td><td>True</td></tr><tr><td>memory</td><td>True</td></tr><tr><td>allow_object_storage</td><td>True</td></tr><tr><td>simulator</td><td>False</td></tr><tr><td>open_pulse</td><td>False</td></tr><tr><td>conditional</td><td>False</td></tr><tr><td>timing_constraints</td><td>{'acquire_alignment': 16, 'granularity': 16, 'min_length': 64, 'pulse_alignment': 16}</td></tr><tr><td>online_date</td><td>2022-03-25 04:00:00+00:00</td></tr><tr><td>meas_lo_range</td><td>[[6.729836446, 7.729836446], [6.604835349, 7.604835349000001], [6.8306589760000005, 7.8306589760000005], [6.632327716000001, 7.632327716000001], [6.713651857, 7.713651857], [6.812390622000001, 7.812390622000001], [6.7878388140000006, 7.7878388140000006]]</td></tr><tr><td>hamiltonian</td><td>$$\\begin{align} \\mathcal{H}/\\hbar = & \\sum_{i=0}^{6}\\left(\\frac{\\omega_{q,i}}{2}(\\mathbb{I}-\\sigma_i^{z})+\\frac{\\Delta_{i}}{2}(O_i^2-O_i)+\\Omega_{d,i}D_i(t)\\sigma_i^{X}\\right) \\\\ & + J_{0,1}(\\sigma_{0}^{+}\\sigma_{1}^{-}+\\sigma_{0}^{-}\\sigma_{1}^{+}) + J_{1,2}(\\sigma_{1}^{+}\\sigma_{2}^{-}+\\sigma_{1}^{-}\\sigma_{2}^{+}) + J_{4,5}(\\sigma_{4}^{+}\\sigma_{5}^{-}+\\sigma_{4}^{-}\\sigma_{5}^{+}) + J_{5,6}(\\sigma_{5}^{+}\\sigma_{6}^{-}+\\sigma_{5}^{-}\\sigma_{6}^{+}) \\\\ & + J_{1,3}(\\sigma_{1}^{+}\\sigma_{3}^{-}+\\sigma_{1}^{-}\\sigma_{3}^{+}) + J_{3,5}(\\sigma_{3}^{+}\\sigma_{5}^{-}+\\sigma_{3}^{-}\\sigma_{5}^{+}) \\\\ & + \\Omega_{d,0}(U_{0}^{(0,1)}(t))\\sigma_{0}^{X} + \\Omega_{d,1}(U_{1}^{(1,0)}(t)+U_{3}^{(1,3)}(t)+U_{2}^{(1,2)}(t))\\sigma_{1}^{X} \\\\ & + \\Omega_{d,2}(U_{4}^{(2,1)}(t))\\sigma_{2}^{X} + \\Omega_{d,3}(U_{5}^{(3,1)}(t)+U_{6}^{(3,5)}(t))\\sigma_{3}^{X} \\\\ & + \\Omega_{d,4}(U_{7}^{(4,5)}(t))\\sigma_{4}^{X} + \\Omega_{d,5}(U_{8}^{(5,3)}(t)+U_{10}^{(5,6)}(t)+U_{9}^{(5,4)}(t))\\sigma_{5}^{X} \\\\ & + \\Omega_{d,6}(U_{11}^{(6,5)}(t))\\sigma_{6}^{X} \\\\ \\end{align}$$</td></tr><tr><td>parametric_pulses</td><td>['gaussian', 'gaussian_square', 'drag', 'constant']</td></tr><tr><td>sample_name</td><td>family: Falcon, revision: 5.11, segment: H</td></tr><tr><td>credits_required</td><td>True</td></tr><tr><td>meas_levels</td><td>[1, 2]</td></tr><tr><td>uchannels_enabled</td><td>True</td></tr><tr><td>meas_map</td><td>[[0, 1, 2, 3, 4, 5, 6]]</td></tr><tr><td>u_channel_lo</td><td>[[{'q': 1, 'scale': (1+0j)}], [{'q': 0, 'scale': (1+0j)}], [{'q': 2, 'scale': (1+0j)}], [{'q': 3, 'scale': (1+0j)}], [{'q': 1, 'scale': (1+0j)}], [{'q': 1, 'scale': (1+0j)}], [{'q': 5, 'scale': (1+0j)}], [{'q': 5, 'scale': (1+0j)}], [{'q': 3, 'scale': (1+0j)}], [{'q': 4, 'scale': (1+0j)}], [{'q': 6, 'scale': (1+0j)}], [{'q': 5, 'scale': (1+0j)}]]</td></tr><tr><td>conditional_latency</td><td>[]</td></tr><tr><td>default_rep_delay</td><td>250.0</td></tr><tr><td>dtm</td><td>0.2222222222222222</td></tr><tr><td>acquisition_latency</td><td>[]</td></tr><tr><td>description</td><td>7 qubit device</td></tr><tr><td>pulse_num_channels</td><td>9</td></tr><tr><td>qubit_channel_mapping</td><td>[['u0', 'u1', 'd0', 'm0'], ['u3', 'u1', 'm1', 'u2', 'u4', 'd1', 'u0', 'u5'], ['u2', 'u4', 'd2', 'm2'], ['u3', 'd3', 'u8', 'm3', 'u6', 'u5'], ['u7', 'm4', 'd4', 'u9'], ['u7', 'u8', 'u11', 'u6', 'u9', 'u10', 'd5', 'm5'], ['m6', 'u11', 'u10', 'd6']]</td></tr><tr><td>input_allowed</td><td>['job', 'runtime']</td></tr><tr><td>clops</td><td>2645</td></tr><tr><td>qubit_lo_range</td><td>[[4.425039493971028, 5.425039493971028], [4.546253783996783, 5.546253783996784], [4.4619867212182145, 5.4619867212182145], [4.608082034893607, 5.608082034893607], [4.511074409987105, 5.511074409987105], [4.673289842125353, 5.673289842125353], [4.819303501215827, 5.819303501215827]]</td></tr><tr><td>measure_esp_enabled</td><td>False</td></tr></table>"
      }
     },
     "c22e03db2fc3430f964d22c5e1a5439e": {
      "model_module": "@jupyter-widgets/controls",
      "model_module_version": "1.5.0",
      "model_name": "DescriptionStyleModel",
      "state": {
       "description_width": ""
      }
     },
     "c682bc2aa99841fb8882861ef0bce676": {
      "model_module": "@jupyter-widgets/controls",
      "model_module_version": "1.5.0",
      "model_name": "HTMLModel",
      "state": {
       "layout": "IPY_MODEL_f35bcb331e104158be6f79c0253c94ae",
       "style": "IPY_MODEL_b67770e05baa42378edabf6960d13ccb",
       "value": "<h1 style='color:#ffffff;background-color:#000000;padding-top: 1%;padding-bottom: 1%;padding-left: 1%; margin-top: 0px'>ibm_oslo</h1>"
      }
     },
     "c8448c50563246edac30802ac5e137ff": {
      "model_module": "@jupyter-widgets/controls",
      "model_module_version": "1.5.0",
      "model_name": "HTMLModel",
      "state": {
       "layout": "IPY_MODEL_ea6ab52efbf444039d5c7b66ee4f304b",
       "style": "IPY_MODEL_f14f381ea6294c39b2741aff59645bdc",
       "value": "<table><style>\ntable {\n    border-collapse: collapse;\n    width: auto;\n}\n\nth, td {\n    text-align: left;\n    padding: 8px;\n}\n\ntr:nth-child(even) {background-color: #f6f6f6;};\n</style><tr><th></th><th>Type</th><th>Gate error</th></tr><tr><td><font style='font-weight:bold'>cx1_3</font></td><td>cx</td><td>0.00924</td></tr><tr><td><font style='font-weight:bold'>cx3_1</font></td><td>cx</td><td>0.00924</td></tr><tr><td><font style='font-weight:bold'>cx5_3</font></td><td>cx</td><td>0.00767</td></tr><tr><td><font style='font-weight:bold'>cx3_5</font></td><td>cx</td><td>0.00767</td></tr></table>"
      }
     },
     "c9a71523df8d4370b44c4cf1b56336d5": {
      "model_module": "@jupyter-widgets/base",
      "model_module_version": "1.2.0",
      "model_name": "LayoutModel",
      "state": {}
     },
     "cec237bafa7e4414b734d8c623fd83d2": {
      "model_module": "@jupyter-widgets/controls",
      "model_module_version": "1.5.0",
      "model_name": "TabModel",
      "state": {
       "_titles": {
        "0": "Configuration",
        "1": "Qubit Properties",
        "2": "Multi-Qubit Gates",
        "3": "Error Map",
        "4": "Job History"
       },
       "children": [
        "IPY_MODEL_082965598411440290972f58064d3e15",
        "IPY_MODEL_4ca6db4d1e7f4c508f75604bfc815684",
        "IPY_MODEL_70df807a641246aeb5c03f6cd38dacf6",
        "IPY_MODEL_e6e12c2677d24227a92114e109abaebe",
        "IPY_MODEL_ab9e787ae13841898cd46f3fbc586c29"
       ],
       "layout": "IPY_MODEL_3564fc2f46f94a16baabcbb6657d4778"
      }
     },
     "d149aaa5b3ef4cd3bb481ee00d65fd06": {
      "model_module": "@jupyter-widgets/controls",
      "model_module_version": "1.5.0",
      "model_name": "VBoxModel",
      "state": {
       "children": [
        "IPY_MODEL_c682bc2aa99841fb8882861ef0bce676",
        "IPY_MODEL_cec237bafa7e4414b734d8c623fd83d2"
       ],
       "layout": "IPY_MODEL_d9fdc6c8f8ae4fbc85824ea92cae1d76"
      }
     },
     "d711791e83e642ccb20cec4b4dc556de": {
      "model_module": "@jupyter-widgets/output",
      "model_module_version": "1.0.0",
      "model_name": "OutputModel",
      "state": {
       "layout": "IPY_MODEL_62cae098f6744bcfa84ef8cd047e3a8c",
       "outputs": [
        {
         "data": {
          "image/png": "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\n",
          "text/plain": "<Figure size 360x360 with 1 Axes>"
         },
         "metadata": {},
         "output_type": "display_data"
        }
       ]
      }
     },
     "d79bf786fc8c4ba79f52f4f98f6c0a89": {
      "model_module": "@jupyter-widgets/controls",
      "model_module_version": "1.5.0",
      "model_name": "DescriptionStyleModel",
      "state": {
       "description_width": ""
      }
     },
     "d91f45b9e6d342eba8679696dd202b27": {
      "model_module": "@jupyter-widgets/controls",
      "model_module_version": "1.5.0",
      "model_name": "HTMLModel",
      "state": {
       "layout": "IPY_MODEL_0f82f7008b0a40659937d672cb43542f",
       "style": "IPY_MODEL_2f176ecc11da4f0cb140d709a3e1726e",
       "value": "<h5>Message</h5>"
      }
     },
     "d9fdc6c8f8ae4fbc85824ea92cae1d76": {
      "model_module": "@jupyter-widgets/base",
      "model_module_version": "1.2.0",
      "model_name": "LayoutModel",
      "state": {
       "border": "4px solid #000000",
       "max_height": "650px",
       "min_height": "650px",
       "overflow_y": "hidden"
      }
     },
     "dda1aae43287431786bff2c65199c7f7": {
      "model_module": "@jupyter-widgets/controls",
      "model_module_version": "1.5.0",
      "model_name": "HTMLModel",
      "state": {
       "layout": "IPY_MODEL_0093a8618f1c4fe7876514614fd1dc6a",
       "style": "IPY_MODEL_9b10bd61641f45f183ef6d2eac72eb64",
       "value": "<table><style>\ntable {\n    border-collapse: collapse;\n    width: auto;\n}\n\nth, td {\n    text-align: left;\n    padding: 8px;\n}\n\ntr:nth-child(even) {background-color: #f6f6f6;}\n</style><tr><th></th><th>Frequency</th><th>T1</th><th>T2</th><th>RZ</th><th>SX</th><th>X</th><th>Readout error</th></tr><tr><td><font style='font-weight:bold'>Q0</font></td><td>4.92504 GHz</td><td>134.78733 us</td><td>147.6838 us</td><td>0</td><td>0.00022</td><td>0.00022</td><td>0.011 </td><tr><td><font style='font-weight:bold'>Q1</font></td><td>5.04625 GHz</td><td>86.82466 us</td><td>33.61631 us</td><td>0</td><td>0.00031</td><td>0.00031</td><td>0.013 </td><tr><td><font style='font-weight:bold'>Q2</font></td><td>4.96199 GHz</td><td>225.97597 us</td><td>78.74645 us</td><td>0</td><td>0.00018</td><td>0.00018</td><td>0.0074 </td><tr><td><font style='font-weight:bold'>Q3</font></td><td>5.10808 GHz</td><td>63.84002 us</td><td>36.92709 us</td><td>0</td><td>0.00055</td><td>0.00055</td><td>0.0174 </td><tr><td><font style='font-weight:bold'>Q4</font></td><td>5.01107 GHz</td><td>120.43604 us</td><td>136.28387 us</td><td>0</td><td>0.00026</td><td>0.00026</td><td>0.0272 </td><tr><td><font style='font-weight:bold'>Q5</font></td><td>5.17329 GHz</td><td>130.62955 us</td><td>36.36279 us</td><td>0</td><td>0.00043</td><td>0.00043</td><td>0.0118 </td><tr><td><font style='font-weight:bold'>Q6</font></td><td>5.3193 GHz</td><td>100.78667 us</td><td>58.54227 us</td><td>0</td><td>0.00029</td><td>0.00029</td><td>0.0295 </td></table>"
      }
     },
     "e1c001a17093486faed4039027d0df57": {
      "model_module": "@jupyter-widgets/controls",
      "model_module_version": "1.5.0",
      "model_name": "HTMLMathModel",
      "state": {
       "layout": "IPY_MODEL_7830e6f0a14e4e7cafd2f7babfe4e912",
       "style": "IPY_MODEL_babaa26b206147b990325e2806fcfd96",
       "value": "<table><style>\ntable {\n    border-collapse: collapse;\n    width: auto;\n}\n\nth, td {\n    text-align: left;\n    padding: 8px;\n}\n\ntr:nth-child(even) {background-color: #f6f6f6;}\n</style><tr><th>Property</th><th>Value</th></tr><tr><td><font style='font-weight:bold'>n_qubits</font></td><td>7</td></tr><tr><td><font style='font-weight:bold'>quantum_volume</font></td><td>32</td></tr><tr><td><font style='font-weight:bold'>operational</font></td><td>True</td></tr><tr><td><font style='font-weight:bold'>status_msg</font></td><td>active</td></tr><tr><td><font style='font-weight:bold'>pending_jobs</font></td><td>60</td></tr><tr><td><font style='font-weight:bold'>backend_version</font></td><td>1.0.3</td></tr><tr><td><font style='font-weight:bold'>basis_gates</font></td><td>['id', 'rz', 'sx', 'x', 'cx', 'reset']</td></tr><tr><td><font style='font-weight:bold'>max_shots</font></td><td>20000</td></tr><tr><td><font style='font-weight:bold'>max_experiments</font></td><td>100</td></tr></table>"
      }
     },
     "e6e12c2677d24227a92114e109abaebe": {
      "model_module": "@jupyter-widgets/output",
      "model_module_version": "1.0.0",
      "model_name": "OutputModel",
      "state": {
       "layout": "IPY_MODEL_6b93dbc448d246599fd82b42b5259204",
       "outputs": [
        {
         "data": {
          "image/png": "iVBORw0KGgoAAAANSUhEUgAAAokAAAIACAYAAADuaPYxAAAAOXRFWHRTb2Z0d2FyZQBNYXRwbG90bGliIHZlcnNpb24zLjUuMSwgaHR0cHM6Ly9tYXRwbG90bGliLm9yZy/YYfK9AAAACXBIWXMAAAsTAAALEwEAmpwYAABerUlEQVR4nO3deXwU9f3H8dcn4b7FC08Ub8TgES2KimdqtbRWRUVrFRWtFdt6ApVSS7GA1dr+QG1FjdaDKmqrVLTBCyuIGjwigrWK4n1GlCMcSb6/P74TWbIJ5Njd7+7O+/l47CO7M7Mzn8nszn7me4055xARERERSVQQOgARERERyT5KEkVEREQkiZJEEREREUmiJFFEREREkihJFBEREZEkShJFREREJImSRBERERFJoiRRRERERJIoSRQRERGRJEoSRURERCSJkkQRERERSaIkUURERESSKEkUERERkSRKEkVEREQkiZJEEREREUmiJFFEREREkihJFBEREZEkShJFREREJImSRBERERFJoiRRRERERJIoSRQRERGRJEoSRURERCSJkkQRERERSaIkUURERESSKEkUERERkSRKEkVEREQkiZJEEREREUmiJFFEREREkihJFBEREZEkShJFREREJImSRBERERFJoiRRRERERJIoSRQRERGRJEoSRURERCSJkkQRERERSaIkUURERESSKEkUERERkSRKEkVEREQkiZJEEREREUmiJFFEREREkihJFBEREZEkShJFREREJImSRBERERFJoiRRRERERJIoSRQRERGRJEoSRURERCSJkkQRERERSaIkUURERESSKEkUERERkSRKEkVEREQkiZJEEREREUmiJFFEREREkihJFBEREZEkShJFREREJImSRBERERFJoiRRRERERJIoSRQRERGRJEoSRURERCSJkkQRERERSaIkUURERESSKEkUERERkSRKEkVEREQkiZJEEREREUmiJFFEREREkihJFBEREZEkShJFREREJImSRBERERFJoiRRRERERJJkVZJoZs7Mdg4dRyaZ2TQzO74F72tvZm+Y2eZpCEtERERibqNJopm9a2ZVZrbczD4xs9vNrEsmgmspM3vazM7dwPwdooR0eb3HKRmOswjoDzwUve5vZq+b2RdmdknCcm3N7Hkz265umnNuNXAbMCqTMYuIiEg8NLUkcbBzrguwN7APMDptEWVWD+dcl4THvQ0tZGaF9V63ac5GNrD8+cDdzjkXvZ4AXIZPHK80s17R9EuAB5xz79d7/z3AmWbWvjnxiIiIiGxMs6qbnXOfAP/GJ4sAmNkAM5trZkvN7FUzOyxh3jAzW2Rmy8xssZmdn7g+M7vczD42s4/M7Ox687qb2d/M7HMzW2JmY8ysIJp3lZndlbBsXclgGzO7GjgEmBKVDk5pzj5G67vdzG4ys5lmtgI4PCpRHWlmFcCKaFs/iEr+lkall3skrCNp+QY29T1gdsLrHYEnnXMfAv8Dtjez3sCJwPX13+yc+wD4ChjQ3H0UERER2ZBmJYlmti0+sXkrer0N8AgwHuiJLwV7IKGd3GfA94FuwDDgejPbN3rvMdHyRwO7AEfV29xkoDvQBxgE/CRaxwY5564E/gOMiEoHRzRnHxOcBlwNdAWejaYNBY4DekRxTQN+CWwOzARmmFm7hHV8u7xzrjpx5WbWGZ8U/jdh8gKgJPo/7wC8DfwZuNw5t7aROBfhSx5FREREUqapSeI/zWwZ8D4+8ftNNP3HwEzn3EznXK1zbhZQDhwL4Jx7xDn3tvNmA2X4Uj6Ak4FS59wC59wK4Kq6jUXVu6cCo51zy5xz7wLXAWe0Yl8b8kVUClj32CNh3kPOuTnRfq2Kpv2fc+5951wVcArwiHNuVpTAXQt0BA5KWEfi8vX1iP4uS5h2GXAB8DBwMTAwmv+OmT1kZrPNbEi99SxLWJeIiIhISjS1bd3xzrnHzWwQvh3cZsBSoDcwxMwGJyzbFngKwMy+h08od8UnpJ2A16LltgbmJ7xvScLzzaL1LKk3f5smxttUm9Uv4UtQv/1f/WlbkxCfc67WzN5n/RgbWkedpdHfrsCqaB1LiBJsM+sEPAeU4EtV78WX2i4wsyecc5UJ71+KiIiISAo1t03ibOB2fKkZ+CToTudcj4RHZ+fcxKgzxQPRsls653rgq2Qteu/HwHYJq98+4fkXwFp8Epo4/8Po+Qp8wlmnF+tztF5D60ic9hEJ8ZmZ4ffnw0aWX39FvvT0bXwC3ZCxwFTn3KfAXkC5c+5r4AMgcZigPYBXG98NERERkeZryTiJfwKONrP+wF3AYDP7rpkVmlkHMzssalPXDmgPfA5UR6WKJQnruQ84y8z6RqVmdVXYOOdqovlXm1nXqPPGJdH2AF4BDjWz7c2sO8m9rT/FtxlMp/uA48zsSDNrC1wKrAbmNmMdM/HtLddjZn2Bw4CboknvAEeY2Zb49pvvRcttg28LOq+F+yAiIiLSoGYnic65z4G/AWOjIVl+CPwKnwy+D1wOFDjnlgE/xydTX+E7gjycsJ5H8Qnnk/iOME/W29RF+BLDxfiOI/fgxwUkavt4L1CBr7L+V733/hk4ycy+MrP/28DuLK03TuIlG1i2/v/hv/g2mZPxJZ+D8UMFrWnqOoCbgdOjUshENwC/iJJl8Enwz4HXgd9HvczB/0/viMZMFBEREUkZWzdEn4RgZvcA9znn/tnM97XHVzMf6pz7LB2xiYiISHwpSRQRERGRJFl172YRERERyQ5KEkVEREQkiZJEEREREUnS1MG0WyNrGz0OHToUgGnTpgWOBFg3fqSIiIhIcJlIEkVipaTfkM7A3sCe+DvidIge1fi761Thh4uaD7xftmB61l5IxdH4wWM74O+Hvhf+vvMd8cevBn/sVuEH058PvDNmxjgdvyxS1HtQO/yx6w90Z93xc/jjV4UfS/cl4K2KJbNrA4UqkvUy0bs5a0+glZX+znY9e/YMHAmgksScVNJvSFtgf6AYODR6vhWwEn9ryTbRowD/XajBJ4trovk1+PE+nwFeAJ4rWzD9EyQjxg8eWwjshz9+hwDfwd85aSVQyLpjWNc0pxp/zFaz7iL7dfzxex54bsyMcR9kKv64K+o9yPAXZPvj73V/ILADPhEswN/UoTB6wLrjtyaaXwgsYt3xm1exZPY7GdsBkSwX6yQxyyhJzCEl/YZsDfwUGIH/oWmHL61oqVpgebSeZ4A/AE+olDE9xg8euzlwLnAx/rgVsv6tPpsr8fi9CFwDPDpmxriaDb5LWqSo96AewJn4mzd0xyd8rTl+Dn/82uCT/knAQxVLZq9tXaQiuS3WSeL9998PwEknnRQ4EkBJYtYr6TfE8LdLvBw4PJrcmsSwMQ5/t6Fv8Pc+Ly1bMH1pGrYTK+MHjzV8SeGlwPfx/+eOadrcMny19J+AqWNmjPs8TduJlaLeg/bG36J1CL5EsHOaNrUsWv8NwE0VS2Z/mKbtiGS1WCeJ6rgiTVXSb8j3gL/g75XdmcwdrxX4Uq5S4IqyBdOXZ2i7eWX84LGHALcCW+MTw0yN7FCF/6zcD/x8zIxxX2Vou3mlqPegffG3Zd0FaM+66uN0WxX9fQz4acWS2Z9maLsiWUFJIkoSpXEl/Yb0wJcmHE/rqrNaqwr4GhhatmD60wHjyCnjB4/tBFyHr5pMV6lhU6zCt3P8yZgZ4x4JGEdOiTqhjMPfu74D4c6Ta/DH8Hzg3ools7P2d00klZQkoiRRGlbSb8gxwF34ksN0VCu3xErgbuDisgXTV4QOJptFpYd/BzYhbIKYaCXwL+CnKlXcsKj0cDrQi7AXaIlWAP8BzlKposSBkkSUJMr6SvoN6Q7cSPjSw8bUlSqeWrZg+uzQwWSbLCo9bIxKFTcgi0oPG/NtqWLFktl/Dx2MSDrpjisiCUr6DdkGeAU4kexMEMEnPr2AR0v6DTk3dDDZZPzgsT3xQ5lka4IIPvHpCdw3fvDYUaGDySZFvQd1AZ4CLsIfv2xLEMH3YO8G3FrUe9C10TA8Inkp1iWJVVVVAHTsmBW/JTrRBFbSb0gfYC6wKbkz0PxK4KqyBdP/EDqQ0MYPHrsVMAfYBv9DngtW4tu8joz7oNxFvQf1BJ7Gd07JluYdG7MSuBc4V4NySz6KdZKYZZQkBhQliC/g26/lWgn7SmBC2YLp40MHEsr4wWN7AeXAluROgl9nBb7n7i/imihG4x4+jx8IO1cS/DorgYeAHytRlHyTaz+GKXXnnXdy5513hg5DAosGxp5DbiaI4KvFR5f0G3Jh6EBCiKqYnwW2IPcSRPAdo84BfhM6kBCKeg/qjC9B3IHcSxDBf/9+AExR1bPkm1z8QUyZmTNnMnPmzNBhSEAl/YZ0wycYm5Hb34dOwB9K+g0ZEjqQTBo/eGx7fBu27fC30MtVnYDLxw8ee0HoQDKpqPegQmAmsBu5mSDW6YxvB/vr0IGIpFIu/yiKpMJk/L2Wc7EEqr6OwG1R55u4+B2wM7mdYNTpBFw3fvDY3UIHkkG/xN87O1faIG5IJ2BUUe9B+4cORCRVlCRKbJX0G3IUcBL58QNVpz1wV3QLwbw2fvDYYvy9s7O1F3pLtMf3es7UHUWCKeo9aBd8kp+uW+uF0AGYXtR7UD6dUyTG0l56svjxWeneBAB9jjo6I9uR/BBVM99DfiUY4Ktc9wd+AtwROJa0iaqZp5NfCT74C/ed8PeXviZwLGkTVTPfh0+K84kBm+OT38sDxyLSaipJlLiaDHQJHUSadAam5Hm18+/wHVXyscS0M3BVnlc7/xI/1E0+/gZ1Ai5UtbPkg7QPgbP48VkZGdIhD0oS8/HHLitF1cwPkX+liInW4ntsH1G2YHpeDasSVTM/Q/YOlp0KtcACYN8xM8bVhA4mlaJq5lfJ7+PngPeA3SuWzF4VOhiRlsrHqziRRkVt9W4ivxNE8NXOxcBhgeNIh8nkXzVzfQVAH+BHoQNJg2vJv2rm+gw/YsJZgeMQaZVYJ4lTp05l6tSpocOQzBqA780cB52By0IHkUpRFWx/4lHy3gW4InQQqVTUe1AvoIR4/PZ0Bq7Q2ImSy+LwRW3Uk08+yZNPPhk6DMmsS8nvaq5EBhwZDRaeL35OfgxX1FT9xg8eu0foIFLovNABZNjmwEGhgxBpqVgniRIvJf2GbA4cR7w+9w44P3QQqTB+8NjO+Oq7XB40u7na4hPjnFfUe1Ab/L7ke1OBRJ3Is9J8iZc4/ViKnEv87iXeAbiopN+QfEisTsV36IiTNsBPogQ51x1Hfgx63hwFwDFFvQdtEToQkZZQkiixUNJvSCFwMfGpak7UBn9v2Zw1fvBYA0aSv8MWbUgtcHroIFJgJNA1dBAB5E1pvsRPrJPEDh060KFDnGo+Ym0v4pkggv9hPjV0EK20Df7+zHHUBTgjdBCtUdR7UGd8b/s46gicFjoIkZaIdZJYWlpKaWlp6DAkM/YjHj1iG3NA6ABaaT9gdeggAiqKSlNz1d7AytBBBLRTUe9B+dDkQ2Im1kmixMpB5Nc9Yptr65J+Q3J5/w8gnlXNddoBudxLvZj8HxtxQ1YBfUMHIdJcsU4SJ0+ezOTJk0OHIZkxMHQAga3Ejy+YqwYBhaGDCGgNvjQ1Vx1KvHo112fk9vGTmIp1kjh37lzmzp0bOgxJs6hnb5/QcQTWjhz9kYqqWYtCxxFYZyCX7wWcy7GnQhc0XqLkoGYNSmtmPYFb8SPmfwGMds7dk47ARFKoL766J+Ntgtq2a8vwS8/gsGMOomPnjry1aDF/veYO3njtrUyH0gE4BH9Lu1yzDYEG0D7gBwfS/6h92Hz7LSgoLOCZe57imWlPhQilEF+amnOiTiu9Qmz7qkmXs3fxXvTaanPWrFnLa68s4vrf/4W33nwnRDhxr82QHNTcksQb8NUeW+KHZLjJzPZMeVQiqRXsM3rBqLM4/vTv8dWXXzP3yRfYo/+uTJj6a7r1CDISyD4hNpoCe+LPOxm31c5bsWp5Fd988XWIzdeXq3de2R2oCrHhE079Psu+Wc6jDz/JiuUrOeTwAdz0t2to1z7IcI07htioSGs0+erczDoDJwL9nHPLgWfN7GH80Ayj0hSfSCp0IUB7th49u/HdHx1BTU0tI8/9LUsrv6GmppajBh/KD087hjtvnJ7pkHJ1CKBgHW4e+uODAAy5cig9ttwkVBh1crVNX2cCDYJ+ynHDWbTgTQC23rYXj825ly232oKddunNogX/y3Q47Yp6D7KKJbPjNqC/5LDmVOHsClQ7595MmPYqDVSBmNl5RPfoHP/LXzD0uONaFWS69OjRI3QIkhkdCJAk9t5pO9q2bcMnH3zG0spvAHjz9bc5avCh7LTbDpkOh84d223zRul9OfcDdUDxtrz0ykdUV8ftZivrq6mt7VLUe1DOHb+Q6hJEgLZt/c9ddXU1n3/2ZYhwHL5tcJyHcpIc05wksQvwTb1pX9PACPrOuZuBmwEWPz4ra09qN910U+gQJDM6EKCT1iabdQegauWqb6etqloVzeuR6XCoqcnNJKumthbnsvY0kjEFlsvDJIbVsVNHxl3rK7zuvGU6X3xWGSKMavy5SEmi5Izm/HAuB7rVm9YNWJa6cETSYi0B7tn8VdSOrWOndbWEHTt2iOYtzXQ4FBTk5mAGSo48F7vbjqfGJj27c+vf/8Q+xXtx/z0zuH7CX0KFUoA/F4nkjOb8arwJtDGzXRKm9QdeT21ImXPNNddwzTXXhA5D0m8VUJPpjS5Z/AFr11az+Vab0WNTX6q4W7+dAXj7zSWZDoc2OZokFhYWYEoUqVVparNttc2W3HH/FPr1351bptzFuNHXhgynDf5cJJIzmlzd7JxbYWYPAuPM7Fz8bZZ+SA6P/fTyyy+HDkEyo4oASeLSL79m1j+f5tghR3HNLWN59633OfS7B7JyRRUP3/NYpsOhsDA3k8SCwnAJ4t4l+7Jd39702mkrAHYdsDvdt+zBf+ct4s15b2Q0FiWJzfe3B29gy16b89EHn9ChY3uuGDsCgJkPPc6CVzN7/ICaiiWzc7PNh8RWc8ce+xlwG/AZ8CVwgXMuZ0sSJTaWECBJBLhxYinV1dUc+t2DOGj7Xiyq+B83/+FvfP1V/ea96ffVspWzdx928mEZ33Ar3T94bBHwLA20f0637fr2pv+R60YO6tVnK3r12YqvP12a8SSxXWGbhRVLZufckGNFvQdtDbxNgN7ZW/baHPA9m398zpBvp7+x8K0QSeJnmd6gSGs1K0l0zlUCx6cnFJG0eQnoFGLDa1avYcrVtzLl6ltDbD5RNTA7dBAttJBA9/2d8ad/MONP/wix6YY8GzqAlqhYMvujot6DVhMgSSzqnVXjj5eHDkCkuXKz/kmkGcoWTP8aX/IdZyuAF0MH0RJjZoyrxpdExdly4LnQQbTCq6EDCGw1uXuRJjEW6ySxV69e9OoV5G5Rknlxv4rvAMwPHUQrzAkdQBbI5c/wbHxpdlytIre/fxJTQe6Hmi2uv/760CFI5szG33M8yP24skBV2YLpH4cOohXmAqfix2uNo3ZAxhvRpdCL+NLs7qEDCaQToJ6SknNiXZIosTKfQPePzRK5Xt1XToCxLrPIW1G1e66aT6B2pVnii4ols7PiBuAizRHrJHHcuHGMGzcudBiSGeXE90eqCngkdBCttCh0AAGtAR4NHURrVCyZ/RHwVeg4AqkBngwdhEhLxDpJXLRoEYsWxfm3Jz7KFkxfBtxPoKFwAisASkMH0RpRKdrN+IQpbmqBG0MHkQLXAytDBxHAavy+i+ScWCeJEjvXE7/7ptYCM8oWTP8idCApMAW/P3HzwpgZ4xaHDiIFbiOevzlLKpbMVqcVyUlx/MJKTJUtmP4S8E7oODKsCrgudBCpMGbGuHeBeaHjyLBlQF7cO7RiyewvgYeIV6K/HJgUOgiRllKSKHEzCf/DGxcfA8+HDiKFrsH/8MbFKiDz93BMn+uIXwey+0IHINJSsU4Sd9xxR3bcccfQYUhmTQ8dQAYtByaVLZieT72C/0182rVVAdePmTEub9rRViyZ/SLwQeg4MmQtcGvFktlxS4olj8Q6Sfz973/P73//+9BhSAaVLZi+CrgWP2ZbvlsFTAsdRCqNmTGuFhhLPI5fXWedfPMr4nH81qIOK5Lj0j6Ydp+jjk73JkSaawJwOrALYIFjSZeVwGllC6bn44/xVOBsYD+gMHAs6bICOG/MjHF5dzvJiiWzHyzqPehs4Gjyd3D7FcDoiiWzl4QORKQ1Yl2S+Ktf/Ypf/epXocOQDCtbMH0tMARf0paPqoD7yxZMnxU6kHSIShNPJX97qq8B/gPcGzqQNDqb/P3+1QALgRtCByLSWrFOEt955x3eeSdunV0FoGzB9ArgD+RntdcK4KLQQaTTmBnj3gEuJz+P32rgrDEzxuVTW9L1VCyZ/RlwLvl7/E6tWDI7Tr24JU/FOkmU2BsPfEh+3e6trpr5m9CBZMBfgNfJrwHS66qZPw0dSLpVLJk9HXia/BogfQUwqmLJ7HwY11JESaLEV0K1c770PlwJ3Jev1cz1JVQ758vxW4VPmvK5mrm+s/GJVT5cqK0BXkPVzJJHlCRKrEXVzvmQaFThx0M8L3QgmRRVOx9H7g+Lsxrfju3kfK5mri+qdj6C3K92Xgu8B3xP1cyST2KdJO6xxx7sscceocOQwMoWTJ8BDCd3E8VV+GrX46LS0VgZM2PcM+R2ifAaYAlwxJgZ43I92W22iiWzXwGOIXcT/RrgM+DgiiWzlwaORSSlzLm0X7TG5qq4lfJ1KJacUdJvyDB8VVHH0LE0QxU+QTwyJu0QGzV+8NjjgXvIreO3Gn+ryEPHzBj3eehgQirqPehwYAbQOXQszbAW+AQYWLFk9vuhgxFJNSWJ2UNJYhYo6TfkBOAuciPRWImvYj6ubMH0XC1FS6nxg8ceBfyT3Eg06kqAjxwzY9zXoYPJBkW9Bx0AzAK6kv3nxNX4EuBDompzkbyT9iRx8eOzgiWJGxvI++KLLwbg+uuzYlD8bD8hxkZJvyGHA/cDnYAOgcNpTBU+mb0wjlXMGzJ+8Nj9gYeAHmRvsr8SeAQ/1E2uVrOmRVHvQX2BfwFb4r+D2WgFMAc4uWLJbCX4krdi3Sbxk08+4ZNPPgkdhmSZsgXTnwJ2Av5B9rWTqgI+xZcenqcEMdmYGeNexN9N529k3/FbDXwFnDpmxriTlSAmq1gyeyGwBzAZ/3nPptqotcAyfBvmY5QgSr6LdUni0KFDAZg2LStub6uSxCxU0m/IscCdZEepYhVwN3Bx2YLpywPHkhPGDx57KPB3sqNUsa708PwxM8Z9FTiWnFDUe9B+wHSyo1SxrvTwzIols1W6ILEQ65JEkY0pWzB9JutKFauA6gBhLGdd6eFwJYhNF/V8ritVrMKXBGXacqCSdaWHShCbqGLJ7PmsX6oY4laMK1i/9FAJosSGShJRSaI0TUm/IUXAxcApQC3p7RxRg/9BXAxMwt+LOV/vdZsR4weP3RX4OXAWvgqzSxo3V4tPaj7GH79pY2aMy/WxAIMq6j1oB+BC4Hz8+TKdx8/hk8Ov8Lfv/JuqliWOYp0kXnPNNQBcccUVmQhnY5Qk5oiSfkO6AT/B3zu4Jz5ZTNXxWwEU4qvYri9bMP3lFK1XIuMHj+0EDAVGAlvjq6FTVatShf8s/Au4Dng+ToNjZ0JR70HtgRPxx29noD3+O5MKq/DH7wl8cji7YslsHT+JrVgniVlGSWKOKek3xIBD8XdsORhfrbmWdaVUGzumq/E/Sp2AL4D5wKPAPWULpi9NT9RSZ/zgsQYcAJyGP46740twa2na8VuDTwo7Al8DLwFlwJ1xH/MwU4p6D+oPnAEMAvbEf/eq8cdvY4n/Wnw70Q74i7OXgcfxpYYfpStmkVyiJDF7KEnMcSX9hhQCuwH7AQcB++N/rNrjf4iq8YlhFfAuMBufGL5UtmC6qrICGz94bAG+ZGo/4EBgANC1fbvC3V2tAzMKDAoKjJWrqh8DngHKgZfGzBj3ZbjIBaCo9yADdgSKge/gv4Pd8d+9Dvjkv+779wn++1cOzNc4hyINi3WSeMEFFwBw0003ZSKcjVGSKJKF/nPV1KRz2CFXDdf3VUTyXpvQAYS0dOnS0CGIiIiIZCUNgSMiIiIiSZQkioiIiEgSJYkiIiIikiTWbRIPOuig0CGIiIiIZKVYJ4kXXXRR6BBEREREslKzqpvNbISZlZvZajO7PU0xiYiIiEhgzS1J/AgYD3wXf5eBnDZs2DAASktLA0ciIiIikl2alSQ65x4EMLNiYNu0RJRBq1atCh2CiIiISFZKS+9mMzsvqpYun/bII+nYhIiIiIikUVo6rjjnbgZuhrC35RMRERGRltE4iSIiIiKSJNZD4BxxxBGhQxARERHJSs1KEs2sTfSeQqDQzDoA1c656nQEl27Dhw8PHYKIiIhIVmpudfMYoAoYBfw4ej4m1UGJiIiISFjNHQLnKuCqtEQSwNChQwGYNm1a4EhEREREsos6roiIiIhIEiWJIiIiIpJESaKIiIiIJFGSKCIiIiJJYj1O4rHHHhs6BBEREZGsFOsk8YwzzggdgoiIiEhWinV1c1VVFVVVVaHDEBEREck6sS5JPPvsswGNkygiIiJSX6xLEkVERESkYUoSRURERCSJkkQRERERSZL2Nol9jjo63ZsQERERkRSLdceVE088MXQIIiIiIlkp1kniSSedFDoEERERkawU6zaJlZWVVFZWhg5DREREJOvEuiTxwgsvBDROooiIiEh9sS5JFBEREZGGKUkUERERkSRKEkVEREQkiZJEEREREUmS9o4rix+flZL1pGNQ7tNPPz3l6xQRERHJB7Hu3fz9738/dAgiIiIiWSnW1c0fffQRH330UegwRERERLJOrEsSL730UkDjJIqIiIjUF+uSRBERERFpmJJEEREREUmiJFFEREREkihJFBEREZEkse64cu6554YOQUSyTGVFuQF9gCKg2yY7booVFIBz1NY6XE0tlRXlhwMv9Swq/jpstCIi6WPOubRuYPHjs1KygXQMpp1lLHQAInETJYQ7AsXAAOAQYE/AAdVAQW11bZdvv53O4RwUti38GugEfAnMB2ZHf+crcRSRfBHrksTFixcD0KdPn8CRiEgmVVaUdwKGAiOBbfAJYRcaaIJT0KbBVjndo7+9gOOAo4EqoH1lRfm/gOuA53sWFaf3KlxEJI1iXZI4dOhQIGvGSVRJokiaVVaU7wb8HDgLqMUnhqlWi08YPwYmAdN6FhWvSMN2RETSSh1XRCTvVVaUF1VWlD8HvAwMx1cVpyNBBH9e7QzsDFwPfFZZUX5dVHopIpIzlCSKSN6qrChvW1lR/ltgHvAdoCPQNoMhdMEnpD8F3qysKB+YwW2LiLSKkkQRyUuVFeVFwGvApfjkMGSTjk74to+zKivKJ6tUUURyQZOTRDNrb2a3mtkSM1tmZq+Y2ffSGZyISHPVKz3cFV/1my06AmejUkURyQHN6d3cBngfGAS8BxwL3Gdmeznn3k1DbGl34YUXhg5BRFKosqK8C/AYsA8+IctGnaLHrMqK8ot6FhXfGjogEZGGtKp3s5lVAL91zj3Q2DLZ3Ls5y6h3s0grVFaUbwI8jS897BA2miZbCVzVs6j4D6EDERGpr8VtEs1sS/zJ+PUG5p1nZuVmVj7tkUdaE19aLVy4kIULF4YOQ0RaKUoQnwd2I3cSRPAlildVVpSPDR2IiEh9LSpJNLO2wKPA28658ze0bDaXJGqcRJHcV1lR3hmYi08Q2wcOp6VWAqN6FhVPDh2IiEidZpckmlkBcCewBhiR8ohERJqosqK8Db4N4q7kboIIvkRxUmVF+dDQgYiI1GlWkmhmBtwKbAmc6Jxbm5aoRESa5gpgX3KrirkxHYFbKivKe4cOREQEml+SeBOwBzDYOVeVhnhERJqksqK8LzAGXwqXL9oB91RWlKv5iYgE15xxEnsD5wN7A5+Y2fLocXq6ghMRaUhUzTyd3K5ibkgboD9wXuhARESaPE6ic24Jeda54rLLLgsdgoi0zBVAb/LzrlGdgesqK8of61lUvCR0MCISX60aJ7Epsrl3c5bJqwRcJF2iauZysnew7FSoBl4ADu5ZVJzek7SISCPy8Sq8yebPn8/8+fNDhyEizTOF/Ktmrq8NUIS/s5WISBDNuS1f3rn22muBrBknUUQ2orKifAfgQOJxgdsFX62evXckEJG8FocTrYjkjxHEq2nGAZUV5X1CByEi8aQkUURyQmVFeXt8r998r2pOVIBuWiAigShJFJFccVLoAAJoBwyvrCjPh8HCRSTHKEkUkVwxEugaOohAhoQOQETiJ9YdV37961+HDkFEmqCyorwX/v7McdQFGAbcGToQEYmXWCeJffv2DR2CiDTNfsAq4tUeMdHeoQMQkfiJdXXzs88+y7PPPhs6DBHZuAPwdyKJq06VFeVbhg5CROIl1iWJN9xwAwAHH3xw4EhEZCMGEe/z1Sp8aerM0IGISHyk/aQbg9vpiUj69Q8dQGCdgWKUJIpIBsX5ylxEckDUaSXIfZo7b7sDbbt2wwrb4GprqK5aSdXHH1CzqirTobQBDgPGZXrDIhJfsW6TKCI5YS98dWvGFbRrz9rly1j91Re4mhrade1Olx12DhEKQL9QGxaReFJJoohku64EuhXfssX//fZ5YcdOdN+lLwVt20XhuEyHE6Q0VUTiK9ZJ4tVXXx06BBHZuA4EvF9z+003p7B9R9p27QbAqs8/JUCCCNA2xEZFJL5inST26dMndAgisnEdCNg0pl33nrTt4m/0UrNmDdUrl4cKRUmiiGRUrNskPvHEEzzxxBOhwxCRDasmUNEd+Crnytfms+zdtyho25YuvftEVc4ZVxtioyISX7EuSbzlllsAOPLIIwNHIiIbsIoQCZIZuCg3dY61y77G1dZQUNiGgnbtqV27JtMRZXyDIhJvsU4SRSQnVBGgJLFNpy502X5H1q5Yjquppk3nrhQUtqG2ei01VSszHQ7A2hAbFZH4SnuSuPjxWeneRItVffUV4GPUoN8iWetDAnRcqV27hprVq2nbpRtWUICrqWb10kpWffoRrrYm0+EAfBJioyISXypJFJFst4AAw7/Urlm93hA4WeC50AGISLzEuuOKiGS/nkXFa4B3QscR2ApgTuggRCReYl2SOOrsYaFDEJGmeQ7YNXQQAdUC5aGDEJF4iXVJ4hY9e7JFz56hwxCRjZuDL02Lqw7A66GDEJF4iXWS+NSLL/LUiy+GDkNENq4cCNJbJEss7llUrN7NIpJRsa5unjH7GQAO33//wJGIyEa8TnzPV9VA9g4TISJ5K9YliSKSG6LOK7cTz7EC1wI3hA5CROJHSaKI5Ir/w5eqxc2CnkXFb4QOQkTiR0miiOSEnkXF/wUqQseRYcuASaGDEJF4UpIoIrlkEj5xiosa4OHQQYhIPMW1ITgAvzn//NAhiEjzzCA+7RJXAVPUq1lEQol1SWL3rl3o3rVL6DBEpIl6FhVXAxOJx5iJNcCNoYMQkfiKdZL477lz+ffcuaHDEJHmuR54F38Xkny1ArikZ1Hxx6EDEZH4inmS+Bz/nvtc6DBEpBmi0sQhwOrQsaRJNfAKMDVwHCISc81KEs3sLjP72My+MbM3zezcdAUmItKYnkXFi4Dx5Ge182rgtJ5FxS50ICISb80tSZwA7OCc6wb8ABhvZvulPiwRkY26hvyrdq6rZn4vdCAiIs1KEp1zrzvn6qp4XPTYKeVRiYhsREK186rQsaTIauBlVM0sIlmi2W0SzexGM1sJvAF8DMxsYJnzzKzczMqnPfJICsIUEUkWVTufAlSFjqWV1gLvAYNVzSwi2cKca/75yMwKgQOBw4BJzrlGx/Fa/PisrD3hrVq9BoAO7dvR56ijA0eDhQ5AJFdVVpSfBtwCdAwdSwvUAJ8A+/UsKv40dDAiInVa1LvZOVfjnHsW2Ba4ILUhZU6H9u3o0L5d6DBEpJV6FhXfA1xI7pUorsXXyByoBFFEsk1rh8BpQw63SXzo6ad56OmnQ4chIinQs6i4FDiD3EkUVwPv4EsQ3w8djIhIfU1OEs1sCzM71cy6mFmhmX0XGAo8kb7w0mt2+Xxml88PHYaIpEjPouIH8CMvLCW7x1FcATwHfKdnUfFnoYMREWlIc0oSHb5q+QPgK+Ba4JfOOd18XkSyRs+i4seBnfGd6lYGDqe+tcBy4CLgiJ5FxUvDhiMi0rg2TV3QOfc5MCiNsYiIpETPouIvgRMqK8qPB0rxHVraBw3Klx6+CPy4Z1Hxh4FjERHZqFjflk9E8lvPouJ/sn6pYoiBt6tYv/RQCaKI5IQmlySKiOSihFLFAcBlwPfxyWK6h8tZhh/o+0/A1J5FxZ+neXsiIinVonESmyObx0lMpHESReKhsqJ8c+Ac4GJ8otg1hatfg09AX8TfNvDRnkXFNSlcv4hIxihJjChJFImXyoryQuC7wFnAd4Ct8e0G29G0UkaHr0YuAAqBhcDjwM09i4rfTkPIIiIZFevq5vvKygA4uaQkcCQikmlRCd/M6EFlRXlnoD+wH3AosC/QeeWK1VsWtinA1Tqqa2qorq6lR4/OLwH/AZ4H5gNv9SwqDtHeUUQkbWKdJM6reA1Qkigi0LOoeAUwN3pMrpv+0+Kzk2pD7iu/bb8MhiYiEoR6N4uIiIhIEiWJIiIiIpJESaKIiIiIJIl1m8T2bduGDkFEREQkK8U6SZzwi5+HDkFEREQkK6U9ScyC8QdFREREpJli3SZx8uTJTJ48eeMLioiIiMRMrJPEuXPnMnfu3NBhiIiIiGSdWCeJIiIiItIwJYkiIiIikkRJooiIiIgkifUQOD169AgdgoiIiEhWinWSeNNNN4UOQURERCQrqbpZRERERJKkvSRx8eOz0r2JFrvlwX8AcO4JP0rrdjSguIiIiOSaWFc3L1y8OHQIIiIiIllJ1c0iIiIikkRJooiIiIgkUZIoIiIiIkli3SZx8016hA5BREREJCvFOkkcfc45oUMQERERyUqqbhYRERGRJLFOEm+8915uvPfe0GGIiIiIZJ1YVze/9f4HoUMQERERyUqxLkkUERERkYYpSRQRERGRJEoSRURERCRJrNskbrvlFqFDEBEREclKsU4SLznjjNAhiIiIiGSlFlU3m9kuZrbKzO5KdUAiIiIiEl5L2yTeALyYykBC+OOdd/LHO+8MHYaIiIhI1ml2dbOZnQosBeYCO6c6oEz64NPPQocgIiIikpWaVZJoZt2AccAlG1nuPDMrN7PyaY880pr4RERERCSA5pYk/g641Tn3gZk1upBz7mbgZoDFj89yLQ9PREREREJocpJoZnsDRwH7pC0aEREREckKzSlJPAzYAXgvKkXsAhSaWV/n3L6pDy39dt5u29AhiIiIiGSl5iSJNwN/T3h9GT5pvCCVAWXSz045JXQIIiIiIlmpyUmic24lsLLutZktB1Y55z5PR2AiIiIiEk6L77jinLsqhXEEMeHWWwEYfc45gSMRERERyS6xvi3f518tDR2CiIiISFZq6R1XRERERCSPKUkUERERkSRKEkVEREQkSazbJPbt0yd0CCIiIiJZKdZJ4rkn/Ch0CJKnhg8csSnQDz/ofEegPVANrIoe7wFvTp0zpSZYkNKoeRNKewB7Ad122XpTCgsLcA6qa2uprqlh3oTSvYBFA0YPqw4bqTRkVMnIrvjj1wPoED0cUIX//n0CLJxYNmlNqBhFcoE5l95bK+vezdDnqKObsljjN8OWrBYlhPsB+wOD8Leu7Ib/QQJ/bOuOr4sehUBb4E3gWeA5YD7wXyWOmRUlhPsCxfjjtx/Qk2hc2NVrq7sb/qABOAcd2rVZhk/83wbmAHPxx2+hEsfMGlUyshv+O7cfcCj+e7g568b1bej7V4BPHN/Bf/fm4I/fAiWOIuvEOkm86qa/+L8X/DSt21GSmH+GDxzRDjgBGAn0xSeEnfCJX3M5YDn+M1ALTAWmTJ0z5d2UBCtJ5k0obQN8H7gcnxxW4Ut827VwlctZl3zcAfx5wOhhb6YgVGnAqJKRBcDR+ON3KD4h7IBP3FtiBVCDP/7TgOsnlk16LQWhiuS0WCeJl1x7HQB/vOzStG5HSWL+GD5wxPbAz/C3ozSgaxo2sxqfcDwH/AH499Q5U2rTsJ3YmTehtBdwPvBzfEKfjuO3Fp9wvAJMAv6l0sXUGFUyclNgGHAp0BnfnCPV585q/DF8E3/8HlDposSVkkSUJMrGDR84Yg/g/4CD8ceqpSUWzbUMX0ryW+CvShZbZt6E0h2APwMl+AS8Y4Y2vQyfcEwC/qhksWVGlYzcCrgO+BG+tL1Thja9DP95+TNw9cSySasztF2RrKAkESWJ0rjhA0cUAlcAY/DVWaGGjVoBLAJOmTpnyuJAMeSceRNKC4CfAtfgE/tQnfVW4DsrDRkwetjrgWLIOaNKRhpwGnAT/vvXkuYcqbAS+Aw4eWLZpBcDxSCScWlPElnX3jvrDB06FIBp06YFjgRQkph1otLD+4Ad8VVbodXgq6JH49ssqlRxA6LSw2n4Xq7ZcPxq8cfv98BElSpuWFR6+DfgQLLj+Dl8z+gbgStVqihxEOskcfLkyQBcdNFFgSMBlCRmjSwqPWyMShU3IItKDxujUsUNyKLSw8aoVFFiI9ZJYpZRkpgFhg8c0Rl4DD+kRjaUXjSmBl+q8cOpc6Y8ETqYbDFvQml74H7gcLL7+NXij9+PB4we9o/QwWSLUSUjC4HbgBPJ7uNXV6o4YmLZpNtCByOSLtlWQiISzPCBIzbBj5dWTHb/QIEfZ7Ez8PDwgSN+GDqYbDBvQmlnYBZwBNl//ArwnS/unjeh9KzAsWSFUSUj2wH/AE4i+4+f4Ts/TR5VMvKS0MGIpEusSxKHDRsGQGlpaeBIAJUkBhUliPOA3mSu53KqrASGTZ0z5b7QgYQSJYizgT3xVZS5ZCVw2YDRw24KHUgoUYL4KDCAzPVcTpWVwMSJZZN+FzoQkVSLdUniqlWrWLVqVegwJLDhA0d0AZ4mNxNE8D+qtw8fOOLY0IGEEFUxP0ZuJojgj9+18yaUnhY6kBCiKubp5GaCCD7mUaNKRmZF43aRVIp1kigyfOCItsC/gV3JzQSxTkdg+vCBIwaGDiSTok4qD+BvyZaLCWKdTsAt8yaUxirRjzqp3AocRW4miHU6ARNHlYw8PXQgIqmkJFHi7tfA3uR2glGnE/DP4QNHdAsdSAb9DDiMzA2OnU4dgb/Pm1C6ZehAMmgIvg1iLieIdToBN48qGdkndCAiqaIkUWJr+MAR/YHLyI8fqDpdgCmhg8iEeRNKd8TfySTbOzk0R3vgjnkTSvO+jfKokpFb4O9Tnm/H797o3tIiOS/t44ctfnxWujexnibe3QSAI444Io2RSDaLqpmnkx8liIk6ACcOHzjirqlzppSFDiZdomrme8ntJgINaYe/9eOp+IHA81JUzXw7+ff9KwT2AEbgb+MpktNifbUzfPhwhg8fHjoMCWMssDX52au8E3D38IEjuocOJI0uBPrif5TzTWfgr/MmlPYKHUganQwcik+K801nYMKokpE7hQ5EpLVinSRKPEXVzJeSX9Vc9XUBJocOIh3mTSjtA0wkv49f3lY7R9XMN5P/x+/vqnaWXBfrD/DQoUO/vX+zxMpU8q+aq766aue9QweSBpPJv2rm+toBA/EDg+ebCeT/968Q2B3fMUckZ8U6SZT4GT5wRF+gH/lZzVxfOyCv7gYxb0Lp1sCR5Gc1c32dgMtDB5FKo0pGdgOGkp/VzPV1AUaGDkKkNZQkStz8EmgbOogMaQOcNHzgiB6hA0mhC8jiuzilmAGD5k0o3TZ0ICn0E/x9q+Ni91ElI/uFDkKkpZQkSmxEd1b5MRno1Z9FHHBm6CBSYd6E0rb4XqP5XlVZ3wWhA0iFqEfz5eR3W8T62uIvTEVykpJEiZPTgZrQQWRYJ+Dy4QNH5EP1+g+IRzVzog7Az6IEOdcdCvQMHUSGtQFOG1UysmvoQERaItZJ4rHHHsuxx8bqLlixFSVJV+DbCcVNd+Dw0EGkwEggjj+2hcDxoYNIgbiVItapxddgiOScOFW7JTnjjDNChyCZsyuQz+PObUhnfJXzk6EDaal5E0o3A4pCxxFIV+Bc/ODvOWlUycj2QAnx6DBWX2dgOHBT6EBEmivWJYlVVVVUVVWFDkMyo5j4VTXXMeDA0EG00n7AqtBBBLRv6ABaqR8Q55PtHhozUXJRrD+0Z599NmeffXboMCQzBhDPquY6OwwfOCKXhx3Zn/y6x3ZzdZs3oXTT0EG0QjHxrrmqAXYJHYRIc8U6SZRYOYR4VnXVWYUvzclVg4jP0EUNqcKXpuaqgcQ7ya8lt4+fxJSSRMl7wweOKMDf/SDOCvClOblqn9ABBNYJX5qaq3K9uUNrdcHXZojklDgX/0t87AqsJeCt3A44aj+G/3YYAI/f9xT3/vmBTIfQGV+ac3OmN9xa8yaUbk7AXs19TzuGbr23Wm/ays+/ouKWf2YyjLb40tSrM7nRVIg6rfQOtf09B+7JYaceTq8delFTXcMn73zMHWPvoGp5RptIGr42QySnNCtJNLOn8VdD1dGkD51zu6U6KJEUKyLgXR422bwHp116CtXVNbRpE3SYvwNCbrwVivDVrUHbVH784uvfPl+b2QSjTq727t4df/wy3lyg/2H9Gfqr01i7Zi0L5y5kTdVqtt1tO9q2b5vpJBFAv5WSc1pSkjjCOXdLyiMJ4MQTTwwdgmRGNwKWmg8bcwZff/k1H7zwEQccFbRZUq523OkWOgCAJY+/EDqEXG3T141AF2nfO9ePg1v6q9tYXLE4RAiJOowqGWkTyybF5baSkgdiXd180kknhQ5BMqMjgdrfHnXK4exc1IcJ513LUSeHHc+6c5cO21ZWlOfcD1Svvbfj09c+xNWEveVv8S9PA4MVn3zJe0/PZ8XHX2R0+9U1NV0H9z89545f53bt2a77phQWZPYruNk2m9Fjix6sWbWGQ08exJm/O4tllct49sFnmTfjuYzGEnH40tQ1ITYu0hIt+dZOMLMvzGyOmR3W0AJmdp6ZlZtZ+bRHHmlVgOlUWVlJZWVl6DAk/ToQ4HZuW++4FSec/wMevuUR3v/fh5nefJLq6twcJtLV1uJ/X8OoWbOWr/73Hl8ueofVX6+g+w5bs8cpJbTt3DGjcRRkOMlKlQILM6hAp+7+5i7tOrSj51Y9eW12Bd03687xFx1P34P6hgipBn/BKpIzmluSOBJYiL8SOhWYYWZ7O+feTlzIOXczUQP5xY/Pytor3wsvvBCAadOmBY5E0qyGAFnGfoftTWHbQnbdZxd26b8z2+68DQD9B+7FmtVr+cdfHs5oPAUFOToCUKAko85/73/i2+dWUMDe559A+x5d6da7F18ufCdjcTiXtafSDQoV9oqly799ft+ke/ngzQ9Yu2YtB/7gIPoO6MvCuQtDhFW98UVEskezkkTn3PMJL+8ws6HAscDklEYlklqrCHG3FTMKCgrY68A915u8+TabsdOeO2Y8nMLCHC2JKjDMDBegNLGgTSGFHdo13FElw+HU1uZqkhgm7qWfLWXVilV06Nwhad7qVUFqfNsS77sGSQ5qbZtER7wHKJbcsIoADedn3DaTGbfN/Pb1sCt/zEHHDgg1BE7ontUtZgGT27adO9L/vBP4ZsnHrP56OV222YL2PbqyZvlKvn73o4zGUpOjSWJtoKYCNdU1PPvgsxx1xlGcfMUpvLdwCf0P35uamhpeefLlICFNLJuUm20+JLaanCSaWQ/gO8BsfJH5KcChwC/SEplI6nyEqnlY+tWKF3oWFX8ndBzN9eaE0v2BxwnQy3lt1So+X/AW3XtvRbfte1G9eg2V/13C+8+8RHXV6ozG0qFdm7dnvHr3zhndaAqMKhm5I7CAAL2zn7z7CQrbFrLf0ftRdFh/Pnn3Ex7/2yzef+P9TIcCsDTERkVaozkliW2B8fgxr2qAN4DjnXNvpiMwkRR6Cd95JajSq++i9Oq7Qm2+Fn+Bl4teI1CD/9o11bzz6NwQm27IvNABtNC7BOp5VFtby79ve4x/3/ZYiM3XF6T4UqQ1mlyP45z73Dm3v3Ouq3Ouh3NugHNuVjqDS7fTTz+d008/PXQYkmZT50z5DFgROo7AlgPPb3SpLDRg9LBVQJCinyyyEvhP6CBaIhoXMEgvkSyylty9SJMYi/U4id///vdDhyCZ8zJwZOggAmoDzA8dRCvMA/qEDiKganL7+M0G9iPQeKVZYCVQHjoIkeaK6xcWgI8++oiPPsps43MJZjb+aj6uHLAkdBCt8Cz+hzauOuKr3XPVC/jS7LjqSG4n+RJTsS5JvPTSSwGNkxgT5fgko3voQAJ5feqcKbnZPdYrJ96dj94bMHpYZnvKpFY58f69WTaxbNLnoYMQaa5YlyRKrLxIFnReCWQNkNPth/GlaO1CBxFIDfBU6CBa6V3iezs6BwS5D6BIaylJlFiYOmfKF/gf2lwuTWupWuCW0EG0RtR55V7iWZq4GrghdBCtEXVe+St+X+JmOfDn0EGItISSRImTPxDPXs7PTZ0z5d3QQaTA9cSzNGrxgNHDXgkdRArcSDwv0pYBT4YOQqQllCRKnDxF/Aa0XYZPjnPegNHDXgXeCh1Hhi0DJoUOIhUmlk16D98BKU6J4krg2ollkzJ+xyeRVIh1knjuuedy7rnnhg5DMiTquHEt8SpNrAL+HTqIFJqET5zi5P7QAaRQ3ErzC4DbQwch0lKxThKPPPJIjjwyzkPnxdIdxOdzvxL449Q5U/KpFOMB4lMStQaYGrXHzBePE58kvwZ4YGLZpK9CByLSUnH5sWzQ4sWLWbx4cegwJIOmzpmyFJ8o5tMPb2NyvsNKfdEwMNcTjzETa4D/Cx1EKkXVrr8jHqWJa8iTpgISX7FOEq+88kquvPLK0GFI5l1B/pdmrAAunDpnypehA0mDCcCn5HeJ4gpg7IDRw3J5APTG/BV4E58E56uVwJSJZZNyeQB0kfQPbtrnqKPTvQmRZpk6Z8qy4QNHnAY8BHQKHU8arMXf4eLO0IGkw4DRw1bPm1A6BH8v446h40mDWnwHnetDB5IOE8sm1Y4qGXkK8Cr5efwc8Bnw69CBiLRWrEsSJb6mzpnyOHAf+VntvBr4cY7fYWWDBoweNh+YTH5WO68GTh4weljelrRNLJv0P2AM+VntvAoYMrFsUhzHhJQ8oyRR4uznwDehg0ixumrmONyUfCz5V+1cV838ZuhAMuBP5F+1c101c3noQERSQUmixNbUOVOWAaeRP6VRq4HnydNq5vqiTixDyJ/S4LXkcTVzfVEnlpPJn7uw1OAvWlTNLHnDnEv7RXjWXuU/++yzABx88MGBIwHAQgcQV8MHjvglcDW53T5xLfAO8J2oB3dszJtQ+mN8Z4hcPn51CcZ+A0YP+yR0MJk0qmTkcfimH7l8/BxQCew/sWzSO6GDEUmVWCeJWUZJYkDDB44YB1wCdA4dSwvUAB8D+02dM+Wz0MGEMG9C6Qj8cCO5mGg44EugOE97M2/UqJKRpwK3kpvHD3yzlQMnlk1aGDoQkVSKdXXzwoULWbhQ32kB4DfATeRe1fNa4BPgoLgmiAADRg+bAvyW3Dt+1fgE8ZC4JogAE8sm/R24CH+HoFzi8AniEUoQJR/FuiRx6NChAEybNi1wJIBKErPC8IEjfgVcSW6UaKwG3gMOmTpnyqehg8kG8yaUnodv05cLx28t8DkwcMDoYe8GjiUrjCoZeRJ+sPtcOH41+HvBH6oEUfJVrEsSReqbOmfK74Ff4Es0srnX5QqgHN8GUQliZMDoYTcDZ+L/P9WBw9mQFcAifBvEdwPHkjUmlk26H/gRvnRuTeBwNmQl8C6+DaISRMlbaS9JXPz4rKwtSbzk2usA+ONll2Z82w0MMq6SxCwyfOCIXfCN6Xchu9opVuNLEC8D/prPYyG2xrwJpdsBdwP7kl3HrxZ//H4LXJvPYyG2xqiSkVsApcAgsuv4OXxv+uuB304sm5TNiaxIqylJREmiNGz4wBGFwC/x95ptBxQGDciXPlUAQ6fOmRLb9mtNNW9CqQHn4Mfja08G7jC1ESuAxfiBst8IHEtOGFUy8mRgKtAB/x0MaSW+g9iQiWWTXg4ci0hGqLpZpBFT50ypmTpnynVAf+A1YHmgUFbjE4zLgIFKEJtmwOhhbsDoYbcAewDPEe74rcE3X/gdsI8SxKabWDaprjT/cfx3IEShQzX++P0J6KsEUeIk1iWJr7/9NgB77rRTxretksTcEpUqngBcAewJtCX9JVPL8D+KNwGTp86Z8mGat5e3olLF44CRQDH+AjndJVPL8d/rW4E/DRg9TOPntcKokpFH4r9/h0aTOqR5k8vxtQd3A9dNLJuk5F5iJ9ZJYkhKEnPX8IEj+uKroU/HtzHrksLVV+NLnt7Ej/v34NQ5U9TuKYXmTSjdCT/cyjnRpFQevxrW9TqfBNw7YPSwXBvWJauNKhm5HXAB8DN8st81hauvxVcrfw5cA9w9sWzSshSuXySnxDpJVEmitMbwgSO64BPFs4C98D9Ya/FJR1ObcqzEJ4Ydgffx1WpTps6Z8lqq45X1zZtQ2hF/W7izgb3xJYur8cevqe1Pq/DHvBPwITAbmDJg9LAXUx2vrG9Uych2wPHAefgOSp3wnUo60/RS/tXRezoBnwHPAlOAORPLJmXtb5dIpsQ6SVTHFUmV4QNHGLA9sB9wAL5KbHd88tcWn3Q4fEJRNwD2PPyP0nzgtalzpuTLPYhzTlQdvTX++O2P71W7J+uOXxvWP35f4O+T/R/88Xt1wOhhuTaQd14ZVTJyS/zxKwYOw1+4dWbd9w/8Bdla/C30XgSewR+/V1RiKJJMSSJKEiX9hg8cUTB1zpTa0HFIy8ybUFoAuAGjh2Xt+UwaN6pkpAGodFCkeUIPCSESC0oQc9uA0cN0/HKYkkORltEQOCIiIiKSREmiiIiIiCSJdXXzz045OXQIIiIiIlkp1kniztttFzoEERERkawU6+rm+QsXMX/hotBhiIiIiGSdZieJZnaqmS0ysxVm9raZHZKOwDLh7pkzuXvmzNBhiIiIiGSdZlU3m9nR+FtNnQK8AGyVjqBEREREJKzmtkn8LTDOOTcvev1hiuMRERERkSzQ5OpmMyvE3+5oczN7y8w+MLMpZtYxfeGJiIiISAjNaZO4Jf4emCcBhwB7A/sAY+ovaGbnmVm5mZVPe+SRVMQpIiIiIhnU5Hs3m9km+Juin+WcuyOadiIwxjm3T2Pvy+Z7N7//yScAbNerV8a3rXs3i4iISDZrcptE59xXZvYBkJj0ZW0C2BQhkkMRERGRXNDcIXBKgYvMbIuoZPFi4F+pDysznnv1VZ579dXQYYiIiIhkneb2bv4dsBnwJrAKuA+4OtVBZcr0WY8DcGD//oEjEREREckuzUoSnXNrgZ9FDxERERHJU7G+LZ+IiIiINExJooiIiIgkUZIoIiIiIkma23Elr4w6e1joEERERESyUqyTxC169gwdgoiIiEhWinV181MvvshTL74YOgwRERGRrBPrksQZs58B4PD99w8ciYiIiEh2iXVJooiIiIg0TEmiiIiIiCRRkigiIiIiSZQkioiIiEiSWHdc+c3554cOQURERCQrmXMu3dtI+wbyhIUOQERERKROrKub77//fu6///7QYYiIiIhknVgniQ888AAPPPBA6DBEREREsk6sk0QRERERaZiSRBERERFJoiRRRERERJIoSRQRERGRJLEeAqeqqgqAjh07Bo4E0BA4IiIikkVinSRmGSWJIiIikjViXd185513cuedd4YOQ0RERCTrxDpJnDlzJjNnzgwdhoiIiEjWiXWSKCIiIiINU5IoIiIiIkmUJIqIiIhIEiWJIiIiIpIk7UPgmNl5zrmb07qRVggVX7b/X0RERCTeMlGSeF4GttEaoeLL9v+LiIiIxJiqm0VEREQkiZJEEREREUmSiSQx29vdhYov2/8vIiIiEmOZuHeziIiIiOQYVTeLiIiISBIliSIiIiKSpFVJopkdY2b/NbO3zGxUA/Pbm9m90fznzWyHhHmjo+n/NbPvtiaORmK7zcw+M7MFG1jmMDN7xcxeN7PZCdMvjqYtMLNpZtahGdvdzsyeMrOF0Tp+0cAym5jZP8yswsxeMLN+CfPeNbPXorjKm7PPIiIiIqnS4iTRzAqBG4DvAX2BoWbWt95i5wBfOed2Bq4HJkXv7QucCuwJHAPcGK0vlW6P1t1Y/D2AG4EfOOf2BIZE07cBfg4UO+f6AYVRrE1VDVzqnOsLDAAubOD/8ivgFedcEfAT4M/15h/unNvbOVfcjO2KiIiIpExrShIPAN5yzi12zq0B/g78sN4yPwTuiJ7fDxxpZhZN/7tzbrVz7h3grWh9KeOcewao3MAipwEPOufei5b/LGFeG6CjmbUBOgEfNWO7HzvnXoqeLwMWAdvUW6wv8GS0zBvADma2ZVO3ISIiIpJurUkStwHeT3j9AcnJ0LfLOOeqga+BTZv43nTbFdjEzJ42s/lm9pMozg+Ba4H3gI+Br51zZS3ZQFS9vg/wfL1ZrwInRMscAPQGto3mOaAsikl3ZREREZEg4txxpQ2wH3Ac8F3g12a2q5ltgi/p3BHYGuhsZj9u7srNrAvwAPBL59w39WZPBHqY2SvARcDLQE0072Dn3L74avwLzezQZu+ZiIiISCu1acV7PwS2S3i9bTStoWU+iKpuuwNfNvG96fYB8KVzbgWwwsyeAfpH895xzn0OYGYPAgcBdzV1xWbWFp8g3u2ce7D+/ChpHBYta8A7wOJo3ofR38/M7B/4avhnWrSHIiIiIi3UmpLEF4FdzGxHM2uH79zxcL1lHgbOjJ6fBDzp/OjdDwOnRr2fdwR2AV5oRSwt8RBwsJm1MbNOwHfw7QffAwaYWacogTsymt4k0XtuBRY55/7YyDI9ov8ZwLnAM865b8yss5l1jZbpDJQAjfbOFhEREUmXFpckOueqzWwE8G98D+DbnHOvm9k4oNw59zA+WbrTzN7CdyI5NXrv62Z2H7AQ3xv4QudcTYMbaiEzmwYcBmxmZh8AvwHaRtv/i3NukZk9BlQAtcAtzrkF0XvvB16KYnuZ5t1CbyBwBvBaVJ0Mvjfz9nXbBvYA7jAzB7yO7wUOsCXwD59n0ga4xzn3WLN3XkRERKSVdFs+EREREUkS544rIiIiItIIJYkiIiIikkRJooiIiIgkUZIoIiIiIkmUJIqIiIhIEiWJIiIiIpJESaKIiIiIJFGSKCIiIiJJlCSKiIiISBIliSIiIiKSREmiiIiIiCRRkigiIiIiSZQkioiIiEgSJYkiIiIikkRJooiIiIgkUZIoIiIiIkmUJIqIiIhIEiWJ0igz62tm5WZmLXjvRWY2aQPzdzAzZ2bLzey81kUab2Z2TvR/dGa2c+h4RCR76DyeG8zsqOj/WGtmR4WOp07skkQze7f+ATCzs8zs2VAxpYOZXWVmd7VyNb8DrnXOuWidfzKzr8zsOTPbNmFbp5nZ/9V771TgdDPbYiPb6OGcu7le7DtGX5SbWhl/2pnZxWb2iZl9Y2a3mVn7DSx7pJm9YWYrzewpM+udMO8aM3s/Ws8SM/tVwrxdzewhM/vczCrN7N9mtlvdfOfcrc65LunbS5Hmic4J5dGP3sdm9qiZHRzNuypKLE5OWL5NNG2HhGkHmdmTZrbMzL42sxlm1jead3q07uVmVhWdL+peL8/4DqeJzuOZ0czz+Mlmtij6XC40s+Prze9jZv+K5n9hZtc0sI5dzGxV4rF1zj0encffS+W+tVbsksR0M7PCeq/bNPP9G12+uetsCTPbCjgc+Gf0+gBgP6AX8CwwKpreHbgcGJP4fufcKuBR4Cct2PxPgK+AUzb0ZQ3NzL6L/z8cCfQG+gC/bWTZzYAHgV8DPYFy4N6ERW4FdnfOdQMOwp+YT4jm9QAeBnYDtgReAB5K8e6IpISZXQL8Cfg9/vO6PXAj8MOExSqB39Y/Xyas40CgDP853xrYEXgVmGNmfZxzdzvnukQ/qt8DPqp7nYoLJp3HPZ3Hk5bdBrgLuATohv+f3VOXRJtZO2AW8CT+f7xttHx9NwAvpnRH0sU5F6sH8C5wVL1pZwHPbuA9u+MPfCXwX+DkhHm3AzcBM4EVwFHRNkYCFcBqoA3wA+B1YCnwNLBHvZjWW76BGBxwIfA/4J1o2p+B94FvgPnAIdH0Y4A1wFpgOfBqNL07Phn5GPgQGA8UNrLPPwEeT3h9CjAhYf0zo+dTgNMaWcfpwFONzNsh2qc29aYb8DZwAfApcFLC9svrLXsx8HD0fFNgRvS/eDHat0aPaYo+S/cAv094fSTwSSPLngfMTXjdGajCJ4b1l90GeA24opF19Yz+d5s28BnZOfR3TI/4PqJzzHJgyAaWuQq4G5/0nRlNaxN9fneIXv8HuLGB9z4K/K3etMOAD5oQm87jOo83tA/NOY9/B/is3rTPgQOj5+cB/9nI9k4F7sN/D+5qYP671MtRQj5UkrgRZtYZf2K5B9gCf4BvrKv2iJwGXA10xV+dAQwFjsOXAvUBpgG/BDbHn4hmRFcd1F/eOVfdSDjH4z+kddt+EdgbnzTcA0w3sw7OucfwV/H3On9l3T9a/nagGtgZ2AcoAc5tZFt74U+kdV4HDjGzjvgv0etmVgzs5py7p5F1LAL6NzKvMQfjr77+jv8inRlNnwHsZma7JCx7Gn6/wV+ZrcBfvZ2Z8L6NMrODzWzpBh4HN/LWPfE/dHVeBbY0s003tqxzbgX+JLpnQhyjoqqyD/BJZGP/10PxJ7Evm7qPIhlyINAB+MdGlnP4UvXfmFnbxBlm1glfmj69gffdBxzd3KB0Hv+WzuPJmnMeLwcWmdkPzKwwqmpejb8wABgAvBs1r/jCzJ42s70SYuwGjMOXROaG0Flqph/4LH05/kqw7rGSRq5W8Fc+/6k37a/Ab6Lnt5N8ZfsucHbC618D9yW8LsBfAR7W0PKNxOGAIzayzFdA/+j5VSRcpeCrfVYDHROmDaXxK8SpwMR60y7Gf4HuxZ8k5wJ7AD8HnsGXDvRIWH4XoKaR9e9Aw1egtwD/jJ4fiL+K3iJ6fRcwNmHdy4BOQGG03G4J68nEFejbwDEJr9uSUBpSb9lbG/h/zgHOqjfN8Cf+3wJdG1jPttFnZ2gjnxGVJOoR7IEvdWqwFCZhmW/PTcDz+NKmb0sSo8+4o+FS9mOAtfWmHcZGShLReTxxms7j68fa5PN4NP8cfA5Rjc8djkuYVxbtw/eAdvjq6MVAu2j+n4GRDR3bep87lSQGdrxzrkfdA/jZBpbtDXwn8YoEfyLslbDM+w28L3Ha1sCSuhfOudpo/jYbWceG1omZXRY1oP06iqs7sNkG9qMt8HHCfvwVf1XdkK/wV9Tfcs5d75zr75w7BTgZf0IpwBexH4m/4hyV8JauwNdN2K+6/ekIDMGfpHDOPYdvxHtatMg9+BMi0bR/OudW4k90bVj//9OU/2drLce3S6lT93xZE5atW369ZZ33Mr4qer12MWa2Of4kdKNzblor4hZJly+BzZrR3m4McCW+9LHOV0AtsFUDy28FfNGCuHQeXxe3zuPra/J53Hyn12vwFybtgEHALWa2d7RIFT6pfdQ5twa4Fl+Fvke0zFHA9anfhfSJa5LYHO8DsxOTSueL/i9IWMY18L7EaR/hv9wAmJkB2+GvQje0jkbXaWaHAFfgv+SbRMnu1/iSqIbW9z7+CnSzhP3o5pzbk4ZVALs2NMPMtsSfUMYB/YAK59xafLVJUcKie7B+Mf7G/Aj/Bb0x6mn2Cf4EXFflMAvYPPqyDWVdFcXn+Ku6bRPWtV1TN2pmh1hCz8gGHoc08tbXWb8apj/wqWu4Gni9ZaPqr52i6Q1pE82vW34TfIL4sHPu6qbum0iGPYc/zxzflIWdc7OAt0i4UHe+KcZz+ESjvpOBJ1oQl87j9eg8/q3mnMf3Bp5xzpU752qdcy/iS8PrRkypoPHPwGH4ktf3ov/JZcCJZvZSU/cxBCWJG/cvYFczO8PM2kaP/c1sj2as4z7gOPNDoLQFLsV/0ee2Iq6u+C/U50AbMxvL+ldDnwI7mFkBgHPuY3yScZ2ZdTOzAjPbycwGNbL+WcC+ZtahgXl/BK6Krv7eAfY3sy74L8HihOUG4RuaN9WZwG34djR7R4+BQH8z2ys6gU0H/oBvvzMr2rcafM/hq8ysk5ntTjN64znn/uMSekY28PhPI2/9G3CO+XHIeuBLRW5vZNl/AP3M7MTofzoWf1J+IzoW55vZJuYdgG/c/gR8247l38Ac59yoRtYvEpxz7mv8Z/sGMzs++j62NbPvWQNDgUSuxCdKiUYBZ5rZz82sa/TdGI+vumyw5+lG6DyeTOdxrznn8RfxbTr3BjCzfYBDWNcm8S5ggPkxDwvx7Ve/wJfO3oy/8K/7n/wFeAT4blP3MYjQ9d2ZftCy3s274Q/m5/jqlCeBvaN5twPjm7CNHwEL8VeJs4E9N7R8AzGs194M337jNnwvsI/xJ9lv14Mv4n4WX93wUjStO74H3wdRHC8Dp25gm9OBU+pNOwJ4pN60P0XbmQdsG03rEG1ny0bWvQMJbVnwV5rVwF4NLDsTP84X+C+kA26ot8zm0TGq6xU3CXgiYf7rwOlp+Dxdgj+RfwOUAu0b2yb+avMNfJXE06zryVkAPIbvdbkceBP4FWDR/DOjfV4Rza97bL+hz4geeoR64Ktyy6PP7CfRd/OgaN5V1GuLFX3H12sHhu/88HT0Wf8mWke/BrZ1GE3r3azz+LppOo+vv93mnMdH4Eu/l+GT6UvrreuEaP430ed3z0a2eRU50Cax7kdIJIn5nn93AAe4Zn5QzOwiYDvnXP0Sgrr5vfG97lYBlzvnprY23nrrnwT0cs6dudGFc5yZDcO3c+kA9HXOLd7IW0QkJnQezw1mdiTwANAeONY591TgkACUJEp+iKom2uHHF9wff9V6rnPunyHjEhGRptF5PPukfcR3kQzpih/DbGt8tcF16K4kIiK5ROfxLKOSRBERERFJot7NIiIiIpJESaKIiIiIJEl7m8SuHXu6mtq10Sv7dvq3z6yBaQmvLGmmNWm5+kslLW3rLd7IuhPDa2ir6xZqeGvRco3uY8MxNbScNRxw8vrMGpxujQRojWw0eb3JR6+Rf029/836U5LnNb69BiJcb17j72ngXY29bCSgxvZt/QWs0f1Zb7I1MrOhmJr0T234+9Pwsgn7lPyhauK2GvuHNyUG49WFi/7tnDumkXdLhumczAb2seGYGlpO5+TkeWk/J2fwfJy8zXiek9OeJNbUrmWXrfYDwKyAgroPsxkFVoB9+wXyr9fNq5teUO91Y8utv74Cs2//kU1drsCsgWUbW4etv4715rHee75djvrvYb0YNjRvXRw0cR3rlvNxrIvJjPX2Zb111NtO/fclLmeNzlt/euI6G9qPuucNrS8p3vrvK9j4Oqi/XwUb3lbd8+igJcVZ9xyzpO0nzoOEbTUY87qzvNXFWFDvtT9I376Hev9TCuotlxATG1yHQSNxrD/dGtlWA9tJ2OeEfySb9t+/sVuMSQA6J+ucnLPn5HSfj/0BSNi2zsmqbhYRERGRJEoSRURERCSJkkQRERERSaIkUURERESSKEkUERERkSRKEkVEREQkiZJEEREREUmiJFFEREREkihJFBEREZEkShJFREREJImSRBERERFJoiRRRERERJIoSRQRERGRJEoSRURERCSJkkQRERERSaIkUURERESSmHMuvRswewzYLK0babnNgC9CB5Em+bxvkN/7l2/79oVz7pjQQYjXwDk53z5vTRXH/dY+x8eG9rvJ5+S0J4nZzMzKnXPFoeNIh3zeN8jv/cvnfZPsE9fPWxz3W/scH6nab1U3i4iIiEgSJYkiIiIikiTuSeLNoQNIo3zeN8jv/cvnfZPsE9fPWxz3W/scHynZ71i3SRQRERGRhsW9JFFEREREGpA3SaKZHWNm/zWzt8xsVAPz25vZvdH8581sh2j60WY238xei/4e0cB7HzazBRnYjUa1Yv8OMLNXoserZvajaPp2ZvaUmS00s9fN7BcZ3qXE2Fu0bwnztzez5WZ2WVPXmUlp2r+Lo+O2wMymmVmHDOyK5JgmfPauTzg/vGlmS6Ppe5vZc9FnrMLMTsl48C3UhH3ePjr3vRzt27EJ80ZH7/uvmX03s5G3Tkv328zamtkd0W/gIjMbnfnoW6YJ+9zbzJ6I9vdpM9s2Yd72ZlYW7fPC+ufdbGVmt5nZZ43lJOb9X/Q/qTCzfevN72ZmH5jZlCZt0DmX8w+gEHgb6AO0A14F+tZb5mfAX6LnpwL3Rs/3AbaOnvcDPqz3vhOAe4AFObp/nYA20fOtgM+ANtHzfaPpXYE3668z2/ctYf79wHTgsqauM8f3bxvgHaBj9Po+4KxQn089svPR3O8BcBFwW/R8V2CX6PnWwMdAj9D7lIp9xrfVuiB63hd4N+H5q0B7YMdoPYWh9ykD+30a8PfoeSfgXWCH0PuUon2eDpwZPT8CuDNh3tPA0dHzLkCn0PvUxP0+FNiXRnIS4FjgUcCAAcDz9eb/GZ/TTGnK9vKlJPEA4C3n3GLn3Brg78AP6y3zQ+CO6Pn9wJFmZs65l51zH0XTXwc6mll7ADPrAlwCjE/7HmxYa/ZvpXOuOpreAXAAzrmPnXMvRc+XAYvwyUemtXjfAMzseHzC9Hoz15kp6dg/8Il+RzNrgz+xf4TI+pr7PRgKTANwzr3pnPtf9Pwj/MXl5mmONxWass8O6BY97866784P8cnSaufcO8Bb0fpyQWv22wGdo3NJR2AN8E36Q261puxzX+DJ6PlTdfPNrC++8GQWgHNuuXNuZWbCbh3n3DNA5QYW+SHwN+fNA3qY2VYAZrYfsCVQ1tTt5UuSuA3wfsLrD0hOeL5dJkqavgY2rbfMicBLzrnV0evfAdcBoT88rdo/M/uOmb0OvAb8NCFpJJq/A75E9fl0BL8RLd63KIkfCfy2BevMlJTvn3PuQ+Ba4D18Cc/Xzrkmf+klNpr8PTCz3vjSsycbmHcAvqTm7TTEmGpN2eergB+b2QfATHwJalPfm61as9/3Ayvw55L3gGudcxtKQrJFU/b5VXxtIMCPgK5mtim+pHypmT0YVb//wcwK0x5xZjT4fzGzAnw+c1mD72pEviSJrWZmewKTgPOj13sDOznn/hEyrlRwzj3vnNsT2B8Yndh+LUpEHgB+6ZzLhavHRFcB1zvnlocOJE2uooH9M7NN8FeLO+KrAjub2Y8zH57kkVOB+51zNYkToxKIO4FhzrnaIJGl3lDgdufctviquTujH9B819h+HwDU4M8lOwKXmlmfcGGm1GXAIDN7GRgEfIjf1zbAIdH8/fFV1mcFijFTfgbMdM590Jw3tUlTMJn2IbBdwutto2kNLfNBVKzeHfgSIGrM+g/gJ865uqvlA4FiM3sX/3/awsyeds4dlq6d2IBW7V8d59wiM1uOb3tZbmZt8Qni3c65B9MV/Ea0Zt++A5xkZtcAPYBaM1sFzG/COjMlHfv3KfCOc+5zADN7EDgIuCuN+yG5pymfvTqnAhcmTjCzbsAjwJVRtVUuaMo+nwMcA+Ccey66aN6sie/NVq3Z79OAx5xza4HPzGwOUAwsTnvUrbPRfY6aSpwA3xaInOicWxqVpr7inFsczfsnvv3erRmIO90a+78cCBxiZj/Dt8FsZ2bLnXMb7tgZuhFmKh74JG4x/iqorgHrnvWWuZD1OwfcFz3vES1/wgbWvwNhO660Zv92ZF3Hld74diib4Ru1/g34U64eu3rLXMW6jh0bXWeO79938G0UO0XH8Q7gopDHUY/sezT1ewDsju+sYAnT2gFP4GsYgu9LKvcZ36j/rOj5HtE50YA9Wb/jymJyp+NKa/Z7JFAaTe8MLASKQu9TivZ5M6Agen41MC56Xhgtv3n0uhS4MPQ+NWPfd6DxjivHsX7HlRcaWOYsmthxJfjOpvCfdiy+h+7b+CtfgHHAD6LnHfA9nd4CXgD6RNPH4NtjvJLw2KKpByQH9u8MfELxCvAScHw0/WB8g+WKhP0+Npf2rd46riJKohpbZ64du43s32+BN4AF+OrA9iH3UY/sfGzssxe9vgqYWO99PwbW1jsv7h16f1Kxz/jODHPwScIrQEnCe6+M3vdf4Huh9yUT+40vVZoe/U4sBC4PvS8p3OeTgP9Fy9ySeJ4Ejsb//r0G3A60C70/Tdznafj2o2vx7Q3PAX6K728APjm8IfqfvAYUN7COs2hikqg7roiIiIhIkjg01hURERGRZlKSKCIiIiJJlCSKiIiISBIliSIiIiKSREmiiIiIiCRRkigiIiIiSZQkioiIiEgSJYkiIiIikuT/AeEV61kncoo9AAAAAElFTkSuQmCC\n",
          "text/plain": "<Figure size 792x648 with 5 Axes>"
         },
         "metadata": {},
         "output_type": "display_data"
        }
       ]
      }
     },
     "ea6ab52efbf444039d5c7b66ee4f304b": {
      "model_module": "@jupyter-widgets/base",
      "model_module_version": "1.2.0",
      "model_name": "LayoutModel",
      "state": {
       "grid_area": "middle"
      }
     },
     "ec2c376f949345c4beff39d4d4f58468": {
      "model_module": "@jupyter-widgets/base",
      "model_module_version": "1.2.0",
      "model_name": "LayoutModel",
      "state": {
       "align_items": "center",
       "display": "flex-inline",
       "grid_area": "right",
       "max_height": "325px",
       "padding": "10px 10px 10px 10px",
       "width": "auto"
      }
     },
     "ec8f429ee1484f8f8e24afb0430c7cff": {
      "model_module": "@jupyter-widgets/base",
      "model_module_version": "1.2.0",
      "model_name": "LayoutModel",
      "state": {}
     },
     "ed4f577fbff34b7993a928c862e8644f": {
      "model_module": "@jupyter-widgets/controls",
      "model_module_version": "1.5.0",
      "model_name": "DescriptionStyleModel",
      "state": {
       "description_width": ""
      }
     },
     "f14f381ea6294c39b2741aff59645bdc": {
      "model_module": "@jupyter-widgets/controls",
      "model_module_version": "1.5.0",
      "model_name": "DescriptionStyleModel",
      "state": {
       "description_width": ""
      }
     },
     "f2a09eb162d943129b8edf816ae38974": {
      "model_module": "@jupyter-widgets/controls",
      "model_module_version": "1.5.0",
      "model_name": "TabModel",
      "state": {
       "_titles": {
        "0": "Configuration",
        "1": "Qubit Properties",
        "2": "Multi-Qubit Gates",
        "3": "Error Map",
        "4": "Job History"
       },
       "children": [
        "IPY_MODEL_90230e16554c4b8eac2e191c356d492d",
        "IPY_MODEL_0f12c0aa46f04cc7988d5fa3b6d48e03",
        "IPY_MODEL_65ca9ae8236c402d848b60274040c275",
        "IPY_MODEL_a3e1323705e4425598443954b96065b6",
        "IPY_MODEL_f9cc71f6712c4bb595bc4e69fb40e0bf"
       ],
       "layout": "IPY_MODEL_f80658059fc845d58160a4c131246c5a"
      }
     },
     "f35bcb331e104158be6f79c0253c94ae": {
      "model_module": "@jupyter-widgets/base",
      "model_module_version": "1.2.0",
      "model_name": "LayoutModel",
      "state": {
       "margin": "0px 0px 0px 0px"
      }
     },
     "f3e08dd71c17474d9c92168bd2d0f85c": {
      "model_module": "@jupyter-widgets/base",
      "model_module_version": "1.2.0",
      "model_name": "LayoutModel",
      "state": {
       "grid_template_areas": "\n                                       \". . . . right \"\n                                        ",
       "grid_template_columns": "20% 20% 20% 20% 20%",
       "width": "100%"
      }
     },
     "f3f6845ab7994329a3b93b8343af6a91": {
      "model_module": "@jupyter-widgets/base",
      "model_module_version": "1.2.0",
      "model_name": "LayoutModel",
      "state": {
       "grid_area": "right",
       "padding": "0px 0px 0px 0px",
       "width": "70px"
      }
     },
     "f46607bec4d9446c90d152183e871691": {
      "model_module": "@jupyter-widgets/controls",
      "model_module_version": "1.5.0",
      "model_name": "HTMLModel",
      "state": {
       "layout": "IPY_MODEL_9bcc2e03a8f14920b412f04b3901d013",
       "style": "IPY_MODEL_9941e44658254208ac56d66563081b04",
       "value": "<div><font style='font-weight:bold'>last_update_date</font>: 2022-06-28 06:10:48+00:00</div>"
      }
     },
     "f588c73efd494432b6eaaf5ed04e6c74": {
      "model_module": "@jupyter-widgets/controls",
      "model_module_version": "1.5.0",
      "model_name": "DescriptionStyleModel",
      "state": {
       "description_width": ""
      }
     },
     "f80658059fc845d58160a4c131246c5a": {
      "model_module": "@jupyter-widgets/base",
      "model_module_version": "1.2.0",
      "model_name": "LayoutModel",
      "state": {
       "overflow_y": "scroll"
      }
     },
     "f9cc71f6712c4bb595bc4e69fb40e0bf": {
      "model_module": "@jupyter-widgets/controls",
      "model_module_version": "1.5.0",
      "model_name": "TabModel",
      "state": {
       "layout": "IPY_MODEL_bcca5f29c95343d98e42450fe1ae3ae2"
      }
     },
     "faaf7471fb234cbf80934db842db1ee5": {
      "model_module": "@jupyter-widgets/base",
      "model_module_version": "1.2.0",
      "model_name": "LayoutModel",
      "state": {
       "width": "70px"
      }
     }
    },
    "version_major": 2,
    "version_minor": 0
   }
  }
 },
 "nbformat": 4,
 "nbformat_minor": 5
}
