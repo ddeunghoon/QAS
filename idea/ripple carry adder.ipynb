{
 "cells": [
  {
   "cell_type": "code",
   "execution_count": 112,
   "id": "14e1b71d-e2f3-4b62-8c77-f31657b0e97c",
   "metadata": {},
   "outputs": [
    {
     "name": "stderr",
     "output_type": "stream",
     "text": [
      "ibmqfactory.load_account:WARNING:2022-06-28 12:39:46,575: Credentials are already in use. The existing account in the session will be replaced.\n"
     ]
    }
   ],
   "source": [
    "import numpy as np\n",
    "\n",
    "# Importing standard Qiskit libraries\n",
    "from qiskit import QuantumCircuit, transpile, Aer, IBMQ\n",
    "from qiskit.tools.jupyter import *\n",
    "from qiskit.visualization import *\n",
    "from ibm_quantum_widgets import *\n",
    "from qiskit.providers.aer import QasmSimulator\n",
    "\n",
    "# Loading your IBM Quantum account(s)\n",
    "provider = IBMQ.load_account()"
   ]
  },
  {
   "cell_type": "code",
   "execution_count": 113,
   "id": "5f06d5b2-d9f1-437b-9a37-90d55f090722",
   "metadata": {},
   "outputs": [],
   "source": [
    "from qiskit.circuit.library.arithmetic.adders import CDKMRippleCarryAdder"
   ]
  },
  {
   "cell_type": "code",
   "execution_count": 114,
   "id": "109a9f18-ff16-4ca6-b82a-0a6c380f4aaf",
   "metadata": {},
   "outputs": [],
   "source": [
    "from qiskit import QuantumCircuit\n",
    "from qiskit.compiler import transpile\n",
    "from qiskit.transpiler import PassManager\n",
    "from qiskit.transpiler.passes import Unroller"
   ]
  },
  {
   "cell_type": "code",
   "execution_count": 115,
   "id": "d58c5827-bc33-48a7-b6b7-978712ce6ba6",
   "metadata": {},
   "outputs": [
    {
     "name": "stderr",
     "output_type": "stream",
     "text": [
      "ibmqfactory.load_account:WARNING:2022-06-28 12:39:51,130: Credentials are already in use. The existing account in the session will be replaced.\n"
     ]
    },
    {
     "data": {
      "text/plain": [
       "<AccountProvider for IBMQ(hub='ibm-q', group='open', project='main')>"
      ]
     },
     "execution_count": 115,
     "metadata": {},
     "output_type": "execute_result"
    }
   ],
   "source": [
    "IBMQ.load_account()"
   ]
  },
  {
   "cell_type": "code",
   "execution_count": 116,
   "id": "28d61693-f2ff-4419-ba73-434cbf3b68ef",
   "metadata": {},
   "outputs": [
    {
     "data": {
      "text/plain": [
       "[<AccountProvider for IBMQ(hub='ibm-q', group='open', project='main')>]"
      ]
     },
     "execution_count": 116,
     "metadata": {},
     "output_type": "execute_result"
    }
   ],
   "source": [
    "IBMQ.providers()"
   ]
  },
  {
   "cell_type": "code",
   "execution_count": 117,
   "id": "500ee2e3-bde8-493d-95d4-7215bdacc485",
   "metadata": {},
   "outputs": [
    {
     "data": {
      "text/plain": [
       "[<IBMQSimulator('ibmq_qasm_simulator') from IBMQ(hub='ibm-q', group='open', project='main')>,\n",
       " <IBMQBackend('ibmq_armonk') from IBMQ(hub='ibm-q', group='open', project='main')>,\n",
       " <IBMQBackend('ibmq_lima') from IBMQ(hub='ibm-q', group='open', project='main')>,\n",
       " <IBMQBackend('ibmq_belem') from IBMQ(hub='ibm-q', group='open', project='main')>,\n",
       " <IBMQBackend('ibmq_quito') from IBMQ(hub='ibm-q', group='open', project='main')>,\n",
       " <IBMQSimulator('simulator_statevector') from IBMQ(hub='ibm-q', group='open', project='main')>,\n",
       " <IBMQSimulator('simulator_mps') from IBMQ(hub='ibm-q', group='open', project='main')>,\n",
       " <IBMQSimulator('simulator_extended_stabilizer') from IBMQ(hub='ibm-q', group='open', project='main')>,\n",
       " <IBMQSimulator('simulator_stabilizer') from IBMQ(hub='ibm-q', group='open', project='main')>,\n",
       " <IBMQBackend('ibmq_manila') from IBMQ(hub='ibm-q', group='open', project='main')>,\n",
       " <IBMQBackend('ibm_nairobi') from IBMQ(hub='ibm-q', group='open', project='main')>,\n",
       " <IBMQBackend('ibm_oslo') from IBMQ(hub='ibm-q', group='open', project='main')>]"
      ]
     },
     "execution_count": 117,
     "metadata": {},
     "output_type": "execute_result"
    }
   ],
   "source": [
    "provider = IBMQ.get_provider('ibm-q')\n",
    "provider.backends()"
   ]
  },
  {
   "cell_type": "code",
   "execution_count": 118,
   "id": "4ddb53d9-2e59-46c1-ba2b-d4ed48d2c66d",
   "metadata": {},
   "outputs": [
    {
     "data": {
      "application/vnd.jupyter.widget-view+json": {
       "model_id": "a06eac1b0ead4910a58ba6f3846dc7d5",
       "version_major": 2,
       "version_minor": 0
      },
      "text/plain": [
       "VBox(children=(HTML(value=\"<h1 style='color:#ffffff;background-color:#000000;padding-top: 1%;padding-bottom: 1…"
      ]
     },
     "metadata": {},
     "output_type": "display_data"
    },
    {
     "data": {
      "text/plain": [
       "<IBMQBackend('ibm_oslo') from IBMQ(hub='ibm-q', group='open', project='main')>"
      ]
     },
     "execution_count": 118,
     "metadata": {},
     "output_type": "execute_result"
    }
   ],
   "source": [
    "import qiskit.tools.jupyter\n",
    "\n",
    "backend_ex = provider.get_backend('ibm_oslo')\n",
    "backend_ex"
   ]
  },
  {
   "cell_type": "code",
   "execution_count": 119,
   "id": "c6a1a5f3-24b1-40f8-a13d-bf5dc3de4da8",
   "metadata": {},
   "outputs": [
    {
     "data": {
      "text/plain": [
       "[<IBMQBackend('ibmq_lima') from IBMQ(hub='ibm-q', group='open', project='main')>,\n",
       " <IBMQBackend('ibmq_belem') from IBMQ(hub='ibm-q', group='open', project='main')>,\n",
       " <IBMQBackend('ibmq_quito') from IBMQ(hub='ibm-q', group='open', project='main')>,\n",
       " <IBMQBackend('ibmq_manila') from IBMQ(hub='ibm-q', group='open', project='main')>,\n",
       " <IBMQBackend('ibm_nairobi') from IBMQ(hub='ibm-q', group='open', project='main')>,\n",
       " <IBMQBackend('ibm_oslo') from IBMQ(hub='ibm-q', group='open', project='main')>]"
      ]
     },
     "execution_count": 119,
     "metadata": {},
     "output_type": "execute_result"
    }
   ],
   "source": [
    "backends = provider.backends(filters = lambda x:x.configuration().n_qubits >= 2 and not x.configuration().simulator and x.status().operational==True)\n",
    "backends\n"
   ]
  },
  {
   "cell_type": "code",
   "execution_count": 120,
   "id": "78f614f7-ecc5-470e-be44-8b34369f05d2",
   "metadata": {},
   "outputs": [
    {
     "data": {
      "application/vnd.jupyter.widget-view+json": {
       "model_id": "b851421b81514da99bd3ec72b7765460",
       "version_major": 2,
       "version_minor": 0
      },
      "text/plain": [
       "VBox(children=(HTML(value=\"<h1 style='color:#ffffff;background-color:#000000;padding-top: 1%;padding-bottom: 1…"
      ]
     },
     "metadata": {},
     "output_type": "display_data"
    },
    {
     "data": {
      "text/plain": [
       "<IBMQBackend('ibm_oslo') from IBMQ(hub='ibm-q', group='open', project='main')>"
      ]
     },
     "execution_count": 120,
     "metadata": {},
     "output_type": "execute_result"
    }
   ],
   "source": [
    "from qiskit.providers.ibmq import least_busy\n",
    "backend = least_busy(provider.backends(filters=lambda x: x.configuration().n_qubits >= 2 and not x.configuration().simulator and x.status().operational==True))\n",
    "backend"
   ]
  },
  {
   "cell_type": "code",
   "execution_count": 121,
   "id": "9abeb8cb-4eb6-418f-86f3-67cc4aaac004",
   "metadata": {},
   "outputs": [],
   "source": [
    "# run this cell\n",
    "backend = provider.get_backend('ibm_oslo')"
   ]
  },
  {
   "cell_type": "code",
   "execution_count": 122,
   "id": "e57cc3e7-f7b3-4bb5-abe4-ce767e1709e3",
   "metadata": {},
   "outputs": [],
   "source": [
    "from qiskit.tools.monitor import job_monitor"
   ]
  },
  {
   "cell_type": "code",
   "execution_count": 123,
   "id": "5f35eb70-d947-440b-957b-57c09ebe5441",
   "metadata": {},
   "outputs": [],
   "source": [
    " adder = CDKMRippleCarryAdder(2,kind='full').to_gate()"
   ]
  },
  {
   "cell_type": "code",
   "execution_count": 131,
   "id": "4dfc3aab-e36b-4636-8f1c-6e5e8296d66f",
   "metadata": {},
   "outputs": [],
   "source": [
    "def RCA3(a0, a1, b0, b1, backend): \n",
    "    \n",
    "    qca = QuantumCircuit(6,3)\n",
    "    qca.reset(range(3))\n",
    "    backend = provider.get_backend(backend)\n",
    "    \n",
    "    # input \n",
    "    if a0=='1':\n",
    "        qca.x(0)\n",
    "    if a1=='1':\n",
    "        qca.x(1)\n",
    "    if b0=='1':\n",
    "        qca.x(2)\n",
    "    if b1=='1':\n",
    "        qca.x(3)\n",
    "        \n",
    "    qca.barrier()\n",
    "    \n",
    "    #operation\n",
    "    qca.append(adder,[0,1,2,3,4,5])\n",
    "    \n",
    "    qca.barrier()\n",
    "    \n",
    "    qca.measure(3,0)\n",
    "    qca.measure(4,1)\n",
    "    qca.measure(5,2)\n",
    "    \n",
    "    qca_trans = transpile(qca, backend = backend, optimization_level=3)\n",
    "    job = backend.run(qca_trans, shots=8192)\n",
    "    print(job.job_id())\n",
    "    job_monitor(job)\n",
    "    \n",
    "    output = job.result().get_counts()\n",
    "    \n",
    "    return qca_trans, output"
   ]
  },
  {
   "cell_type": "code",
   "execution_count": null,
   "id": "39bc4a4c-1ea2-4a0f-b95b-9424465dfbb0",
   "metadata": {},
   "outputs": [
    {
     "name": "stdout",
     "output_type": "stream",
     "text": [
      "62baf90cb3f348f541f253d8\n",
      "Job Status: job is queued (94)    "
     ]
    }
   ],
   "source": [
    "RCA3('0','0','0','0','ibm_oslo')"
   ]
  },
  {
   "cell_type": "code",
   "execution_count": null,
   "id": "d18482fc-304f-4a12-96fa-425db7f55800",
   "metadata": {},
   "outputs": [],
   "source": [
    "qca.draw()"
   ]
  },
  {
   "cell_type": "code",
   "execution_count": null,
   "id": "eeb41357-ee09-4926-b9aa-a407fe6dc40d",
   "metadata": {},
   "outputs": [],
   "source": []
  }
 ],
 "metadata": {
  "kernelspec": {
   "display_name": "Python 3 (ipykernel)",
   "language": "python",
   "name": "python3"
  },
  "language_info": {
   "codemirror_mode": {
    "name": "ipython",
    "version": 3
   },
   "file_extension": ".py",
   "mimetype": "text/x-python",
   "name": "python",
   "nbconvert_exporter": "python",
   "pygments_lexer": "ipython3",
   "version": "3.8.13"
  },
  "widgets": {
   "application/vnd.jupyter.widget-state+json": {
    "state": {
     "00380d7da7ef4b1d9d2d4ceb201b2d28": {
      "model_module": "@jupyter-widgets/controls",
      "model_module_version": "1.5.0",
      "model_name": "TabModel",
      "state": {
       "layout": "IPY_MODEL_f5405466da0d4aca84da2304e6e9432c"
      }
     },
     "005a4c3a96f2407a8ebae740a12d31c4": {
      "model_module": "@jupyter-widgets/controls",
      "model_module_version": "1.5.0",
      "model_name": "HTMLModel",
      "state": {
       "layout": "IPY_MODEL_e3fc28852d8946e6870c93140c6aca8a",
       "style": "IPY_MODEL_65a20336b10f40b39ef49bbdbb5dcc4d",
       "value": "<table><style>\ntable {\n    border-collapse: collapse;\n    width: auto;\n}\n\nth, td {\n    text-align: left;\n    padding: 8px;\n}\n\ntr:nth-child(even) {background-color: #f6f6f6;};\n</style><tr><th></th><th>Type</th><th>Gate error</th></tr><tr><td><font style='font-weight:bold'>cx6_5</font></td><td>cx</td><td>0.00755</td></tr><tr><td><font style='font-weight:bold'>cx5_6</font></td><td>cx</td><td>0.00755</td></tr><tr><td><font style='font-weight:bold'>cx0_1</font></td><td>cx</td><td>0.00972</td></tr><tr><td><font style='font-weight:bold'>cx1_0</font></td><td>cx</td><td>0.00972</td></tr></table>"
      }
     },
     "0068c5221ca34c56b756556fe60bd844": {
      "model_module": "@jupyter-widgets/base",
      "model_module_version": "1.2.0",
      "model_name": "LayoutModel",
      "state": {
       "overflow_y": "scroll"
      }
     },
     "01a0ea6094ad412582aba7776a2ab875": {
      "model_module": "@jupyter-widgets/controls",
      "model_module_version": "1.5.0",
      "model_name": "HTMLModel",
      "state": {
       "layout": "IPY_MODEL_740a515d325241b0bf5afeba7bdf886e",
       "style": "IPY_MODEL_0f25d8fd6fe94fc081b8cef1ae0d1d70",
       "value": "<table><style>\ntable {\n    border-collapse: collapse;\n    width: auto;\n}\n\nth, td {\n    text-align: left;\n    padding: 8px;\n}\n\ntr:nth-child(even) {background-color: #f6f6f6;};\n</style><tr><th></th><th>Type</th><th>Gate error</th></tr><tr><td><font style='font-weight:bold'>cx4_5</font></td><td>cx</td><td>0.01049</td></tr><tr><td><font style='font-weight:bold'>cx5_4</font></td><td>cx</td><td>0.01049</td></tr><tr><td><font style='font-weight:bold'>cx2_1</font></td><td>cx</td><td>0.00714</td></tr><tr><td><font style='font-weight:bold'>cx1_2</font></td><td>cx</td><td>0.00714</td></tr></table>"
      }
     },
     "02b1df83918e4785a249f57405359968": {
      "model_module": "@jupyter-widgets/base",
      "model_module_version": "1.2.0",
      "model_name": "LayoutModel",
      "state": {
       "grid_area": "left"
      }
     },
     "033693ac4637415aac51164dee3a536e": {
      "model_module": "@jupyter-widgets/controls",
      "model_module_version": "1.5.0",
      "model_name": "DescriptionStyleModel",
      "state": {
       "description_width": ""
      }
     },
     "034d7520b7f04c4aa1ee76b784bdc34f": {
      "model_module": "@jupyter-widgets/controls",
      "model_module_version": "1.5.0",
      "model_name": "DescriptionStyleModel",
      "state": {
       "description_width": ""
      }
     },
     "0397e6df555e40c7b1c68fe6f0286303": {
      "model_module": "@jupyter-widgets/output",
      "model_module_version": "1.0.0",
      "model_name": "OutputModel",
      "state": {
       "layout": "IPY_MODEL_98003eb113654e0baa12b8fbaa098a23"
      }
     },
     "045a465d4fb54753bdb8664b697189b4": {
      "model_module": "@jupyter-widgets/controls",
      "model_module_version": "1.5.0",
      "model_name": "DescriptionStyleModel",
      "state": {
       "description_width": ""
      }
     },
     "04913a44569c4b2a8fcc1128cbef6839": {
      "model_module": "@jupyter-widgets/base",
      "model_module_version": "1.2.0",
      "model_name": "LayoutModel",
      "state": {
       "grid_gap": "0px 0px",
       "grid_template_areas": "\n                               \"left right right right\"\n                               \"bottom bottom bottom bottom\"\n                               ",
       "grid_template_columns": "31% 23% 23% 23%",
       "grid_template_rows": "auto auto"
      }
     },
     "06689a44871d4d3494f4465a8884c452": {
      "model_module": "@jupyter-widgets/controls",
      "model_module_version": "1.5.0",
      "model_name": "VBoxModel",
      "state": {
       "children": [
        "IPY_MODEL_cd0e3ab55b964823b7edf0bf79f4675f",
        "IPY_MODEL_93246917c38f4000aaab8efe30184770"
       ],
       "layout": "IPY_MODEL_80bebaa5684e4f07a3abeb91456100b1"
      }
     },
     "070c3f55a0b5418c98914b4060a8c02c": {
      "model_module": "@jupyter-widgets/controls",
      "model_module_version": "1.5.0",
      "model_name": "TabModel",
      "state": {
       "_titles": {
        "0": "Configuration",
        "1": "Qubit Properties",
        "2": "Multi-Qubit Gates",
        "3": "Error Map",
        "4": "Job History"
       },
       "children": [
        "IPY_MODEL_d7b53da8f9c64841a04a0ab989c06cc8",
        "IPY_MODEL_89ce64aefc2a4dc5aa48a68db71fbde3",
        "IPY_MODEL_faf25a98e47a4518b1f1cf430b4e3bcc",
        "IPY_MODEL_d1439440b0b2412294be6c583c52a2c5",
        "IPY_MODEL_ac5afc0366e24439a083f8c2efdd7efb"
       ],
       "layout": "IPY_MODEL_d7a764ffa99048cf908ec277e47f4b30"
      }
     },
     "0863310dcd4a4ae5b868b41d526eda5f": {
      "model_module": "@jupyter-widgets/controls",
      "model_module_version": "1.5.0",
      "model_name": "DescriptionStyleModel",
      "state": {
       "description_width": ""
      }
     },
     "0948f300079c4979a1f50da839337853": {
      "model_module": "@jupyter-widgets/controls",
      "model_module_version": "1.5.0",
      "model_name": "HTMLModel",
      "state": {
       "layout": "IPY_MODEL_c740a1c274474a0f88a659118afcc2ea",
       "style": "IPY_MODEL_43454746a62940d2bf73fe3715ee1737",
       "value": "<h5>Job ID</h5>"
      }
     },
     "0b4d1b36ff4a4304920eedf964fef871": {
      "model_module": "@jupyter-widgets/controls",
      "model_module_version": "1.5.0",
      "model_name": "GridBoxModel",
      "state": {
       "children": [
        "IPY_MODEL_a4b4334d1ebf48fab054e5c0a9e00509",
        "IPY_MODEL_423df25b880e42c9a4e386d5219bf58c",
        "IPY_MODEL_c501dfe4b690487d91b9e907d914244d"
       ],
       "layout": "IPY_MODEL_af04f403824f4889b2e07322757f901f"
      }
     },
     "0b7184364ad946c4a4b7fa6d4735d67e": {
      "model_module": "@jupyter-widgets/controls",
      "model_module_version": "1.5.0",
      "model_name": "DescriptionStyleModel",
      "state": {
       "description_width": ""
      }
     },
     "0bcdef80dcbd4cd286ea51a10a013796": {
      "model_module": "@jupyter-widgets/controls",
      "model_module_version": "1.5.0",
      "model_name": "DescriptionStyleModel",
      "state": {
       "description_width": ""
      }
     },
     "0cd27c2ab6ee4666bfce064eb9d3c1a9": {
      "model_module": "@jupyter-widgets/controls",
      "model_module_version": "1.5.0",
      "model_name": "HTMLModel",
      "state": {
       "layout": "IPY_MODEL_f3be8a1f412c46988a587b083b315b49",
       "style": "IPY_MODEL_83651e097e764c51b51f2f64751e6d17",
       "value": "<table><style>\ntable {\n    border-collapse: collapse;\n    width: auto;\n}\n\nth, td {\n    text-align: left;\n    padding: 8px;\n}\n\ntr:nth-child(even) {background-color: #f6f6f6;};\n</style><tr><th></th><th>Type</th><th>Gate error</th></tr><tr><td><font style='font-weight:bold'>cx4_5</font></td><td>cx</td><td>0.01049</td></tr><tr><td><font style='font-weight:bold'>cx5_4</font></td><td>cx</td><td>0.01049</td></tr><tr><td><font style='font-weight:bold'>cx2_1</font></td><td>cx</td><td>0.00714</td></tr><tr><td><font style='font-weight:bold'>cx1_2</font></td><td>cx</td><td>0.00714</td></tr></table>"
      }
     },
     "0cee35cbc8754e499995471fb9b80dfd": {
      "model_module": "@jupyter-widgets/base",
      "model_module_version": "1.2.0",
      "model_name": "LayoutModel",
      "state": {}
     },
     "0d4a848b553c42ab9b07b888207491d8": {
      "model_module": "@jupyter-widgets/base",
      "model_module_version": "1.2.0",
      "model_name": "LayoutModel",
      "state": {
       "grid_area": "left"
      }
     },
     "0db7efb6e3ab4fe5a6905dc4893e9d55": {
      "model_module": "@jupyter-widgets/base",
      "model_module_version": "1.2.0",
      "model_name": "LayoutModel",
      "state": {
       "grid_gap": "0px 0px",
       "grid_template_areas": "\n                               \"left right right right\"\n                               \"bottom bottom bottom bottom\"\n                               ",
       "grid_template_columns": "31% 23% 23% 23%",
       "grid_template_rows": "auto auto"
      }
     },
     "0e0f697ccf1c4ee09fcdab740c000b7c": {
      "model_module": "@jupyter-widgets/controls",
      "model_module_version": "1.5.0",
      "model_name": "HTMLModel",
      "state": {
       "layout": "IPY_MODEL_e995e849d7454d10bac0b2fd2e353b47",
       "style": "IPY_MODEL_3472e7851a634b91ac459d85742981d2",
       "value": "<div><font style='font-weight:bold'>last_update_date</font>: 2022-06-28 12:20:33+00:00</div>"
      }
     },
     "0eb4be2ca765470ba2c205cdae8d5da1": {
      "model_module": "@jupyter-widgets/controls",
      "model_module_version": "1.5.0",
      "model_name": "DescriptionStyleModel",
      "state": {
       "description_width": ""
      }
     },
     "0f25d8fd6fe94fc081b8cef1ae0d1d70": {
      "model_module": "@jupyter-widgets/controls",
      "model_module_version": "1.5.0",
      "model_name": "DescriptionStyleModel",
      "state": {
       "description_width": ""
      }
     },
     "0f26c1d74d0c46ddb038c181d53af1f5": {
      "model_module": "@jupyter-widgets/base",
      "model_module_version": "1.2.0",
      "model_name": "LayoutModel",
      "state": {
       "grid_area": "middle"
      }
     },
     "1132fc19892b4d468b6cef397f1cb7cd": {
      "model_module": "@jupyter-widgets/controls",
      "model_module_version": "1.5.0",
      "model_name": "HTMLModel",
      "state": {
       "layout": "IPY_MODEL_a0e3f15352384e319db81d7eb5a59a22",
       "style": "IPY_MODEL_3340b00bad1c4d67853a77e938374685",
       "value": "<table><style>\ntable {\n    border-collapse: collapse;\n    width: auto;\n}\n\nth, td {\n    text-align: left;\n    padding: 8px;\n}\n\ntr:nth-child(even) {background-color: #f6f6f6;};\n</style><tr><th></th><th>Type</th><th>Gate error</th></tr><tr><td><font style='font-weight:bold'>cx1_3</font></td><td>cx</td><td>0.00924</td></tr><tr><td><font style='font-weight:bold'>cx3_1</font></td><td>cx</td><td>0.00924</td></tr><tr><td><font style='font-weight:bold'>cx5_3</font></td><td>cx</td><td>0.00767</td></tr><tr><td><font style='font-weight:bold'>cx3_5</font></td><td>cx</td><td>0.00767</td></tr></table>"
      }
     },
     "128a599153a5461ab4a47105853cab7f": {
      "model_module": "@jupyter-widgets/controls",
      "model_module_version": "1.5.0",
      "model_name": "HTMLModel",
      "state": {
       "layout": "IPY_MODEL_83934b7d65194163a04fa59931c3dbcb",
       "style": "IPY_MODEL_98c8cf9dbd37483784d17ee4a876615d",
       "value": "<div><font style='font-weight:bold'>last_update_date</font>: 2022-06-28 12:20:33+00:00</div>"
      }
     },
     "12bf9dd8ec314f168c06a8c8d99bc2df": {
      "model_module": "@jupyter-widgets/base",
      "model_module_version": "1.2.0",
      "model_name": "LayoutModel",
      "state": {
       "grid_area": "right"
      }
     },
     "13e18455b9a4437e97e83cb4ba99084f": {
      "model_module": "@jupyter-widgets/base",
      "model_module_version": "1.2.0",
      "model_name": "LayoutModel",
      "state": {}
     },
     "148eb860924546bbbdc5e56cfcfc9f6e": {
      "model_module": "@jupyter-widgets/controls",
      "model_module_version": "1.5.0",
      "model_name": "VBoxModel",
      "state": {
       "children": [
        "IPY_MODEL_ebe72b6c326f400abd89568275ac51d7",
        "IPY_MODEL_bb055802798f4fd8bf7ae85f52a9d48e"
       ],
       "layout": "IPY_MODEL_b75f3fad73e947c8a3df068385ee2bf4"
      }
     },
     "14b2965b60fd4916ad4bb0a0a54950ef": {
      "model_module": "@jupyter-widgets/controls",
      "model_module_version": "1.5.0",
      "model_name": "HTMLMathModel",
      "state": {
       "layout": "IPY_MODEL_3089ef8fb55142c8873ca59b7c3bb3c9",
       "style": "IPY_MODEL_9d1d86c26df743ceaa0d9d74ffb954db",
       "value": "<table><style>\ntable {\n    border-collapse: collapse;\n    width: auto;\n}\n\nth, td {\n    text-align: left;\n    padding: 8px;\n}\n\ntr:nth-child(even) {background-color: #f6f6f6;}\n</style><tr><th></th><th></th></tr><tr><td>allow_q_object</td><td>True</td></tr><tr><td>qubit_channel_mapping</td><td>[['d0', 'm0', 'u1', 'u0'], ['d1', 'u4', 'u0', 'u2', 'u1', 'u5', 'm1', 'u3'], ['u4', 'm2', 'u2', 'd2'], ['u8', 'u5', 'u6', 'd3', 'u3', 'm3'], ['m4', 'u7', 'd4', 'u9'], ['u7', 'u8', 'm5', 'd5', 'u9', 'u10', 'u6', 'u11'], ['u11', 'd6', 'm6', 'u10']]</td></tr><tr><td>supported_features</td><td>['qobj', 'qasm3']</td></tr><tr><td>memory</td><td>True</td></tr><tr><td>qubit_lo_range</td><td>[[4.425039493971028, 5.425039493971028], [4.546253783996783, 5.546253783996784], [4.4619867212182145, 5.4619867212182145], [4.608082034893607, 5.608082034893607], [4.511074409987105, 5.511074409987105], [4.673289842125353, 5.673289842125353], [4.819303501215827, 5.819303501215827]]</td></tr><tr><td>meas_lo_range</td><td>[[6.729836446, 7.729836446], [6.604835349, 7.604835349000001], [6.8306589760000005, 7.8306589760000005], [6.632327716000001, 7.632327716000001], [6.713651857, 7.713651857], [6.812390622000001, 7.812390622000001], [6.7878388140000006, 7.7878388140000006]]</td></tr><tr><td>measure_esp_enabled</td><td>False</td></tr><tr><td>local</td><td>False</td></tr><tr><td>multi_meas_enabled</td><td>True</td></tr><tr><td>meas_kernels</td><td>['hw_qmfk']</td></tr><tr><td>pulse_num_channels</td><td>9</td></tr><tr><td>uchannels_enabled</td><td>True</td></tr><tr><td>conditional</td><td>False</td></tr><tr><td>rep_delay_range</td><td>[0.0, 500.0]</td></tr><tr><td>sample_name</td><td>family: Falcon, revision: 5.11, segment: H</td></tr><tr><td>pulse_num_qubits</td><td>3</td></tr><tr><td>discriminators</td><td>['hw_qmfk', 'quadratic_discriminator', 'linear_discriminator']</td></tr><tr><td>open_pulse</td><td>False</td></tr><tr><td>online_date</td><td>2022-03-25 04:00:00+00:00</td></tr><tr><td>n_uchannels</td><td>12</td></tr><tr><td>hamiltonian</td><td>$$\\begin{align} \\mathcal{H}/\\hbar = & \\sum_{i=0}^{6}\\left(\\frac{\\omega_{q,i}}{2}(\\mathbb{I}-\\sigma_i^{z})+\\frac{\\Delta_{i}}{2}(O_i^2-O_i)+\\Omega_{d,i}D_i(t)\\sigma_i^{X}\\right) \\\\ & + J_{0,1}(\\sigma_{0}^{+}\\sigma_{1}^{-}+\\sigma_{0}^{-}\\sigma_{1}^{+}) + J_{1,2}(\\sigma_{1}^{+}\\sigma_{2}^{-}+\\sigma_{1}^{-}\\sigma_{2}^{+}) + J_{4,5}(\\sigma_{4}^{+}\\sigma_{5}^{-}+\\sigma_{4}^{-}\\sigma_{5}^{+}) + J_{5,6}(\\sigma_{5}^{+}\\sigma_{6}^{-}+\\sigma_{5}^{-}\\sigma_{6}^{+}) \\\\ & + J_{1,3}(\\sigma_{1}^{+}\\sigma_{3}^{-}+\\sigma_{1}^{-}\\sigma_{3}^{+}) + J_{3,5}(\\sigma_{3}^{+}\\sigma_{5}^{-}+\\sigma_{3}^{-}\\sigma_{5}^{+}) \\\\ & + \\Omega_{d,0}(U_{0}^{(0,1)}(t))\\sigma_{0}^{X} + \\Omega_{d,1}(U_{1}^{(1,0)}(t)+U_{3}^{(1,3)}(t)+U_{2}^{(1,2)}(t))\\sigma_{1}^{X} \\\\ & + \\Omega_{d,2}(U_{4}^{(2,1)}(t))\\sigma_{2}^{X} + \\Omega_{d,3}(U_{5}^{(3,1)}(t)+U_{6}^{(3,5)}(t))\\sigma_{3}^{X} \\\\ & + \\Omega_{d,4}(U_{7}^{(4,5)}(t))\\sigma_{4}^{X} + \\Omega_{d,5}(U_{8}^{(5,3)}(t)+U_{10}^{(5,6)}(t)+U_{9}^{(5,4)}(t))\\sigma_{5}^{X} \\\\ & + \\Omega_{d,6}(U_{11}^{(6,5)}(t))\\sigma_{6}^{X} \\\\ \\end{align}$$</td></tr><tr><td>default_rep_delay</td><td>250.0</td></tr><tr><td>url</td><td>None</td></tr><tr><td>clops</td><td>2645</td></tr><tr><td>meas_levels</td><td>[1, 2]</td></tr><tr><td>acquisition_latency</td><td>[]</td></tr><tr><td>simulator</td><td>False</td></tr><tr><td>live_data</td><td>False</td></tr><tr><td>processor_type</td><td>{'family': 'Falcon', 'revision': '5.11', 'segment': 'H'}</td></tr><tr><td>dtm</td><td>0.2222222222222222</td></tr><tr><td>n_registers</td><td>1</td></tr><tr><td>coupling_map</td><td>[[0, 1], [1, 0], [1, 2], [1, 3], [2, 1], [3, 1], [3, 5], [4, 5], [5, 3], [5, 4], [5, 6], [6, 5]]</td></tr><tr><td>parametric_pulses</td><td>['gaussian', 'gaussian_square', 'drag', 'constant']</td></tr><tr><td>credits_required</td><td>True</td></tr><tr><td>u_channel_lo</td><td>[[{'q': 1, 'scale': (1+0j)}], [{'q': 0, 'scale': (1+0j)}], [{'q': 2, 'scale': (1+0j)}], [{'q': 3, 'scale': (1+0j)}], [{'q': 1, 'scale': (1+0j)}], [{'q': 1, 'scale': (1+0j)}], [{'q': 5, 'scale': (1+0j)}], [{'q': 5, 'scale': (1+0j)}], [{'q': 3, 'scale': (1+0j)}], [{'q': 4, 'scale': (1+0j)}], [{'q': 6, 'scale': (1+0j)}], [{'q': 5, 'scale': (1+0j)}]]</td></tr><tr><td>meas_map</td><td>[[0, 1, 2, 3, 4, 5, 6]]</td></tr><tr><td>input_allowed</td><td>['job', 'runtime']</td></tr><tr><td>allow_object_storage</td><td>True</td></tr><tr><td>supported_instructions</td><td>['sx', 'play', 'x', 'u2', 'delay', 'acquire', 'u1', 'reset', 'shiftf', 'measure', 'setf', 'cx', 'rz', 'id', 'u3']</td></tr><tr><td>backend_name</td><td>ibm_oslo</td></tr><tr><td>dynamic_reprate_enabled</td><td>True</td></tr><tr><td>rep_times</td><td>[1000.0]</td></tr><tr><td>dt</td><td>0.2222222222222222</td></tr><tr><td>description</td><td>7 qubit device</td></tr><tr><td>channels</td><td>{'acquire0': {'operates': {'qubits': [0]}, 'purpose': 'acquire', 'type': 'acquire'}, 'acquire1': {'operates': {'qubits': [1]}, 'purpose': 'acquire', 'type': 'acquire'}, 'acquire2': {'operates': {'qubits': [2]}, 'purpose': 'acquire', 'type': 'acquire'}, 'acquire3': {'operates': {'qubits': [3]}, 'purpose': 'acquire', 'type': 'acquire'}, 'acquire4': {'operates': {'qubits': [4]}, 'purpose': 'acquire', 'type': 'acquire'}, 'acquire5': {'operates': {'qubits': [5]}, 'purpose': 'acquire', 'type': 'acquire'}, 'acquire6': {'operates': {'qubits': [6]}, 'purpose': 'acquire', 'type': 'acquire'}, 'd0': {'operates': {'qubits': [0]}, 'purpose': 'drive', 'type': 'drive'}, 'd1': {'operates': {'qubits': [1]}, 'purpose': 'drive', 'type': 'drive'}, 'd2': {'operates': {'qubits': [2]}, 'purpose': 'drive', 'type': 'drive'}, 'd3': {'operates': {'qubits': [3]}, 'purpose': 'drive', 'type': 'drive'}, 'd4': {'operates': {'qubits': [4]}, 'purpose': 'drive', 'type': 'drive'}, 'd5': {'operates': {'qubits': [5]}, 'purpose': 'drive', 'type': 'drive'}, 'd6': {'operates': {'qubits': [6]}, 'purpose': 'drive', 'type': 'drive'}, 'm0': {'operates': {'qubits': [0]}, 'purpose': 'measure', 'type': 'measure'}, 'm1': {'operates': {'qubits': [1]}, 'purpose': 'measure', 'type': 'measure'}, 'm2': {'operates': {'qubits': [2]}, 'purpose': 'measure', 'type': 'measure'}, 'm3': {'operates': {'qubits': [3]}, 'purpose': 'measure', 'type': 'measure'}, 'm4': {'operates': {'qubits': [4]}, 'purpose': 'measure', 'type': 'measure'}, 'm5': {'operates': {'qubits': [5]}, 'purpose': 'measure', 'type': 'measure'}, 'm6': {'operates': {'qubits': [6]}, 'purpose': 'measure', 'type': 'measure'}, 'u0': {'operates': {'qubits': [0, 1]}, 'purpose': 'cross-resonance', 'type': 'control'}, 'u1': {'operates': {'qubits': [1, 0]}, 'purpose': 'cross-resonance', 'type': 'control'}, 'u10': {'operates': {'qubits': [5, 6]}, 'purpose': 'cross-resonance', 'type': 'control'}, 'u11': {'operates': {'qubits': [6, 5]}, 'purpose': 'cross-resonance', 'type': 'control'}, 'u2': {'operates': {'qubits': [1, 2]}, 'purpose': 'cross-resonance', 'type': 'control'}, 'u3': {'operates': {'qubits': [1, 3]}, 'purpose': 'cross-resonance', 'type': 'control'}, 'u4': {'operates': {'qubits': [2, 1]}, 'purpose': 'cross-resonance', 'type': 'control'}, 'u5': {'operates': {'qubits': [3, 1]}, 'purpose': 'cross-resonance', 'type': 'control'}, 'u6': {'operates': {'qubits': [3, 5]}, 'purpose': 'cross-resonance', 'type': 'control'}, 'u7': {'operates': {'qubits': [4, 5]}, 'purpose': 'cross-resonance', 'type': 'control'}, 'u8': {'operates': {'qubits': [5, 3]}, 'purpose': 'cross-resonance', 'type': 'control'}, 'u9': {'operates': {'qubits': [5, 4]}, 'purpose': 'cross-resonance', 'type': 'control'}}</td></tr><tr><td>timing_constraints</td><td>{'acquire_alignment': 16, 'granularity': 16, 'min_length': 64, 'pulse_alignment': 16}</td></tr><tr><td>conditional_latency</td><td>[]</td></tr></table>"
      }
     },
     "15f472d927014da399374a96bf11739e": {
      "model_module": "@jupyter-widgets/base",
      "model_module_version": "1.2.0",
      "model_name": "LayoutModel",
      "state": {
       "overflow_y": "scroll"
      }
     },
     "16126b258958481abb29870d9bf86260": {
      "model_module": "@jupyter-widgets/base",
      "model_module_version": "1.2.0",
      "model_name": "LayoutModel",
      "state": {
       "grid_area": "right",
       "padding": "0px 0px 0px 0px",
       "width": "70px"
      }
     },
     "17de7145121b432ba5ff054441cc0b02": {
      "model_module": "@jupyter-widgets/base",
      "model_module_version": "1.2.0",
      "model_name": "LayoutModel",
      "state": {
       "grid_gap": "0px 0px",
       "grid_template_areas": "\n                                                   \"top top top\"\n                                                   \"left middle right\"\n                                                   ",
       "grid_template_columns": "33% 33% 33%",
       "grid_template_rows": "auto auto"
      }
     },
     "181640fb159443b296f42f935aa4a00a": {
      "model_module": "@jupyter-widgets/controls",
      "model_module_version": "1.5.0",
      "model_name": "DescriptionStyleModel",
      "state": {
       "description_width": ""
      }
     },
     "18c726c2a571483eb8533b34353c5ef1": {
      "model_module": "@jupyter-widgets/controls",
      "model_module_version": "1.5.0",
      "model_name": "DescriptionStyleModel",
      "state": {
       "description_width": ""
      }
     },
     "18dacdb98c4c40d99badfc0a63003c13": {
      "model_module": "@jupyter-widgets/controls",
      "model_module_version": "1.5.0",
      "model_name": "HTMLModel",
      "state": {
       "layout": "IPY_MODEL_26b3c3462b834d598fef354ff6b0c678",
       "style": "IPY_MODEL_96deb02b41884bec83c0bbd39bf59752",
       "value": "<table><style>\ntable {\n    border-collapse: collapse;\n    width: auto;\n}\n\nth, td {\n    text-align: left;\n    padding: 8px;\n}\n\ntr:nth-child(even) {background-color: #f6f6f6;};\n</style><tr><th></th><th>Type</th><th>Gate error</th></tr><tr><td><font style='font-weight:bold'>cx6_5</font></td><td>cx</td><td>0.00755</td></tr><tr><td><font style='font-weight:bold'>cx5_6</font></td><td>cx</td><td>0.00755</td></tr><tr><td><font style='font-weight:bold'>cx0_1</font></td><td>cx</td><td>0.00972</td></tr><tr><td><font style='font-weight:bold'>cx1_0</font></td><td>cx</td><td>0.00972</td></tr></table>"
      }
     },
     "193e09525ae342c7ba4b714838f5314a": {
      "model_module": "@jupyter-widgets/base",
      "model_module_version": "1.2.0",
      "model_name": "LayoutModel",
      "state": {
       "grid_area": "right"
      }
     },
     "197ab75b02654295b9406ce53c5bcbbb": {
      "model_module": "@jupyter-widgets/controls",
      "model_module_version": "1.5.0",
      "model_name": "GridBoxModel",
      "state": {
       "children": [
        "IPY_MODEL_ef060ebaf875425893d0a389d2d42dab",
        "IPY_MODEL_3745f9e2796e4096a4bb6bd1a01f5d22",
        "IPY_MODEL_bb66068e3346432fa1507a5609d11e87",
        "IPY_MODEL_a133bd0de429458a8aaae12854e4f663"
       ],
       "layout": "IPY_MODEL_a627b25098d94d63a345ed0031136f0f"
      }
     },
     "197d9c68b2244e6582e503a927aadc31": {
      "model_module": "@jupyter-widgets/controls",
      "model_module_version": "1.5.0",
      "model_name": "HTMLModel",
      "state": {
       "layout": "IPY_MODEL_3091bd80dee34aeb8adeb6d93b981cdf",
       "style": "IPY_MODEL_abb705c28470473b99bfc9d32e958dc6",
       "value": "<table><style>\ntable {\n    border-collapse: collapse;\n    width: auto;\n}\n\nth, td {\n    text-align: left;\n    padding: 8px;\n}\n\ntr:nth-child(even) {background-color: #f6f6f6;};\n</style><tr><th></th><th>Type</th><th>Gate error</th></tr><tr><td><font style='font-weight:bold'>cx4_5</font></td><td>cx</td><td>0.01049</td></tr><tr><td><font style='font-weight:bold'>cx5_4</font></td><td>cx</td><td>0.01049</td></tr><tr><td><font style='font-weight:bold'>cx2_1</font></td><td>cx</td><td>0.00714</td></tr><tr><td><font style='font-weight:bold'>cx1_2</font></td><td>cx</td><td>0.00714</td></tr></table>"
      }
     },
     "1a820b39e025432282c03ff0f3045272": {
      "model_module": "@jupyter-widgets/controls",
      "model_module_version": "1.5.0",
      "model_name": "HTMLModel",
      "state": {
       "layout": "IPY_MODEL_e40f5fe54dae4adc9112c9d32866826c",
       "style": "IPY_MODEL_18c726c2a571483eb8533b34353c5ef1",
       "value": "<table><style>\ntable {\n    border-collapse: collapse;\n    width: auto;\n}\n\nth, td {\n    text-align: left;\n    padding: 8px;\n}\n\ntr:nth-child(even) {background-color: #f6f6f6;}\n</style><tr><th></th><th>Frequency</th><th>T1</th><th>T2</th><th>RZ</th><th>SX</th><th>X</th><th>Readout error</th></tr><tr><td><font style='font-weight:bold'>Q0</font></td><td>4.92504 GHz</td><td>172.12202 us</td><td>147.6838 us</td><td>0</td><td>0.00022</td><td>0.00022</td><td>0.011 </td><tr><td><font style='font-weight:bold'>Q1</font></td><td>5.04625 GHz</td><td>101.47156 us</td><td>33.61631 us</td><td>0</td><td>0.00031</td><td>0.00031</td><td>0.013 </td><tr><td><font style='font-weight:bold'>Q2</font></td><td>4.96199 GHz</td><td>162.21194 us</td><td>78.74645 us</td><td>0</td><td>0.00018</td><td>0.00018</td><td>0.0074 </td><tr><td><font style='font-weight:bold'>Q3</font></td><td>5.10808 GHz</td><td>60.86934 us</td><td>36.92709 us</td><td>0</td><td>0.00055</td><td>0.00055</td><td>0.0174 </td><tr><td><font style='font-weight:bold'>Q4</font></td><td>5.01107 GHz</td><td>168.01949 us</td><td>136.28387 us</td><td>0</td><td>0.00026</td><td>0.00026</td><td>0.0272 </td><tr><td><font style='font-weight:bold'>Q5</font></td><td>5.17329 GHz</td><td>112.91342 us</td><td>36.36279 us</td><td>0</td><td>0.00043</td><td>0.00043</td><td>0.0118 </td><tr><td><font style='font-weight:bold'>Q6</font></td><td>5.3193 GHz</td><td>92.8356 us</td><td>58.54227 us</td><td>0</td><td>0.00029</td><td>0.00029</td><td>0.0295 </td></table>"
      }
     },
     "1ac3d714beeb4b2b81bd59f3afdc4f9f": {
      "model_module": "@jupyter-widgets/controls",
      "model_module_version": "1.5.0",
      "model_name": "HTMLModel",
      "state": {
       "layout": "IPY_MODEL_8cfb96c28dd746c382585721fd420da2",
       "style": "IPY_MODEL_a94d03a9f74e409385087326e1d44590",
       "value": "<div><font style='font-weight:bold'>last_update_date</font>: 2022-06-28 11:14:01+00:00</div>"
      }
     },
     "1c410e0507df46d5819d2557bd4d9e03": {
      "model_module": "@jupyter-widgets/controls",
      "model_module_version": "1.5.0",
      "model_name": "ButtonModel",
      "state": {
       "icon": "close",
       "layout": "IPY_MODEL_616461e481d44d59a90e1c4bb1c83514",
       "style": "IPY_MODEL_43d45030417e44eaa762a1128e9c5bec"
      }
     },
     "20a6442f3f6d4327b01b232b8c695522": {
      "model_module": "@jupyter-widgets/base",
      "model_module_version": "1.2.0",
      "model_name": "LayoutModel",
      "state": {
       "grid_area": "left",
       "width": "100%"
      }
     },
     "20e5ea1da7b44c019485b2b0acaaf1df": {
      "model_module": "@jupyter-widgets/controls",
      "model_module_version": "1.5.0",
      "model_name": "HTMLMathModel",
      "state": {
       "layout": "IPY_MODEL_50bcb35e55b84d51ac8aab94cfc352fe",
       "style": "IPY_MODEL_c0bd2c4c0455440d9b81252ad16cdedf",
       "value": "<table><style>\ntable {\n    border-collapse: collapse;\n    width: auto;\n}\n\nth, td {\n    text-align: left;\n    padding: 8px;\n}\n\ntr:nth-child(even) {background-color: #f6f6f6;}\n</style><tr><th></th><th></th></tr><tr><td>allow_q_object</td><td>True</td></tr><tr><td>qubit_channel_mapping</td><td>[['m0', 'u0', 'u1', 'd0'], ['u3', 'u0', 'u2', 'd1', 'u5', 'u4', 'u1', 'm1'], ['d2', 'm2', 'u4', 'u2'], ['u3', 'u6', 'd3', 'm3', 'u8', 'u5'], ['u9', 'u7', 'm4', 'd4'], ['d5', 'u9', 'm5', 'u11', 'u6', 'u8', 'u7', 'u10'], ['u11', 'm6', 'd6', 'u10']]</td></tr><tr><td>supported_features</td><td>['qobj', 'qasm3']</td></tr><tr><td>memory</td><td>True</td></tr><tr><td>qubit_lo_range</td><td>[[4.425039493971028, 5.425039493971028], [4.546253783996783, 5.546253783996784], [4.4619867212182145, 5.4619867212182145], [4.608082034893607, 5.608082034893607], [4.511074409987105, 5.511074409987105], [4.673289842125353, 5.673289842125353], [4.819303501215827, 5.819303501215827]]</td></tr><tr><td>meas_lo_range</td><td>[[6.729836446, 7.729836446], [6.604835349, 7.604835349000001], [6.8306589760000005, 7.8306589760000005], [6.632327716000001, 7.632327716000001], [6.713651857, 7.713651857], [6.812390622000001, 7.812390622000001], [6.7878388140000006, 7.7878388140000006]]</td></tr><tr><td>measure_esp_enabled</td><td>False</td></tr><tr><td>local</td><td>False</td></tr><tr><td>multi_meas_enabled</td><td>True</td></tr><tr><td>meas_kernels</td><td>['hw_qmfk']</td></tr><tr><td>pulse_num_channels</td><td>9</td></tr><tr><td>uchannels_enabled</td><td>True</td></tr><tr><td>conditional</td><td>False</td></tr><tr><td>rep_delay_range</td><td>[0.0, 500.0]</td></tr><tr><td>sample_name</td><td>family: Falcon, revision: 5.11, segment: H</td></tr><tr><td>pulse_num_qubits</td><td>3</td></tr><tr><td>discriminators</td><td>['linear_discriminator', 'quadratic_discriminator', 'hw_qmfk']</td></tr><tr><td>open_pulse</td><td>False</td></tr><tr><td>online_date</td><td>2022-03-25 04:00:00+00:00</td></tr><tr><td>n_uchannels</td><td>12</td></tr><tr><td>hamiltonian</td><td>$$\\begin{align} \\mathcal{H}/\\hbar = & \\sum_{i=0}^{6}\\left(\\frac{\\omega_{q,i}}{2}(\\mathbb{I}-\\sigma_i^{z})+\\frac{\\Delta_{i}}{2}(O_i^2-O_i)+\\Omega_{d,i}D_i(t)\\sigma_i^{X}\\right) \\\\ & + J_{0,1}(\\sigma_{0}^{+}\\sigma_{1}^{-}+\\sigma_{0}^{-}\\sigma_{1}^{+}) + J_{1,2}(\\sigma_{1}^{+}\\sigma_{2}^{-}+\\sigma_{1}^{-}\\sigma_{2}^{+}) + J_{4,5}(\\sigma_{4}^{+}\\sigma_{5}^{-}+\\sigma_{4}^{-}\\sigma_{5}^{+}) + J_{5,6}(\\sigma_{5}^{+}\\sigma_{6}^{-}+\\sigma_{5}^{-}\\sigma_{6}^{+}) \\\\ & + J_{1,3}(\\sigma_{1}^{+}\\sigma_{3}^{-}+\\sigma_{1}^{-}\\sigma_{3}^{+}) + J_{3,5}(\\sigma_{3}^{+}\\sigma_{5}^{-}+\\sigma_{3}^{-}\\sigma_{5}^{+}) \\\\ & + \\Omega_{d,0}(U_{0}^{(0,1)}(t))\\sigma_{0}^{X} + \\Omega_{d,1}(U_{1}^{(1,0)}(t)+U_{3}^{(1,3)}(t)+U_{2}^{(1,2)}(t))\\sigma_{1}^{X} \\\\ & + \\Omega_{d,2}(U_{4}^{(2,1)}(t))\\sigma_{2}^{X} + \\Omega_{d,3}(U_{5}^{(3,1)}(t)+U_{6}^{(3,5)}(t))\\sigma_{3}^{X} \\\\ & + \\Omega_{d,4}(U_{7}^{(4,5)}(t))\\sigma_{4}^{X} + \\Omega_{d,5}(U_{8}^{(5,3)}(t)+U_{10}^{(5,6)}(t)+U_{9}^{(5,4)}(t))\\sigma_{5}^{X} \\\\ & + \\Omega_{d,6}(U_{11}^{(6,5)}(t))\\sigma_{6}^{X} \\\\ \\end{align}$$</td></tr><tr><td>default_rep_delay</td><td>250.0</td></tr><tr><td>url</td><td>None</td></tr><tr><td>clops</td><td>2645</td></tr><tr><td>meas_levels</td><td>[1, 2]</td></tr><tr><td>acquisition_latency</td><td>[]</td></tr><tr><td>simulator</td><td>False</td></tr><tr><td>live_data</td><td>False</td></tr><tr><td>processor_type</td><td>{'family': 'Falcon', 'revision': '5.11', 'segment': 'H'}</td></tr><tr><td>dtm</td><td>0.2222222222222222</td></tr><tr><td>n_registers</td><td>1</td></tr><tr><td>coupling_map</td><td>[[0, 1], [1, 0], [1, 2], [1, 3], [2, 1], [3, 1], [3, 5], [4, 5], [5, 3], [5, 4], [5, 6], [6, 5]]</td></tr><tr><td>parametric_pulses</td><td>['gaussian', 'gaussian_square', 'drag', 'constant']</td></tr><tr><td>credits_required</td><td>True</td></tr><tr><td>u_channel_lo</td><td>[[{'q': 1, 'scale': (1+0j)}], [{'q': 0, 'scale': (1+0j)}], [{'q': 2, 'scale': (1+0j)}], [{'q': 3, 'scale': (1+0j)}], [{'q': 1, 'scale': (1+0j)}], [{'q': 1, 'scale': (1+0j)}], [{'q': 5, 'scale': (1+0j)}], [{'q': 5, 'scale': (1+0j)}], [{'q': 3, 'scale': (1+0j)}], [{'q': 4, 'scale': (1+0j)}], [{'q': 6, 'scale': (1+0j)}], [{'q': 5, 'scale': (1+0j)}]]</td></tr><tr><td>meas_map</td><td>[[0, 1, 2, 3, 4, 5, 6]]</td></tr><tr><td>input_allowed</td><td>['job', 'runtime']</td></tr><tr><td>allow_object_storage</td><td>True</td></tr><tr><td>supported_instructions</td><td>['measure', 'u3', 'x', 'u2', 'shiftf', 'rz', 'sx', 'acquire', 'reset', 'cx', 'u1', 'id', 'setf', 'play', 'delay']</td></tr><tr><td>backend_name</td><td>ibm_oslo</td></tr><tr><td>dynamic_reprate_enabled</td><td>True</td></tr><tr><td>rep_times</td><td>[1000.0]</td></tr><tr><td>dt</td><td>0.2222222222222222</td></tr><tr><td>description</td><td>7 qubit device</td></tr><tr><td>channels</td><td>{'acquire0': {'operates': {'qubits': [0]}, 'purpose': 'acquire', 'type': 'acquire'}, 'acquire1': {'operates': {'qubits': [1]}, 'purpose': 'acquire', 'type': 'acquire'}, 'acquire2': {'operates': {'qubits': [2]}, 'purpose': 'acquire', 'type': 'acquire'}, 'acquire3': {'operates': {'qubits': [3]}, 'purpose': 'acquire', 'type': 'acquire'}, 'acquire4': {'operates': {'qubits': [4]}, 'purpose': 'acquire', 'type': 'acquire'}, 'acquire5': {'operates': {'qubits': [5]}, 'purpose': 'acquire', 'type': 'acquire'}, 'acquire6': {'operates': {'qubits': [6]}, 'purpose': 'acquire', 'type': 'acquire'}, 'd0': {'operates': {'qubits': [0]}, 'purpose': 'drive', 'type': 'drive'}, 'd1': {'operates': {'qubits': [1]}, 'purpose': 'drive', 'type': 'drive'}, 'd2': {'operates': {'qubits': [2]}, 'purpose': 'drive', 'type': 'drive'}, 'd3': {'operates': {'qubits': [3]}, 'purpose': 'drive', 'type': 'drive'}, 'd4': {'operates': {'qubits': [4]}, 'purpose': 'drive', 'type': 'drive'}, 'd5': {'operates': {'qubits': [5]}, 'purpose': 'drive', 'type': 'drive'}, 'd6': {'operates': {'qubits': [6]}, 'purpose': 'drive', 'type': 'drive'}, 'm0': {'operates': {'qubits': [0]}, 'purpose': 'measure', 'type': 'measure'}, 'm1': {'operates': {'qubits': [1]}, 'purpose': 'measure', 'type': 'measure'}, 'm2': {'operates': {'qubits': [2]}, 'purpose': 'measure', 'type': 'measure'}, 'm3': {'operates': {'qubits': [3]}, 'purpose': 'measure', 'type': 'measure'}, 'm4': {'operates': {'qubits': [4]}, 'purpose': 'measure', 'type': 'measure'}, 'm5': {'operates': {'qubits': [5]}, 'purpose': 'measure', 'type': 'measure'}, 'm6': {'operates': {'qubits': [6]}, 'purpose': 'measure', 'type': 'measure'}, 'u0': {'operates': {'qubits': [0, 1]}, 'purpose': 'cross-resonance', 'type': 'control'}, 'u1': {'operates': {'qubits': [1, 0]}, 'purpose': 'cross-resonance', 'type': 'control'}, 'u10': {'operates': {'qubits': [5, 6]}, 'purpose': 'cross-resonance', 'type': 'control'}, 'u11': {'operates': {'qubits': [6, 5]}, 'purpose': 'cross-resonance', 'type': 'control'}, 'u2': {'operates': {'qubits': [1, 2]}, 'purpose': 'cross-resonance', 'type': 'control'}, 'u3': {'operates': {'qubits': [1, 3]}, 'purpose': 'cross-resonance', 'type': 'control'}, 'u4': {'operates': {'qubits': [2, 1]}, 'purpose': 'cross-resonance', 'type': 'control'}, 'u5': {'operates': {'qubits': [3, 1]}, 'purpose': 'cross-resonance', 'type': 'control'}, 'u6': {'operates': {'qubits': [3, 5]}, 'purpose': 'cross-resonance', 'type': 'control'}, 'u7': {'operates': {'qubits': [4, 5]}, 'purpose': 'cross-resonance', 'type': 'control'}, 'u8': {'operates': {'qubits': [5, 3]}, 'purpose': 'cross-resonance', 'type': 'control'}, 'u9': {'operates': {'qubits': [5, 4]}, 'purpose': 'cross-resonance', 'type': 'control'}}</td></tr><tr><td>timing_constraints</td><td>{'acquire_alignment': 16, 'granularity': 16, 'min_length': 64, 'pulse_alignment': 16}</td></tr><tr><td>conditional_latency</td><td>[]</td></tr></table>"
      }
     },
     "22d3aa07d2f249ebb548f0258321915b": {
      "model_module": "@jupyter-widgets/controls",
      "model_module_version": "1.5.0",
      "model_name": "TabModel",
      "state": {
       "_titles": {
        "0": "Configuration",
        "1": "Qubit Properties",
        "2": "Multi-Qubit Gates",
        "3": "Error Map",
        "4": "Job History"
       },
       "children": [
        "IPY_MODEL_7c319e774f224b97b3acf8c041b99a92",
        "IPY_MODEL_9d8b447a32ad4ef6925e0727af908037",
        "IPY_MODEL_51e2b37c58084b50951326b7333efb06",
        "IPY_MODEL_d2e66387e6224687a83446c2b2f083ff",
        "IPY_MODEL_5f0f3dd6827f400db2b6dcac45171af7"
       ],
       "layout": "IPY_MODEL_aee0b9fd534e4f758ad354fe9549732e"
      }
     },
     "2372ce561ad44cc791da0733340fa4f4": {
      "model_module": "@jupyter-widgets/output",
      "model_module_version": "1.0.0",
      "model_name": "OutputModel",
      "state": {
       "layout": "IPY_MODEL_e8819c9c1fb9479f849d2b3ee72f8f57"
      }
     },
     "23c2547a524f4c9bbdcb7817f39643c9": {
      "model_module": "@jupyter-widgets/controls",
      "model_module_version": "1.5.0",
      "model_name": "GridBoxModel",
      "state": {
       "children": [
        "IPY_MODEL_d402d8894e4f4e798b35b34235581074",
        "IPY_MODEL_de98189b51204882a61c89086859c32a",
        "IPY_MODEL_14b2965b60fd4916ad4bb0a0a54950ef"
       ],
       "layout": "IPY_MODEL_407d6084df03420ab0174419e9ca0889"
      }
     },
     "2557a629ca7d492bae4fc7ba134c1b9a": {
      "model_module": "@jupyter-widgets/controls",
      "model_module_version": "1.5.0",
      "model_name": "TabModel",
      "state": {
       "layout": "IPY_MODEL_2b7ee7d94f6c4a9fa29b0ca6bb55d779"
      }
     },
     "25ab8d74d03c43ecbded075f5bc43341": {
      "model_module": "@jupyter-widgets/base",
      "model_module_version": "1.2.0",
      "model_name": "LayoutModel",
      "state": {}
     },
     "25ec7b3415744279bc8b74e8e33047c3": {
      "model_module": "@jupyter-widgets/base",
      "model_module_version": "1.2.0",
      "model_name": "LayoutModel",
      "state": {
       "grid_area": "middle"
      }
     },
     "2628a0bb42b748099cf0d99a4a66ad20": {
      "model_module": "@jupyter-widgets/controls",
      "model_module_version": "1.5.0",
      "model_name": "HTMLMathModel",
      "state": {
       "layout": "IPY_MODEL_971dec7049494d329cafc4e5d15234e5",
       "style": "IPY_MODEL_6832fc39193a44f8896a647832b63516",
       "value": "<table><style>\ntable {\n    border-collapse: collapse;\n    width: auto;\n}\n\nth, td {\n    text-align: left;\n    padding: 8px;\n}\n\ntr:nth-child(even) {background-color: #f6f6f6;}\n</style><tr><th>Property</th><th>Value</th></tr><tr><td><font style='font-weight:bold'>n_qubits</font></td><td>7</td></tr><tr><td><font style='font-weight:bold'>quantum_volume</font></td><td>32</td></tr><tr><td><font style='font-weight:bold'>operational</font></td><td>True</td></tr><tr><td><font style='font-weight:bold'>status_msg</font></td><td>active</td></tr><tr><td><font style='font-weight:bold'>pending_jobs</font></td><td>95</td></tr><tr><td><font style='font-weight:bold'>backend_version</font></td><td>1.0.3</td></tr><tr><td><font style='font-weight:bold'>basis_gates</font></td><td>['id', 'rz', 'sx', 'x', 'cx', 'reset']</td></tr><tr><td><font style='font-weight:bold'>max_shots</font></td><td>20000</td></tr><tr><td><font style='font-weight:bold'>max_experiments</font></td><td>100</td></tr></table>"
      }
     },
     "26859c9f8c3644d7bea802e96e77352f": {
      "model_module": "@jupyter-widgets/controls",
      "model_module_version": "1.5.0",
      "model_name": "VBoxModel",
      "state": {
       "children": [
        "IPY_MODEL_83706c8dec59456eb4542c07a2bbc5bb",
        "IPY_MODEL_4c31677f66dd4e6485af748f66114c4b"
       ],
       "layout": "IPY_MODEL_6114dd35c0c440b1aad4c74cdb8162a3"
      }
     },
     "26960fb799eb4d56928aa0cf3f1ab71e": {
      "model_module": "@jupyter-widgets/base",
      "model_module_version": "1.2.0",
      "model_name": "LayoutModel",
      "state": {
       "border": "4px solid #000000",
       "max_height": "650px",
       "min_height": "650px",
       "overflow_y": "hidden"
      }
     },
     "26ae14c614174fb79350ab11fcf579ba": {
      "model_module": "@jupyter-widgets/controls",
      "model_module_version": "1.5.0",
      "model_name": "HTMLMathModel",
      "state": {
       "layout": "IPY_MODEL_aae3076effc543b2a9de3f3c8f17c0a1",
       "style": "IPY_MODEL_66ab766d2abe43e78ea564a034c3f107",
       "value": "<table><style>\ntable {\n    border-collapse: collapse;\n    width: auto;\n}\n\nth, td {\n    text-align: left;\n    padding: 8px;\n}\n\ntr:nth-child(even) {background-color: #f6f6f6;}\n</style><tr><th></th><th></th></tr><tr><td>allow_q_object</td><td>True</td></tr><tr><td>qubit_channel_mapping</td><td>[['m0', 'u1', 'u0', 'd0'], ['u1', 'd1', 'u0', 'u5', 'u2', 'm1', 'u3', 'u4'], ['m2', 'd2', 'u4', 'u2'], ['m3', 'u5', 'u3', 'u8', 'u6', 'd3'], ['d4', 'u7', 'u9', 'm4'], ['d5', 'u7', 'u9', 'u10', 'm5', 'u11', 'u8', 'u6'], ['d6', 'm6', 'u10', 'u11']]</td></tr><tr><td>supported_features</td><td>['qobj', 'qasm3']</td></tr><tr><td>memory</td><td>True</td></tr><tr><td>qubit_lo_range</td><td>[[4.425039493971028, 5.425039493971028], [4.546253783996783, 5.546253783996784], [4.4619867212182145, 5.4619867212182145], [4.608082034893607, 5.608082034893607], [4.511074409987105, 5.511074409987105], [4.673289842125353, 5.673289842125353], [4.819303501215827, 5.819303501215827]]</td></tr><tr><td>meas_lo_range</td><td>[[6.729836446, 7.729836446], [6.604835349, 7.604835349000001], [6.8306589760000005, 7.8306589760000005], [6.632327716000001, 7.632327716000001], [6.713651857, 7.713651857], [6.812390622000001, 7.812390622000001], [6.7878388140000006, 7.7878388140000006]]</td></tr><tr><td>measure_esp_enabled</td><td>False</td></tr><tr><td>local</td><td>False</td></tr><tr><td>multi_meas_enabled</td><td>True</td></tr><tr><td>meas_kernels</td><td>['hw_qmfk']</td></tr><tr><td>pulse_num_channels</td><td>9</td></tr><tr><td>uchannels_enabled</td><td>True</td></tr><tr><td>conditional</td><td>False</td></tr><tr><td>rep_delay_range</td><td>[0.0, 500.0]</td></tr><tr><td>sample_name</td><td>family: Falcon, revision: 5.11, segment: H</td></tr><tr><td>pulse_num_qubits</td><td>3</td></tr><tr><td>discriminators</td><td>['quadratic_discriminator', 'linear_discriminator', 'hw_qmfk']</td></tr><tr><td>open_pulse</td><td>False</td></tr><tr><td>online_date</td><td>2022-03-25 04:00:00+00:00</td></tr><tr><td>n_uchannels</td><td>12</td></tr><tr><td>hamiltonian</td><td>$$\\begin{align} \\mathcal{H}/\\hbar = & \\sum_{i=0}^{6}\\left(\\frac{\\omega_{q,i}}{2}(\\mathbb{I}-\\sigma_i^{z})+\\frac{\\Delta_{i}}{2}(O_i^2-O_i)+\\Omega_{d,i}D_i(t)\\sigma_i^{X}\\right) \\\\ & + J_{0,1}(\\sigma_{0}^{+}\\sigma_{1}^{-}+\\sigma_{0}^{-}\\sigma_{1}^{+}) + J_{1,2}(\\sigma_{1}^{+}\\sigma_{2}^{-}+\\sigma_{1}^{-}\\sigma_{2}^{+}) + J_{4,5}(\\sigma_{4}^{+}\\sigma_{5}^{-}+\\sigma_{4}^{-}\\sigma_{5}^{+}) + J_{5,6}(\\sigma_{5}^{+}\\sigma_{6}^{-}+\\sigma_{5}^{-}\\sigma_{6}^{+}) \\\\ & + J_{1,3}(\\sigma_{1}^{+}\\sigma_{3}^{-}+\\sigma_{1}^{-}\\sigma_{3}^{+}) + J_{3,5}(\\sigma_{3}^{+}\\sigma_{5}^{-}+\\sigma_{3}^{-}\\sigma_{5}^{+}) \\\\ & + \\Omega_{d,0}(U_{0}^{(0,1)}(t))\\sigma_{0}^{X} + \\Omega_{d,1}(U_{1}^{(1,0)}(t)+U_{3}^{(1,3)}(t)+U_{2}^{(1,2)}(t))\\sigma_{1}^{X} \\\\ & + \\Omega_{d,2}(U_{4}^{(2,1)}(t))\\sigma_{2}^{X} + \\Omega_{d,3}(U_{5}^{(3,1)}(t)+U_{6}^{(3,5)}(t))\\sigma_{3}^{X} \\\\ & + \\Omega_{d,4}(U_{7}^{(4,5)}(t))\\sigma_{4}^{X} + \\Omega_{d,5}(U_{8}^{(5,3)}(t)+U_{10}^{(5,6)}(t)+U_{9}^{(5,4)}(t))\\sigma_{5}^{X} \\\\ & + \\Omega_{d,6}(U_{11}^{(6,5)}(t))\\sigma_{6}^{X} \\\\ \\end{align}$$</td></tr><tr><td>default_rep_delay</td><td>250.0</td></tr><tr><td>url</td><td>None</td></tr><tr><td>clops</td><td>2645</td></tr><tr><td>meas_levels</td><td>[1, 2]</td></tr><tr><td>acquisition_latency</td><td>[]</td></tr><tr><td>simulator</td><td>False</td></tr><tr><td>live_data</td><td>False</td></tr><tr><td>processor_type</td><td>{'family': 'Falcon', 'revision': '5.11', 'segment': 'H'}</td></tr><tr><td>dtm</td><td>0.2222222222222222</td></tr><tr><td>n_registers</td><td>1</td></tr><tr><td>coupling_map</td><td>[[0, 1], [1, 0], [1, 2], [1, 3], [2, 1], [3, 1], [3, 5], [4, 5], [5, 3], [5, 4], [5, 6], [6, 5]]</td></tr><tr><td>parametric_pulses</td><td>['gaussian', 'gaussian_square', 'drag', 'constant']</td></tr><tr><td>credits_required</td><td>True</td></tr><tr><td>u_channel_lo</td><td>[[{'q': 1, 'scale': (1+0j)}], [{'q': 0, 'scale': (1+0j)}], [{'q': 2, 'scale': (1+0j)}], [{'q': 3, 'scale': (1+0j)}], [{'q': 1, 'scale': (1+0j)}], [{'q': 1, 'scale': (1+0j)}], [{'q': 5, 'scale': (1+0j)}], [{'q': 5, 'scale': (1+0j)}], [{'q': 3, 'scale': (1+0j)}], [{'q': 4, 'scale': (1+0j)}], [{'q': 6, 'scale': (1+0j)}], [{'q': 5, 'scale': (1+0j)}]]</td></tr><tr><td>meas_map</td><td>[[0, 1, 2, 3, 4, 5, 6]]</td></tr><tr><td>input_allowed</td><td>['job', 'runtime']</td></tr><tr><td>allow_object_storage</td><td>True</td></tr><tr><td>supported_instructions</td><td>['u1', 'id', 'reset', 'sx', 'setf', 'shiftf', 'measure', 'u2', 'acquire', 'u3', 'cx', 'play', 'delay', 'x', 'rz']</td></tr><tr><td>backend_name</td><td>ibm_oslo</td></tr><tr><td>dynamic_reprate_enabled</td><td>True</td></tr><tr><td>rep_times</td><td>[1000.0]</td></tr><tr><td>dt</td><td>0.2222222222222222</td></tr><tr><td>description</td><td>7 qubit device</td></tr><tr><td>channels</td><td>{'acquire0': {'operates': {'qubits': [0]}, 'purpose': 'acquire', 'type': 'acquire'}, 'acquire1': {'operates': {'qubits': [1]}, 'purpose': 'acquire', 'type': 'acquire'}, 'acquire2': {'operates': {'qubits': [2]}, 'purpose': 'acquire', 'type': 'acquire'}, 'acquire3': {'operates': {'qubits': [3]}, 'purpose': 'acquire', 'type': 'acquire'}, 'acquire4': {'operates': {'qubits': [4]}, 'purpose': 'acquire', 'type': 'acquire'}, 'acquire5': {'operates': {'qubits': [5]}, 'purpose': 'acquire', 'type': 'acquire'}, 'acquire6': {'operates': {'qubits': [6]}, 'purpose': 'acquire', 'type': 'acquire'}, 'd0': {'operates': {'qubits': [0]}, 'purpose': 'drive', 'type': 'drive'}, 'd1': {'operates': {'qubits': [1]}, 'purpose': 'drive', 'type': 'drive'}, 'd2': {'operates': {'qubits': [2]}, 'purpose': 'drive', 'type': 'drive'}, 'd3': {'operates': {'qubits': [3]}, 'purpose': 'drive', 'type': 'drive'}, 'd4': {'operates': {'qubits': [4]}, 'purpose': 'drive', 'type': 'drive'}, 'd5': {'operates': {'qubits': [5]}, 'purpose': 'drive', 'type': 'drive'}, 'd6': {'operates': {'qubits': [6]}, 'purpose': 'drive', 'type': 'drive'}, 'm0': {'operates': {'qubits': [0]}, 'purpose': 'measure', 'type': 'measure'}, 'm1': {'operates': {'qubits': [1]}, 'purpose': 'measure', 'type': 'measure'}, 'm2': {'operates': {'qubits': [2]}, 'purpose': 'measure', 'type': 'measure'}, 'm3': {'operates': {'qubits': [3]}, 'purpose': 'measure', 'type': 'measure'}, 'm4': {'operates': {'qubits': [4]}, 'purpose': 'measure', 'type': 'measure'}, 'm5': {'operates': {'qubits': [5]}, 'purpose': 'measure', 'type': 'measure'}, 'm6': {'operates': {'qubits': [6]}, 'purpose': 'measure', 'type': 'measure'}, 'u0': {'operates': {'qubits': [0, 1]}, 'purpose': 'cross-resonance', 'type': 'control'}, 'u1': {'operates': {'qubits': [1, 0]}, 'purpose': 'cross-resonance', 'type': 'control'}, 'u10': {'operates': {'qubits': [5, 6]}, 'purpose': 'cross-resonance', 'type': 'control'}, 'u11': {'operates': {'qubits': [6, 5]}, 'purpose': 'cross-resonance', 'type': 'control'}, 'u2': {'operates': {'qubits': [1, 2]}, 'purpose': 'cross-resonance', 'type': 'control'}, 'u3': {'operates': {'qubits': [1, 3]}, 'purpose': 'cross-resonance', 'type': 'control'}, 'u4': {'operates': {'qubits': [2, 1]}, 'purpose': 'cross-resonance', 'type': 'control'}, 'u5': {'operates': {'qubits': [3, 1]}, 'purpose': 'cross-resonance', 'type': 'control'}, 'u6': {'operates': {'qubits': [3, 5]}, 'purpose': 'cross-resonance', 'type': 'control'}, 'u7': {'operates': {'qubits': [4, 5]}, 'purpose': 'cross-resonance', 'type': 'control'}, 'u8': {'operates': {'qubits': [5, 3]}, 'purpose': 'cross-resonance', 'type': 'control'}, 'u9': {'operates': {'qubits': [5, 4]}, 'purpose': 'cross-resonance', 'type': 'control'}}</td></tr><tr><td>timing_constraints</td><td>{'acquire_alignment': 16, 'granularity': 16, 'min_length': 64, 'pulse_alignment': 16}</td></tr><tr><td>conditional_latency</td><td>[]</td></tr></table>"
      }
     },
     "26b3c3462b834d598fef354ff6b0c678": {
      "model_module": "@jupyter-widgets/base",
      "model_module_version": "1.2.0",
      "model_name": "LayoutModel",
      "state": {
       "grid_area": "right"
      }
     },
     "2737e5c4751141e4b82e15b5891afdf7": {
      "model_module": "@jupyter-widgets/base",
      "model_module_version": "1.2.0",
      "model_name": "LayoutModel",
      "state": {
       "grid_area": "left"
      }
     },
     "27ea2947959b4eb5bade1dd87b39ad98": {
      "model_module": "@jupyter-widgets/base",
      "model_module_version": "1.2.0",
      "model_name": "LayoutModel",
      "state": {
       "grid_area": "left",
       "width": "100%"
      }
     },
     "286eb996a7be47e3863d0e0b51d57484": {
      "model_module": "@jupyter-widgets/controls",
      "model_module_version": "1.5.0",
      "model_name": "HTMLModel",
      "state": {
       "layout": "IPY_MODEL_728ccc55d2e54e368026acf9c13298ea",
       "style": "IPY_MODEL_925025d9df824eb9a19d004c9c05eb2f",
       "value": "<table><style>\ntable {\n    border-collapse: collapse;\n    width: auto;\n}\n\nth, td {\n    text-align: left;\n    padding: 8px;\n}\n\ntr:nth-child(even) {background-color: #f6f6f6;};\n</style><tr><th></th><th>Type</th><th>Gate error</th></tr><tr><td><font style='font-weight:bold'>cx1_3</font></td><td>cx</td><td>0.00924</td></tr><tr><td><font style='font-weight:bold'>cx3_1</font></td><td>cx</td><td>0.00924</td></tr><tr><td><font style='font-weight:bold'>cx5_3</font></td><td>cx</td><td>0.00767</td></tr><tr><td><font style='font-weight:bold'>cx3_5</font></td><td>cx</td><td>0.00767</td></tr></table>"
      }
     },
     "2933ea5ce3fc4d14b07efe6c5a63ba63": {
      "model_module": "@jupyter-widgets/controls",
      "model_module_version": "1.5.0",
      "model_name": "DescriptionStyleModel",
      "state": {
       "description_width": ""
      }
     },
     "29541dbbe7be47ebbfd119b204a8d7c0": {
      "model_module": "@jupyter-widgets/base",
      "model_module_version": "1.2.0",
      "model_name": "LayoutModel",
      "state": {
       "grid_area": "bottom",
       "width": "auto"
      }
     },
     "29a030d19f2442fcb1c0bdef247fda94": {
      "model_module": "@jupyter-widgets/base",
      "model_module_version": "1.2.0",
      "model_name": "LayoutModel",
      "state": {
       "align_items": "center",
       "display": "flex-inline"
      }
     },
     "2a0d71e8f5944b60a50b52e562d6429b": {
      "model_module": "@jupyter-widgets/base",
      "model_module_version": "1.2.0",
      "model_name": "LayoutModel",
      "state": {}
     },
     "2a1106c494974743893410f8c1b50455": {
      "model_module": "@jupyter-widgets/controls",
      "model_module_version": "1.5.0",
      "model_name": "DescriptionStyleModel",
      "state": {
       "description_width": ""
      }
     },
     "2a4e40927cc645f896355cdf260ec0bf": {
      "model_module": "@jupyter-widgets/base",
      "model_module_version": "1.2.0",
      "model_name": "LayoutModel",
      "state": {}
     },
     "2b67a3270aed4bbdac9fdf41413d14e4": {
      "model_module": "@jupyter-widgets/controls",
      "model_module_version": "1.5.0",
      "model_name": "DescriptionStyleModel",
      "state": {
       "description_width": ""
      }
     },
     "2b7751fc93634e4fb2c9d3017e7c9aa2": {
      "model_module": "@jupyter-widgets/controls",
      "model_module_version": "1.5.0",
      "model_name": "HTMLModel",
      "state": {
       "layout": "IPY_MODEL_8dc1bd657a584a2e86c12ea154e767b4",
       "style": "IPY_MODEL_98b3ebbfc5d24a38972c94094614382b",
       "value": "<table><style>\ntable {\n    border-collapse: collapse;\n    width: auto;\n}\n\nth, td {\n    text-align: left;\n    padding: 8px;\n}\n\ntr:nth-child(even) {background-color: #f6f6f6;};\n</style><tr><th></th><th>Type</th><th>Gate error</th></tr><tr><td><font style='font-weight:bold'>cx1_3</font></td><td>cx</td><td>0.00924</td></tr><tr><td><font style='font-weight:bold'>cx3_1</font></td><td>cx</td><td>0.00924</td></tr><tr><td><font style='font-weight:bold'>cx5_3</font></td><td>cx</td><td>0.00767</td></tr><tr><td><font style='font-weight:bold'>cx3_5</font></td><td>cx</td><td>0.00767</td></tr></table>"
      }
     },
     "2b7ee7d94f6c4a9fa29b0ca6bb55d779": {
      "model_module": "@jupyter-widgets/base",
      "model_module_version": "1.2.0",
      "model_name": "LayoutModel",
      "state": {
       "max_height": "620px"
      }
     },
     "2bf5e2ca028f493aadecfa9da3ce7447": {
      "model_module": "@jupyter-widgets/controls",
      "model_module_version": "1.5.0",
      "model_name": "DescriptionStyleModel",
      "state": {
       "description_width": ""
      }
     },
     "2bfe7820cd6f43adb4751f9923a49223": {
      "model_module": "@jupyter-widgets/controls",
      "model_module_version": "1.5.0",
      "model_name": "DescriptionStyleModel",
      "state": {
       "description_width": ""
      }
     },
     "2c14ea64507e458ba71716a8d1e63ef2": {
      "model_module": "@jupyter-widgets/base",
      "model_module_version": "1.2.0",
      "model_name": "LayoutModel",
      "state": {
       "align_items": "center",
       "display": "flex-inline"
      }
     },
     "2c19347c3af74080b6887d10070f0816": {
      "model_module": "@jupyter-widgets/controls",
      "model_module_version": "1.5.0",
      "model_name": "HTMLModel",
      "state": {
       "layout": "IPY_MODEL_12bf9dd8ec314f168c06a8c8d99bc2df",
       "style": "IPY_MODEL_fbde527f675a482c8e6eee65cc604e12",
       "value": "<table><style>\ntable {\n    border-collapse: collapse;\n    width: auto;\n}\n\nth, td {\n    text-align: left;\n    padding: 8px;\n}\n\ntr:nth-child(even) {background-color: #f6f6f6;};\n</style><tr><th></th><th>Type</th><th>Gate error</th></tr><tr><td><font style='font-weight:bold'>cx6_5</font></td><td>cx</td><td>0.00755</td></tr><tr><td><font style='font-weight:bold'>cx5_6</font></td><td>cx</td><td>0.00755</td></tr><tr><td><font style='font-weight:bold'>cx0_1</font></td><td>cx</td><td>0.00972</td></tr><tr><td><font style='font-weight:bold'>cx1_0</font></td><td>cx</td><td>0.00972</td></tr></table>"
      }
     },
     "2c37c92298f340aa8730f1419f30b017": {
      "model_module": "@jupyter-widgets/base",
      "model_module_version": "1.2.0",
      "model_name": "LayoutModel",
      "state": {
       "grid_area": "left"
      }
     },
     "2cd394ca996b46ed80602c30c144e5c9": {
      "model_module": "@jupyter-widgets/base",
      "model_module_version": "1.2.0",
      "model_name": "LayoutModel",
      "state": {
       "align_items": "center",
       "display": "flex-inline"
      }
     },
     "2d2e32307b6f4972b13a4b0a5c73e4be": {
      "model_module": "@jupyter-widgets/base",
      "model_module_version": "1.2.0",
      "model_name": "LayoutModel",
      "state": {}
     },
     "2d67cb95e1d642e3a09a1c13a7a54ab6": {
      "model_module": "@jupyter-widgets/base",
      "model_module_version": "1.2.0",
      "model_name": "LayoutModel",
      "state": {
       "grid_area": "right"
      }
     },
     "2d7bbcc18bba4cc799581a44138768a5": {
      "model_module": "@jupyter-widgets/controls",
      "model_module_version": "1.5.0",
      "model_name": "HTMLModel",
      "state": {
       "layout": "IPY_MODEL_eebb31d926cd49bda944cd85558d83a5",
       "style": "IPY_MODEL_e8715f8294ca4dc9a51ed0f952bd2621",
       "value": "<div><font style='font-weight:bold'>last_update_date</font>: Tue 28 June 2022 at 11:14 UTC</div>"
      }
     },
     "2da0fb54d4c74eee87f86d8ffb06856a": {
      "model_module": "@jupyter-widgets/controls",
      "model_module_version": "1.5.0",
      "model_name": "VBoxModel",
      "state": {
       "children": [
        "IPY_MODEL_6a41b1e4a70e4292a2684aa2245d0e97",
        "IPY_MODEL_070c3f55a0b5418c98914b4060a8c02c"
       ],
       "layout": "IPY_MODEL_94fc7440586e4fd59b6dcb7b1ed0058e"
      }
     },
     "2f670a4ac45547349c7dccac7220c103": {
      "model_module": "@jupyter-widgets/base",
      "model_module_version": "1.2.0",
      "model_name": "LayoutModel",
      "state": {
       "max_height": "620px"
      }
     },
     "2f8c9e975d67412b9ccd60b7834a1c45": {
      "model_module": "@jupyter-widgets/base",
      "model_module_version": "1.2.0",
      "model_name": "LayoutModel",
      "state": {
       "grid_area": "right"
      }
     },
     "2f90c25c1517459a86669730dfd6c788": {
      "model_module": "@jupyter-widgets/base",
      "model_module_version": "1.2.0",
      "model_name": "LayoutModel",
      "state": {}
     },
     "2fe7c33e92be41d6b8b1b609e173104b": {
      "model_module": "@jupyter-widgets/controls",
      "model_module_version": "1.5.0",
      "model_name": "HTMLModel",
      "state": {
       "layout": "IPY_MODEL_0f26c1d74d0c46ddb038c181d53af1f5",
       "style": "IPY_MODEL_2b67a3270aed4bbdac9fdf41413d14e4",
       "value": "<table><style>\ntable {\n    border-collapse: collapse;\n    width: auto;\n}\n\nth, td {\n    text-align: left;\n    padding: 8px;\n}\n\ntr:nth-child(even) {background-color: #f6f6f6;};\n</style><tr><th></th><th>Type</th><th>Gate error</th></tr><tr><td><font style='font-weight:bold'>cx1_3</font></td><td>cx</td><td>0.00924</td></tr><tr><td><font style='font-weight:bold'>cx3_1</font></td><td>cx</td><td>0.00924</td></tr><tr><td><font style='font-weight:bold'>cx5_3</font></td><td>cx</td><td>0.00767</td></tr><tr><td><font style='font-weight:bold'>cx3_5</font></td><td>cx</td><td>0.00767</td></tr></table>"
      }
     },
     "301f4d190d5f47b58730dbe26d220400": {
      "model_module": "@jupyter-widgets/base",
      "model_module_version": "1.2.0",
      "model_name": "LayoutModel",
      "state": {
       "grid_area": "top"
      }
     },
     "306b84acb52c4b5fb05c2159946a52ed": {
      "model_module": "@jupyter-widgets/controls",
      "model_module_version": "1.5.0",
      "model_name": "GridBoxModel",
      "state": {
       "children": [
        "IPY_MODEL_42d451ec8e9542adbc4ba3304a513270",
        "IPY_MODEL_5a956f6a03d5475da58598e1209f4f43",
        "IPY_MODEL_1132fc19892b4d468b6cef397f1cb7cd",
        "IPY_MODEL_76561783d3a0431585cf948e0ef17fa2"
       ],
       "layout": "IPY_MODEL_802a2f7cb1d64bd68f8232f4db07caed"
      }
     },
     "3089ef8fb55142c8873ca59b7c3bb3c9": {
      "model_module": "@jupyter-widgets/base",
      "model_module_version": "1.2.0",
      "model_name": "LayoutModel",
      "state": {
       "grid_area": "bottom",
       "width": "auto"
      }
     },
     "3091bd80dee34aeb8adeb6d93b981cdf": {
      "model_module": "@jupyter-widgets/base",
      "model_module_version": "1.2.0",
      "model_name": "LayoutModel",
      "state": {
       "grid_area": "left"
      }
     },
     "30f0c3f2736b43028a0916c8550c0f85": {
      "model_module": "@jupyter-widgets/controls",
      "model_module_version": "1.5.0",
      "model_name": "HTMLModel",
      "state": {
       "layout": "IPY_MODEL_43c6c14e12ff49b09b75a9775e183c0e",
       "style": "IPY_MODEL_7885fe32291a48979dc9436747c98942",
       "value": "<table><style>\ntable {\n    border-collapse: collapse;\n    width: auto;\n}\n\nth, td {\n    text-align: left;\n    padding: 8px;\n}\n\ntr:nth-child(even) {background-color: #f6f6f6;};\n</style><tr><th></th><th>Type</th><th>Gate error</th></tr><tr><td><font style='font-weight:bold'>cx6_5</font></td><td>cx</td><td>0.00755</td></tr><tr><td><font style='font-weight:bold'>cx5_6</font></td><td>cx</td><td>0.00755</td></tr><tr><td><font style='font-weight:bold'>cx0_1</font></td><td>cx</td><td>0.00972</td></tr><tr><td><font style='font-weight:bold'>cx1_0</font></td><td>cx</td><td>0.00972</td></tr></table>"
      }
     },
     "30f14d02ce884988acf09f149aa03766": {
      "model_module": "@jupyter-widgets/controls",
      "model_module_version": "1.5.0",
      "model_name": "DescriptionStyleModel",
      "state": {
       "description_width": ""
      }
     },
     "3190db2e63fa4497a229b463f153004b": {
      "model_module": "@jupyter-widgets/controls",
      "model_module_version": "1.5.0",
      "model_name": "DescriptionStyleModel",
      "state": {
       "description_width": ""
      }
     },
     "32789a3735644e1b808f9a9217f29a0d": {
      "model_module": "@jupyter-widgets/controls",
      "model_module_version": "1.5.0",
      "model_name": "DescriptionStyleModel",
      "state": {
       "description_width": ""
      }
     },
     "3340b00bad1c4d67853a77e938374685": {
      "model_module": "@jupyter-widgets/controls",
      "model_module_version": "1.5.0",
      "model_name": "DescriptionStyleModel",
      "state": {
       "description_width": ""
      }
     },
     "3384e469a90045899c16d381bf335f00": {
      "model_module": "@jupyter-widgets/output",
      "model_module_version": "1.0.0",
      "model_name": "OutputModel",
      "state": {
       "layout": "IPY_MODEL_ed904240235c41db8511349c9c226301",
       "outputs": [
        {
         "data": {
          "image/png": "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\n",
          "text/plain": "<Figure size 792x648 with 5 Axes>"
         },
         "metadata": {},
         "output_type": "display_data"
        }
       ]
      }
     },
     "342060a185a542a291bc22f4fbc5f765": {
      "model_module": "@jupyter-widgets/controls",
      "model_module_version": "1.5.0",
      "model_name": "HTMLModel",
      "state": {
       "layout": "IPY_MODEL_4d43ce8e02ec4d0abc3b4b36c609462c",
       "style": "IPY_MODEL_c62595691ae244a7b437896319bb4dca",
       "value": "<table><style>\ntable {\n    border-collapse: collapse;\n    width: auto;\n}\n\nth, td {\n    text-align: left;\n    padding: 8px;\n}\n\ntr:nth-child(even) {background-color: #f6f6f6;}\n</style><tr><th></th><th>Frequency</th><th>T1</th><th>T2</th><th>RZ</th><th>SX</th><th>X</th><th>Readout error</th></tr><tr><td><font style='font-weight:bold'>Q0</font></td><td>4.92504 GHz</td><td>79.3204 us</td><td>147.6838 us</td><td>0</td><td>0.00022</td><td>0.00022</td><td>0.011 </td><tr><td><font style='font-weight:bold'>Q1</font></td><td>5.04625 GHz</td><td>120.67864 us</td><td>33.61631 us</td><td>0</td><td>0.00031</td><td>0.00031</td><td>0.013 </td><tr><td><font style='font-weight:bold'>Q2</font></td><td>4.96199 GHz</td><td>183.4616 us</td><td>78.74645 us</td><td>0</td><td>0.00018</td><td>0.00018</td><td>0.0074 </td><tr><td><font style='font-weight:bold'>Q3</font></td><td>5.10808 GHz</td><td>49.86176 us</td><td>36.92709 us</td><td>0</td><td>0.00055</td><td>0.00055</td><td>0.0174 </td><tr><td><font style='font-weight:bold'>Q4</font></td><td>5.01107 GHz</td><td>182.43489 us</td><td>136.28387 us</td><td>0</td><td>0.00026</td><td>0.00026</td><td>0.0272 </td><tr><td><font style='font-weight:bold'>Q5</font></td><td>5.17329 GHz</td><td>128.55255 us</td><td>36.36279 us</td><td>0</td><td>0.00043</td><td>0.00043</td><td>0.0118 </td><tr><td><font style='font-weight:bold'>Q6</font></td><td>5.3193 GHz</td><td>125.79972 us</td><td>58.54227 us</td><td>0</td><td>0.00029</td><td>0.00029</td><td>0.0295 </td></table>"
      }
     },
     "3472e7851a634b91ac459d85742981d2": {
      "model_module": "@jupyter-widgets/controls",
      "model_module_version": "1.5.0",
      "model_name": "DescriptionStyleModel",
      "state": {
       "description_width": ""
      }
     },
     "363e833d8eea49ab89dba53d76570330": {
      "model_module": "@jupyter-widgets/base",
      "model_module_version": "1.2.0",
      "model_name": "LayoutModel",
      "state": {
       "max_width": "700px",
       "min_width": "700px"
      }
     },
     "36558d3334244d9d8896553b04437a00": {
      "model_module": "@jupyter-widgets/controls",
      "model_module_version": "1.5.0",
      "model_name": "DescriptionStyleModel",
      "state": {
       "description_width": ""
      }
     },
     "36b183428e144f478c553fe81f2f6b01": {
      "model_module": "@jupyter-widgets/controls",
      "model_module_version": "1.5.0",
      "model_name": "HTMLModel",
      "state": {
       "layout": "IPY_MODEL_81248317b52445cab7a334617b96a9c5",
       "style": "IPY_MODEL_bbb2108a42bd402c815c1402cc439e2f",
       "value": "<div><font style='font-weight:bold'>last_update_date</font>: Tue 28 June 2022 at 12:20 UTC</div>"
      }
     },
     "37058a805d9648c3bbdb367c8b99ee11": {
      "model_module": "@jupyter-widgets/controls",
      "model_module_version": "1.5.0",
      "model_name": "GridBoxModel",
      "state": {
       "children": [
        "IPY_MODEL_0e0f697ccf1c4ee09fcdab740c000b7c",
        "IPY_MODEL_ce317d12990b4771a2f7ff6dd9662e4f",
        "IPY_MODEL_8ed118cabb1d460a9869853195b42f70",
        "IPY_MODEL_2c19347c3af74080b6887d10070f0816"
       ],
       "layout": "IPY_MODEL_17de7145121b432ba5ff054441cc0b02"
      }
     },
     "3745f9e2796e4096a4bb6bd1a01f5d22": {
      "model_module": "@jupyter-widgets/controls",
      "model_module_version": "1.5.0",
      "model_name": "HTMLModel",
      "state": {
       "layout": "IPY_MODEL_0d4a848b553c42ab9b07b888207491d8",
       "style": "IPY_MODEL_d00ac8c6d1be471294ad3a88cf4203d9",
       "value": "<table><style>\ntable {\n    border-collapse: collapse;\n    width: auto;\n}\n\nth, td {\n    text-align: left;\n    padding: 8px;\n}\n\ntr:nth-child(even) {background-color: #f6f6f6;};\n</style><tr><th></th><th>Type</th><th>Gate error</th></tr><tr><td><font style='font-weight:bold'>cx4_5</font></td><td>cx</td><td>0.01049</td></tr><tr><td><font style='font-weight:bold'>cx5_4</font></td><td>cx</td><td>0.01049</td></tr><tr><td><font style='font-weight:bold'>cx2_1</font></td><td>cx</td><td>0.00714</td></tr><tr><td><font style='font-weight:bold'>cx1_2</font></td><td>cx</td><td>0.00714</td></tr></table>"
      }
     },
     "375286dfb5834542a23ddaa896c10b7b": {
      "model_module": "@jupyter-widgets/base",
      "model_module_version": "1.2.0",
      "model_name": "LayoutModel",
      "state": {
       "grid_area": "middle"
      }
     },
     "37fcefa9576b4ab6ac5cf398bfa7b09e": {
      "model_module": "@jupyter-widgets/controls",
      "model_module_version": "1.5.0",
      "model_name": "HTMLModel",
      "state": {
       "layout": "IPY_MODEL_947fc77602684b15be1c7df7fe933af5",
       "style": "IPY_MODEL_2bf5e2ca028f493aadecfa9da3ce7447",
       "value": "<div><font style='font-weight:bold'>last_update_date</font>: 2022-06-28 11:14:01+00:00</div>"
      }
     },
     "3894eb5489964851a8da4f11e584f0fc": {
      "model_module": "@jupyter-widgets/base",
      "model_module_version": "1.2.0",
      "model_name": "LayoutModel",
      "state": {
       "border": "4px solid #000000",
       "max_height": "650px",
       "min_height": "650px",
       "overflow_y": "hidden"
      }
     },
     "3a00ad619e244923a6bbed3dc93959a7": {
      "model_module": "@jupyter-widgets/base",
      "model_module_version": "1.2.0",
      "model_name": "LayoutModel",
      "state": {
       "margin": "0px 0px 0px 0px"
      }
     },
     "3c7bd6f626e6452d87678bfe2b34f9a6": {
      "model_module": "@jupyter-widgets/controls",
      "model_module_version": "1.5.0",
      "model_name": "TabModel",
      "state": {
       "layout": "IPY_MODEL_3caf045d8eb54c708985c2805dda73fd"
      }
     },
     "3caf045d8eb54c708985c2805dda73fd": {
      "model_module": "@jupyter-widgets/base",
      "model_module_version": "1.2.0",
      "model_name": "LayoutModel",
      "state": {
       "max_height": "620px"
      }
     },
     "3dca902a2b0f494f843d58467cb50240": {
      "model_module": "@jupyter-widgets/controls",
      "model_module_version": "1.5.0",
      "model_name": "DescriptionStyleModel",
      "state": {
       "description_width": ""
      }
     },
     "3ece198bbbe34f4f973262c2099df6b3": {
      "model_module": "@jupyter-widgets/base",
      "model_module_version": "1.2.0",
      "model_name": "LayoutModel",
      "state": {
       "align_items": "center",
       "display": "flex-inline",
       "grid_area": "right",
       "max_height": "325px",
       "padding": "10px 10px 10px 10px",
       "width": "auto"
      }
     },
     "3f2b5535e75943418be66f6a40bb087c": {
      "model_module": "@jupyter-widgets/output",
      "model_module_version": "1.0.0",
      "model_name": "OutputModel",
      "state": {
       "layout": "IPY_MODEL_d2bb758ae05a4ff395dcd47defe8f9c2",
       "outputs": [
        {
         "data": {
          "image/png": "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\n",
          "text/plain": "<Figure size 360x360 with 1 Axes>"
         },
         "metadata": {},
         "output_type": "display_data"
        }
       ]
      }
     },
     "3f5e945d10f3496ca394b13c61232915": {
      "model_module": "@jupyter-widgets/controls",
      "model_module_version": "1.5.0",
      "model_name": "DescriptionStyleModel",
      "state": {
       "description_width": ""
      }
     },
     "3f7d313f3f504571b8049297947b947d": {
      "model_module": "@jupyter-widgets/base",
      "model_module_version": "1.2.0",
      "model_name": "LayoutModel",
      "state": {
       "grid_area": "left"
      }
     },
     "3fc5e22b572548eba432a9fe5cdbda44": {
      "model_module": "@jupyter-widgets/base",
      "model_module_version": "1.2.0",
      "model_name": "LayoutModel",
      "state": {
       "grid_gap": "0px 0px",
       "grid_template_areas": "\n                               \"left right right right\"\n                               \"bottom bottom bottom bottom\"\n                               ",
       "grid_template_columns": "31% 23% 23% 23%",
       "grid_template_rows": "auto auto"
      }
     },
     "407d6084df03420ab0174419e9ca0889": {
      "model_module": "@jupyter-widgets/base",
      "model_module_version": "1.2.0",
      "model_name": "LayoutModel",
      "state": {
       "grid_gap": "0px 0px",
       "grid_template_areas": "\n                               \"left right right right\"\n                               \"bottom bottom bottom bottom\"\n                               ",
       "grid_template_columns": "31% 23% 23% 23%",
       "grid_template_rows": "auto auto"
      }
     },
     "41604474bed54c20bd24ce302148998c": {
      "model_module": "@jupyter-widgets/base",
      "model_module_version": "1.2.0",
      "model_name": "LayoutModel",
      "state": {
       "width": "95px"
      }
     },
     "41e5705af56b485e958ac58a8e2d9849": {
      "model_module": "@jupyter-widgets/controls",
      "model_module_version": "1.5.0",
      "model_name": "DescriptionStyleModel",
      "state": {
       "description_width": ""
      }
     },
     "41f1caf0dcb5444987767b6bf62f1d87": {
      "model_module": "@jupyter-widgets/base",
      "model_module_version": "1.2.0",
      "model_name": "LayoutModel",
      "state": {
       "grid_area": "top"
      }
     },
     "423df25b880e42c9a4e386d5219bf58c": {
      "model_module": "@jupyter-widgets/output",
      "model_module_version": "1.0.0",
      "model_name": "OutputModel",
      "state": {
       "layout": "IPY_MODEL_c08d0cb1f62f4588ab6f818e004b8ed3",
       "outputs": [
        {
         "data": {
          "image/png": "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\n",
          "text/plain": "<Figure size 360x360 with 1 Axes>"
         },
         "metadata": {},
         "output_type": "display_data"
        }
       ]
      }
     },
     "42d451ec8e9542adbc4ba3304a513270": {
      "model_module": "@jupyter-widgets/controls",
      "model_module_version": "1.5.0",
      "model_name": "HTMLModel",
      "state": {
       "layout": "IPY_MODEL_9f53a5b5cc5c4214a117f34590d82a11",
       "style": "IPY_MODEL_8d3fee5a25f9499fb36282eefa4606ae",
       "value": "<div><font style='font-weight:bold'>last_update_date</font>: 2022-06-28 10:10:31+00:00</div>"
      }
     },
     "4305a4c2b87a43678a7df35ec0b4e6fc": {
      "model_module": "@jupyter-widgets/base",
      "model_module_version": "1.2.0",
      "model_name": "LayoutModel",
      "state": {
       "grid_gap": "0px 0px",
       "grid_template_areas": "\n                                                   \"top top top\"\n                                                   \"left middle right\"\n                                                   ",
       "grid_template_columns": "33% 33% 33%",
       "grid_template_rows": "auto auto"
      }
     },
     "43454746a62940d2bf73fe3715ee1737": {
      "model_module": "@jupyter-widgets/controls",
      "model_module_version": "1.5.0",
      "model_name": "DescriptionStyleModel",
      "state": {
       "description_width": ""
      }
     },
     "43b4c9e7998b459890713aedf4a22b7a": {
      "model_module": "@jupyter-widgets/controls",
      "model_module_version": "1.5.0",
      "model_name": "HTMLModel",
      "state": {
       "layout": "IPY_MODEL_939a82c890a1413598316d970a8a30ab",
       "style": "IPY_MODEL_a2d33cb0f2c04a899f00d1b1e8ad1275",
       "value": "<table><style>\ntable {\n    border-collapse: collapse;\n    width: auto;\n}\n\nth, td {\n    text-align: left;\n    padding: 8px;\n}\n\ntr:nth-child(even) {background-color: #f6f6f6;};\n</style><tr><th></th><th>Type</th><th>Gate error</th></tr><tr><td><font style='font-weight:bold'>cx6_5</font></td><td>cx</td><td>0.00755</td></tr><tr><td><font style='font-weight:bold'>cx5_6</font></td><td>cx</td><td>0.00755</td></tr><tr><td><font style='font-weight:bold'>cx0_1</font></td><td>cx</td><td>0.00972</td></tr><tr><td><font style='font-weight:bold'>cx1_0</font></td><td>cx</td><td>0.00972</td></tr></table>"
      }
     },
     "43c6c14e12ff49b09b75a9775e183c0e": {
      "model_module": "@jupyter-widgets/base",
      "model_module_version": "1.2.0",
      "model_name": "LayoutModel",
      "state": {
       "grid_area": "right"
      }
     },
     "43d45030417e44eaa762a1128e9c5bec": {
      "model_module": "@jupyter-widgets/controls",
      "model_module_version": "1.5.0",
      "model_name": "ButtonStyleModel",
      "state": {
       "button_color": "white"
      }
     },
     "43f7deca56224911b8a32a7231e11517": {
      "model_module": "@jupyter-widgets/base",
      "model_module_version": "1.2.0",
      "model_name": "LayoutModel",
      "state": {
       "grid_area": "left",
       "width": "100%"
      }
     },
     "4601f2c7afd740279c8c22071c81daea": {
      "model_module": "@jupyter-widgets/controls",
      "model_module_version": "1.5.0",
      "model_name": "HTMLMathModel",
      "state": {
       "layout": "IPY_MODEL_973dd52ca66045308bbf10ad6476e3db",
       "style": "IPY_MODEL_30f14d02ce884988acf09f149aa03766",
       "value": "<table><style>\ntable {\n    border-collapse: collapse;\n    width: auto;\n}\n\nth, td {\n    text-align: left;\n    padding: 8px;\n}\n\ntr:nth-child(even) {background-color: #f6f6f6;}\n</style><tr><th></th><th></th></tr><tr><td>allow_q_object</td><td>True</td></tr><tr><td>qubit_channel_mapping</td><td>[['m0', 'u1', 'u0', 'd0'], ['u1', 'd1', 'u0', 'u5', 'u2', 'm1', 'u3', 'u4'], ['m2', 'd2', 'u4', 'u2'], ['m3', 'u5', 'u3', 'u8', 'u6', 'd3'], ['d4', 'u7', 'u9', 'm4'], ['d5', 'u7', 'u9', 'u10', 'm5', 'u11', 'u8', 'u6'], ['d6', 'm6', 'u10', 'u11']]</td></tr><tr><td>supported_features</td><td>['qobj', 'qasm3']</td></tr><tr><td>memory</td><td>True</td></tr><tr><td>qubit_lo_range</td><td>[[4.425039493971028, 5.425039493971028], [4.546253783996783, 5.546253783996784], [4.4619867212182145, 5.4619867212182145], [4.608082034893607, 5.608082034893607], [4.511074409987105, 5.511074409987105], [4.673289842125353, 5.673289842125353], [4.819303501215827, 5.819303501215827]]</td></tr><tr><td>meas_lo_range</td><td>[[6.729836446, 7.729836446], [6.604835349, 7.604835349000001], [6.8306589760000005, 7.8306589760000005], [6.632327716000001, 7.632327716000001], [6.713651857, 7.713651857], [6.812390622000001, 7.812390622000001], [6.7878388140000006, 7.7878388140000006]]</td></tr><tr><td>measure_esp_enabled</td><td>False</td></tr><tr><td>local</td><td>False</td></tr><tr><td>multi_meas_enabled</td><td>True</td></tr><tr><td>meas_kernels</td><td>['hw_qmfk']</td></tr><tr><td>pulse_num_channels</td><td>9</td></tr><tr><td>uchannels_enabled</td><td>True</td></tr><tr><td>conditional</td><td>False</td></tr><tr><td>rep_delay_range</td><td>[0.0, 500.0]</td></tr><tr><td>sample_name</td><td>family: Falcon, revision: 5.11, segment: H</td></tr><tr><td>pulse_num_qubits</td><td>3</td></tr><tr><td>discriminators</td><td>['quadratic_discriminator', 'linear_discriminator', 'hw_qmfk']</td></tr><tr><td>open_pulse</td><td>False</td></tr><tr><td>online_date</td><td>2022-03-25 04:00:00+00:00</td></tr><tr><td>n_uchannels</td><td>12</td></tr><tr><td>hamiltonian</td><td>$$\\begin{align} \\mathcal{H}/\\hbar = & \\sum_{i=0}^{6}\\left(\\frac{\\omega_{q,i}}{2}(\\mathbb{I}-\\sigma_i^{z})+\\frac{\\Delta_{i}}{2}(O_i^2-O_i)+\\Omega_{d,i}D_i(t)\\sigma_i^{X}\\right) \\\\ & + J_{0,1}(\\sigma_{0}^{+}\\sigma_{1}^{-}+\\sigma_{0}^{-}\\sigma_{1}^{+}) + J_{1,2}(\\sigma_{1}^{+}\\sigma_{2}^{-}+\\sigma_{1}^{-}\\sigma_{2}^{+}) + J_{4,5}(\\sigma_{4}^{+}\\sigma_{5}^{-}+\\sigma_{4}^{-}\\sigma_{5}^{+}) + J_{5,6}(\\sigma_{5}^{+}\\sigma_{6}^{-}+\\sigma_{5}^{-}\\sigma_{6}^{+}) \\\\ & + J_{1,3}(\\sigma_{1}^{+}\\sigma_{3}^{-}+\\sigma_{1}^{-}\\sigma_{3}^{+}) + J_{3,5}(\\sigma_{3}^{+}\\sigma_{5}^{-}+\\sigma_{3}^{-}\\sigma_{5}^{+}) \\\\ & + \\Omega_{d,0}(U_{0}^{(0,1)}(t))\\sigma_{0}^{X} + \\Omega_{d,1}(U_{1}^{(1,0)}(t)+U_{3}^{(1,3)}(t)+U_{2}^{(1,2)}(t))\\sigma_{1}^{X} \\\\ & + \\Omega_{d,2}(U_{4}^{(2,1)}(t))\\sigma_{2}^{X} + \\Omega_{d,3}(U_{5}^{(3,1)}(t)+U_{6}^{(3,5)}(t))\\sigma_{3}^{X} \\\\ & + \\Omega_{d,4}(U_{7}^{(4,5)}(t))\\sigma_{4}^{X} + \\Omega_{d,5}(U_{8}^{(5,3)}(t)+U_{10}^{(5,6)}(t)+U_{9}^{(5,4)}(t))\\sigma_{5}^{X} \\\\ & + \\Omega_{d,6}(U_{11}^{(6,5)}(t))\\sigma_{6}^{X} \\\\ \\end{align}$$</td></tr><tr><td>default_rep_delay</td><td>250.0</td></tr><tr><td>url</td><td>None</td></tr><tr><td>clops</td><td>2645</td></tr><tr><td>meas_levels</td><td>[1, 2]</td></tr><tr><td>acquisition_latency</td><td>[]</td></tr><tr><td>simulator</td><td>False</td></tr><tr><td>live_data</td><td>False</td></tr><tr><td>processor_type</td><td>{'family': 'Falcon', 'revision': '5.11', 'segment': 'H'}</td></tr><tr><td>dtm</td><td>0.2222222222222222</td></tr><tr><td>n_registers</td><td>1</td></tr><tr><td>coupling_map</td><td>[[0, 1], [1, 0], [1, 2], [1, 3], [2, 1], [3, 1], [3, 5], [4, 5], [5, 3], [5, 4], [5, 6], [6, 5]]</td></tr><tr><td>parametric_pulses</td><td>['gaussian', 'gaussian_square', 'drag', 'constant']</td></tr><tr><td>credits_required</td><td>True</td></tr><tr><td>u_channel_lo</td><td>[[{'q': 1, 'scale': (1+0j)}], [{'q': 0, 'scale': (1+0j)}], [{'q': 2, 'scale': (1+0j)}], [{'q': 3, 'scale': (1+0j)}], [{'q': 1, 'scale': (1+0j)}], [{'q': 1, 'scale': (1+0j)}], [{'q': 5, 'scale': (1+0j)}], [{'q': 5, 'scale': (1+0j)}], [{'q': 3, 'scale': (1+0j)}], [{'q': 4, 'scale': (1+0j)}], [{'q': 6, 'scale': (1+0j)}], [{'q': 5, 'scale': (1+0j)}]]</td></tr><tr><td>meas_map</td><td>[[0, 1, 2, 3, 4, 5, 6]]</td></tr><tr><td>input_allowed</td><td>['job', 'runtime']</td></tr><tr><td>allow_object_storage</td><td>True</td></tr><tr><td>supported_instructions</td><td>['u1', 'id', 'reset', 'sx', 'setf', 'shiftf', 'measure', 'u2', 'acquire', 'u3', 'cx', 'play', 'delay', 'x', 'rz']</td></tr><tr><td>backend_name</td><td>ibm_oslo</td></tr><tr><td>dynamic_reprate_enabled</td><td>True</td></tr><tr><td>rep_times</td><td>[1000.0]</td></tr><tr><td>dt</td><td>0.2222222222222222</td></tr><tr><td>description</td><td>7 qubit device</td></tr><tr><td>channels</td><td>{'acquire0': {'operates': {'qubits': [0]}, 'purpose': 'acquire', 'type': 'acquire'}, 'acquire1': {'operates': {'qubits': [1]}, 'purpose': 'acquire', 'type': 'acquire'}, 'acquire2': {'operates': {'qubits': [2]}, 'purpose': 'acquire', 'type': 'acquire'}, 'acquire3': {'operates': {'qubits': [3]}, 'purpose': 'acquire', 'type': 'acquire'}, 'acquire4': {'operates': {'qubits': [4]}, 'purpose': 'acquire', 'type': 'acquire'}, 'acquire5': {'operates': {'qubits': [5]}, 'purpose': 'acquire', 'type': 'acquire'}, 'acquire6': {'operates': {'qubits': [6]}, 'purpose': 'acquire', 'type': 'acquire'}, 'd0': {'operates': {'qubits': [0]}, 'purpose': 'drive', 'type': 'drive'}, 'd1': {'operates': {'qubits': [1]}, 'purpose': 'drive', 'type': 'drive'}, 'd2': {'operates': {'qubits': [2]}, 'purpose': 'drive', 'type': 'drive'}, 'd3': {'operates': {'qubits': [3]}, 'purpose': 'drive', 'type': 'drive'}, 'd4': {'operates': {'qubits': [4]}, 'purpose': 'drive', 'type': 'drive'}, 'd5': {'operates': {'qubits': [5]}, 'purpose': 'drive', 'type': 'drive'}, 'd6': {'operates': {'qubits': [6]}, 'purpose': 'drive', 'type': 'drive'}, 'm0': {'operates': {'qubits': [0]}, 'purpose': 'measure', 'type': 'measure'}, 'm1': {'operates': {'qubits': [1]}, 'purpose': 'measure', 'type': 'measure'}, 'm2': {'operates': {'qubits': [2]}, 'purpose': 'measure', 'type': 'measure'}, 'm3': {'operates': {'qubits': [3]}, 'purpose': 'measure', 'type': 'measure'}, 'm4': {'operates': {'qubits': [4]}, 'purpose': 'measure', 'type': 'measure'}, 'm5': {'operates': {'qubits': [5]}, 'purpose': 'measure', 'type': 'measure'}, 'm6': {'operates': {'qubits': [6]}, 'purpose': 'measure', 'type': 'measure'}, 'u0': {'operates': {'qubits': [0, 1]}, 'purpose': 'cross-resonance', 'type': 'control'}, 'u1': {'operates': {'qubits': [1, 0]}, 'purpose': 'cross-resonance', 'type': 'control'}, 'u10': {'operates': {'qubits': [5, 6]}, 'purpose': 'cross-resonance', 'type': 'control'}, 'u11': {'operates': {'qubits': [6, 5]}, 'purpose': 'cross-resonance', 'type': 'control'}, 'u2': {'operates': {'qubits': [1, 2]}, 'purpose': 'cross-resonance', 'type': 'control'}, 'u3': {'operates': {'qubits': [1, 3]}, 'purpose': 'cross-resonance', 'type': 'control'}, 'u4': {'operates': {'qubits': [2, 1]}, 'purpose': 'cross-resonance', 'type': 'control'}, 'u5': {'operates': {'qubits': [3, 1]}, 'purpose': 'cross-resonance', 'type': 'control'}, 'u6': {'operates': {'qubits': [3, 5]}, 'purpose': 'cross-resonance', 'type': 'control'}, 'u7': {'operates': {'qubits': [4, 5]}, 'purpose': 'cross-resonance', 'type': 'control'}, 'u8': {'operates': {'qubits': [5, 3]}, 'purpose': 'cross-resonance', 'type': 'control'}, 'u9': {'operates': {'qubits': [5, 4]}, 'purpose': 'cross-resonance', 'type': 'control'}}</td></tr><tr><td>timing_constraints</td><td>{'acquire_alignment': 16, 'granularity': 16, 'min_length': 64, 'pulse_alignment': 16}</td></tr><tr><td>conditional_latency</td><td>[]</td></tr></table>"
      }
     },
     "47026e9939ca411e9057ca6f61bd18b1": {
      "model_module": "@jupyter-widgets/controls",
      "model_module_version": "1.5.0",
      "model_name": "TabModel",
      "state": {
       "_titles": {
        "0": "Configuration",
        "1": "Qubit Properties",
        "2": "Multi-Qubit Gates",
        "3": "Error Map",
        "4": "Job History"
       },
       "children": [
        "IPY_MODEL_23c2547a524f4c9bbdcb7817f39643c9",
        "IPY_MODEL_c048308d9cb54d21a05f04b28472a12c",
        "IPY_MODEL_6ff7bb0878754d75a44b836be8fb6073",
        "IPY_MODEL_b11745572548496ea6e103796477199c",
        "IPY_MODEL_f8d9184e813244ceb543cfaa3bfae823"
       ],
       "layout": "IPY_MODEL_7a285dc0761d4546b6e87b2121e61e36"
      }
     },
     "48a55de534a449aa8bed130742d8db3d": {
      "model_module": "@jupyter-widgets/controls",
      "model_module_version": "1.5.0",
      "model_name": "TabModel",
      "state": {
       "layout": "IPY_MODEL_b9a6690ab360441b8f835f83ebabc598"
      }
     },
     "48e3cae0c87f445cb368c3a7965ded15": {
      "model_module": "@jupyter-widgets/base",
      "model_module_version": "1.2.0",
      "model_name": "LayoutModel",
      "state": {}
     },
     "49dcbab033f64527b3a69c81b9793eb7": {
      "model_module": "@jupyter-widgets/controls",
      "model_module_version": "1.5.0",
      "model_name": "HTMLModel",
      "state": {
       "layout": "IPY_MODEL_8331da7ce3694649bd4f11808769c7a1",
       "style": "IPY_MODEL_0b7184364ad946c4a4b7fa6d4735d67e",
       "value": "<h1 style='color:#ffffff;background-color:#000000;padding-top: 1%;padding-bottom: 1%;padding-left: 1%; margin-top: 0px'>ibm_oslo</h1>"
      }
     },
     "4a27cdcb6eac4b22b7c5ffcfe2eb5bc7": {
      "model_module": "@jupyter-widgets/base",
      "model_module_version": "1.2.0",
      "model_name": "LayoutModel",
      "state": {}
     },
     "4c31677f66dd4e6485af748f66114c4b": {
      "model_module": "@jupyter-widgets/controls",
      "model_module_version": "1.5.0",
      "model_name": "HTMLModel",
      "state": {
       "layout": "IPY_MODEL_63a1a1006565410381414ee35ae83642",
       "style": "IPY_MODEL_e03bfc9e781948619537b781f45590d5",
       "value": "<table><style>\ntable {\n    border-collapse: collapse;\n    width: auto;\n}\n\nth, td {\n    text-align: left;\n    padding: 8px;\n}\n\ntr:nth-child(even) {background-color: #f6f6f6;}\n</style><tr><th></th><th>Frequency</th><th>T1</th><th>T2</th><th>RZ</th><th>SX</th><th>X</th><th>Readout error</th></tr><tr><td><font style='font-weight:bold'>Q0</font></td><td>4.92504 GHz</td><td>79.3204 us</td><td>147.6838 us</td><td>0</td><td>0.00022</td><td>0.00022</td><td>0.011 </td><tr><td><font style='font-weight:bold'>Q1</font></td><td>5.04625 GHz</td><td>120.67864 us</td><td>33.61631 us</td><td>0</td><td>0.00031</td><td>0.00031</td><td>0.013 </td><tr><td><font style='font-weight:bold'>Q2</font></td><td>4.96199 GHz</td><td>183.4616 us</td><td>78.74645 us</td><td>0</td><td>0.00018</td><td>0.00018</td><td>0.0074 </td><tr><td><font style='font-weight:bold'>Q3</font></td><td>5.10808 GHz</td><td>49.86176 us</td><td>36.92709 us</td><td>0</td><td>0.00055</td><td>0.00055</td><td>0.0174 </td><tr><td><font style='font-weight:bold'>Q4</font></td><td>5.01107 GHz</td><td>182.43489 us</td><td>136.28387 us</td><td>0</td><td>0.00026</td><td>0.00026</td><td>0.0272 </td><tr><td><font style='font-weight:bold'>Q5</font></td><td>5.17329 GHz</td><td>128.55255 us</td><td>36.36279 us</td><td>0</td><td>0.00043</td><td>0.00043</td><td>0.0118 </td><tr><td><font style='font-weight:bold'>Q6</font></td><td>5.3193 GHz</td><td>125.79972 us</td><td>58.54227 us</td><td>0</td><td>0.00029</td><td>0.00029</td><td>0.0295 </td></table>"
      }
     },
     "4c5b41e9acce48038df6a4a250b5cb81": {
      "model_module": "@jupyter-widgets/controls",
      "model_module_version": "1.5.0",
      "model_name": "DescriptionStyleModel",
      "state": {
       "description_width": ""
      }
     },
     "4c6adba7ac9447f697d18f6f604268d6": {
      "model_module": "@jupyter-widgets/controls",
      "model_module_version": "1.5.0",
      "model_name": "TabModel",
      "state": {
       "_titles": {
        "0": "Configuration",
        "1": "Qubit Properties",
        "2": "Multi-Qubit Gates",
        "3": "Error Map",
        "4": "Job History"
       },
       "children": [
        "IPY_MODEL_9ff5acf8dc8e4924921a3c850de5c68e",
        "IPY_MODEL_b900405eba2944589b83b485f72565f3",
        "IPY_MODEL_306b84acb52c4b5fb05c2159946a52ed",
        "IPY_MODEL_8385ed99874a4626a320990701f5a3a1",
        "IPY_MODEL_48a55de534a449aa8bed130742d8db3d"
       ],
       "layout": "IPY_MODEL_fe6592039e4e4ff39457e091dd65b007"
      }
     },
     "4cd1f58cf33d4a78886e1450b5376c5a": {
      "model_module": "@jupyter-widgets/controls",
      "model_module_version": "1.5.0",
      "model_name": "DescriptionStyleModel",
      "state": {
       "description_width": ""
      }
     },
     "4d43ce8e02ec4d0abc3b4b36c609462c": {
      "model_module": "@jupyter-widgets/base",
      "model_module_version": "1.2.0",
      "model_name": "LayoutModel",
      "state": {}
     },
     "4d8df83cf2b149c79188d60e51ef845d": {
      "model_module": "@jupyter-widgets/base",
      "model_module_version": "1.2.0",
      "model_name": "LayoutModel",
      "state": {
       "width": "70px"
      }
     },
     "4fb3ce2f35b4487398147894e7440bd1": {
      "model_module": "@jupyter-widgets/controls",
      "model_module_version": "1.5.0",
      "model_name": "VBoxModel",
      "state": {
       "children": [
        "IPY_MODEL_9a001ceb01fb47d1a9375741c57006f5",
        "IPY_MODEL_854dce8f05b2410d99df436a13260da9"
       ],
       "layout": "IPY_MODEL_81f7a77cb69043098a6d2a55af9c613a"
      }
     },
     "50bcb35e55b84d51ac8aab94cfc352fe": {
      "model_module": "@jupyter-widgets/base",
      "model_module_version": "1.2.0",
      "model_name": "LayoutModel",
      "state": {
       "grid_area": "bottom",
       "width": "auto"
      }
     },
     "5121db045aea49af946ceaeb0f5485b1": {
      "model_module": "@jupyter-widgets/controls",
      "model_module_version": "1.5.0",
      "model_name": "DescriptionStyleModel",
      "state": {
       "description_width": ""
      }
     },
     "51e2b37c58084b50951326b7333efb06": {
      "model_module": "@jupyter-widgets/controls",
      "model_module_version": "1.5.0",
      "model_name": "GridBoxModel",
      "state": {
       "children": [
        "IPY_MODEL_1ac3d714beeb4b2b81bd59f3afdc4f9f",
        "IPY_MODEL_fa0cc9c51cf747b0a0bef50b6470e00b",
        "IPY_MODEL_5851f5bd146245038438b2f114044d08",
        "IPY_MODEL_ed30ddd4cfec401dad225f06743f4d5c"
       ],
       "layout": "IPY_MODEL_5abfda07585e49258d1b456f1ac78d5c"
      }
     },
     "51ed6085301a46628baba87d950257d3": {
      "model_module": "@jupyter-widgets/controls",
      "model_module_version": "1.5.0",
      "model_name": "DescriptionStyleModel",
      "state": {
       "description_width": ""
      }
     },
     "535eae3cc38a4a1890f731b6f9f35365": {
      "model_module": "@jupyter-widgets/controls",
      "model_module_version": "1.5.0",
      "model_name": "HTMLModel",
      "state": {
       "layout": "IPY_MODEL_581d09ffe21e4d71b61ac92eb6e0bde3",
       "style": "IPY_MODEL_6181fee28f4f40aea79b9da603cd2e56",
       "value": "<table><style>\ntable {\n    border-collapse: collapse;\n    width: auto;\n}\n\nth, td {\n    text-align: left;\n    padding: 8px;\n}\n\ntr:nth-child(even) {background-color: #f6f6f6;};\n</style><tr><th></th><th>Type</th><th>Gate error</th></tr><tr><td><font style='font-weight:bold'>cx1_3</font></td><td>cx</td><td>0.00924</td></tr><tr><td><font style='font-weight:bold'>cx3_1</font></td><td>cx</td><td>0.00924</td></tr><tr><td><font style='font-weight:bold'>cx5_3</font></td><td>cx</td><td>0.00767</td></tr><tr><td><font style='font-weight:bold'>cx3_5</font></td><td>cx</td><td>0.00767</td></tr></table>"
      }
     },
     "536f8ab887d44654ab2f34e0530780c6": {
      "model_module": "@jupyter-widgets/controls",
      "model_module_version": "1.5.0",
      "model_name": "HTMLModel",
      "state": {
       "layout": "IPY_MODEL_02b1df83918e4785a249f57405359968",
       "style": "IPY_MODEL_a3610badd46c4e39a82d20fea28c7c06",
       "value": "<table><style>\ntable {\n    border-collapse: collapse;\n    width: auto;\n}\n\nth, td {\n    text-align: left;\n    padding: 8px;\n}\n\ntr:nth-child(even) {background-color: #f6f6f6;};\n</style><tr><th></th><th>Type</th><th>Gate error</th></tr><tr><td><font style='font-weight:bold'>cx4_5</font></td><td>cx</td><td>0.01049</td></tr><tr><td><font style='font-weight:bold'>cx5_4</font></td><td>cx</td><td>0.01049</td></tr><tr><td><font style='font-weight:bold'>cx2_1</font></td><td>cx</td><td>0.00714</td></tr><tr><td><font style='font-weight:bold'>cx1_2</font></td><td>cx</td><td>0.00714</td></tr></table>"
      }
     },
     "540f9ed21e3b47edab8b0169921cc9e5": {
      "model_module": "@jupyter-widgets/controls",
      "model_module_version": "1.5.0",
      "model_name": "TabModel",
      "state": {
       "layout": "IPY_MODEL_86a5a31305854b00af248416e0fb034a"
      }
     },
     "54e44017019d451a8e56136b1db5e3f2": {
      "model_module": "@jupyter-widgets/base",
      "model_module_version": "1.2.0",
      "model_name": "LayoutModel",
      "state": {
       "align_items": "center",
       "display": "flex-inline",
       "grid_area": "right",
       "max_height": "325px",
       "padding": "10px 10px 10px 10px",
       "width": "auto"
      }
     },
     "56a47d62d4a446ca944a2561612217ef": {
      "model_module": "@jupyter-widgets/base",
      "model_module_version": "1.2.0",
      "model_name": "LayoutModel",
      "state": {
       "width": "70px"
      }
     },
     "56dbf44af0ba4687a92bedfd843a98b5": {
      "model_module": "@jupyter-widgets/controls",
      "model_module_version": "1.5.0",
      "model_name": "DescriptionStyleModel",
      "state": {
       "description_width": ""
      }
     },
     "570cad05e2f8405fb36a3b92ddaa0c7d": {
      "model_module": "@jupyter-widgets/controls",
      "model_module_version": "1.5.0",
      "model_name": "DescriptionStyleModel",
      "state": {
       "description_width": ""
      }
     },
     "572361464a694c5a9aa2344af7b17ef7": {
      "model_module": "@jupyter-widgets/base",
      "model_module_version": "1.2.0",
      "model_name": "LayoutModel",
      "state": {
       "grid_area": "right"
      }
     },
     "581d09ffe21e4d71b61ac92eb6e0bde3": {
      "model_module": "@jupyter-widgets/base",
      "model_module_version": "1.2.0",
      "model_name": "LayoutModel",
      "state": {
       "grid_area": "middle"
      }
     },
     "5820a4a905dc41c0a65a7f3e70cfe3b5": {
      "model_module": "@jupyter-widgets/controls",
      "model_module_version": "1.5.0",
      "model_name": "DescriptionStyleModel",
      "state": {
       "description_width": ""
      }
     },
     "5851f5bd146245038438b2f114044d08": {
      "model_module": "@jupyter-widgets/controls",
      "model_module_version": "1.5.0",
      "model_name": "HTMLModel",
      "state": {
       "layout": "IPY_MODEL_cfa00f3330ac4b648c602c398abdf22c",
       "style": "IPY_MODEL_5820a4a905dc41c0a65a7f3e70cfe3b5",
       "value": "<table><style>\ntable {\n    border-collapse: collapse;\n    width: auto;\n}\n\nth, td {\n    text-align: left;\n    padding: 8px;\n}\n\ntr:nth-child(even) {background-color: #f6f6f6;};\n</style><tr><th></th><th>Type</th><th>Gate error</th></tr><tr><td><font style='font-weight:bold'>cx1_3</font></td><td>cx</td><td>0.00924</td></tr><tr><td><font style='font-weight:bold'>cx3_1</font></td><td>cx</td><td>0.00924</td></tr><tr><td><font style='font-weight:bold'>cx5_3</font></td><td>cx</td><td>0.00767</td></tr><tr><td><font style='font-weight:bold'>cx3_5</font></td><td>cx</td><td>0.00767</td></tr></table>"
      }
     },
     "585f5c9b474b4edda85a3f48d0797c5a": {
      "model_module": "@jupyter-widgets/base",
      "model_module_version": "1.2.0",
      "model_name": "LayoutModel",
      "state": {
       "grid_gap": "0px 0px",
       "grid_template_areas": "\n                                                   \"top top top\"\n                                                   \"left middle right\"\n                                                   ",
       "grid_template_columns": "33% 33% 33%",
       "grid_template_rows": "auto auto"
      }
     },
     "592b8ac2771e4321891f982801b4503d": {
      "model_module": "@jupyter-widgets/controls",
      "model_module_version": "1.5.0",
      "model_name": "DescriptionStyleModel",
      "state": {
       "description_width": ""
      }
     },
     "59416530529c47799140edde959f1b5b": {
      "model_module": "@jupyter-widgets/controls",
      "model_module_version": "1.5.0",
      "model_name": "HTMLModel",
      "state": {
       "layout": "IPY_MODEL_2f8c9e975d67412b9ccd60b7834a1c45",
       "style": "IPY_MODEL_ab667468182746f795a918ff307e1638",
       "value": "<table><style>\ntable {\n    border-collapse: collapse;\n    width: auto;\n}\n\nth, td {\n    text-align: left;\n    padding: 8px;\n}\n\ntr:nth-child(even) {background-color: #f6f6f6;};\n</style><tr><th></th><th>Type</th><th>Gate error</th></tr><tr><td><font style='font-weight:bold'>cx6_5</font></td><td>cx</td><td>0.00755</td></tr><tr><td><font style='font-weight:bold'>cx5_6</font></td><td>cx</td><td>0.00755</td></tr><tr><td><font style='font-weight:bold'>cx0_1</font></td><td>cx</td><td>0.00972</td></tr><tr><td><font style='font-weight:bold'>cx1_0</font></td><td>cx</td><td>0.00972</td></tr></table>"
      }
     },
     "59c9f75b175b43e3b37cc405f43d3f42": {
      "model_module": "@jupyter-widgets/base",
      "model_module_version": "1.2.0",
      "model_name": "LayoutModel",
      "state": {
       "max_height": "620px"
      }
     },
     "5a0b6c4defb9422094da55b0a7e80734": {
      "model_module": "@jupyter-widgets/controls",
      "model_module_version": "1.5.0",
      "model_name": "HTMLMathModel",
      "state": {
       "layout": "IPY_MODEL_c6e4339e9d4d46e4bc4a8e7c18faa32c",
       "style": "IPY_MODEL_9d7fc9ea371f48c8b476b7807b613c67",
       "value": "<table><style>\ntable {\n    border-collapse: collapse;\n    width: auto;\n}\n\nth, td {\n    text-align: left;\n    padding: 8px;\n}\n\ntr:nth-child(even) {background-color: #f6f6f6;}\n</style><tr><th></th><th></th></tr><tr><td>allow_q_object</td><td>True</td></tr><tr><td>qubit_channel_mapping</td><td>[['d0', 'm0', 'u1', 'u0'], ['d1', 'u4', 'u0', 'u2', 'u1', 'u5', 'm1', 'u3'], ['u4', 'm2', 'u2', 'd2'], ['u8', 'u5', 'u6', 'd3', 'u3', 'm3'], ['m4', 'u7', 'd4', 'u9'], ['u7', 'u8', 'm5', 'd5', 'u9', 'u10', 'u6', 'u11'], ['u11', 'd6', 'm6', 'u10']]</td></tr><tr><td>supported_features</td><td>['qobj', 'qasm3']</td></tr><tr><td>memory</td><td>True</td></tr><tr><td>qubit_lo_range</td><td>[[4.425039493971028, 5.425039493971028], [4.546253783996783, 5.546253783996784], [4.4619867212182145, 5.4619867212182145], [4.608082034893607, 5.608082034893607], [4.511074409987105, 5.511074409987105], [4.673289842125353, 5.673289842125353], [4.819303501215827, 5.819303501215827]]</td></tr><tr><td>meas_lo_range</td><td>[[6.729836446, 7.729836446], [6.604835349, 7.604835349000001], [6.8306589760000005, 7.8306589760000005], [6.632327716000001, 7.632327716000001], [6.713651857, 7.713651857], [6.812390622000001, 7.812390622000001], [6.7878388140000006, 7.7878388140000006]]</td></tr><tr><td>measure_esp_enabled</td><td>False</td></tr><tr><td>local</td><td>False</td></tr><tr><td>multi_meas_enabled</td><td>True</td></tr><tr><td>meas_kernels</td><td>['hw_qmfk']</td></tr><tr><td>pulse_num_channels</td><td>9</td></tr><tr><td>uchannels_enabled</td><td>True</td></tr><tr><td>conditional</td><td>False</td></tr><tr><td>rep_delay_range</td><td>[0.0, 500.0]</td></tr><tr><td>sample_name</td><td>family: Falcon, revision: 5.11, segment: H</td></tr><tr><td>pulse_num_qubits</td><td>3</td></tr><tr><td>discriminators</td><td>['hw_qmfk', 'quadratic_discriminator', 'linear_discriminator']</td></tr><tr><td>open_pulse</td><td>False</td></tr><tr><td>online_date</td><td>2022-03-25 04:00:00+00:00</td></tr><tr><td>n_uchannels</td><td>12</td></tr><tr><td>hamiltonian</td><td>$$\\begin{align} \\mathcal{H}/\\hbar = & \\sum_{i=0}^{6}\\left(\\frac{\\omega_{q,i}}{2}(\\mathbb{I}-\\sigma_i^{z})+\\frac{\\Delta_{i}}{2}(O_i^2-O_i)+\\Omega_{d,i}D_i(t)\\sigma_i^{X}\\right) \\\\ & + J_{0,1}(\\sigma_{0}^{+}\\sigma_{1}^{-}+\\sigma_{0}^{-}\\sigma_{1}^{+}) + J_{1,2}(\\sigma_{1}^{+}\\sigma_{2}^{-}+\\sigma_{1}^{-}\\sigma_{2}^{+}) + J_{4,5}(\\sigma_{4}^{+}\\sigma_{5}^{-}+\\sigma_{4}^{-}\\sigma_{5}^{+}) + J_{5,6}(\\sigma_{5}^{+}\\sigma_{6}^{-}+\\sigma_{5}^{-}\\sigma_{6}^{+}) \\\\ & + J_{1,3}(\\sigma_{1}^{+}\\sigma_{3}^{-}+\\sigma_{1}^{-}\\sigma_{3}^{+}) + J_{3,5}(\\sigma_{3}^{+}\\sigma_{5}^{-}+\\sigma_{3}^{-}\\sigma_{5}^{+}) \\\\ & + \\Omega_{d,0}(U_{0}^{(0,1)}(t))\\sigma_{0}^{X} + \\Omega_{d,1}(U_{1}^{(1,0)}(t)+U_{3}^{(1,3)}(t)+U_{2}^{(1,2)}(t))\\sigma_{1}^{X} \\\\ & + \\Omega_{d,2}(U_{4}^{(2,1)}(t))\\sigma_{2}^{X} + \\Omega_{d,3}(U_{5}^{(3,1)}(t)+U_{6}^{(3,5)}(t))\\sigma_{3}^{X} \\\\ & + \\Omega_{d,4}(U_{7}^{(4,5)}(t))\\sigma_{4}^{X} + \\Omega_{d,5}(U_{8}^{(5,3)}(t)+U_{10}^{(5,6)}(t)+U_{9}^{(5,4)}(t))\\sigma_{5}^{X} \\\\ & + \\Omega_{d,6}(U_{11}^{(6,5)}(t))\\sigma_{6}^{X} \\\\ \\end{align}$$</td></tr><tr><td>default_rep_delay</td><td>250.0</td></tr><tr><td>url</td><td>None</td></tr><tr><td>clops</td><td>2645</td></tr><tr><td>meas_levels</td><td>[1, 2]</td></tr><tr><td>acquisition_latency</td><td>[]</td></tr><tr><td>simulator</td><td>False</td></tr><tr><td>live_data</td><td>False</td></tr><tr><td>processor_type</td><td>{'family': 'Falcon', 'revision': '5.11', 'segment': 'H'}</td></tr><tr><td>dtm</td><td>0.2222222222222222</td></tr><tr><td>n_registers</td><td>1</td></tr><tr><td>coupling_map</td><td>[[0, 1], [1, 0], [1, 2], [1, 3], [2, 1], [3, 1], [3, 5], [4, 5], [5, 3], [5, 4], [5, 6], [6, 5]]</td></tr><tr><td>parametric_pulses</td><td>['gaussian', 'gaussian_square', 'drag', 'constant']</td></tr><tr><td>credits_required</td><td>True</td></tr><tr><td>u_channel_lo</td><td>[[{'q': 1, 'scale': (1+0j)}], [{'q': 0, 'scale': (1+0j)}], [{'q': 2, 'scale': (1+0j)}], [{'q': 3, 'scale': (1+0j)}], [{'q': 1, 'scale': (1+0j)}], [{'q': 1, 'scale': (1+0j)}], [{'q': 5, 'scale': (1+0j)}], [{'q': 5, 'scale': (1+0j)}], [{'q': 3, 'scale': (1+0j)}], [{'q': 4, 'scale': (1+0j)}], [{'q': 6, 'scale': (1+0j)}], [{'q': 5, 'scale': (1+0j)}]]</td></tr><tr><td>meas_map</td><td>[[0, 1, 2, 3, 4, 5, 6]]</td></tr><tr><td>input_allowed</td><td>['job', 'runtime']</td></tr><tr><td>allow_object_storage</td><td>True</td></tr><tr><td>supported_instructions</td><td>['sx', 'play', 'x', 'u2', 'delay', 'acquire', 'u1', 'reset', 'shiftf', 'measure', 'setf', 'cx', 'rz', 'id', 'u3']</td></tr><tr><td>backend_name</td><td>ibm_oslo</td></tr><tr><td>dynamic_reprate_enabled</td><td>True</td></tr><tr><td>rep_times</td><td>[1000.0]</td></tr><tr><td>dt</td><td>0.2222222222222222</td></tr><tr><td>description</td><td>7 qubit device</td></tr><tr><td>channels</td><td>{'acquire0': {'operates': {'qubits': [0]}, 'purpose': 'acquire', 'type': 'acquire'}, 'acquire1': {'operates': {'qubits': [1]}, 'purpose': 'acquire', 'type': 'acquire'}, 'acquire2': {'operates': {'qubits': [2]}, 'purpose': 'acquire', 'type': 'acquire'}, 'acquire3': {'operates': {'qubits': [3]}, 'purpose': 'acquire', 'type': 'acquire'}, 'acquire4': {'operates': {'qubits': [4]}, 'purpose': 'acquire', 'type': 'acquire'}, 'acquire5': {'operates': {'qubits': [5]}, 'purpose': 'acquire', 'type': 'acquire'}, 'acquire6': {'operates': {'qubits': [6]}, 'purpose': 'acquire', 'type': 'acquire'}, 'd0': {'operates': {'qubits': [0]}, 'purpose': 'drive', 'type': 'drive'}, 'd1': {'operates': {'qubits': [1]}, 'purpose': 'drive', 'type': 'drive'}, 'd2': {'operates': {'qubits': [2]}, 'purpose': 'drive', 'type': 'drive'}, 'd3': {'operates': {'qubits': [3]}, 'purpose': 'drive', 'type': 'drive'}, 'd4': {'operates': {'qubits': [4]}, 'purpose': 'drive', 'type': 'drive'}, 'd5': {'operates': {'qubits': [5]}, 'purpose': 'drive', 'type': 'drive'}, 'd6': {'operates': {'qubits': [6]}, 'purpose': 'drive', 'type': 'drive'}, 'm0': {'operates': {'qubits': [0]}, 'purpose': 'measure', 'type': 'measure'}, 'm1': {'operates': {'qubits': [1]}, 'purpose': 'measure', 'type': 'measure'}, 'm2': {'operates': {'qubits': [2]}, 'purpose': 'measure', 'type': 'measure'}, 'm3': {'operates': {'qubits': [3]}, 'purpose': 'measure', 'type': 'measure'}, 'm4': {'operates': {'qubits': [4]}, 'purpose': 'measure', 'type': 'measure'}, 'm5': {'operates': {'qubits': [5]}, 'purpose': 'measure', 'type': 'measure'}, 'm6': {'operates': {'qubits': [6]}, 'purpose': 'measure', 'type': 'measure'}, 'u0': {'operates': {'qubits': [0, 1]}, 'purpose': 'cross-resonance', 'type': 'control'}, 'u1': {'operates': {'qubits': [1, 0]}, 'purpose': 'cross-resonance', 'type': 'control'}, 'u10': {'operates': {'qubits': [5, 6]}, 'purpose': 'cross-resonance', 'type': 'control'}, 'u11': {'operates': {'qubits': [6, 5]}, 'purpose': 'cross-resonance', 'type': 'control'}, 'u2': {'operates': {'qubits': [1, 2]}, 'purpose': 'cross-resonance', 'type': 'control'}, 'u3': {'operates': {'qubits': [1, 3]}, 'purpose': 'cross-resonance', 'type': 'control'}, 'u4': {'operates': {'qubits': [2, 1]}, 'purpose': 'cross-resonance', 'type': 'control'}, 'u5': {'operates': {'qubits': [3, 1]}, 'purpose': 'cross-resonance', 'type': 'control'}, 'u6': {'operates': {'qubits': [3, 5]}, 'purpose': 'cross-resonance', 'type': 'control'}, 'u7': {'operates': {'qubits': [4, 5]}, 'purpose': 'cross-resonance', 'type': 'control'}, 'u8': {'operates': {'qubits': [5, 3]}, 'purpose': 'cross-resonance', 'type': 'control'}, 'u9': {'operates': {'qubits': [5, 4]}, 'purpose': 'cross-resonance', 'type': 'control'}}</td></tr><tr><td>timing_constraints</td><td>{'acquire_alignment': 16, 'granularity': 16, 'min_length': 64, 'pulse_alignment': 16}</td></tr><tr><td>conditional_latency</td><td>[]</td></tr></table>"
      }
     },
     "5a956f6a03d5475da58598e1209f4f43": {
      "model_module": "@jupyter-widgets/controls",
      "model_module_version": "1.5.0",
      "model_name": "HTMLModel",
      "state": {
       "layout": "IPY_MODEL_963e206b1f7045cb9007c2231fab137e",
       "style": "IPY_MODEL_570cad05e2f8405fb36a3b92ddaa0c7d",
       "value": "<table><style>\ntable {\n    border-collapse: collapse;\n    width: auto;\n}\n\nth, td {\n    text-align: left;\n    padding: 8px;\n}\n\ntr:nth-child(even) {background-color: #f6f6f6;};\n</style><tr><th></th><th>Type</th><th>Gate error</th></tr><tr><td><font style='font-weight:bold'>cx4_5</font></td><td>cx</td><td>0.01049</td></tr><tr><td><font style='font-weight:bold'>cx5_4</font></td><td>cx</td><td>0.01049</td></tr><tr><td><font style='font-weight:bold'>cx2_1</font></td><td>cx</td><td>0.00714</td></tr><tr><td><font style='font-weight:bold'>cx1_2</font></td><td>cx</td><td>0.00714</td></tr></table>"
      }
     },
     "5abfda07585e49258d1b456f1ac78d5c": {
      "model_module": "@jupyter-widgets/base",
      "model_module_version": "1.2.0",
      "model_name": "LayoutModel",
      "state": {
       "grid_gap": "0px 0px",
       "grid_template_areas": "\n                                                   \"top top top\"\n                                                   \"left middle right\"\n                                                   ",
       "grid_template_columns": "33% 33% 33%",
       "grid_template_rows": "auto auto"
      }
     },
     "5ac5500874e04366a0c19ea60e9e5366": {
      "model_module": "@jupyter-widgets/controls",
      "model_module_version": "1.5.0",
      "model_name": "DescriptionStyleModel",
      "state": {
       "description_width": ""
      }
     },
     "5aca24f742f5490390406b72dbe01dee": {
      "model_module": "@jupyter-widgets/base",
      "model_module_version": "1.2.0",
      "model_name": "LayoutModel",
      "state": {
       "grid_gap": "0px 0px",
       "grid_template_areas": "\n                                                   \"top top top\"\n                                                   \"left middle right\"\n                                                   ",
       "grid_template_columns": "33% 33% 33%",
       "grid_template_rows": "auto auto"
      }
     },
     "5b8cdaba73684853854847676783be12": {
      "model_module": "@jupyter-widgets/base",
      "model_module_version": "1.2.0",
      "model_name": "LayoutModel",
      "state": {
       "grid_area": "middle"
      }
     },
     "5bc811412a944352916dc30c33ae066e": {
      "model_module": "@jupyter-widgets/base",
      "model_module_version": "1.2.0",
      "model_name": "LayoutModel",
      "state": {
       "grid_gap": "0px 0px",
       "grid_template_areas": "\n                               \"left right right right\"\n                               \"bottom bottom bottom bottom\"\n                               ",
       "grid_template_columns": "31% 23% 23% 23%",
       "grid_template_rows": "auto auto"
      }
     },
     "5dad7fff6e2b4bd097cd08f215d5b9b4": {
      "model_module": "@jupyter-widgets/base",
      "model_module_version": "1.2.0",
      "model_name": "LayoutModel",
      "state": {
       "align_items": "center",
       "display": "flex-inline"
      }
     },
     "5ea93853ed6241dcb7a859bda61bc16a": {
      "model_module": "@jupyter-widgets/controls",
      "model_module_version": "1.5.0",
      "model_name": "HTMLModel",
      "state": {
       "layout": "IPY_MODEL_7fee957c8e9f4e6790fa0ec6a8135509",
       "style": "IPY_MODEL_b8991007df5947ca87eff952aac52810",
       "value": "<table><style>\ntable {\n    border-collapse: collapse;\n    width: auto;\n}\n\nth, td {\n    text-align: left;\n    padding: 8px;\n}\n\ntr:nth-child(even) {background-color: #f6f6f6;}\n</style><tr><th></th><th>Frequency</th><th>T1</th><th>T2</th><th>RZ</th><th>SX</th><th>X</th><th>Readout error</th></tr><tr><td><font style='font-weight:bold'>Q0</font></td><td>4.92504 GHz</td><td>172.12202 us</td><td>147.6838 us</td><td>0</td><td>0.00022</td><td>0.00022</td><td>0.011 </td><tr><td><font style='font-weight:bold'>Q1</font></td><td>5.04625 GHz</td><td>101.47156 us</td><td>33.61631 us</td><td>0</td><td>0.00031</td><td>0.00031</td><td>0.013 </td><tr><td><font style='font-weight:bold'>Q2</font></td><td>4.96199 GHz</td><td>162.21194 us</td><td>78.74645 us</td><td>0</td><td>0.00018</td><td>0.00018</td><td>0.0074 </td><tr><td><font style='font-weight:bold'>Q3</font></td><td>5.10808 GHz</td><td>60.86934 us</td><td>36.92709 us</td><td>0</td><td>0.00055</td><td>0.00055</td><td>0.0174 </td><tr><td><font style='font-weight:bold'>Q4</font></td><td>5.01107 GHz</td><td>168.01949 us</td><td>136.28387 us</td><td>0</td><td>0.00026</td><td>0.00026</td><td>0.0272 </td><tr><td><font style='font-weight:bold'>Q5</font></td><td>5.17329 GHz</td><td>112.91342 us</td><td>36.36279 us</td><td>0</td><td>0.00043</td><td>0.00043</td><td>0.0118 </td><tr><td><font style='font-weight:bold'>Q6</font></td><td>5.3193 GHz</td><td>92.8356 us</td><td>58.54227 us</td><td>0</td><td>0.00029</td><td>0.00029</td><td>0.0295 </td></table>"
      }
     },
     "5eaf37ac4869484c9550b011c3321f0d": {
      "model_module": "@jupyter-widgets/controls",
      "model_module_version": "1.5.0",
      "model_name": "HTMLModel",
      "state": {
       "layout": "IPY_MODEL_85dc8349081e43c480c603de840c55ef",
       "style": "IPY_MODEL_8575dabdd60c42d396f0d1b57617ee22",
       "value": "<table><style>\ntable {\n    border-collapse: collapse;\n    width: auto;\n}\n\nth, td {\n    text-align: left;\n    padding: 8px;\n}\n\ntr:nth-child(even) {background-color: #f6f6f6;};\n</style><tr><th></th><th>Type</th><th>Gate error</th></tr><tr><td><font style='font-weight:bold'>cx1_3</font></td><td>cx</td><td>0.00924</td></tr><tr><td><font style='font-weight:bold'>cx3_1</font></td><td>cx</td><td>0.00924</td></tr><tr><td><font style='font-weight:bold'>cx5_3</font></td><td>cx</td><td>0.00767</td></tr><tr><td><font style='font-weight:bold'>cx3_5</font></td><td>cx</td><td>0.00767</td></tr></table>"
      }
     },
     "5f0f3dd6827f400db2b6dcac45171af7": {
      "model_module": "@jupyter-widgets/controls",
      "model_module_version": "1.5.0",
      "model_name": "TabModel",
      "state": {
       "layout": "IPY_MODEL_f64d62460bd24e16a596c8b9de78ea6c"
      }
     },
     "5f6884183dc047b88c8de74b89ec73e6": {
      "model_module": "@jupyter-widgets/controls",
      "model_module_version": "1.5.0",
      "model_name": "DescriptionStyleModel",
      "state": {
       "description_width": ""
      }
     },
     "60bd99e3bbf34caeb9b8a4755109125e": {
      "model_module": "@jupyter-widgets/controls",
      "model_module_version": "1.5.0",
      "model_name": "HTMLMathModel",
      "state": {
       "layout": "IPY_MODEL_20a6442f3f6d4327b01b232b8c695522",
       "style": "IPY_MODEL_63184e861d0542cb9abf7a79f38fe8ce",
       "value": "<table><style>\ntable {\n    border-collapse: collapse;\n    width: auto;\n}\n\nth, td {\n    text-align: left;\n    padding: 8px;\n}\n\ntr:nth-child(even) {background-color: #f6f6f6;}\n</style><tr><th>Property</th><th>Value</th></tr><tr><td><font style='font-weight:bold'>n_qubits</font></td><td>7</td></tr><tr><td><font style='font-weight:bold'>quantum_volume</font></td><td>32</td></tr><tr><td><font style='font-weight:bold'>operational</font></td><td>True</td></tr><tr><td><font style='font-weight:bold'>status_msg</font></td><td>active</td></tr><tr><td><font style='font-weight:bold'>pending_jobs</font></td><td>96</td></tr><tr><td><font style='font-weight:bold'>backend_version</font></td><td>1.0.3</td></tr><tr><td><font style='font-weight:bold'>basis_gates</font></td><td>['id', 'rz', 'sx', 'x', 'cx', 'reset']</td></tr><tr><td><font style='font-weight:bold'>max_shots</font></td><td>20000</td></tr><tr><td><font style='font-weight:bold'>max_experiments</font></td><td>100</td></tr></table>"
      }
     },
     "6114dd35c0c440b1aad4c74cdb8162a3": {
      "model_module": "@jupyter-widgets/base",
      "model_module_version": "1.2.0",
      "model_name": "LayoutModel",
      "state": {}
     },
     "616461e481d44d59a90e1c4bb1c83514": {
      "model_module": "@jupyter-widgets/base",
      "model_module_version": "1.2.0",
      "model_name": "LayoutModel",
      "state": {
       "margin": "0px 5px 0px 0px",
       "width": "32px"
      }
     },
     "6181fee28f4f40aea79b9da603cd2e56": {
      "model_module": "@jupyter-widgets/controls",
      "model_module_version": "1.5.0",
      "model_name": "DescriptionStyleModel",
      "state": {
       "description_width": ""
      }
     },
     "61d6b5df2145463b931ac189cccf42e2": {
      "model_module": "@jupyter-widgets/output",
      "model_module_version": "1.0.0",
      "model_name": "OutputModel",
      "state": {
       "layout": "IPY_MODEL_5dad7fff6e2b4bd097cd08f215d5b9b4",
       "outputs": [
        {
         "data": {
          "image/png": "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\n",
          "text/plain": "<Figure size 792x648 with 5 Axes>"
         },
         "metadata": {},
         "output_type": "display_data"
        }
       ]
      }
     },
     "61ea5dde38be45e18ce3fce4bcc9711e": {
      "model_module": "@jupyter-widgets/controls",
      "model_module_version": "1.5.0",
      "model_name": "DescriptionStyleModel",
      "state": {
       "description_width": ""
      }
     },
     "627c967b079641fa9031655efb1cfed3": {
      "model_module": "@jupyter-widgets/base",
      "model_module_version": "1.2.0",
      "model_name": "LayoutModel",
      "state": {
       "grid_area": "left",
       "width": "100%"
      }
     },
     "62df3e6ea28b4fa0bf8a68c69fc2f004": {
      "model_module": "@jupyter-widgets/base",
      "model_module_version": "1.2.0",
      "model_name": "LayoutModel",
      "state": {
       "align_items": "center",
       "display": "flex-inline"
      }
     },
     "63184e861d0542cb9abf7a79f38fe8ce": {
      "model_module": "@jupyter-widgets/controls",
      "model_module_version": "1.5.0",
      "model_name": "DescriptionStyleModel",
      "state": {
       "description_width": ""
      }
     },
     "636e1437823e43af8c163ee8a45b8882": {
      "model_module": "@jupyter-widgets/controls",
      "model_module_version": "1.5.0",
      "model_name": "DescriptionStyleModel",
      "state": {
       "description_width": ""
      }
     },
     "63a1a1006565410381414ee35ae83642": {
      "model_module": "@jupyter-widgets/base",
      "model_module_version": "1.2.0",
      "model_name": "LayoutModel",
      "state": {}
     },
     "63f98cbcc3cb43d5930cd41f19395a46": {
      "model_module": "@jupyter-widgets/controls",
      "model_module_version": "1.5.0",
      "model_name": "DescriptionStyleModel",
      "state": {
       "description_width": ""
      }
     },
     "640ff15040a84873956721cb1f88c528": {
      "model_module": "@jupyter-widgets/controls",
      "model_module_version": "1.5.0",
      "model_name": "HTMLModel",
      "state": {
       "layout": "IPY_MODEL_d938ce3fa0cb44248e5f58f4a010a055",
       "style": "IPY_MODEL_e8de1af5881148d1a28fa9517520fe6a",
       "value": "<p style='font-family: IBM Plex Sans, Arial, Helvetica, sans-serif; font-size: 20px; font-weight: medium;'>Circuit Properties</p>"
      }
     },
     "64fd52be325b48318baffe4909a0b8f0": {
      "model_module": "@jupyter-widgets/base",
      "model_module_version": "1.2.0",
      "model_name": "LayoutModel",
      "state": {
       "grid_area": "left",
       "width": "100%"
      }
     },
     "65a20336b10f40b39ef49bbdbb5dcc4d": {
      "model_module": "@jupyter-widgets/controls",
      "model_module_version": "1.5.0",
      "model_name": "DescriptionStyleModel",
      "state": {
       "description_width": ""
      }
     },
     "65ebba0c2d2d4a3388dc87ddde98be1e": {
      "model_module": "@jupyter-widgets/controls",
      "model_module_version": "1.5.0",
      "model_name": "DescriptionStyleModel",
      "state": {
       "description_width": ""
      }
     },
     "6685d565fe7b46c5b9feeea95b9b9d51": {
      "model_module": "@jupyter-widgets/controls",
      "model_module_version": "1.5.0",
      "model_name": "TabModel",
      "state": {
       "_titles": {
        "0": "Configuration",
        "1": "Qubit Properties",
        "2": "Multi-Qubit Gates",
        "3": "Error Map",
        "4": "Job History"
       },
       "children": [
        "IPY_MODEL_7a805bf119874cbaa2943bba3b197fa8",
        "IPY_MODEL_720146d6ec184f5a9c7e41e6caa01d3a",
        "IPY_MODEL_197ab75b02654295b9406ce53c5bcbbb",
        "IPY_MODEL_2372ce561ad44cc791da0733340fa4f4",
        "IPY_MODEL_95360310ff534b46bf68bff1599e1d02"
       ],
       "layout": "IPY_MODEL_15f472d927014da399374a96bf11739e"
      }
     },
     "669f8a5c95a44c3d8ff1429c995fe9ce": {
      "model_module": "@jupyter-widgets/base",
      "model_module_version": "1.2.0",
      "model_name": "LayoutModel",
      "state": {
       "border": "4px solid #000000",
       "max_height": "650px",
       "min_height": "650px",
       "overflow_y": "hidden"
      }
     },
     "66ab766d2abe43e78ea564a034c3f107": {
      "model_module": "@jupyter-widgets/controls",
      "model_module_version": "1.5.0",
      "model_name": "DescriptionStyleModel",
      "state": {
       "description_width": ""
      }
     },
     "66c0d2af44de45589cdc84c70ddb465a": {
      "model_module": "@jupyter-widgets/controls",
      "model_module_version": "1.5.0",
      "model_name": "HTMLModel",
      "state": {
       "layout": "IPY_MODEL_8d4cd838bfdb442185e1e9288defef9d",
       "style": "IPY_MODEL_592b8ac2771e4321891f982801b4503d",
       "value": "<h1 style='color:#ffffff;background-color:#000000;padding-top: 1%;padding-bottom: 1%;padding-left: 1%; margin-top: 0px'>ibm_oslo</h1>"
      }
     },
     "672fdd3d8f8d4e248c2bd5c54a1d407f": {
      "model_module": "@jupyter-widgets/controls",
      "model_module_version": "1.5.0",
      "model_name": "DescriptionStyleModel",
      "state": {
       "description_width": ""
      }
     },
     "6767a5f4026241deb47c4edb4333941e": {
      "model_module": "@jupyter-widgets/controls",
      "model_module_version": "1.5.0",
      "model_name": "DescriptionStyleModel",
      "state": {
       "description_width": ""
      }
     },
     "67ba1d44e6ce401695cdc5d810653d47": {
      "model_module": "@jupyter-widgets/base",
      "model_module_version": "1.2.0",
      "model_name": "LayoutModel",
      "state": {
       "grid_gap": "0px 0px",
       "grid_template_areas": "\n                                                   \"top top top\"\n                                                   \"left middle right\"\n                                                   ",
       "grid_template_columns": "33% 33% 33%",
       "grid_template_rows": "auto auto"
      }
     },
     "67daf08530a44917bcd845e4e66f8fff": {
      "model_module": "@jupyter-widgets/base",
      "model_module_version": "1.2.0",
      "model_name": "LayoutModel",
      "state": {
       "border": "4px solid #000000",
       "max_height": "650px",
       "min_height": "650px",
       "overflow_y": "hidden"
      }
     },
     "6832fc39193a44f8896a647832b63516": {
      "model_module": "@jupyter-widgets/controls",
      "model_module_version": "1.5.0",
      "model_name": "DescriptionStyleModel",
      "state": {
       "description_width": ""
      }
     },
     "68408b93b3f24a80902d5e5c6db5ace2": {
      "model_module": "@jupyter-widgets/base",
      "model_module_version": "1.2.0",
      "model_name": "LayoutModel",
      "state": {}
     },
     "69e7ce610ca04af2901e75e819ebbf1b": {
      "model_module": "@jupyter-widgets/controls",
      "model_module_version": "1.5.0",
      "model_name": "HTMLMathModel",
      "state": {
       "layout": "IPY_MODEL_27ea2947959b4eb5bade1dd87b39ad98",
       "style": "IPY_MODEL_672fdd3d8f8d4e248c2bd5c54a1d407f",
       "value": "<table><style>\ntable {\n    border-collapse: collapse;\n    width: auto;\n}\n\nth, td {\n    text-align: left;\n    padding: 8px;\n}\n\ntr:nth-child(even) {background-color: #f6f6f6;}\n</style><tr><th>Property</th><th>Value</th></tr><tr><td><font style='font-weight:bold'>n_qubits</font></td><td>7</td></tr><tr><td><font style='font-weight:bold'>quantum_volume</font></td><td>32</td></tr><tr><td><font style='font-weight:bold'>operational</font></td><td>True</td></tr><tr><td><font style='font-weight:bold'>status_msg</font></td><td>active</td></tr><tr><td><font style='font-weight:bold'>pending_jobs</font></td><td>94</td></tr><tr><td><font style='font-weight:bold'>backend_version</font></td><td>1.0.3</td></tr><tr><td><font style='font-weight:bold'>basis_gates</font></td><td>['id', 'rz', 'sx', 'x', 'cx', 'reset']</td></tr><tr><td><font style='font-weight:bold'>max_shots</font></td><td>20000</td></tr><tr><td><font style='font-weight:bold'>max_experiments</font></td><td>100</td></tr></table>"
      }
     },
     "6a41b1e4a70e4292a2684aa2245d0e97": {
      "model_module": "@jupyter-widgets/controls",
      "model_module_version": "1.5.0",
      "model_name": "HTMLModel",
      "state": {
       "layout": "IPY_MODEL_e22e4960630f46b5a1ef22cf62e985cc",
       "style": "IPY_MODEL_e197d07878a14454910fcbdd89f4591a",
       "value": "<h1 style='color:#ffffff;background-color:#000000;padding-top: 1%;padding-bottom: 1%;padding-left: 1%; margin-top: 0px'>ibm_oslo</h1>"
      }
     },
     "6aa94f99d1e9458e97e79c1109b2c03b": {
      "model_module": "@jupyter-widgets/controls",
      "model_module_version": "1.5.0",
      "model_name": "HTMLModel",
      "state": {
       "layout": "IPY_MODEL_de534ea736f149fea5ea94dc3ec4ef47",
       "style": "IPY_MODEL_e6719568a5c04eb6981e3da527924ea0",
       "value": "62baf90cb3f348f541f253d8"
      }
     },
     "6accb79d3c4743c5b41f95968bec3e3c": {
      "model_module": "@jupyter-widgets/controls",
      "model_module_version": "1.5.0",
      "model_name": "DescriptionStyleModel",
      "state": {
       "description_width": ""
      }
     },
     "6b68c9870b714b7fa4586f0c42092e93": {
      "model_module": "@jupyter-widgets/controls",
      "model_module_version": "1.5.0",
      "model_name": "DescriptionStyleModel",
      "state": {
       "description_width": ""
      }
     },
     "6c5a3bb9b89d4e0cab3ff65237570213": {
      "model_module": "@jupyter-widgets/base",
      "model_module_version": "1.2.0",
      "model_name": "LayoutModel",
      "state": {
       "margin": "0px 0px 0px 37px",
       "width": "600px"
      }
     },
     "6cf5c9ad7913434aaf0997159dff5450": {
      "model_module": "@jupyter-widgets/base",
      "model_module_version": "1.2.0",
      "model_name": "LayoutModel",
      "state": {
       "align_items": "center",
       "display": "flex-inline"
      }
     },
     "6d242cc9abd04144a73ea49cd7010e86": {
      "model_module": "@jupyter-widgets/base",
      "model_module_version": "1.2.0",
      "model_name": "LayoutModel",
      "state": {}
     },
     "6ee25aeb7c474410bd5515761415619b": {
      "model_module": "@jupyter-widgets/base",
      "model_module_version": "1.2.0",
      "model_name": "LayoutModel",
      "state": {
       "grid_gap": "0px 0px",
       "grid_template_areas": "\n                                                   \"top top top\"\n                                                   \"left middle right\"\n                                                   ",
       "grid_template_columns": "33% 33% 33%",
       "grid_template_rows": "auto auto"
      }
     },
     "6ff7bb0878754d75a44b836be8fb6073": {
      "model_module": "@jupyter-widgets/controls",
      "model_module_version": "1.5.0",
      "model_name": "GridBoxModel",
      "state": {
       "children": [
        "IPY_MODEL_d0670670e34748a5a685f509ecf760af",
        "IPY_MODEL_954f075acd274b9097e5c7fcd4a23ef1",
        "IPY_MODEL_286eb996a7be47e3863d0e0b51d57484",
        "IPY_MODEL_30f0c3f2736b43028a0916c8550c0f85"
       ],
       "layout": "IPY_MODEL_67ba1d44e6ce401695cdc5d810653d47"
      }
     },
     "712d62968b2945008744ef74c2f51202": {
      "model_module": "@jupyter-widgets/controls",
      "model_module_version": "1.5.0",
      "model_name": "DescriptionStyleModel",
      "state": {
       "description_width": ""
      }
     },
     "717ea9f03f7543499eb61f680a563f92": {
      "model_module": "@jupyter-widgets/base",
      "model_module_version": "1.2.0",
      "model_name": "LayoutModel",
      "state": {
       "grid_area": "top"
      }
     },
     "71b021cf798549278766473e86400a94": {
      "model_module": "@jupyter-widgets/base",
      "model_module_version": "1.2.0",
      "model_name": "LayoutModel",
      "state": {
       "border": "4px solid #000000",
       "max_height": "650px",
       "min_height": "650px",
       "overflow_y": "hidden"
      }
     },
     "720146d6ec184f5a9c7e41e6caa01d3a": {
      "model_module": "@jupyter-widgets/controls",
      "model_module_version": "1.5.0",
      "model_name": "VBoxModel",
      "state": {
       "children": [
        "IPY_MODEL_2d7bbcc18bba4cc799581a44138768a5",
        "IPY_MODEL_342060a185a542a291bc22f4fbc5f765"
       ],
       "layout": "IPY_MODEL_2f90c25c1517459a86669730dfd6c788"
      }
     },
     "728ccc55d2e54e368026acf9c13298ea": {
      "model_module": "@jupyter-widgets/base",
      "model_module_version": "1.2.0",
      "model_name": "LayoutModel",
      "state": {
       "grid_area": "middle"
      }
     },
     "72d5fb8d62614936b6335442f95e878f": {
      "model_module": "@jupyter-widgets/controls",
      "model_module_version": "1.5.0",
      "model_name": "HTMLModel",
      "state": {
       "layout": "IPY_MODEL_a353e75b951745b88c00177c263bc28a",
       "style": "IPY_MODEL_2a1106c494974743893410f8c1b50455",
       "value": "<div><font style='font-weight:bold'>last_update_date</font>: 2022-06-28 10:10:31+00:00</div>"
      }
     },
     "7314aa176c5944ac98c6275c4df4be57": {
      "model_module": "@jupyter-widgets/controls",
      "model_module_version": "1.5.0",
      "model_name": "DescriptionStyleModel",
      "state": {
       "description_width": ""
      }
     },
     "73173fa94b434a13867c1055cebda6ab": {
      "model_module": "@jupyter-widgets/output",
      "model_module_version": "1.0.0",
      "model_name": "OutputModel",
      "state": {
       "layout": "IPY_MODEL_d6f651ef06634273804806acb949e8a2"
      }
     },
     "73b8f2e61e6f4c4597ff640bee3a9609": {
      "model_module": "@jupyter-widgets/controls",
      "model_module_version": "1.5.0",
      "model_name": "HTMLModel",
      "state": {
       "layout": "IPY_MODEL_e32464ba92ba4650a087a6c3c7497279",
       "style": "IPY_MODEL_af2f07ac610546b1985055b631fdec8f",
       "value": "<h1 style='color:#ffffff;background-color:#000000;padding-top: 1%;padding-bottom: 1%;padding-left: 1%; margin-top: 0px'>ibm_oslo</h1>"
      }
     },
     "74091e3d6c7e49aa90ab251a6c09c8c0": {
      "model_module": "@jupyter-widgets/controls",
      "model_module_version": "1.5.0",
      "model_name": "DescriptionStyleModel",
      "state": {
       "description_width": ""
      }
     },
     "740a515d325241b0bf5afeba7bdf886e": {
      "model_module": "@jupyter-widgets/base",
      "model_module_version": "1.2.0",
      "model_name": "LayoutModel",
      "state": {
       "grid_area": "left"
      }
     },
     "7577253974d5498a8bc814be42553d68": {
      "model_module": "@jupyter-widgets/base",
      "model_module_version": "1.2.0",
      "model_name": "LayoutModel",
      "state": {}
     },
     "76561783d3a0431585cf948e0ef17fa2": {
      "model_module": "@jupyter-widgets/controls",
      "model_module_version": "1.5.0",
      "model_name": "HTMLModel",
      "state": {
       "layout": "IPY_MODEL_841c61821fca49038cc5650257c710a1",
       "style": "IPY_MODEL_c68d0591325e4d448400641618c97af1",
       "value": "<table><style>\ntable {\n    border-collapse: collapse;\n    width: auto;\n}\n\nth, td {\n    text-align: left;\n    padding: 8px;\n}\n\ntr:nth-child(even) {background-color: #f6f6f6;};\n</style><tr><th></th><th>Type</th><th>Gate error</th></tr><tr><td><font style='font-weight:bold'>cx6_5</font></td><td>cx</td><td>0.00755</td></tr><tr><td><font style='font-weight:bold'>cx5_6</font></td><td>cx</td><td>0.00755</td></tr><tr><td><font style='font-weight:bold'>cx0_1</font></td><td>cx</td><td>0.00972</td></tr><tr><td><font style='font-weight:bold'>cx1_0</font></td><td>cx</td><td>0.00972</td></tr></table>"
      }
     },
     "775890a391f04ce39ceedc0b2a48b5de": {
      "model_module": "@jupyter-widgets/controls",
      "model_module_version": "1.5.0",
      "model_name": "GridBoxModel",
      "state": {
       "children": [
        "IPY_MODEL_69e7ce610ca04af2901e75e819ebbf1b",
        "IPY_MODEL_b2e8cc64a5024573a12273aeccc98218",
        "IPY_MODEL_4601f2c7afd740279c8c22071c81daea"
       ],
       "layout": "IPY_MODEL_04913a44569c4b2a8fcc1128cbef6839"
      }
     },
     "77822900b84c4dbb8eae77c9f9f30d9a": {
      "model_module": "@jupyter-widgets/controls",
      "model_module_version": "1.5.0",
      "model_name": "DescriptionStyleModel",
      "state": {
       "description_width": ""
      }
     },
     "77b44c45e6564d4dac00729c0aa1604f": {
      "model_module": "@jupyter-widgets/base",
      "model_module_version": "1.2.0",
      "model_name": "LayoutModel",
      "state": {
       "margin": "0px 0px 0px 0px"
      }
     },
     "7885fe32291a48979dc9436747c98942": {
      "model_module": "@jupyter-widgets/controls",
      "model_module_version": "1.5.0",
      "model_name": "DescriptionStyleModel",
      "state": {
       "description_width": ""
      }
     },
     "78db16d04922482ebcce6eae352def6d": {
      "model_module": "@jupyter-widgets/base",
      "model_module_version": "1.2.0",
      "model_name": "LayoutModel",
      "state": {
       "overflow_y": "scroll"
      }
     },
     "79392166444c47509655d6a6aa2f8132": {
      "model_module": "@jupyter-widgets/controls",
      "model_module_version": "1.5.0",
      "model_name": "DescriptionStyleModel",
      "state": {
       "description_width": ""
      }
     },
     "79acdbbcea144b88a7c2356b6d6ca185": {
      "model_module": "@jupyter-widgets/controls",
      "model_module_version": "1.5.0",
      "model_name": "DescriptionStyleModel",
      "state": {
       "description_width": ""
      }
     },
     "7a285dc0761d4546b6e87b2121e61e36": {
      "model_module": "@jupyter-widgets/base",
      "model_module_version": "1.2.0",
      "model_name": "LayoutModel",
      "state": {
       "overflow_y": "scroll"
      }
     },
     "7a805bf119874cbaa2943bba3b197fa8": {
      "model_module": "@jupyter-widgets/controls",
      "model_module_version": "1.5.0",
      "model_name": "GridBoxModel",
      "state": {
       "children": [
        "IPY_MODEL_9ec01f2cf7df42009b0aed1cba087421",
        "IPY_MODEL_0397e6df555e40c7b1c68fe6f0286303",
        "IPY_MODEL_80a2379db7374900a010b2c59e57d951"
       ],
       "layout": "IPY_MODEL_0db7efb6e3ab4fe5a6905dc4893e9d55"
      }
     },
     "7b05628537064af08dc8e9381a703f9d": {
      "model_module": "@jupyter-widgets/controls",
      "model_module_version": "1.5.0",
      "model_name": "HTMLMathModel",
      "state": {
       "layout": "IPY_MODEL_f63d042321284a12af511a90a6549821",
       "style": "IPY_MODEL_dbcecd1f9c7b4e04884387324b20eae7",
       "value": "<table><style>\ntable {\n    border-collapse: collapse;\n    width: auto;\n}\n\nth, td {\n    text-align: left;\n    padding: 8px;\n}\n\ntr:nth-child(even) {background-color: #f6f6f6;}\n</style><tr><th>Property</th><th>Value</th></tr><tr><td><font style='font-weight:bold'>n_qubits</font></td><td>7</td></tr><tr><td><font style='font-weight:bold'>quantum_volume</font></td><td>32</td></tr><tr><td><font style='font-weight:bold'>operational</font></td><td>True</td></tr><tr><td><font style='font-weight:bold'>status_msg</font></td><td>active</td></tr><tr><td><font style='font-weight:bold'>pending_jobs</font></td><td>94</td></tr><tr><td><font style='font-weight:bold'>backend_version</font></td><td>1.0.3</td></tr><tr><td><font style='font-weight:bold'>basis_gates</font></td><td>['id', 'rz', 'sx', 'x', 'cx', 'reset']</td></tr><tr><td><font style='font-weight:bold'>max_shots</font></td><td>20000</td></tr><tr><td><font style='font-weight:bold'>max_experiments</font></td><td>100</td></tr></table>"
      }
     },
     "7b81ba5d13a34fb98e493e4a64bc64b7": {
      "model_module": "@jupyter-widgets/base",
      "model_module_version": "1.2.0",
      "model_name": "LayoutModel",
      "state": {
       "grid_gap": "0px 0px",
       "grid_template_areas": "\n                               \"left right right right\"\n                               \"bottom bottom bottom bottom\"\n                               ",
       "grid_template_columns": "31% 23% 23% 23%",
       "grid_template_rows": "auto auto"
      }
     },
     "7c319e774f224b97b3acf8c041b99a92": {
      "model_module": "@jupyter-widgets/controls",
      "model_module_version": "1.5.0",
      "model_name": "GridBoxModel",
      "state": {
       "children": [
        "IPY_MODEL_bb5448243af4480891bfd10d43bab53e",
        "IPY_MODEL_f2a47de6b23b4e369886a099126de470",
        "IPY_MODEL_e90da568e03e4942bfd499d164ebdbb5"
       ],
       "layout": "IPY_MODEL_f067ce1ccb194095bbba343baa85e8a1"
      }
     },
     "7c65fdf0f8264474b98f8b9a7b2563f5": {
      "model_module": "@jupyter-widgets/controls",
      "model_module_version": "1.5.0",
      "model_name": "GridBoxModel",
      "state": {
       "children": [
        "IPY_MODEL_7b05628537064af08dc8e9381a703f9d",
        "IPY_MODEL_84d71532f9b84cc08777df73b03e4f0d",
        "IPY_MODEL_26ae14c614174fb79350ab11fcf579ba"
       ],
       "layout": "IPY_MODEL_bd24d22146884966a6c9a6b8dcee6350"
      }
     },
     "7c7798c664d7474cb68602c31971186e": {
      "model_module": "@jupyter-widgets/controls",
      "model_module_version": "1.5.0",
      "model_name": "HTMLModel",
      "state": {
       "layout": "IPY_MODEL_d98f331840364b259940675d4cdfdcfe",
       "style": "IPY_MODEL_ebd25898372f42818a1e4b191002b1b2",
       "value": "QUEUED"
      }
     },
     "7cbe657e843e454ca188d5a61ade082c": {
      "model_module": "@jupyter-widgets/controls",
      "model_module_version": "1.5.0",
      "model_name": "HTMLModel",
      "state": {
       "layout": "IPY_MODEL_56a47d62d4a446ca944a2561612217ef",
       "style": "IPY_MODEL_4c5b41e9acce48038df6a4a250b5cb81",
       "value": "94"
      }
     },
     "7cf7454fb2884d54882cb7aef78a6599": {
      "model_module": "@jupyter-widgets/base",
      "model_module_version": "1.2.0",
      "model_name": "LayoutModel",
      "state": {}
     },
     "7d45e7c3307a491e9074c4167c420e15": {
      "model_module": "@jupyter-widgets/controls",
      "model_module_version": "1.5.0",
      "model_name": "DescriptionStyleModel",
      "state": {
       "description_width": ""
      }
     },
     "7dd278a72d924ac5b116a40a7df1a5ba": {
      "model_module": "@jupyter-widgets/controls",
      "model_module_version": "1.5.0",
      "model_name": "DescriptionStyleModel",
      "state": {
       "description_width": ""
      }
     },
     "7fee957c8e9f4e6790fa0ec6a8135509": {
      "model_module": "@jupyter-widgets/base",
      "model_module_version": "1.2.0",
      "model_name": "LayoutModel",
      "state": {}
     },
     "802a2f7cb1d64bd68f8232f4db07caed": {
      "model_module": "@jupyter-widgets/base",
      "model_module_version": "1.2.0",
      "model_name": "LayoutModel",
      "state": {
       "grid_gap": "0px 0px",
       "grid_template_areas": "\n                                                   \"top top top\"\n                                                   \"left middle right\"\n                                                   ",
       "grid_template_columns": "33% 33% 33%",
       "grid_template_rows": "auto auto"
      }
     },
     "80a2379db7374900a010b2c59e57d951": {
      "model_module": "@jupyter-widgets/controls",
      "model_module_version": "1.5.0",
      "model_name": "HTMLMathModel",
      "state": {
       "layout": "IPY_MODEL_8ea14dee137a489fa17e6e4b55f8fb84",
       "style": "IPY_MODEL_181640fb159443b296f42f935aa4a00a",
       "value": "<table><style>\ntable {\n    border-collapse: collapse;\n    width: auto;\n}\n\nth, td {\n    text-align: left;\n    padding: 8px;\n}\n\ntr:nth-child(even) {background-color: #f6f6f6;}\n</style><tr><th></th><th></th></tr><tr><td>allow_q_object</td><td>True</td></tr><tr><td>qubit_channel_mapping</td><td>[['m0', 'u1', 'u0', 'd0'], ['u1', 'd1', 'u0', 'u5', 'u2', 'm1', 'u3', 'u4'], ['m2', 'd2', 'u4', 'u2'], ['m3', 'u5', 'u3', 'u8', 'u6', 'd3'], ['d4', 'u7', 'u9', 'm4'], ['d5', 'u7', 'u9', 'u10', 'm5', 'u11', 'u8', 'u6'], ['d6', 'm6', 'u10', 'u11']]</td></tr><tr><td>supported_features</td><td>['qobj', 'qasm3']</td></tr><tr><td>memory</td><td>True</td></tr><tr><td>qubit_lo_range</td><td>[[4.425039493971028, 5.425039493971028], [4.546253783996783, 5.546253783996784], [4.4619867212182145, 5.4619867212182145], [4.608082034893607, 5.608082034893607], [4.511074409987105, 5.511074409987105], [4.673289842125353, 5.673289842125353], [4.819303501215827, 5.819303501215827]]</td></tr><tr><td>meas_lo_range</td><td>[[6.729836446, 7.729836446], [6.604835349, 7.604835349000001], [6.8306589760000005, 7.8306589760000005], [6.632327716000001, 7.632327716000001], [6.713651857, 7.713651857], [6.812390622000001, 7.812390622000001], [6.7878388140000006, 7.7878388140000006]]</td></tr><tr><td>measure_esp_enabled</td><td>False</td></tr><tr><td>local</td><td>False</td></tr><tr><td>multi_meas_enabled</td><td>True</td></tr><tr><td>meas_kernels</td><td>['hw_qmfk']</td></tr><tr><td>pulse_num_channels</td><td>9</td></tr><tr><td>uchannels_enabled</td><td>True</td></tr><tr><td>conditional</td><td>False</td></tr><tr><td>rep_delay_range</td><td>[0.0, 500.0]</td></tr><tr><td>sample_name</td><td>family: Falcon, revision: 5.11, segment: H</td></tr><tr><td>pulse_num_qubits</td><td>3</td></tr><tr><td>discriminators</td><td>['quadratic_discriminator', 'linear_discriminator', 'hw_qmfk']</td></tr><tr><td>open_pulse</td><td>False</td></tr><tr><td>online_date</td><td>2022-03-25 04:00:00+00:00</td></tr><tr><td>n_uchannels</td><td>12</td></tr><tr><td>hamiltonian</td><td>$$\\begin{align} \\mathcal{H}/\\hbar = & \\sum_{i=0}^{6}\\left(\\frac{\\omega_{q,i}}{2}(\\mathbb{I}-\\sigma_i^{z})+\\frac{\\Delta_{i}}{2}(O_i^2-O_i)+\\Omega_{d,i}D_i(t)\\sigma_i^{X}\\right) \\\\ & + J_{0,1}(\\sigma_{0}^{+}\\sigma_{1}^{-}+\\sigma_{0}^{-}\\sigma_{1}^{+}) + J_{1,2}(\\sigma_{1}^{+}\\sigma_{2}^{-}+\\sigma_{1}^{-}\\sigma_{2}^{+}) + J_{4,5}(\\sigma_{4}^{+}\\sigma_{5}^{-}+\\sigma_{4}^{-}\\sigma_{5}^{+}) + J_{5,6}(\\sigma_{5}^{+}\\sigma_{6}^{-}+\\sigma_{5}^{-}\\sigma_{6}^{+}) \\\\ & + J_{1,3}(\\sigma_{1}^{+}\\sigma_{3}^{-}+\\sigma_{1}^{-}\\sigma_{3}^{+}) + J_{3,5}(\\sigma_{3}^{+}\\sigma_{5}^{-}+\\sigma_{3}^{-}\\sigma_{5}^{+}) \\\\ & + \\Omega_{d,0}(U_{0}^{(0,1)}(t))\\sigma_{0}^{X} + \\Omega_{d,1}(U_{1}^{(1,0)}(t)+U_{3}^{(1,3)}(t)+U_{2}^{(1,2)}(t))\\sigma_{1}^{X} \\\\ & + \\Omega_{d,2}(U_{4}^{(2,1)}(t))\\sigma_{2}^{X} + \\Omega_{d,3}(U_{5}^{(3,1)}(t)+U_{6}^{(3,5)}(t))\\sigma_{3}^{X} \\\\ & + \\Omega_{d,4}(U_{7}^{(4,5)}(t))\\sigma_{4}^{X} + \\Omega_{d,5}(U_{8}^{(5,3)}(t)+U_{10}^{(5,6)}(t)+U_{9}^{(5,4)}(t))\\sigma_{5}^{X} \\\\ & + \\Omega_{d,6}(U_{11}^{(6,5)}(t))\\sigma_{6}^{X} \\\\ \\end{align}$$</td></tr><tr><td>default_rep_delay</td><td>250.0</td></tr><tr><td>url</td><td>None</td></tr><tr><td>clops</td><td>2645</td></tr><tr><td>meas_levels</td><td>[1, 2]</td></tr><tr><td>acquisition_latency</td><td>[]</td></tr><tr><td>simulator</td><td>False</td></tr><tr><td>live_data</td><td>False</td></tr><tr><td>processor_type</td><td>{'family': 'Falcon', 'revision': '5.11', 'segment': 'H'}</td></tr><tr><td>dtm</td><td>0.2222222222222222</td></tr><tr><td>n_registers</td><td>1</td></tr><tr><td>coupling_map</td><td>[[0, 1], [1, 0], [1, 2], [1, 3], [2, 1], [3, 1], [3, 5], [4, 5], [5, 3], [5, 4], [5, 6], [6, 5]]</td></tr><tr><td>parametric_pulses</td><td>['gaussian', 'gaussian_square', 'drag', 'constant']</td></tr><tr><td>credits_required</td><td>True</td></tr><tr><td>u_channel_lo</td><td>[[{'q': 1, 'scale': (1+0j)}], [{'q': 0, 'scale': (1+0j)}], [{'q': 2, 'scale': (1+0j)}], [{'q': 3, 'scale': (1+0j)}], [{'q': 1, 'scale': (1+0j)}], [{'q': 1, 'scale': (1+0j)}], [{'q': 5, 'scale': (1+0j)}], [{'q': 5, 'scale': (1+0j)}], [{'q': 3, 'scale': (1+0j)}], [{'q': 4, 'scale': (1+0j)}], [{'q': 6, 'scale': (1+0j)}], [{'q': 5, 'scale': (1+0j)}]]</td></tr><tr><td>meas_map</td><td>[[0, 1, 2, 3, 4, 5, 6]]</td></tr><tr><td>input_allowed</td><td>['job', 'runtime']</td></tr><tr><td>allow_object_storage</td><td>True</td></tr><tr><td>supported_instructions</td><td>['u1', 'id', 'reset', 'sx', 'setf', 'shiftf', 'measure', 'u2', 'acquire', 'u3', 'cx', 'play', 'delay', 'x', 'rz']</td></tr><tr><td>backend_name</td><td>ibm_oslo</td></tr><tr><td>dynamic_reprate_enabled</td><td>True</td></tr><tr><td>rep_times</td><td>[1000.0]</td></tr><tr><td>dt</td><td>0.2222222222222222</td></tr><tr><td>description</td><td>7 qubit device</td></tr><tr><td>channels</td><td>{'acquire0': {'operates': {'qubits': [0]}, 'purpose': 'acquire', 'type': 'acquire'}, 'acquire1': {'operates': {'qubits': [1]}, 'purpose': 'acquire', 'type': 'acquire'}, 'acquire2': {'operates': {'qubits': [2]}, 'purpose': 'acquire', 'type': 'acquire'}, 'acquire3': {'operates': {'qubits': [3]}, 'purpose': 'acquire', 'type': 'acquire'}, 'acquire4': {'operates': {'qubits': [4]}, 'purpose': 'acquire', 'type': 'acquire'}, 'acquire5': {'operates': {'qubits': [5]}, 'purpose': 'acquire', 'type': 'acquire'}, 'acquire6': {'operates': {'qubits': [6]}, 'purpose': 'acquire', 'type': 'acquire'}, 'd0': {'operates': {'qubits': [0]}, 'purpose': 'drive', 'type': 'drive'}, 'd1': {'operates': {'qubits': [1]}, 'purpose': 'drive', 'type': 'drive'}, 'd2': {'operates': {'qubits': [2]}, 'purpose': 'drive', 'type': 'drive'}, 'd3': {'operates': {'qubits': [3]}, 'purpose': 'drive', 'type': 'drive'}, 'd4': {'operates': {'qubits': [4]}, 'purpose': 'drive', 'type': 'drive'}, 'd5': {'operates': {'qubits': [5]}, 'purpose': 'drive', 'type': 'drive'}, 'd6': {'operates': {'qubits': [6]}, 'purpose': 'drive', 'type': 'drive'}, 'm0': {'operates': {'qubits': [0]}, 'purpose': 'measure', 'type': 'measure'}, 'm1': {'operates': {'qubits': [1]}, 'purpose': 'measure', 'type': 'measure'}, 'm2': {'operates': {'qubits': [2]}, 'purpose': 'measure', 'type': 'measure'}, 'm3': {'operates': {'qubits': [3]}, 'purpose': 'measure', 'type': 'measure'}, 'm4': {'operates': {'qubits': [4]}, 'purpose': 'measure', 'type': 'measure'}, 'm5': {'operates': {'qubits': [5]}, 'purpose': 'measure', 'type': 'measure'}, 'm6': {'operates': {'qubits': [6]}, 'purpose': 'measure', 'type': 'measure'}, 'u0': {'operates': {'qubits': [0, 1]}, 'purpose': 'cross-resonance', 'type': 'control'}, 'u1': {'operates': {'qubits': [1, 0]}, 'purpose': 'cross-resonance', 'type': 'control'}, 'u10': {'operates': {'qubits': [5, 6]}, 'purpose': 'cross-resonance', 'type': 'control'}, 'u11': {'operates': {'qubits': [6, 5]}, 'purpose': 'cross-resonance', 'type': 'control'}, 'u2': {'operates': {'qubits': [1, 2]}, 'purpose': 'cross-resonance', 'type': 'control'}, 'u3': {'operates': {'qubits': [1, 3]}, 'purpose': 'cross-resonance', 'type': 'control'}, 'u4': {'operates': {'qubits': [2, 1]}, 'purpose': 'cross-resonance', 'type': 'control'}, 'u5': {'operates': {'qubits': [3, 1]}, 'purpose': 'cross-resonance', 'type': 'control'}, 'u6': {'operates': {'qubits': [3, 5]}, 'purpose': 'cross-resonance', 'type': 'control'}, 'u7': {'operates': {'qubits': [4, 5]}, 'purpose': 'cross-resonance', 'type': 'control'}, 'u8': {'operates': {'qubits': [5, 3]}, 'purpose': 'cross-resonance', 'type': 'control'}, 'u9': {'operates': {'qubits': [5, 4]}, 'purpose': 'cross-resonance', 'type': 'control'}}</td></tr><tr><td>timing_constraints</td><td>{'acquire_alignment': 16, 'granularity': 16, 'min_length': 64, 'pulse_alignment': 16}</td></tr><tr><td>conditional_latency</td><td>[]</td></tr></table>"
      }
     },
     "80b0e924cfc748c1ab68307ff2d260d3": {
      "model_module": "@jupyter-widgets/output",
      "model_module_version": "1.0.0",
      "model_name": "OutputModel",
      "state": {
       "layout": "IPY_MODEL_a49fa91c4cd140358edfda6219427b31",
       "outputs": [
        {
         "data": {
          "image/png": "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\n",
          "text/plain": "<Figure size 360x360 with 1 Axes>"
         },
         "metadata": {},
         "output_type": "display_data"
        }
       ]
      }
     },
     "80bebaa5684e4f07a3abeb91456100b1": {
      "model_module": "@jupyter-widgets/base",
      "model_module_version": "1.2.0",
      "model_name": "LayoutModel",
      "state": {
       "border": "4px solid #000000",
       "max_height": "650px",
       "min_height": "650px",
       "overflow_y": "hidden"
      }
     },
     "81248317b52445cab7a334617b96a9c5": {
      "model_module": "@jupyter-widgets/base",
      "model_module_version": "1.2.0",
      "model_name": "LayoutModel",
      "state": {}
     },
     "81f7a77cb69043098a6d2a55af9c613a": {
      "model_module": "@jupyter-widgets/base",
      "model_module_version": "1.2.0",
      "model_name": "LayoutModel",
      "state": {}
     },
     "82776859018c4704bd28c786b692e2c3": {
      "model_module": "@jupyter-widgets/controls",
      "model_module_version": "1.5.0",
      "model_name": "DescriptionStyleModel",
      "state": {
       "description_width": ""
      }
     },
     "828fb8547ed24b7a86a9ff2a5caed2a7": {
      "model_module": "@jupyter-widgets/base",
      "model_module_version": "1.2.0",
      "model_name": "LayoutModel",
      "state": {
       "align_items": "center",
       "display": "flex-inline",
       "grid_area": "right",
       "max_height": "325px",
       "padding": "10px 10px 10px 10px",
       "width": "auto"
      }
     },
     "829a0054f948416f8479318fcf9609c8": {
      "model_module": "@jupyter-widgets/controls",
      "model_module_version": "1.5.0",
      "model_name": "DescriptionStyleModel",
      "state": {
       "description_width": ""
      }
     },
     "8331da7ce3694649bd4f11808769c7a1": {
      "model_module": "@jupyter-widgets/base",
      "model_module_version": "1.2.0",
      "model_name": "LayoutModel",
      "state": {
       "margin": "0px 0px 0px 0px"
      }
     },
     "83651e097e764c51b51f2f64751e6d17": {
      "model_module": "@jupyter-widgets/controls",
      "model_module_version": "1.5.0",
      "model_name": "DescriptionStyleModel",
      "state": {
       "description_width": ""
      }
     },
     "83706c8dec59456eb4542c07a2bbc5bb": {
      "model_module": "@jupyter-widgets/controls",
      "model_module_version": "1.5.0",
      "model_name": "HTMLModel",
      "state": {
       "layout": "IPY_MODEL_c1f3303e0d96440288b6845ee0c28568",
       "style": "IPY_MODEL_6b68c9870b714b7fa4586f0c42092e93",
       "value": "<div><font style='font-weight:bold'>last_update_date</font>: Tue 28 June 2022 at 12:20 UTC</div>"
      }
     },
     "8385ed99874a4626a320990701f5a3a1": {
      "model_module": "@jupyter-widgets/output",
      "model_module_version": "1.0.0",
      "model_name": "OutputModel",
      "state": {
       "layout": "IPY_MODEL_29a030d19f2442fcb1c0bdef247fda94",
       "outputs": [
        {
         "data": {
          "image/png": "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\n",
          "text/plain": "<Figure size 792x648 with 5 Axes>"
         },
         "metadata": {},
         "output_type": "display_data"
        }
       ]
      }
     },
     "83934b7d65194163a04fa59931c3dbcb": {
      "model_module": "@jupyter-widgets/base",
      "model_module_version": "1.2.0",
      "model_name": "LayoutModel",
      "state": {
       "grid_area": "top"
      }
     },
     "841c61821fca49038cc5650257c710a1": {
      "model_module": "@jupyter-widgets/base",
      "model_module_version": "1.2.0",
      "model_name": "LayoutModel",
      "state": {
       "grid_area": "right"
      }
     },
     "848c4a73a0eb4cc39a8f2ba57baf0284": {
      "model_module": "@jupyter-widgets/controls",
      "model_module_version": "1.5.0",
      "model_name": "ButtonStyleModel",
      "state": {}
     },
     "84baec114a204010932499a155814b47": {
      "model_module": "@jupyter-widgets/controls",
      "model_module_version": "1.5.0",
      "model_name": "HTMLModel",
      "state": {
       "layout": "IPY_MODEL_3f7d313f3f504571b8049297947b947d",
       "style": "IPY_MODEL_74091e3d6c7e49aa90ab251a6c09c8c0",
       "value": "<table><style>\ntable {\n    border-collapse: collapse;\n    width: auto;\n}\n\nth, td {\n    text-align: left;\n    padding: 8px;\n}\n\ntr:nth-child(even) {background-color: #f6f6f6;};\n</style><tr><th></th><th>Type</th><th>Gate error</th></tr><tr><td><font style='font-weight:bold'>cx4_5</font></td><td>cx</td><td>0.01049</td></tr><tr><td><font style='font-weight:bold'>cx5_4</font></td><td>cx</td><td>0.01049</td></tr><tr><td><font style='font-weight:bold'>cx2_1</font></td><td>cx</td><td>0.00714</td></tr><tr><td><font style='font-weight:bold'>cx1_2</font></td><td>cx</td><td>0.00714</td></tr></table>"
      }
     },
     "84d71532f9b84cc08777df73b03e4f0d": {
      "model_module": "@jupyter-widgets/output",
      "model_module_version": "1.0.0",
      "model_name": "OutputModel",
      "state": {
       "layout": "IPY_MODEL_a4718b3782e846e0a757bd2ff53d93b1"
      }
     },
     "854dce8f05b2410d99df436a13260da9": {
      "model_module": "@jupyter-widgets/controls",
      "model_module_version": "1.5.0",
      "model_name": "HTMLModel",
      "state": {
       "layout": "IPY_MODEL_13e18455b9a4437e97e83cb4ba99084f",
       "style": "IPY_MODEL_0bcdef80dcbd4cd286ea51a10a013796",
       "value": "<table><style>\ntable {\n    border-collapse: collapse;\n    width: auto;\n}\n\nth, td {\n    text-align: left;\n    padding: 8px;\n}\n\ntr:nth-child(even) {background-color: #f6f6f6;}\n</style><tr><th></th><th>Frequency</th><th>T1</th><th>T2</th><th>RZ</th><th>SX</th><th>X</th><th>Readout error</th></tr><tr><td><font style='font-weight:bold'>Q0</font></td><td>4.92504 GHz</td><td>79.3204 us</td><td>147.6838 us</td><td>0</td><td>0.00022</td><td>0.00022</td><td>0.011 </td><tr><td><font style='font-weight:bold'>Q1</font></td><td>5.04625 GHz</td><td>120.67864 us</td><td>33.61631 us</td><td>0</td><td>0.00031</td><td>0.00031</td><td>0.013 </td><tr><td><font style='font-weight:bold'>Q2</font></td><td>4.96199 GHz</td><td>183.4616 us</td><td>78.74645 us</td><td>0</td><td>0.00018</td><td>0.00018</td><td>0.0074 </td><tr><td><font style='font-weight:bold'>Q3</font></td><td>5.10808 GHz</td><td>49.86176 us</td><td>36.92709 us</td><td>0</td><td>0.00055</td><td>0.00055</td><td>0.0174 </td><tr><td><font style='font-weight:bold'>Q4</font></td><td>5.01107 GHz</td><td>182.43489 us</td><td>136.28387 us</td><td>0</td><td>0.00026</td><td>0.00026</td><td>0.0272 </td><tr><td><font style='font-weight:bold'>Q5</font></td><td>5.17329 GHz</td><td>128.55255 us</td><td>36.36279 us</td><td>0</td><td>0.00043</td><td>0.00043</td><td>0.0118 </td><tr><td><font style='font-weight:bold'>Q6</font></td><td>5.3193 GHz</td><td>125.79972 us</td><td>58.54227 us</td><td>0</td><td>0.00029</td><td>0.00029</td><td>0.0295 </td></table>"
      }
     },
     "8575dabdd60c42d396f0d1b57617ee22": {
      "model_module": "@jupyter-widgets/controls",
      "model_module_version": "1.5.0",
      "model_name": "DescriptionStyleModel",
      "state": {
       "description_width": ""
      }
     },
     "85dc8349081e43c480c603de840c55ef": {
      "model_module": "@jupyter-widgets/base",
      "model_module_version": "1.2.0",
      "model_name": "LayoutModel",
      "state": {
       "grid_area": "middle"
      }
     },
     "86a5a31305854b00af248416e0fb034a": {
      "model_module": "@jupyter-widgets/base",
      "model_module_version": "1.2.0",
      "model_name": "LayoutModel",
      "state": {
       "max_height": "620px"
      }
     },
     "86bc5107aa794295a6c8f7364e2cba07": {
      "model_module": "@jupyter-widgets/base",
      "model_module_version": "1.2.0",
      "model_name": "LayoutModel",
      "state": {
       "overflow_x": "scroll"
      }
     },
     "86e2829acdaf44dfb672b14dc3f75094": {
      "model_module": "@jupyter-widgets/base",
      "model_module_version": "1.2.0",
      "model_name": "LayoutModel",
      "state": {
       "grid_gap": "0px 0px",
       "grid_template_areas": "\n                               \"left right right right\"\n                               \"bottom bottom bottom bottom\"\n                               ",
       "grid_template_columns": "31% 23% 23% 23%",
       "grid_template_rows": "auto auto"
      }
     },
     "871f3960f550406ab24520726c233e6d": {
      "model_module": "@jupyter-widgets/controls",
      "model_module_version": "1.5.0",
      "model_name": "ButtonModel",
      "state": {
       "button_style": "primary",
       "description": "Clear",
       "layout": "IPY_MODEL_16126b258958481abb29870d9bf86260",
       "style": "IPY_MODEL_848c4a73a0eb4cc39a8f2ba57baf0284"
      }
     },
     "8861dae9518e4c619a0c89d4c63c07b6": {
      "model_module": "@jupyter-widgets/base",
      "model_module_version": "1.2.0",
      "model_name": "LayoutModel",
      "state": {}
     },
     "89ce64aefc2a4dc5aa48a68db71fbde3": {
      "model_module": "@jupyter-widgets/controls",
      "model_module_version": "1.5.0",
      "model_name": "VBoxModel",
      "state": {
       "children": [
        "IPY_MODEL_f8fc5c34433f443e86365ecc3c7adc3c",
        "IPY_MODEL_cde23580ff1941a9a46fee8f16d30f76"
       ],
       "layout": "IPY_MODEL_d3ef2ec2c54a494d8320b37778615e11"
      }
     },
     "8a3c769a0a144b7988fd4f273a34452f": {
      "model_module": "@jupyter-widgets/base",
      "model_module_version": "1.2.0",
      "model_name": "LayoutModel",
      "state": {
       "border": "4px solid #000000",
       "max_height": "650px",
       "min_height": "650px",
       "overflow_y": "hidden"
      }
     },
     "8a6d8d7f7b90498283cfef8270b2bf2e": {
      "model_module": "@jupyter-widgets/controls",
      "model_module_version": "1.5.0",
      "model_name": "DescriptionStyleModel",
      "state": {
       "description_width": ""
      }
     },
     "8b6a21532e1d4091888e6b7abed9f6c2": {
      "model_module": "@jupyter-widgets/output",
      "model_module_version": "1.0.0",
      "model_name": "OutputModel",
      "state": {
       "layout": "IPY_MODEL_54e44017019d451a8e56136b1db5e3f2",
       "outputs": [
        {
         "data": {
          "image/png": "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\n",
          "text/plain": "<Figure size 360x360 with 1 Axes>"
         },
         "metadata": {},
         "output_type": "display_data"
        }
       ]
      }
     },
     "8c1f49efee4c4e0ab64b437479667c62": {
      "model_module": "@jupyter-widgets/base",
      "model_module_version": "1.2.0",
      "model_name": "LayoutModel",
      "state": {
       "align_items": "center",
       "display": "flex-inline"
      }
     },
     "8cd1d6f385fc4a01a19421407f9924f7": {
      "model_module": "@jupyter-widgets/base",
      "model_module_version": "1.2.0",
      "model_name": "LayoutModel",
      "state": {
       "grid_area": "left"
      }
     },
     "8cfb96c28dd746c382585721fd420da2": {
      "model_module": "@jupyter-widgets/base",
      "model_module_version": "1.2.0",
      "model_name": "LayoutModel",
      "state": {
       "grid_area": "top"
      }
     },
     "8d3fee5a25f9499fb36282eefa4606ae": {
      "model_module": "@jupyter-widgets/controls",
      "model_module_version": "1.5.0",
      "model_name": "DescriptionStyleModel",
      "state": {
       "description_width": ""
      }
     },
     "8d4cd838bfdb442185e1e9288defef9d": {
      "model_module": "@jupyter-widgets/base",
      "model_module_version": "1.2.0",
      "model_name": "LayoutModel",
      "state": {
       "margin": "0px 0px 0px 0px"
      }
     },
     "8dc1bd657a584a2e86c12ea154e767b4": {
      "model_module": "@jupyter-widgets/base",
      "model_module_version": "1.2.0",
      "model_name": "LayoutModel",
      "state": {
       "grid_area": "middle"
      }
     },
     "8df4ec180cc24a34be5f4e0f08429722": {
      "model_module": "@jupyter-widgets/controls",
      "model_module_version": "1.5.0",
      "model_name": "HTMLModel",
      "state": {
       "layout": "IPY_MODEL_eb518203a54846dd98ba876b987e8f90",
       "style": "IPY_MODEL_6767a5f4026241deb47c4edb4333941e",
       "value": "<table><style>\ntable {\n    border-collapse: collapse;\n    width: auto;\n}\n\nth, td {\n    text-align: left;\n    padding: 8px;\n}\n\ntr:nth-child(even) {background-color: #f6f6f6;}\n</style><tr><th></th><th>Frequency</th><th>T1</th><th>T2</th><th>RZ</th><th>SX</th><th>X</th><th>Readout error</th></tr><tr><td><font style='font-weight:bold'>Q0</font></td><td>4.92504 GHz</td><td>79.3204 us</td><td>147.6838 us</td><td>0</td><td>0.00022</td><td>0.00022</td><td>0.011 </td><tr><td><font style='font-weight:bold'>Q1</font></td><td>5.04625 GHz</td><td>120.67864 us</td><td>33.61631 us</td><td>0</td><td>0.00031</td><td>0.00031</td><td>0.013 </td><tr><td><font style='font-weight:bold'>Q2</font></td><td>4.96199 GHz</td><td>183.4616 us</td><td>78.74645 us</td><td>0</td><td>0.00018</td><td>0.00018</td><td>0.0074 </td><tr><td><font style='font-weight:bold'>Q3</font></td><td>5.10808 GHz</td><td>49.86176 us</td><td>36.92709 us</td><td>0</td><td>0.00055</td><td>0.00055</td><td>0.0174 </td><tr><td><font style='font-weight:bold'>Q4</font></td><td>5.01107 GHz</td><td>182.43489 us</td><td>136.28387 us</td><td>0</td><td>0.00026</td><td>0.00026</td><td>0.0272 </td><tr><td><font style='font-weight:bold'>Q5</font></td><td>5.17329 GHz</td><td>128.55255 us</td><td>36.36279 us</td><td>0</td><td>0.00043</td><td>0.00043</td><td>0.0118 </td><tr><td><font style='font-weight:bold'>Q6</font></td><td>5.3193 GHz</td><td>125.79972 us</td><td>58.54227 us</td><td>0</td><td>0.00029</td><td>0.00029</td><td>0.0295 </td></table>"
      }
     },
     "8ea14dee137a489fa17e6e4b55f8fb84": {
      "model_module": "@jupyter-widgets/base",
      "model_module_version": "1.2.0",
      "model_name": "LayoutModel",
      "state": {
       "grid_area": "bottom",
       "width": "auto"
      }
     },
     "8ed118cabb1d460a9869853195b42f70": {
      "model_module": "@jupyter-widgets/controls",
      "model_module_version": "1.5.0",
      "model_name": "HTMLModel",
      "state": {
       "layout": "IPY_MODEL_25ec7b3415744279bc8b74e8e33047c3",
       "style": "IPY_MODEL_79acdbbcea144b88a7c2356b6d6ca185",
       "value": "<table><style>\ntable {\n    border-collapse: collapse;\n    width: auto;\n}\n\nth, td {\n    text-align: left;\n    padding: 8px;\n}\n\ntr:nth-child(even) {background-color: #f6f6f6;};\n</style><tr><th></th><th>Type</th><th>Gate error</th></tr><tr><td><font style='font-weight:bold'>cx1_3</font></td><td>cx</td><td>0.00924</td></tr><tr><td><font style='font-weight:bold'>cx3_1</font></td><td>cx</td><td>0.00924</td></tr><tr><td><font style='font-weight:bold'>cx5_3</font></td><td>cx</td><td>0.00767</td></tr><tr><td><font style='font-weight:bold'>cx3_5</font></td><td>cx</td><td>0.00767</td></tr></table>"
      }
     },
     "8f12a3d205db44398ae12661e078896c": {
      "model_module": "@jupyter-widgets/controls",
      "model_module_version": "1.5.0",
      "model_name": "HTMLMathModel",
      "state": {
       "layout": "IPY_MODEL_d7cff0c8a6814a429a8e127625af9f11",
       "style": "IPY_MODEL_034d7520b7f04c4aa1ee76b784bdc34f",
       "value": "<table><style>\ntable {\n    border-collapse: collapse;\n    width: auto;\n}\n\nth, td {\n    text-align: left;\n    padding: 8px;\n}\n\ntr:nth-child(even) {background-color: #f6f6f6;}\n</style><tr><th>Property</th><th>Value</th></tr><tr><td><font style='font-weight:bold'>n_qubits</font></td><td>7</td></tr><tr><td><font style='font-weight:bold'>quantum_volume</font></td><td>32</td></tr><tr><td><font style='font-weight:bold'>operational</font></td><td>True</td></tr><tr><td><font style='font-weight:bold'>status_msg</font></td><td>active</td></tr><tr><td><font style='font-weight:bold'>pending_jobs</font></td><td>95</td></tr><tr><td><font style='font-weight:bold'>backend_version</font></td><td>1.0.3</td></tr><tr><td><font style='font-weight:bold'>basis_gates</font></td><td>['id', 'rz', 'sx', 'x', 'cx', 'reset']</td></tr><tr><td><font style='font-weight:bold'>max_shots</font></td><td>20000</td></tr><tr><td><font style='font-weight:bold'>max_experiments</font></td><td>100</td></tr></table>"
      }
     },
     "8f82ceb64b4a4d229d02a323f7a416e7": {
      "model_module": "@jupyter-widgets/controls",
      "model_module_version": "1.5.0",
      "model_name": "VBoxModel",
      "state": {
       "children": [
        "IPY_MODEL_36b183428e144f478c553fe81f2f6b01",
        "IPY_MODEL_e25942def99b4183b68c2205d3abb35c"
       ],
       "layout": "IPY_MODEL_7cf7454fb2884d54882cb7aef78a6599"
      }
     },
     "8fa1fe4ce2ab4a62996c35213fd5bc8d": {
      "model_module": "@jupyter-widgets/base",
      "model_module_version": "1.2.0",
      "model_name": "LayoutModel",
      "state": {
       "grid_gap": "0px 0px",
       "grid_template_areas": "\n                                                   \"top top top\"\n                                                   \"left middle right\"\n                                                   ",
       "grid_template_columns": "33% 33% 33%",
       "grid_template_rows": "auto auto"
      }
     },
     "8fe5684e7bd4447b90510e6cd906bf03": {
      "model_module": "@jupyter-widgets/controls",
      "model_module_version": "1.5.0",
      "model_name": "HTMLMathModel",
      "state": {
       "layout": "IPY_MODEL_64fd52be325b48318baffe4909a0b8f0",
       "style": "IPY_MODEL_712d62968b2945008744ef74c2f51202",
       "value": "<table><style>\ntable {\n    border-collapse: collapse;\n    width: auto;\n}\n\nth, td {\n    text-align: left;\n    padding: 8px;\n}\n\ntr:nth-child(even) {background-color: #f6f6f6;}\n</style><tr><th>Property</th><th>Value</th></tr><tr><td><font style='font-weight:bold'>n_qubits</font></td><td>7</td></tr><tr><td><font style='font-weight:bold'>quantum_volume</font></td><td>32</td></tr><tr><td><font style='font-weight:bold'>operational</font></td><td>True</td></tr><tr><td><font style='font-weight:bold'>status_msg</font></td><td>active</td></tr><tr><td><font style='font-weight:bold'>pending_jobs</font></td><td>91</td></tr><tr><td><font style='font-weight:bold'>backend_version</font></td><td>1.0.3</td></tr><tr><td><font style='font-weight:bold'>basis_gates</font></td><td>['id', 'rz', 'sx', 'x', 'cx', 'reset']</td></tr><tr><td><font style='font-weight:bold'>max_shots</font></td><td>20000</td></tr><tr><td><font style='font-weight:bold'>max_experiments</font></td><td>100</td></tr></table>"
      }
     },
     "8ff66c9f486b4b40a8ab4fb6e5c8e7c0": {
      "model_module": "@jupyter-widgets/base",
      "model_module_version": "1.2.0",
      "model_name": "LayoutModel",
      "state": {
       "grid_area": "middle"
      }
     },
     "9029f081ff0f43f0b083cc7056655200": {
      "model_module": "@jupyter-widgets/controls",
      "model_module_version": "1.5.0",
      "model_name": "DescriptionStyleModel",
      "state": {
       "description_width": ""
      }
     },
     "905660e731cd41308b6fb11198c7640d": {
      "model_module": "@jupyter-widgets/controls",
      "model_module_version": "1.5.0",
      "model_name": "GridBoxModel",
      "state": {
       "children": [
        "IPY_MODEL_b751c9ffded648fb8c476b47e23f154d",
        "IPY_MODEL_01a0ea6094ad412582aba7776a2ab875",
        "IPY_MODEL_535eae3cc38a4a1890f731b6f9f35365",
        "IPY_MODEL_59416530529c47799140edde959f1b5b"
       ],
       "layout": "IPY_MODEL_4305a4c2b87a43678a7df35ec0b4e6fc"
      }
     },
     "9107c446c9294e56a20ef6728fdd496f": {
      "model_module": "@jupyter-widgets/controls",
      "model_module_version": "1.5.0",
      "model_name": "HTMLModel",
      "state": {
       "layout": "IPY_MODEL_dfffc978b2e5481696653a2907e333e7",
       "style": "IPY_MODEL_b69744cf5a0242d693e0ea35b49c430c",
       "value": "<h1 style='color:#ffffff;background-color:#000000;padding-top: 1%;padding-bottom: 1%;padding-left: 1%; margin-top: 0px'>ibm_oslo</h1>"
      }
     },
     "91a63298ce324881a5c6d31c5071a0cd": {
      "model_module": "@jupyter-widgets/controls",
      "model_module_version": "1.5.0",
      "model_name": "HTMLModel",
      "state": {
       "layout": "IPY_MODEL_77b44c45e6564d4dac00729c0aa1604f",
       "style": "IPY_MODEL_3f5e945d10f3496ca394b13c61232915",
       "value": "<h1 style='color:#ffffff;background-color:#000000;padding-top: 1%;padding-bottom: 1%;padding-left: 1%; margin-top: 0px'>ibm_oslo</h1>"
      }
     },
     "91c4f25c44714774b057fa90956d4c8a": {
      "model_module": "@jupyter-widgets/output",
      "model_module_version": "1.0.0",
      "model_name": "OutputModel",
      "state": {
       "layout": "IPY_MODEL_6cf5c9ad7913434aaf0997159dff5450",
       "outputs": [
        {
         "data": {
          "image/png": "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\n",
          "text/plain": "<Figure size 792x648 with 5 Axes>"
         },
         "metadata": {},
         "output_type": "display_data"
        }
       ]
      }
     },
     "925025d9df824eb9a19d004c9c05eb2f": {
      "model_module": "@jupyter-widgets/controls",
      "model_module_version": "1.5.0",
      "model_name": "DescriptionStyleModel",
      "state": {
       "description_width": ""
      }
     },
     "92e7477cc87041ae80ae2ad4910c3043": {
      "model_module": "@jupyter-widgets/controls",
      "model_module_version": "1.5.0",
      "model_name": "HTMLModel",
      "state": {
       "layout": "IPY_MODEL_717ea9f03f7543499eb61f680a563f92",
       "style": "IPY_MODEL_fd945fb677784b0e9a202dbc373e89ec",
       "value": "<div><font style='font-weight:bold'>last_update_date</font>: 2022-06-28 12:20:33+00:00</div>"
      }
     },
     "93246917c38f4000aaab8efe30184770": {
      "model_module": "@jupyter-widgets/controls",
      "model_module_version": "1.5.0",
      "model_name": "TabModel",
      "state": {
       "_titles": {
        "0": "Configuration",
        "1": "Qubit Properties",
        "2": "Multi-Qubit Gates",
        "3": "Error Map",
        "4": "Job History"
       },
       "children": [
        "IPY_MODEL_f8b7ea0e624c4d3fa39aef45c94e7fd0",
        "IPY_MODEL_f26505eaf34f4853bb26bb9d0ff90676",
        "IPY_MODEL_aa1b4cf6b14f4cd39a7dc8dc441c3882",
        "IPY_MODEL_cdcb1bf86e1842d5a46251477ae5fdf5",
        "IPY_MODEL_de95182bb95944a48c655d9dfbd09390"
       ],
       "layout": "IPY_MODEL_ff200a9d34d149e79dd44514e23e9124"
      }
     },
     "939a82c890a1413598316d970a8a30ab": {
      "model_module": "@jupyter-widgets/base",
      "model_module_version": "1.2.0",
      "model_name": "LayoutModel",
      "state": {
       "grid_area": "right"
      }
     },
     "947fc77602684b15be1c7df7fe933af5": {
      "model_module": "@jupyter-widgets/base",
      "model_module_version": "1.2.0",
      "model_name": "LayoutModel",
      "state": {
       "grid_area": "top"
      }
     },
     "94c8c417ea1a4f8c98ceb9eb0f261687": {
      "model_module": "@jupyter-widgets/controls",
      "model_module_version": "1.5.0",
      "model_name": "HTMLModel",
      "state": {
       "layout": "IPY_MODEL_faee2da01edf430f9d899bb81014e655",
       "style": "IPY_MODEL_3190db2e63fa4497a229b463f153004b",
       "value": "ibm_oslo"
      }
     },
     "94fc7440586e4fd59b6dcb7b1ed0058e": {
      "model_module": "@jupyter-widgets/base",
      "model_module_version": "1.2.0",
      "model_name": "LayoutModel",
      "state": {
       "border": "4px solid #000000",
       "max_height": "650px",
       "min_height": "650px",
       "overflow_y": "hidden"
      }
     },
     "95360310ff534b46bf68bff1599e1d02": {
      "model_module": "@jupyter-widgets/controls",
      "model_module_version": "1.5.0",
      "model_name": "TabModel",
      "state": {
       "layout": "IPY_MODEL_59c9f75b175b43e3b37cc405f43d3f42"
      }
     },
     "954f075acd274b9097e5c7fcd4a23ef1": {
      "model_module": "@jupyter-widgets/controls",
      "model_module_version": "1.5.0",
      "model_name": "HTMLModel",
      "state": {
       "layout": "IPY_MODEL_2737e5c4751141e4b82e15b5891afdf7",
       "style": "IPY_MODEL_5121db045aea49af946ceaeb0f5485b1",
       "value": "<table><style>\ntable {\n    border-collapse: collapse;\n    width: auto;\n}\n\nth, td {\n    text-align: left;\n    padding: 8px;\n}\n\ntr:nth-child(even) {background-color: #f6f6f6;};\n</style><tr><th></th><th>Type</th><th>Gate error</th></tr><tr><td><font style='font-weight:bold'>cx4_5</font></td><td>cx</td><td>0.01049</td></tr><tr><td><font style='font-weight:bold'>cx5_4</font></td><td>cx</td><td>0.01049</td></tr><tr><td><font style='font-weight:bold'>cx2_1</font></td><td>cx</td><td>0.00714</td></tr><tr><td><font style='font-weight:bold'>cx1_2</font></td><td>cx</td><td>0.00714</td></tr></table>"
      }
     },
     "963e206b1f7045cb9007c2231fab137e": {
      "model_module": "@jupyter-widgets/base",
      "model_module_version": "1.2.0",
      "model_name": "LayoutModel",
      "state": {
       "grid_area": "left"
      }
     },
     "96c6eada3694474bb6ff25d2bef83fae": {
      "model_module": "@jupyter-widgets/controls",
      "model_module_version": "1.5.0",
      "model_name": "DescriptionStyleModel",
      "state": {
       "description_width": ""
      }
     },
     "96deb02b41884bec83c0bbd39bf59752": {
      "model_module": "@jupyter-widgets/controls",
      "model_module_version": "1.5.0",
      "model_name": "DescriptionStyleModel",
      "state": {
       "description_width": ""
      }
     },
     "971dec7049494d329cafc4e5d15234e5": {
      "model_module": "@jupyter-widgets/base",
      "model_module_version": "1.2.0",
      "model_name": "LayoutModel",
      "state": {
       "grid_area": "left",
       "width": "100%"
      }
     },
     "973dd52ca66045308bbf10ad6476e3db": {
      "model_module": "@jupyter-widgets/base",
      "model_module_version": "1.2.0",
      "model_name": "LayoutModel",
      "state": {
       "grid_area": "bottom",
       "width": "auto"
      }
     },
     "9765db68a07e480c8ff90a027f3270ef": {
      "model_module": "@jupyter-widgets/controls",
      "model_module_version": "1.5.0",
      "model_name": "DescriptionStyleModel",
      "state": {
       "description_width": ""
      }
     },
     "98003eb113654e0baa12b8fbaa098a23": {
      "model_module": "@jupyter-widgets/base",
      "model_module_version": "1.2.0",
      "model_name": "LayoutModel",
      "state": {
       "align_items": "center",
       "display": "flex-inline",
       "grid_area": "right",
       "max_height": "325px",
       "padding": "10px 10px 10px 10px",
       "width": "auto"
      }
     },
     "98b3ebbfc5d24a38972c94094614382b": {
      "model_module": "@jupyter-widgets/controls",
      "model_module_version": "1.5.0",
      "model_name": "DescriptionStyleModel",
      "state": {
       "description_width": ""
      }
     },
     "98c8cf9dbd37483784d17ee4a876615d": {
      "model_module": "@jupyter-widgets/controls",
      "model_module_version": "1.5.0",
      "model_name": "DescriptionStyleModel",
      "state": {
       "description_width": ""
      }
     },
     "991ff0e0aa9744ae84b57eeb2a989d48": {
      "model_module": "@jupyter-widgets/base",
      "model_module_version": "1.2.0",
      "model_name": "LayoutModel",
      "state": {}
     },
     "999d3d08f227407589aa024091a62f1a": {
      "model_module": "@jupyter-widgets/base",
      "model_module_version": "1.2.0",
      "model_name": "LayoutModel",
      "state": {
       "overflow_y": "scroll"
      }
     },
     "9a001ceb01fb47d1a9375741c57006f5": {
      "model_module": "@jupyter-widgets/controls",
      "model_module_version": "1.5.0",
      "model_name": "HTMLModel",
      "state": {
       "layout": "IPY_MODEL_2a4e40927cc645f896355cdf260ec0bf",
       "style": "IPY_MODEL_b8a0aa9b525945838746c99da6d06388",
       "value": "<div><font style='font-weight:bold'>last_update_date</font>: Tue 28 June 2022 at 12:20 UTC</div>"
      }
     },
     "9b15ca28ee6b45a9b67c65cd64342422": {
      "model_module": "@jupyter-widgets/base",
      "model_module_version": "1.2.0",
      "model_name": "LayoutModel",
      "state": {
       "align_items": "center",
       "display": "flex-inline",
       "grid_area": "right",
       "max_height": "325px",
       "padding": "10px 10px 10px 10px",
       "width": "auto"
      }
     },
     "9b8308b88fe242269f7b606c61edeeb3": {
      "model_module": "@jupyter-widgets/base",
      "model_module_version": "1.2.0",
      "model_name": "LayoutModel",
      "state": {}
     },
     "9bd418a8253c4249a434b4035a988b24": {
      "model_module": "@jupyter-widgets/controls",
      "model_module_version": "1.5.0",
      "model_name": "HTMLModel",
      "state": {
       "layout": "IPY_MODEL_f38800396a144a7ebac0e729f253c3c4",
       "style": "IPY_MODEL_77822900b84c4dbb8eae77c9f9f30d9a",
       "value": "<h1 style='color:#ffffff;background-color:#000000;padding-top: 1%;padding-bottom: 1%;padding-left: 1%; margin-top: 0px'>ibm_oslo</h1>"
      }
     },
     "9d1d86c26df743ceaa0d9d74ffb954db": {
      "model_module": "@jupyter-widgets/controls",
      "model_module_version": "1.5.0",
      "model_name": "DescriptionStyleModel",
      "state": {
       "description_width": ""
      }
     },
     "9d3f6e98dcc84afcb68356a63926f30d": {
      "model_module": "@jupyter-widgets/controls",
      "model_module_version": "1.5.0",
      "model_name": "HTMLModel",
      "state": {
       "layout": "IPY_MODEL_572361464a694c5a9aa2344af7b17ef7",
       "style": "IPY_MODEL_5f6884183dc047b88c8de74b89ec73e6",
       "value": "<table><style>\ntable {\n    border-collapse: collapse;\n    width: auto;\n}\n\nth, td {\n    text-align: left;\n    padding: 8px;\n}\n\ntr:nth-child(even) {background-color: #f6f6f6;};\n</style><tr><th></th><th>Type</th><th>Gate error</th></tr><tr><td><font style='font-weight:bold'>cx6_5</font></td><td>cx</td><td>0.00755</td></tr><tr><td><font style='font-weight:bold'>cx5_6</font></td><td>cx</td><td>0.00755</td></tr><tr><td><font style='font-weight:bold'>cx0_1</font></td><td>cx</td><td>0.00972</td></tr><tr><td><font style='font-weight:bold'>cx1_0</font></td><td>cx</td><td>0.00972</td></tr></table>"
      }
     },
     "9d7fc9ea371f48c8b476b7807b613c67": {
      "model_module": "@jupyter-widgets/controls",
      "model_module_version": "1.5.0",
      "model_name": "DescriptionStyleModel",
      "state": {
       "description_width": ""
      }
     },
     "9d8b447a32ad4ef6925e0727af908037": {
      "model_module": "@jupyter-widgets/controls",
      "model_module_version": "1.5.0",
      "model_name": "VBoxModel",
      "state": {
       "children": [
        "IPY_MODEL_dc63f9e22df945eab30df3c047610590",
        "IPY_MODEL_b8c68b26063644189ded6e751572c805"
       ],
       "layout": "IPY_MODEL_0cee35cbc8754e499995471fb9b80dfd"
      }
     },
     "9dc1eaff04324623805574ddc2276553": {
      "model_module": "@jupyter-widgets/base",
      "model_module_version": "1.2.0",
      "model_name": "LayoutModel",
      "state": {
       "border": "4px solid #000000",
       "max_height": "650px",
       "min_height": "650px",
       "overflow_y": "hidden"
      }
     },
     "9ec01f2cf7df42009b0aed1cba087421": {
      "model_module": "@jupyter-widgets/controls",
      "model_module_version": "1.5.0",
      "model_name": "HTMLMathModel",
      "state": {
       "layout": "IPY_MODEL_e8672fe6026d415c8ea501f94d1f8652",
       "style": "IPY_MODEL_bf11dc3560bc4a398e733e73c6e1fc65",
       "value": "<table><style>\ntable {\n    border-collapse: collapse;\n    width: auto;\n}\n\nth, td {\n    text-align: left;\n    padding: 8px;\n}\n\ntr:nth-child(even) {background-color: #f6f6f6;}\n</style><tr><th>Property</th><th>Value</th></tr><tr><td><font style='font-weight:bold'>n_qubits</font></td><td>7</td></tr><tr><td><font style='font-weight:bold'>quantum_volume</font></td><td>32</td></tr><tr><td><font style='font-weight:bold'>operational</font></td><td>True</td></tr><tr><td><font style='font-weight:bold'>status_msg</font></td><td>active</td></tr><tr><td><font style='font-weight:bold'>pending_jobs</font></td><td>94</td></tr><tr><td><font style='font-weight:bold'>backend_version</font></td><td>1.0.3</td></tr><tr><td><font style='font-weight:bold'>basis_gates</font></td><td>['id', 'rz', 'sx', 'x', 'cx', 'reset']</td></tr><tr><td><font style='font-weight:bold'>max_shots</font></td><td>20000</td></tr><tr><td><font style='font-weight:bold'>max_experiments</font></td><td>100</td></tr></table>"
      }
     },
     "9f0752e5454d44f9b2ce9871ae533230": {
      "model_module": "@jupyter-widgets/base",
      "model_module_version": "1.2.0",
      "model_name": "LayoutModel",
      "state": {
       "grid_area": "left",
       "width": "100%"
      }
     },
     "9f53a5b5cc5c4214a117f34590d82a11": {
      "model_module": "@jupyter-widgets/base",
      "model_module_version": "1.2.0",
      "model_name": "LayoutModel",
      "state": {
       "grid_area": "top"
      }
     },
     "9ff5acf8dc8e4924921a3c850de5c68e": {
      "model_module": "@jupyter-widgets/controls",
      "model_module_version": "1.5.0",
      "model_name": "GridBoxModel",
      "state": {
       "children": [
        "IPY_MODEL_8f12a3d205db44398ae12661e078896c",
        "IPY_MODEL_d4199472a41a474e876c309533f8dd1e",
        "IPY_MODEL_b7e9fee9a71a49b081dedf3a7150b981"
       ],
       "layout": "IPY_MODEL_5bc811412a944352916dc30c33ae066e"
      }
     },
     "a059be89bb3c437f80365ba3fddfe425": {
      "model_module": "@jupyter-widgets/base",
      "model_module_version": "1.2.0",
      "model_name": "LayoutModel",
      "state": {}
     },
     "a06eac1b0ead4910a58ba6f3846dc7d5": {
      "model_module": "@jupyter-widgets/controls",
      "model_module_version": "1.5.0",
      "model_name": "VBoxModel",
      "state": {
       "children": [
        "IPY_MODEL_a5cafb731e6b406888cc02d1beada2dd",
        "IPY_MODEL_bc5cbeb7fc90458dab56f22328e7d8d5"
       ],
       "layout": "IPY_MODEL_71b021cf798549278766473e86400a94"
      }
     },
     "a083b4bc05904eb3864c64ed547f841b": {
      "model_module": "@jupyter-widgets/output",
      "model_module_version": "1.0.0",
      "model_name": "OutputModel",
      "state": {
       "layout": "IPY_MODEL_828fb8547ed24b7a86a9ff2a5caed2a7",
       "outputs": [
        {
         "data": {
          "image/png": "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\n",
          "text/plain": "<Figure size 360x360 with 1 Axes>"
         },
         "metadata": {},
         "output_type": "display_data"
        }
       ]
      }
     },
     "a0e3f15352384e319db81d7eb5a59a22": {
      "model_module": "@jupyter-widgets/base",
      "model_module_version": "1.2.0",
      "model_name": "LayoutModel",
      "state": {
       "grid_area": "middle"
      }
     },
     "a133bd0de429458a8aaae12854e4f663": {
      "model_module": "@jupyter-widgets/controls",
      "model_module_version": "1.5.0",
      "model_name": "HTMLModel",
      "state": {
       "layout": "IPY_MODEL_d3ae9912a69a4868b0bdd8eb252a44b3",
       "style": "IPY_MODEL_c9c14031cd3c4165a8aa73680fc37deb",
       "value": "<table><style>\ntable {\n    border-collapse: collapse;\n    width: auto;\n}\n\nth, td {\n    text-align: left;\n    padding: 8px;\n}\n\ntr:nth-child(even) {background-color: #f6f6f6;};\n</style><tr><th></th><th>Type</th><th>Gate error</th></tr><tr><td><font style='font-weight:bold'>cx6_5</font></td><td>cx</td><td>0.00755</td></tr><tr><td><font style='font-weight:bold'>cx5_6</font></td><td>cx</td><td>0.00755</td></tr><tr><td><font style='font-weight:bold'>cx0_1</font></td><td>cx</td><td>0.00972</td></tr><tr><td><font style='font-weight:bold'>cx1_0</font></td><td>cx</td><td>0.00972</td></tr></table>"
      }
     },
     "a29f8c71195a480a87cf3c7697ecfe52": {
      "model_module": "@jupyter-widgets/base",
      "model_module_version": "1.2.0",
      "model_name": "LayoutModel",
      "state": {
       "grid_gap": "0px 0px",
       "grid_template_areas": "\n                                                   \"top top top\"\n                                                   \"left middle right\"\n                                                   ",
       "grid_template_columns": "33% 33% 33%",
       "grid_template_rows": "auto auto"
      }
     },
     "a2d33cb0f2c04a899f00d1b1e8ad1275": {
      "model_module": "@jupyter-widgets/controls",
      "model_module_version": "1.5.0",
      "model_name": "DescriptionStyleModel",
      "state": {
       "description_width": ""
      }
     },
     "a2da186d74774de3b28723f28083c30b": {
      "model_module": "@jupyter-widgets/base",
      "model_module_version": "1.2.0",
      "model_name": "LayoutModel",
      "state": {}
     },
     "a353e75b951745b88c00177c263bc28a": {
      "model_module": "@jupyter-widgets/base",
      "model_module_version": "1.2.0",
      "model_name": "LayoutModel",
      "state": {
       "grid_area": "top"
      }
     },
     "a3610badd46c4e39a82d20fea28c7c06": {
      "model_module": "@jupyter-widgets/controls",
      "model_module_version": "1.5.0",
      "model_name": "DescriptionStyleModel",
      "state": {
       "description_width": ""
      }
     },
     "a372810832b64cdb9e92a9126085e8be": {
      "model_module": "@jupyter-widgets/base",
      "model_module_version": "1.2.0",
      "model_name": "LayoutModel",
      "state": {}
     },
     "a446f9ac94b34663a8c4fbda2d01ed06": {
      "model_module": "@jupyter-widgets/controls",
      "model_module_version": "1.5.0",
      "model_name": "HTMLMathModel",
      "state": {
       "layout": "IPY_MODEL_a8944f11d50e45349c570cd29eb731eb",
       "style": "IPY_MODEL_5ac5500874e04366a0c19ea60e9e5366",
       "value": "<table><style>\ntable {\n    border-collapse: collapse;\n    width: auto;\n}\n\nth, td {\n    text-align: left;\n    padding: 8px;\n}\n\ntr:nth-child(even) {background-color: #f6f6f6;}\n</style><tr><th></th><th></th></tr><tr><td>allow_q_object</td><td>True</td></tr><tr><td>qubit_channel_mapping</td><td>[['m0', 'u0', 'u1', 'd0'], ['u3', 'u0', 'u2', 'd1', 'u5', 'u4', 'u1', 'm1'], ['d2', 'm2', 'u4', 'u2'], ['u3', 'u6', 'd3', 'm3', 'u8', 'u5'], ['u9', 'u7', 'm4', 'd4'], ['d5', 'u9', 'm5', 'u11', 'u6', 'u8', 'u7', 'u10'], ['u11', 'm6', 'd6', 'u10']]</td></tr><tr><td>supported_features</td><td>['qobj', 'qasm3']</td></tr><tr><td>memory</td><td>True</td></tr><tr><td>qubit_lo_range</td><td>[[4.425039493971028, 5.425039493971028], [4.546253783996783, 5.546253783996784], [4.4619867212182145, 5.4619867212182145], [4.608082034893607, 5.608082034893607], [4.511074409987105, 5.511074409987105], [4.673289842125353, 5.673289842125353], [4.819303501215827, 5.819303501215827]]</td></tr><tr><td>meas_lo_range</td><td>[[6.729836446, 7.729836446], [6.604835349, 7.604835349000001], [6.8306589760000005, 7.8306589760000005], [6.632327716000001, 7.632327716000001], [6.713651857, 7.713651857], [6.812390622000001, 7.812390622000001], [6.7878388140000006, 7.7878388140000006]]</td></tr><tr><td>measure_esp_enabled</td><td>False</td></tr><tr><td>local</td><td>False</td></tr><tr><td>multi_meas_enabled</td><td>True</td></tr><tr><td>meas_kernels</td><td>['hw_qmfk']</td></tr><tr><td>pulse_num_channels</td><td>9</td></tr><tr><td>uchannels_enabled</td><td>True</td></tr><tr><td>conditional</td><td>False</td></tr><tr><td>rep_delay_range</td><td>[0.0, 500.0]</td></tr><tr><td>sample_name</td><td>family: Falcon, revision: 5.11, segment: H</td></tr><tr><td>pulse_num_qubits</td><td>3</td></tr><tr><td>discriminators</td><td>['linear_discriminator', 'quadratic_discriminator', 'hw_qmfk']</td></tr><tr><td>open_pulse</td><td>False</td></tr><tr><td>online_date</td><td>2022-03-25 04:00:00+00:00</td></tr><tr><td>n_uchannels</td><td>12</td></tr><tr><td>hamiltonian</td><td>$$\\begin{align} \\mathcal{H}/\\hbar = & \\sum_{i=0}^{6}\\left(\\frac{\\omega_{q,i}}{2}(\\mathbb{I}-\\sigma_i^{z})+\\frac{\\Delta_{i}}{2}(O_i^2-O_i)+\\Omega_{d,i}D_i(t)\\sigma_i^{X}\\right) \\\\ & + J_{0,1}(\\sigma_{0}^{+}\\sigma_{1}^{-}+\\sigma_{0}^{-}\\sigma_{1}^{+}) + J_{1,2}(\\sigma_{1}^{+}\\sigma_{2}^{-}+\\sigma_{1}^{-}\\sigma_{2}^{+}) + J_{4,5}(\\sigma_{4}^{+}\\sigma_{5}^{-}+\\sigma_{4}^{-}\\sigma_{5}^{+}) + J_{5,6}(\\sigma_{5}^{+}\\sigma_{6}^{-}+\\sigma_{5}^{-}\\sigma_{6}^{+}) \\\\ & + J_{1,3}(\\sigma_{1}^{+}\\sigma_{3}^{-}+\\sigma_{1}^{-}\\sigma_{3}^{+}) + J_{3,5}(\\sigma_{3}^{+}\\sigma_{5}^{-}+\\sigma_{3}^{-}\\sigma_{5}^{+}) \\\\ & + \\Omega_{d,0}(U_{0}^{(0,1)}(t))\\sigma_{0}^{X} + \\Omega_{d,1}(U_{1}^{(1,0)}(t)+U_{3}^{(1,3)}(t)+U_{2}^{(1,2)}(t))\\sigma_{1}^{X} \\\\ & + \\Omega_{d,2}(U_{4}^{(2,1)}(t))\\sigma_{2}^{X} + \\Omega_{d,3}(U_{5}^{(3,1)}(t)+U_{6}^{(3,5)}(t))\\sigma_{3}^{X} \\\\ & + \\Omega_{d,4}(U_{7}^{(4,5)}(t))\\sigma_{4}^{X} + \\Omega_{d,5}(U_{8}^{(5,3)}(t)+U_{10}^{(5,6)}(t)+U_{9}^{(5,4)}(t))\\sigma_{5}^{X} \\\\ & + \\Omega_{d,6}(U_{11}^{(6,5)}(t))\\sigma_{6}^{X} \\\\ \\end{align}$$</td></tr><tr><td>default_rep_delay</td><td>250.0</td></tr><tr><td>url</td><td>None</td></tr><tr><td>clops</td><td>2645</td></tr><tr><td>meas_levels</td><td>[1, 2]</td></tr><tr><td>acquisition_latency</td><td>[]</td></tr><tr><td>simulator</td><td>False</td></tr><tr><td>live_data</td><td>False</td></tr><tr><td>processor_type</td><td>{'family': 'Falcon', 'revision': '5.11', 'segment': 'H'}</td></tr><tr><td>dtm</td><td>0.2222222222222222</td></tr><tr><td>n_registers</td><td>1</td></tr><tr><td>coupling_map</td><td>[[0, 1], [1, 0], [1, 2], [1, 3], [2, 1], [3, 1], [3, 5], [4, 5], [5, 3], [5, 4], [5, 6], [6, 5]]</td></tr><tr><td>parametric_pulses</td><td>['gaussian', 'gaussian_square', 'drag', 'constant']</td></tr><tr><td>credits_required</td><td>True</td></tr><tr><td>u_channel_lo</td><td>[[{'q': 1, 'scale': (1+0j)}], [{'q': 0, 'scale': (1+0j)}], [{'q': 2, 'scale': (1+0j)}], [{'q': 3, 'scale': (1+0j)}], [{'q': 1, 'scale': (1+0j)}], [{'q': 1, 'scale': (1+0j)}], [{'q': 5, 'scale': (1+0j)}], [{'q': 5, 'scale': (1+0j)}], [{'q': 3, 'scale': (1+0j)}], [{'q': 4, 'scale': (1+0j)}], [{'q': 6, 'scale': (1+0j)}], [{'q': 5, 'scale': (1+0j)}]]</td></tr><tr><td>meas_map</td><td>[[0, 1, 2, 3, 4, 5, 6]]</td></tr><tr><td>input_allowed</td><td>['job', 'runtime']</td></tr><tr><td>allow_object_storage</td><td>True</td></tr><tr><td>supported_instructions</td><td>['measure', 'u3', 'x', 'u2', 'shiftf', 'rz', 'sx', 'acquire', 'reset', 'cx', 'u1', 'id', 'setf', 'play', 'delay']</td></tr><tr><td>backend_name</td><td>ibm_oslo</td></tr><tr><td>dynamic_reprate_enabled</td><td>True</td></tr><tr><td>rep_times</td><td>[1000.0]</td></tr><tr><td>dt</td><td>0.2222222222222222</td></tr><tr><td>description</td><td>7 qubit device</td></tr><tr><td>channels</td><td>{'acquire0': {'operates': {'qubits': [0]}, 'purpose': 'acquire', 'type': 'acquire'}, 'acquire1': {'operates': {'qubits': [1]}, 'purpose': 'acquire', 'type': 'acquire'}, 'acquire2': {'operates': {'qubits': [2]}, 'purpose': 'acquire', 'type': 'acquire'}, 'acquire3': {'operates': {'qubits': [3]}, 'purpose': 'acquire', 'type': 'acquire'}, 'acquire4': {'operates': {'qubits': [4]}, 'purpose': 'acquire', 'type': 'acquire'}, 'acquire5': {'operates': {'qubits': [5]}, 'purpose': 'acquire', 'type': 'acquire'}, 'acquire6': {'operates': {'qubits': [6]}, 'purpose': 'acquire', 'type': 'acquire'}, 'd0': {'operates': {'qubits': [0]}, 'purpose': 'drive', 'type': 'drive'}, 'd1': {'operates': {'qubits': [1]}, 'purpose': 'drive', 'type': 'drive'}, 'd2': {'operates': {'qubits': [2]}, 'purpose': 'drive', 'type': 'drive'}, 'd3': {'operates': {'qubits': [3]}, 'purpose': 'drive', 'type': 'drive'}, 'd4': {'operates': {'qubits': [4]}, 'purpose': 'drive', 'type': 'drive'}, 'd5': {'operates': {'qubits': [5]}, 'purpose': 'drive', 'type': 'drive'}, 'd6': {'operates': {'qubits': [6]}, 'purpose': 'drive', 'type': 'drive'}, 'm0': {'operates': {'qubits': [0]}, 'purpose': 'measure', 'type': 'measure'}, 'm1': {'operates': {'qubits': [1]}, 'purpose': 'measure', 'type': 'measure'}, 'm2': {'operates': {'qubits': [2]}, 'purpose': 'measure', 'type': 'measure'}, 'm3': {'operates': {'qubits': [3]}, 'purpose': 'measure', 'type': 'measure'}, 'm4': {'operates': {'qubits': [4]}, 'purpose': 'measure', 'type': 'measure'}, 'm5': {'operates': {'qubits': [5]}, 'purpose': 'measure', 'type': 'measure'}, 'm6': {'operates': {'qubits': [6]}, 'purpose': 'measure', 'type': 'measure'}, 'u0': {'operates': {'qubits': [0, 1]}, 'purpose': 'cross-resonance', 'type': 'control'}, 'u1': {'operates': {'qubits': [1, 0]}, 'purpose': 'cross-resonance', 'type': 'control'}, 'u10': {'operates': {'qubits': [5, 6]}, 'purpose': 'cross-resonance', 'type': 'control'}, 'u11': {'operates': {'qubits': [6, 5]}, 'purpose': 'cross-resonance', 'type': 'control'}, 'u2': {'operates': {'qubits': [1, 2]}, 'purpose': 'cross-resonance', 'type': 'control'}, 'u3': {'operates': {'qubits': [1, 3]}, 'purpose': 'cross-resonance', 'type': 'control'}, 'u4': {'operates': {'qubits': [2, 1]}, 'purpose': 'cross-resonance', 'type': 'control'}, 'u5': {'operates': {'qubits': [3, 1]}, 'purpose': 'cross-resonance', 'type': 'control'}, 'u6': {'operates': {'qubits': [3, 5]}, 'purpose': 'cross-resonance', 'type': 'control'}, 'u7': {'operates': {'qubits': [4, 5]}, 'purpose': 'cross-resonance', 'type': 'control'}, 'u8': {'operates': {'qubits': [5, 3]}, 'purpose': 'cross-resonance', 'type': 'control'}, 'u9': {'operates': {'qubits': [5, 4]}, 'purpose': 'cross-resonance', 'type': 'control'}}</td></tr><tr><td>timing_constraints</td><td>{'acquire_alignment': 16, 'granularity': 16, 'min_length': 64, 'pulse_alignment': 16}</td></tr><tr><td>conditional_latency</td><td>[]</td></tr></table>"
      }
     },
     "a4718b3782e846e0a757bd2ff53d93b1": {
      "model_module": "@jupyter-widgets/base",
      "model_module_version": "1.2.0",
      "model_name": "LayoutModel",
      "state": {
       "align_items": "center",
       "display": "flex-inline",
       "grid_area": "right",
       "max_height": "325px",
       "padding": "10px 10px 10px 10px",
       "width": "auto"
      }
     },
     "a49fa91c4cd140358edfda6219427b31": {
      "model_module": "@jupyter-widgets/base",
      "model_module_version": "1.2.0",
      "model_name": "LayoutModel",
      "state": {
       "align_items": "center",
       "display": "flex-inline",
       "grid_area": "right",
       "max_height": "325px",
       "padding": "10px 10px 10px 10px",
       "width": "auto"
      }
     },
     "a4b4334d1ebf48fab054e5c0a9e00509": {
      "model_module": "@jupyter-widgets/controls",
      "model_module_version": "1.5.0",
      "model_name": "HTMLMathModel",
      "state": {
       "layout": "IPY_MODEL_9f0752e5454d44f9b2ce9871ae533230",
       "style": "IPY_MODEL_36558d3334244d9d8896553b04437a00",
       "value": "<table><style>\ntable {\n    border-collapse: collapse;\n    width: auto;\n}\n\nth, td {\n    text-align: left;\n    padding: 8px;\n}\n\ntr:nth-child(even) {background-color: #f6f6f6;}\n</style><tr><th>Property</th><th>Value</th></tr><tr><td><font style='font-weight:bold'>n_qubits</font></td><td>7</td></tr><tr><td><font style='font-weight:bold'>quantum_volume</font></td><td>32</td></tr><tr><td><font style='font-weight:bold'>operational</font></td><td>True</td></tr><tr><td><font style='font-weight:bold'>status_msg</font></td><td>active</td></tr><tr><td><font style='font-weight:bold'>pending_jobs</font></td><td>96</td></tr><tr><td><font style='font-weight:bold'>backend_version</font></td><td>1.0.3</td></tr><tr><td><font style='font-weight:bold'>basis_gates</font></td><td>['id', 'rz', 'sx', 'x', 'cx', 'reset']</td></tr><tr><td><font style='font-weight:bold'>max_shots</font></td><td>20000</td></tr><tr><td><font style='font-weight:bold'>max_experiments</font></td><td>100</td></tr></table>"
      }
     },
     "a57ad4b6a1f94781b7c45566eb3bc2e3": {
      "model_module": "@jupyter-widgets/controls",
      "model_module_version": "1.5.0",
      "model_name": "HTMLModel",
      "state": {
       "layout": "IPY_MODEL_4d8df83cf2b149c79188d60e51ef845d",
       "style": "IPY_MODEL_0eb4be2ca765470ba2c205cdae8d5da1",
       "value": "<h5>Queue</h5>"
      }
     },
     "a5cafb731e6b406888cc02d1beada2dd": {
      "model_module": "@jupyter-widgets/controls",
      "model_module_version": "1.5.0",
      "model_name": "HTMLModel",
      "state": {
       "layout": "IPY_MODEL_bf1f20fdabb648f7bca0d2ba327edc7c",
       "style": "IPY_MODEL_829a0054f948416f8479318fcf9609c8",
       "value": "<h1 style='color:#ffffff;background-color:#000000;padding-top: 1%;padding-bottom: 1%;padding-left: 1%; margin-top: 0px'>ibm_oslo</h1>"
      }
     },
     "a627b25098d94d63a345ed0031136f0f": {
      "model_module": "@jupyter-widgets/base",
      "model_module_version": "1.2.0",
      "model_name": "LayoutModel",
      "state": {
       "grid_gap": "0px 0px",
       "grid_template_areas": "\n                                                   \"top top top\"\n                                                   \"left middle right\"\n                                                   ",
       "grid_template_columns": "33% 33% 33%",
       "grid_template_rows": "auto auto"
      }
     },
     "a6f35d4721344929b0efc3cbcf01de60": {
      "model_module": "@jupyter-widgets/base",
      "model_module_version": "1.2.0",
      "model_name": "LayoutModel",
      "state": {}
     },
     "a8944f11d50e45349c570cd29eb731eb": {
      "model_module": "@jupyter-widgets/base",
      "model_module_version": "1.2.0",
      "model_name": "LayoutModel",
      "state": {
       "grid_area": "bottom",
       "width": "auto"
      }
     },
     "a94d03a9f74e409385087326e1d44590": {
      "model_module": "@jupyter-widgets/controls",
      "model_module_version": "1.5.0",
      "model_name": "DescriptionStyleModel",
      "state": {
       "description_width": ""
      }
     },
     "a9caab35a23c45d78c5b0bb7c698050f": {
      "model_module": "@jupyter-widgets/controls",
      "model_module_version": "1.5.0",
      "model_name": "HTMLModel",
      "state": {
       "layout": "IPY_MODEL_2a0d71e8f5944b60a50b52e562d6429b",
       "style": "IPY_MODEL_61ea5dde38be45e18ce3fce4bcc9711e",
       "value": "<div><font style='font-weight:bold'>last_update_date</font>: Tue 28 June 2022 at 11:14 UTC</div>"
      }
     },
     "a9fdf5f786af490695039875d35c1e6e": {
      "model_module": "@jupyter-widgets/controls",
      "model_module_version": "1.5.0",
      "model_name": "GridBoxModel",
      "state": {
       "children": [
        "IPY_MODEL_871f3960f550406ab24520726c233e6d"
       ],
       "layout": "IPY_MODEL_ad8e1b9e7b3146e49b096696f8fb8ddf"
      }
     },
     "aa1b4cf6b14f4cd39a7dc8dc441c3882": {
      "model_module": "@jupyter-widgets/controls",
      "model_module_version": "1.5.0",
      "model_name": "GridBoxModel",
      "state": {
       "children": [
        "IPY_MODEL_128a599153a5461ab4a47105853cab7f",
        "IPY_MODEL_bb4d1d7ec3f04730b9db07d96a28f3b1",
        "IPY_MODEL_2fe7c33e92be41d6b8b1b609e173104b",
        "IPY_MODEL_e12f96e08ee84422a2748037c1a8e910"
       ],
       "layout": "IPY_MODEL_5aca24f742f5490390406b72dbe01dee"
      }
     },
     "aae3076effc543b2a9de3f3c8f17c0a1": {
      "model_module": "@jupyter-widgets/base",
      "model_module_version": "1.2.0",
      "model_name": "LayoutModel",
      "state": {
       "grid_area": "bottom",
       "width": "auto"
      }
     },
     "aaf77bffa8304f16a9ba5807cebdbf1b": {
      "model_module": "@jupyter-widgets/controls",
      "model_module_version": "1.5.0",
      "model_name": "DescriptionStyleModel",
      "state": {
       "description_width": ""
      }
     },
     "ab667468182746f795a918ff307e1638": {
      "model_module": "@jupyter-widgets/controls",
      "model_module_version": "1.5.0",
      "model_name": "DescriptionStyleModel",
      "state": {
       "description_width": ""
      }
     },
     "ab684a65aed448fab8dd77364256d9a8": {
      "model_module": "@jupyter-widgets/controls",
      "model_module_version": "1.5.0",
      "model_name": "HTMLModel",
      "state": {
       "layout": "IPY_MODEL_d7cb252252bb44a0a4c217e567096313",
       "style": "IPY_MODEL_e372ddf020d24715821aba708e2adc6d",
       "value": "<h1 style='color:#ffffff;background-color:#000000;padding-top: 1%;padding-bottom: 1%;padding-left: 1%; margin-top: 0px'>ibm_oslo</h1>"
      }
     },
     "abb705c28470473b99bfc9d32e958dc6": {
      "model_module": "@jupyter-widgets/controls",
      "model_module_version": "1.5.0",
      "model_name": "DescriptionStyleModel",
      "state": {
       "description_width": ""
      }
     },
     "ac5afc0366e24439a083f8c2efdd7efb": {
      "model_module": "@jupyter-widgets/controls",
      "model_module_version": "1.5.0",
      "model_name": "TabModel",
      "state": {
       "layout": "IPY_MODEL_c229317b60824e0e92074833e6a17168"
      }
     },
     "ac7839c39dc84bd891453592488eca75": {
      "model_module": "@jupyter-widgets/controls",
      "model_module_version": "1.5.0",
      "model_name": "HTMLModel",
      "state": {
       "layout": "IPY_MODEL_5b8cdaba73684853854847676783be12",
       "style": "IPY_MODEL_6accb79d3c4743c5b41f95968bec3e3c",
       "value": "<table><style>\ntable {\n    border-collapse: collapse;\n    width: auto;\n}\n\nth, td {\n    text-align: left;\n    padding: 8px;\n}\n\ntr:nth-child(even) {background-color: #f6f6f6;};\n</style><tr><th></th><th>Type</th><th>Gate error</th></tr><tr><td><font style='font-weight:bold'>cx1_3</font></td><td>cx</td><td>0.00924</td></tr><tr><td><font style='font-weight:bold'>cx3_1</font></td><td>cx</td><td>0.00924</td></tr><tr><td><font style='font-weight:bold'>cx5_3</font></td><td>cx</td><td>0.00767</td></tr><tr><td><font style='font-weight:bold'>cx3_5</font></td><td>cx</td><td>0.00767</td></tr></table>"
      }
     },
     "aca1644ee5f64aa3a866e520d8ed17f1": {
      "model_module": "@jupyter-widgets/base",
      "model_module_version": "1.2.0",
      "model_name": "LayoutModel",
      "state": {
       "width": "145px"
      }
     },
     "ad8e1b9e7b3146e49b096696f8fb8ddf": {
      "model_module": "@jupyter-widgets/base",
      "model_module_version": "1.2.0",
      "model_name": "LayoutModel",
      "state": {
       "grid_template_areas": "\n                                       \". . . . right \"\n                                        ",
       "grid_template_columns": "20% 20% 20% 20% 20%",
       "width": "100%"
      }
     },
     "ae143946e223415b9ae89dbbbe4d05fb": {
      "model_module": "@jupyter-widgets/controls",
      "model_module_version": "1.5.0",
      "model_name": "DescriptionStyleModel",
      "state": {
       "description_width": ""
      }
     },
     "aee0b9fd534e4f758ad354fe9549732e": {
      "model_module": "@jupyter-widgets/base",
      "model_module_version": "1.2.0",
      "model_name": "LayoutModel",
      "state": {
       "overflow_y": "scroll"
      }
     },
     "af04f403824f4889b2e07322757f901f": {
      "model_module": "@jupyter-widgets/base",
      "model_module_version": "1.2.0",
      "model_name": "LayoutModel",
      "state": {
       "grid_gap": "0px 0px",
       "grid_template_areas": "\n                               \"left right right right\"\n                               \"bottom bottom bottom bottom\"\n                               ",
       "grid_template_columns": "31% 23% 23% 23%",
       "grid_template_rows": "auto auto"
      }
     },
     "af2f07ac610546b1985055b631fdec8f": {
      "model_module": "@jupyter-widgets/controls",
      "model_module_version": "1.5.0",
      "model_name": "DescriptionStyleModel",
      "state": {
       "description_width": ""
      }
     },
     "b11745572548496ea6e103796477199c": {
      "model_module": "@jupyter-widgets/output",
      "model_module_version": "1.0.0",
      "model_name": "OutputModel",
      "state": {
       "layout": "IPY_MODEL_2c14ea64507e458ba71716a8d1e63ef2",
       "outputs": [
        {
         "data": {
          "image/png": "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\n",
          "text/plain": "<Figure size 792x648 with 5 Axes>"
         },
         "metadata": {},
         "output_type": "display_data"
        }
       ]
      }
     },
     "b2e8cc64a5024573a12273aeccc98218": {
      "model_module": "@jupyter-widgets/output",
      "model_module_version": "1.0.0",
      "model_name": "OutputModel",
      "state": {
       "layout": "IPY_MODEL_9b15ca28ee6b45a9b67c65cd64342422"
      }
     },
     "b30d398e577445ffa0d9e4172b3a60c9": {
      "model_module": "@jupyter-widgets/controls",
      "model_module_version": "1.5.0",
      "model_name": "TabModel",
      "state": {
       "_titles": {
        "0": "Configuration",
        "1": "Qubit Properties",
        "2": "Multi-Qubit Gates",
        "3": "Error Map",
        "4": "Job History"
       },
       "children": [
        "IPY_MODEL_0b4d1b36ff4a4304920eedf964fef871",
        "IPY_MODEL_8f82ceb64b4a4d229d02a323f7a416e7",
        "IPY_MODEL_bc6a1a46584f4aa9b7b23c8a03a8d7af",
        "IPY_MODEL_61d6b5df2145463b931ac189cccf42e2",
        "IPY_MODEL_c4b10420d82746ae997fc6ef8983d6ea"
       ],
       "layout": "IPY_MODEL_dc17b20ad4ce465c8c31f982567005d4"
      }
     },
     "b32c3820af8746e7a0331fb8ee52a6c7": {
      "model_module": "@jupyter-widgets/base",
      "model_module_version": "1.2.0",
      "model_name": "LayoutModel",
      "state": {
       "grid_area": "top"
      }
     },
     "b3f55029503242338c03dc90e3b9167f": {
      "model_module": "@jupyter-widgets/controls",
      "model_module_version": "1.5.0",
      "model_name": "VBoxModel",
      "state": {
       "children": [
        "IPY_MODEL_ab684a65aed448fab8dd77364256d9a8",
        "IPY_MODEL_c9fa8ffb24ca4036909ff89913ebdbfa"
       ],
       "layout": "IPY_MODEL_26960fb799eb4d56928aa0cf3f1ab71e"
      }
     },
     "b422a1bd172a493484fb36cbd1cbc0af": {
      "model_module": "@jupyter-widgets/controls",
      "model_module_version": "1.5.0",
      "model_name": "HTMLModel",
      "state": {
       "layout": "IPY_MODEL_a372810832b64cdb9e92a9126085e8be",
       "style": "IPY_MODEL_aaf77bffa8304f16a9ba5807cebdbf1b",
       "value": "<h5>Message</h5>"
      }
     },
     "b5be6b4f5ebd42de92897e056f1792ad": {
      "model_module": "@jupyter-widgets/controls",
      "model_module_version": "1.5.0",
      "model_name": "VBoxModel",
      "state": {
       "children": [
        "IPY_MODEL_c46920a8a1c648b5abef0f34212e6ea5",
        "IPY_MODEL_8df4ec180cc24a34be5f4e0f08429722"
       ],
       "layout": "IPY_MODEL_4a27cdcb6eac4b22b7c5ffcfe2eb5bc7"
      }
     },
     "b6447d8ab85c409d848434bd9af9b653": {
      "model_module": "@jupyter-widgets/controls",
      "model_module_version": "1.5.0",
      "model_name": "DescriptionStyleModel",
      "state": {
       "description_width": ""
      }
     },
     "b69744cf5a0242d693e0ea35b49c430c": {
      "model_module": "@jupyter-widgets/controls",
      "model_module_version": "1.5.0",
      "model_name": "DescriptionStyleModel",
      "state": {
       "description_width": ""
      }
     },
     "b6f16c048e424efc9933c7f70bb1e048": {
      "model_module": "@jupyter-widgets/base",
      "model_module_version": "1.2.0",
      "model_name": "LayoutModel",
      "state": {
       "align_items": "center",
       "display": "flex-inline",
       "grid_area": "right",
       "max_height": "325px",
       "padding": "10px 10px 10px 10px",
       "width": "auto"
      }
     },
     "b751c9ffded648fb8c476b47e23f154d": {
      "model_module": "@jupyter-widgets/controls",
      "model_module_version": "1.5.0",
      "model_name": "HTMLModel",
      "state": {
       "layout": "IPY_MODEL_b32c3820af8746e7a0331fb8ee52a6c7",
       "style": "IPY_MODEL_65ebba0c2d2d4a3388dc87ddde98be1e",
       "value": "<div><font style='font-weight:bold'>last_update_date</font>: 2022-06-28 12:20:33+00:00</div>"
      }
     },
     "b75f3fad73e947c8a3df068385ee2bf4": {
      "model_module": "@jupyter-widgets/base",
      "model_module_version": "1.2.0",
      "model_name": "LayoutModel",
      "state": {
       "border": "4px solid #000000",
       "max_height": "650px",
       "min_height": "650px",
       "overflow_y": "hidden"
      }
     },
     "b7e9fee9a71a49b081dedf3a7150b981": {
      "model_module": "@jupyter-widgets/controls",
      "model_module_version": "1.5.0",
      "model_name": "HTMLMathModel",
      "state": {
       "layout": "IPY_MODEL_de97f53c1efb4443af4e2de4a30411cd",
       "style": "IPY_MODEL_7dd278a72d924ac5b116a40a7df1a5ba",
       "value": "<table><style>\ntable {\n    border-collapse: collapse;\n    width: auto;\n}\n\nth, td {\n    text-align: left;\n    padding: 8px;\n}\n\ntr:nth-child(even) {background-color: #f6f6f6;}\n</style><tr><th></th><th></th></tr><tr><td>allow_q_object</td><td>True</td></tr><tr><td>qubit_channel_mapping</td><td>[['d0', 'm0', 'u1', 'u0'], ['d1', 'u4', 'u0', 'u2', 'u1', 'u5', 'm1', 'u3'], ['u4', 'm2', 'u2', 'd2'], ['u8', 'u5', 'u6', 'd3', 'u3', 'm3'], ['m4', 'u7', 'd4', 'u9'], ['u7', 'u8', 'm5', 'd5', 'u9', 'u10', 'u6', 'u11'], ['u11', 'd6', 'm6', 'u10']]</td></tr><tr><td>supported_features</td><td>['qobj', 'qasm3']</td></tr><tr><td>memory</td><td>True</td></tr><tr><td>qubit_lo_range</td><td>[[4.425039493971028, 5.425039493971028], [4.546253783996783, 5.546253783996784], [4.4619867212182145, 5.4619867212182145], [4.608082034893607, 5.608082034893607], [4.511074409987105, 5.511074409987105], [4.673289842125353, 5.673289842125353], [4.819303501215827, 5.819303501215827]]</td></tr><tr><td>meas_lo_range</td><td>[[6.729836446, 7.729836446], [6.604835349, 7.604835349000001], [6.8306589760000005, 7.8306589760000005], [6.632327716000001, 7.632327716000001], [6.713651857, 7.713651857], [6.812390622000001, 7.812390622000001], [6.7878388140000006, 7.7878388140000006]]</td></tr><tr><td>measure_esp_enabled</td><td>False</td></tr><tr><td>local</td><td>False</td></tr><tr><td>multi_meas_enabled</td><td>True</td></tr><tr><td>meas_kernels</td><td>['hw_qmfk']</td></tr><tr><td>pulse_num_channels</td><td>9</td></tr><tr><td>uchannels_enabled</td><td>True</td></tr><tr><td>conditional</td><td>False</td></tr><tr><td>rep_delay_range</td><td>[0.0, 500.0]</td></tr><tr><td>sample_name</td><td>family: Falcon, revision: 5.11, segment: H</td></tr><tr><td>pulse_num_qubits</td><td>3</td></tr><tr><td>discriminators</td><td>['hw_qmfk', 'quadratic_discriminator', 'linear_discriminator']</td></tr><tr><td>open_pulse</td><td>False</td></tr><tr><td>online_date</td><td>2022-03-25 04:00:00+00:00</td></tr><tr><td>n_uchannels</td><td>12</td></tr><tr><td>hamiltonian</td><td>$$\\begin{align} \\mathcal{H}/\\hbar = & \\sum_{i=0}^{6}\\left(\\frac{\\omega_{q,i}}{2}(\\mathbb{I}-\\sigma_i^{z})+\\frac{\\Delta_{i}}{2}(O_i^2-O_i)+\\Omega_{d,i}D_i(t)\\sigma_i^{X}\\right) \\\\ & + J_{0,1}(\\sigma_{0}^{+}\\sigma_{1}^{-}+\\sigma_{0}^{-}\\sigma_{1}^{+}) + J_{1,2}(\\sigma_{1}^{+}\\sigma_{2}^{-}+\\sigma_{1}^{-}\\sigma_{2}^{+}) + J_{4,5}(\\sigma_{4}^{+}\\sigma_{5}^{-}+\\sigma_{4}^{-}\\sigma_{5}^{+}) + J_{5,6}(\\sigma_{5}^{+}\\sigma_{6}^{-}+\\sigma_{5}^{-}\\sigma_{6}^{+}) \\\\ & + J_{1,3}(\\sigma_{1}^{+}\\sigma_{3}^{-}+\\sigma_{1}^{-}\\sigma_{3}^{+}) + J_{3,5}(\\sigma_{3}^{+}\\sigma_{5}^{-}+\\sigma_{3}^{-}\\sigma_{5}^{+}) \\\\ & + \\Omega_{d,0}(U_{0}^{(0,1)}(t))\\sigma_{0}^{X} + \\Omega_{d,1}(U_{1}^{(1,0)}(t)+U_{3}^{(1,3)}(t)+U_{2}^{(1,2)}(t))\\sigma_{1}^{X} \\\\ & + \\Omega_{d,2}(U_{4}^{(2,1)}(t))\\sigma_{2}^{X} + \\Omega_{d,3}(U_{5}^{(3,1)}(t)+U_{6}^{(3,5)}(t))\\sigma_{3}^{X} \\\\ & + \\Omega_{d,4}(U_{7}^{(4,5)}(t))\\sigma_{4}^{X} + \\Omega_{d,5}(U_{8}^{(5,3)}(t)+U_{10}^{(5,6)}(t)+U_{9}^{(5,4)}(t))\\sigma_{5}^{X} \\\\ & + \\Omega_{d,6}(U_{11}^{(6,5)}(t))\\sigma_{6}^{X} \\\\ \\end{align}$$</td></tr><tr><td>default_rep_delay</td><td>250.0</td></tr><tr><td>url</td><td>None</td></tr><tr><td>clops</td><td>2645</td></tr><tr><td>meas_levels</td><td>[1, 2]</td></tr><tr><td>acquisition_latency</td><td>[]</td></tr><tr><td>simulator</td><td>False</td></tr><tr><td>live_data</td><td>False</td></tr><tr><td>processor_type</td><td>{'family': 'Falcon', 'revision': '5.11', 'segment': 'H'}</td></tr><tr><td>dtm</td><td>0.2222222222222222</td></tr><tr><td>n_registers</td><td>1</td></tr><tr><td>coupling_map</td><td>[[0, 1], [1, 0], [1, 2], [1, 3], [2, 1], [3, 1], [3, 5], [4, 5], [5, 3], [5, 4], [5, 6], [6, 5]]</td></tr><tr><td>parametric_pulses</td><td>['gaussian', 'gaussian_square', 'drag', 'constant']</td></tr><tr><td>credits_required</td><td>True</td></tr><tr><td>u_channel_lo</td><td>[[{'q': 1, 'scale': (1+0j)}], [{'q': 0, 'scale': (1+0j)}], [{'q': 2, 'scale': (1+0j)}], [{'q': 3, 'scale': (1+0j)}], [{'q': 1, 'scale': (1+0j)}], [{'q': 1, 'scale': (1+0j)}], [{'q': 5, 'scale': (1+0j)}], [{'q': 5, 'scale': (1+0j)}], [{'q': 3, 'scale': (1+0j)}], [{'q': 4, 'scale': (1+0j)}], [{'q': 6, 'scale': (1+0j)}], [{'q': 5, 'scale': (1+0j)}]]</td></tr><tr><td>meas_map</td><td>[[0, 1, 2, 3, 4, 5, 6]]</td></tr><tr><td>input_allowed</td><td>['job', 'runtime']</td></tr><tr><td>allow_object_storage</td><td>True</td></tr><tr><td>supported_instructions</td><td>['sx', 'play', 'x', 'u2', 'delay', 'acquire', 'u1', 'reset', 'shiftf', 'measure', 'setf', 'cx', 'rz', 'id', 'u3']</td></tr><tr><td>backend_name</td><td>ibm_oslo</td></tr><tr><td>dynamic_reprate_enabled</td><td>True</td></tr><tr><td>rep_times</td><td>[1000.0]</td></tr><tr><td>dt</td><td>0.2222222222222222</td></tr><tr><td>description</td><td>7 qubit device</td></tr><tr><td>channels</td><td>{'acquire0': {'operates': {'qubits': [0]}, 'purpose': 'acquire', 'type': 'acquire'}, 'acquire1': {'operates': {'qubits': [1]}, 'purpose': 'acquire', 'type': 'acquire'}, 'acquire2': {'operates': {'qubits': [2]}, 'purpose': 'acquire', 'type': 'acquire'}, 'acquire3': {'operates': {'qubits': [3]}, 'purpose': 'acquire', 'type': 'acquire'}, 'acquire4': {'operates': {'qubits': [4]}, 'purpose': 'acquire', 'type': 'acquire'}, 'acquire5': {'operates': {'qubits': [5]}, 'purpose': 'acquire', 'type': 'acquire'}, 'acquire6': {'operates': {'qubits': [6]}, 'purpose': 'acquire', 'type': 'acquire'}, 'd0': {'operates': {'qubits': [0]}, 'purpose': 'drive', 'type': 'drive'}, 'd1': {'operates': {'qubits': [1]}, 'purpose': 'drive', 'type': 'drive'}, 'd2': {'operates': {'qubits': [2]}, 'purpose': 'drive', 'type': 'drive'}, 'd3': {'operates': {'qubits': [3]}, 'purpose': 'drive', 'type': 'drive'}, 'd4': {'operates': {'qubits': [4]}, 'purpose': 'drive', 'type': 'drive'}, 'd5': {'operates': {'qubits': [5]}, 'purpose': 'drive', 'type': 'drive'}, 'd6': {'operates': {'qubits': [6]}, 'purpose': 'drive', 'type': 'drive'}, 'm0': {'operates': {'qubits': [0]}, 'purpose': 'measure', 'type': 'measure'}, 'm1': {'operates': {'qubits': [1]}, 'purpose': 'measure', 'type': 'measure'}, 'm2': {'operates': {'qubits': [2]}, 'purpose': 'measure', 'type': 'measure'}, 'm3': {'operates': {'qubits': [3]}, 'purpose': 'measure', 'type': 'measure'}, 'm4': {'operates': {'qubits': [4]}, 'purpose': 'measure', 'type': 'measure'}, 'm5': {'operates': {'qubits': [5]}, 'purpose': 'measure', 'type': 'measure'}, 'm6': {'operates': {'qubits': [6]}, 'purpose': 'measure', 'type': 'measure'}, 'u0': {'operates': {'qubits': [0, 1]}, 'purpose': 'cross-resonance', 'type': 'control'}, 'u1': {'operates': {'qubits': [1, 0]}, 'purpose': 'cross-resonance', 'type': 'control'}, 'u10': {'operates': {'qubits': [5, 6]}, 'purpose': 'cross-resonance', 'type': 'control'}, 'u11': {'operates': {'qubits': [6, 5]}, 'purpose': 'cross-resonance', 'type': 'control'}, 'u2': {'operates': {'qubits': [1, 2]}, 'purpose': 'cross-resonance', 'type': 'control'}, 'u3': {'operates': {'qubits': [1, 3]}, 'purpose': 'cross-resonance', 'type': 'control'}, 'u4': {'operates': {'qubits': [2, 1]}, 'purpose': 'cross-resonance', 'type': 'control'}, 'u5': {'operates': {'qubits': [3, 1]}, 'purpose': 'cross-resonance', 'type': 'control'}, 'u6': {'operates': {'qubits': [3, 5]}, 'purpose': 'cross-resonance', 'type': 'control'}, 'u7': {'operates': {'qubits': [4, 5]}, 'purpose': 'cross-resonance', 'type': 'control'}, 'u8': {'operates': {'qubits': [5, 3]}, 'purpose': 'cross-resonance', 'type': 'control'}, 'u9': {'operates': {'qubits': [5, 4]}, 'purpose': 'cross-resonance', 'type': 'control'}}</td></tr><tr><td>timing_constraints</td><td>{'acquire_alignment': 16, 'granularity': 16, 'min_length': 64, 'pulse_alignment': 16}</td></tr><tr><td>conditional_latency</td><td>[]</td></tr></table>"
      }
     },
     "b851421b81514da99bd3ec72b7765460": {
      "model_module": "@jupyter-widgets/controls",
      "model_module_version": "1.5.0",
      "model_name": "VBoxModel",
      "state": {
       "children": [
        "IPY_MODEL_9bd418a8253c4249a434b4035a988b24",
        "IPY_MODEL_b30d398e577445ffa0d9e4172b3a60c9"
       ],
       "layout": "IPY_MODEL_669f8a5c95a44c3d8ff1429c995fe9ce"
      }
     },
     "b8991007df5947ca87eff952aac52810": {
      "model_module": "@jupyter-widgets/controls",
      "model_module_version": "1.5.0",
      "model_name": "DescriptionStyleModel",
      "state": {
       "description_width": ""
      }
     },
     "b8a0aa9b525945838746c99da6d06388": {
      "model_module": "@jupyter-widgets/controls",
      "model_module_version": "1.5.0",
      "model_name": "DescriptionStyleModel",
      "state": {
       "description_width": ""
      }
     },
     "b8c68b26063644189ded6e751572c805": {
      "model_module": "@jupyter-widgets/controls",
      "model_module_version": "1.5.0",
      "model_name": "HTMLModel",
      "state": {
       "layout": "IPY_MODEL_48e3cae0c87f445cb368c3a7965ded15",
       "style": "IPY_MODEL_cb3281fe1ec34337a3630949e8777e07",
       "value": "<table><style>\ntable {\n    border-collapse: collapse;\n    width: auto;\n}\n\nth, td {\n    text-align: left;\n    padding: 8px;\n}\n\ntr:nth-child(even) {background-color: #f6f6f6;}\n</style><tr><th></th><th>Frequency</th><th>T1</th><th>T2</th><th>RZ</th><th>SX</th><th>X</th><th>Readout error</th></tr><tr><td><font style='font-weight:bold'>Q0</font></td><td>4.92504 GHz</td><td>79.3204 us</td><td>147.6838 us</td><td>0</td><td>0.00022</td><td>0.00022</td><td>0.011 </td><tr><td><font style='font-weight:bold'>Q1</font></td><td>5.04625 GHz</td><td>120.67864 us</td><td>33.61631 us</td><td>0</td><td>0.00031</td><td>0.00031</td><td>0.013 </td><tr><td><font style='font-weight:bold'>Q2</font></td><td>4.96199 GHz</td><td>183.4616 us</td><td>78.74645 us</td><td>0</td><td>0.00018</td><td>0.00018</td><td>0.0074 </td><tr><td><font style='font-weight:bold'>Q3</font></td><td>5.10808 GHz</td><td>49.86176 us</td><td>36.92709 us</td><td>0</td><td>0.00055</td><td>0.00055</td><td>0.0174 </td><tr><td><font style='font-weight:bold'>Q4</font></td><td>5.01107 GHz</td><td>182.43489 us</td><td>136.28387 us</td><td>0</td><td>0.00026</td><td>0.00026</td><td>0.0272 </td><tr><td><font style='font-weight:bold'>Q5</font></td><td>5.17329 GHz</td><td>128.55255 us</td><td>36.36279 us</td><td>0</td><td>0.00043</td><td>0.00043</td><td>0.0118 </td><tr><td><font style='font-weight:bold'>Q6</font></td><td>5.3193 GHz</td><td>125.79972 us</td><td>58.54227 us</td><td>0</td><td>0.00029</td><td>0.00029</td><td>0.0295 </td></table>"
      }
     },
     "b900405eba2944589b83b485f72565f3": {
      "model_module": "@jupyter-widgets/controls",
      "model_module_version": "1.5.0",
      "model_name": "VBoxModel",
      "state": {
       "children": [
        "IPY_MODEL_c4ff703e0f2d4e74bfccb8ff137e1b3f",
        "IPY_MODEL_1a820b39e025432282c03ff0f3045272"
       ],
       "layout": "IPY_MODEL_2d2e32307b6f4972b13a4b0a5c73e4be"
      }
     },
     "b9a6690ab360441b8f835f83ebabc598": {
      "model_module": "@jupyter-widgets/base",
      "model_module_version": "1.2.0",
      "model_name": "LayoutModel",
      "state": {
       "max_height": "620px"
      }
     },
     "ba182c26eb0e4fe08a4755b6d8540d90": {
      "model_module": "@jupyter-widgets/base",
      "model_module_version": "1.2.0",
      "model_name": "LayoutModel",
      "state": {
       "margin": "0px 0px 0px 0px"
      }
     },
     "bb055802798f4fd8bf7ae85f52a9d48e": {
      "model_module": "@jupyter-widgets/controls",
      "model_module_version": "1.5.0",
      "model_name": "TabModel",
      "state": {
       "_titles": {
        "0": "Configuration",
        "1": "Qubit Properties",
        "2": "Multi-Qubit Gates",
        "3": "Error Map",
        "4": "Job History"
       },
       "children": [
        "IPY_MODEL_f8f706ab6d2e4f96b89032b4c064a9bd",
        "IPY_MODEL_4fb3ce2f35b4487398147894e7440bd1",
        "IPY_MODEL_905660e731cd41308b6fb11198c7640d",
        "IPY_MODEL_3384e469a90045899c16d381bf335f00",
        "IPY_MODEL_2557a629ca7d492bae4fc7ba134c1b9a"
       ],
       "layout": "IPY_MODEL_999d3d08f227407589aa024091a62f1a"
      }
     },
     "bb4d1d7ec3f04730b9db07d96a28f3b1": {
      "model_module": "@jupyter-widgets/controls",
      "model_module_version": "1.5.0",
      "model_name": "HTMLModel",
      "state": {
       "layout": "IPY_MODEL_c08fbb57650a42f8b012e067cd28f51c",
       "style": "IPY_MODEL_e7b0bbde66ed4a3489b43ee2d44d6a19",
       "value": "<table><style>\ntable {\n    border-collapse: collapse;\n    width: auto;\n}\n\nth, td {\n    text-align: left;\n    padding: 8px;\n}\n\ntr:nth-child(even) {background-color: #f6f6f6;};\n</style><tr><th></th><th>Type</th><th>Gate error</th></tr><tr><td><font style='font-weight:bold'>cx4_5</font></td><td>cx</td><td>0.01049</td></tr><tr><td><font style='font-weight:bold'>cx5_4</font></td><td>cx</td><td>0.01049</td></tr><tr><td><font style='font-weight:bold'>cx2_1</font></td><td>cx</td><td>0.00714</td></tr><tr><td><font style='font-weight:bold'>cx1_2</font></td><td>cx</td><td>0.00714</td></tr></table>"
      }
     },
     "bb5448243af4480891bfd10d43bab53e": {
      "model_module": "@jupyter-widgets/controls",
      "model_module_version": "1.5.0",
      "model_name": "HTMLMathModel",
      "state": {
       "layout": "IPY_MODEL_43f7deca56224911b8a32a7231e11517",
       "style": "IPY_MODEL_79392166444c47509655d6a6aa2f8132",
       "value": "<table><style>\ntable {\n    border-collapse: collapse;\n    width: auto;\n}\n\nth, td {\n    text-align: left;\n    padding: 8px;\n}\n\ntr:nth-child(even) {background-color: #f6f6f6;}\n</style><tr><th>Property</th><th>Value</th></tr><tr><td><font style='font-weight:bold'>n_qubits</font></td><td>7</td></tr><tr><td><font style='font-weight:bold'>quantum_volume</font></td><td>32</td></tr><tr><td><font style='font-weight:bold'>operational</font></td><td>True</td></tr><tr><td><font style='font-weight:bold'>status_msg</font></td><td>active</td></tr><tr><td><font style='font-weight:bold'>pending_jobs</font></td><td>94</td></tr><tr><td><font style='font-weight:bold'>backend_version</font></td><td>1.0.3</td></tr><tr><td><font style='font-weight:bold'>basis_gates</font></td><td>['id', 'rz', 'sx', 'x', 'cx', 'reset']</td></tr><tr><td><font style='font-weight:bold'>max_shots</font></td><td>20000</td></tr><tr><td><font style='font-weight:bold'>max_experiments</font></td><td>100</td></tr></table>"
      }
     },
     "bb66068e3346432fa1507a5609d11e87": {
      "model_module": "@jupyter-widgets/controls",
      "model_module_version": "1.5.0",
      "model_name": "HTMLModel",
      "state": {
       "layout": "IPY_MODEL_375286dfb5834542a23ddaa896c10b7b",
       "style": "IPY_MODEL_cb4874271419426fa63b8858dd86c252",
       "value": "<table><style>\ntable {\n    border-collapse: collapse;\n    width: auto;\n}\n\nth, td {\n    text-align: left;\n    padding: 8px;\n}\n\ntr:nth-child(even) {background-color: #f6f6f6;};\n</style><tr><th></th><th>Type</th><th>Gate error</th></tr><tr><td><font style='font-weight:bold'>cx1_3</font></td><td>cx</td><td>0.00924</td></tr><tr><td><font style='font-weight:bold'>cx3_1</font></td><td>cx</td><td>0.00924</td></tr><tr><td><font style='font-weight:bold'>cx5_3</font></td><td>cx</td><td>0.00767</td></tr><tr><td><font style='font-weight:bold'>cx3_5</font></td><td>cx</td><td>0.00767</td></tr></table>"
      }
     },
     "bb9f0d7b877649fa95ae0415c0b5f6ed": {
      "model_module": "@jupyter-widgets/controls",
      "model_module_version": "1.5.0",
      "model_name": "DescriptionStyleModel",
      "state": {
       "description_width": ""
      }
     },
     "bbb2108a42bd402c815c1402cc439e2f": {
      "model_module": "@jupyter-widgets/controls",
      "model_module_version": "1.5.0",
      "model_name": "DescriptionStyleModel",
      "state": {
       "description_width": ""
      }
     },
     "bc5cbeb7fc90458dab56f22328e7d8d5": {
      "model_module": "@jupyter-widgets/controls",
      "model_module_version": "1.5.0",
      "model_name": "TabModel",
      "state": {
       "_titles": {
        "0": "Configuration",
        "1": "Qubit Properties",
        "2": "Multi-Qubit Gates",
        "3": "Error Map",
        "4": "Job History"
       },
       "children": [
        "IPY_MODEL_f56d8433f43744779cd38622ae01ed51",
        "IPY_MODEL_26859c9f8c3644d7bea802e96e77352f",
        "IPY_MODEL_37058a805d9648c3bbdb367c8b99ee11",
        "IPY_MODEL_91c4f25c44714774b057fa90956d4c8a",
        "IPY_MODEL_3c7bd6f626e6452d87678bfe2b34f9a6"
       ],
       "layout": "IPY_MODEL_78db16d04922482ebcce6eae352def6d"
      }
     },
     "bc6a1a46584f4aa9b7b23c8a03a8d7af": {
      "model_module": "@jupyter-widgets/controls",
      "model_module_version": "1.5.0",
      "model_name": "GridBoxModel",
      "state": {
       "children": [
        "IPY_MODEL_92e7477cc87041ae80ae2ad4910c3043",
        "IPY_MODEL_84baec114a204010932499a155814b47",
        "IPY_MODEL_2b7751fc93634e4fb2c9d3017e7c9aa2",
        "IPY_MODEL_9d3f6e98dcc84afcb68356a63926f30d"
       ],
       "layout": "IPY_MODEL_8fa1fe4ce2ab4a62996c35213fd5bc8d"
      }
     },
     "bd24d22146884966a6c9a6b8dcee6350": {
      "model_module": "@jupyter-widgets/base",
      "model_module_version": "1.2.0",
      "model_name": "LayoutModel",
      "state": {
       "grid_gap": "0px 0px",
       "grid_template_areas": "\n                               \"left right right right\"\n                               \"bottom bottom bottom bottom\"\n                               ",
       "grid_template_columns": "31% 23% 23% 23%",
       "grid_template_rows": "auto auto"
      }
     },
     "be95b1de2c3444c58b9696023245468a": {
      "model_module": "@jupyter-widgets/controls",
      "model_module_version": "1.5.0",
      "model_name": "DescriptionStyleModel",
      "state": {
       "description_width": ""
      }
     },
     "bf11dc3560bc4a398e733e73c6e1fc65": {
      "model_module": "@jupyter-widgets/controls",
      "model_module_version": "1.5.0",
      "model_name": "DescriptionStyleModel",
      "state": {
       "description_width": ""
      }
     },
     "bf1f20fdabb648f7bca0d2ba327edc7c": {
      "model_module": "@jupyter-widgets/base",
      "model_module_version": "1.2.0",
      "model_name": "LayoutModel",
      "state": {
       "margin": "0px 0px 0px 0px"
      }
     },
     "c048308d9cb54d21a05f04b28472a12c": {
      "model_module": "@jupyter-widgets/controls",
      "model_module_version": "1.5.0",
      "model_name": "VBoxModel",
      "state": {
       "children": [
        "IPY_MODEL_e57d8387b8c943878d17467fb82dba02",
        "IPY_MODEL_5ea93853ed6241dcb7a859bda61bc16a"
       ],
       "layout": "IPY_MODEL_8861dae9518e4c619a0c89d4c63c07b6"
      }
     },
     "c052a57f1a1f4f1d9f4e6f2004ada827": {
      "model_module": "@jupyter-widgets/base",
      "model_module_version": "1.2.0",
      "model_name": "LayoutModel",
      "state": {}
     },
     "c08d0cb1f62f4588ab6f818e004b8ed3": {
      "model_module": "@jupyter-widgets/base",
      "model_module_version": "1.2.0",
      "model_name": "LayoutModel",
      "state": {
       "align_items": "center",
       "display": "flex-inline",
       "grid_area": "right",
       "max_height": "325px",
       "padding": "10px 10px 10px 10px",
       "width": "auto"
      }
     },
     "c08fbb57650a42f8b012e067cd28f51c": {
      "model_module": "@jupyter-widgets/base",
      "model_module_version": "1.2.0",
      "model_name": "LayoutModel",
      "state": {
       "grid_area": "left"
      }
     },
     "c0bd2c4c0455440d9b81252ad16cdedf": {
      "model_module": "@jupyter-widgets/controls",
      "model_module_version": "1.5.0",
      "model_name": "DescriptionStyleModel",
      "state": {
       "description_width": ""
      }
     },
     "c193c4e4205b4bca8a19b0fc518ed3eb": {
      "model_module": "@jupyter-widgets/base",
      "model_module_version": "1.2.0",
      "model_name": "LayoutModel",
      "state": {
       "align_items": "center",
       "display": "flex-inline",
       "grid_area": "right",
       "max_height": "325px",
       "padding": "10px 10px 10px 10px",
       "width": "auto"
      }
     },
     "c1b8e79b78ee4f64ad59cf1689cf23fd": {
      "model_module": "@jupyter-widgets/base",
      "model_module_version": "1.2.0",
      "model_name": "LayoutModel",
      "state": {
       "grid_gap": "0px 0px",
       "grid_template_areas": "\n                               \"left right right right\"\n                               \"bottom bottom bottom bottom\"\n                               ",
       "grid_template_columns": "31% 23% 23% 23%",
       "grid_template_rows": "auto auto"
      }
     },
     "c1f3303e0d96440288b6845ee0c28568": {
      "model_module": "@jupyter-widgets/base",
      "model_module_version": "1.2.0",
      "model_name": "LayoutModel",
      "state": {}
     },
     "c229317b60824e0e92074833e6a17168": {
      "model_module": "@jupyter-widgets/base",
      "model_module_version": "1.2.0",
      "model_name": "LayoutModel",
      "state": {
       "max_height": "620px"
      }
     },
     "c3d3a27baf364a9fa675ee1eb3655b2b": {
      "model_module": "@jupyter-widgets/base",
      "model_module_version": "1.2.0",
      "model_name": "LayoutModel",
      "state": {
       "border": "4px solid #000000",
       "max_height": "650px",
       "min_height": "650px",
       "overflow_y": "hidden"
      }
     },
     "c46920a8a1c648b5abef0f34212e6ea5": {
      "model_module": "@jupyter-widgets/controls",
      "model_module_version": "1.5.0",
      "model_name": "HTMLModel",
      "state": {
       "layout": "IPY_MODEL_a059be89bb3c437f80365ba3fddfe425",
       "style": "IPY_MODEL_41e5705af56b485e958ac58a8e2d9849",
       "value": "<div><font style='font-weight:bold'>last_update_date</font>: Tue 28 June 2022 at 11:14 UTC</div>"
      }
     },
     "c46982a61f4f4e79bcacb00bef71d35b": {
      "model_module": "@jupyter-widgets/controls",
      "model_module_version": "1.5.0",
      "model_name": "DescriptionStyleModel",
      "state": {
       "description_width": ""
      }
     },
     "c4b10420d82746ae997fc6ef8983d6ea": {
      "model_module": "@jupyter-widgets/controls",
      "model_module_version": "1.5.0",
      "model_name": "TabModel",
      "state": {
       "layout": "IPY_MODEL_db1423103e194e589d65783d2cc5dfa4"
      }
     },
     "c4ff703e0f2d4e74bfccb8ff137e1b3f": {
      "model_module": "@jupyter-widgets/controls",
      "model_module_version": "1.5.0",
      "model_name": "HTMLModel",
      "state": {
       "layout": "IPY_MODEL_a2da186d74774de3b28723f28083c30b",
       "style": "IPY_MODEL_3dca902a2b0f494f843d58467cb50240",
       "value": "<div><font style='font-weight:bold'>last_update_date</font>: Tue 28 June 2022 at 10:10 UTC</div>"
      }
     },
     "c501dfe4b690487d91b9e907d914244d": {
      "model_module": "@jupyter-widgets/controls",
      "model_module_version": "1.5.0",
      "model_name": "HTMLMathModel",
      "state": {
       "layout": "IPY_MODEL_e1e96941512a4eeca351d8ac7d4f5003",
       "style": "IPY_MODEL_96c6eada3694474bb6ff25d2bef83fae",
       "value": "<table><style>\ntable {\n    border-collapse: collapse;\n    width: auto;\n}\n\nth, td {\n    text-align: left;\n    padding: 8px;\n}\n\ntr:nth-child(even) {background-color: #f6f6f6;}\n</style><tr><th></th><th></th></tr><tr><td>allow_q_object</td><td>True</td></tr><tr><td>qubit_channel_mapping</td><td>[['m0', 'u0', 'u1', 'd0'], ['u3', 'u0', 'u2', 'd1', 'u5', 'u4', 'u1', 'm1'], ['d2', 'm2', 'u4', 'u2'], ['u3', 'u6', 'd3', 'm3', 'u8', 'u5'], ['u9', 'u7', 'm4', 'd4'], ['d5', 'u9', 'm5', 'u11', 'u6', 'u8', 'u7', 'u10'], ['u11', 'm6', 'd6', 'u10']]</td></tr><tr><td>supported_features</td><td>['qobj', 'qasm3']</td></tr><tr><td>memory</td><td>True</td></tr><tr><td>qubit_lo_range</td><td>[[4.425039493971028, 5.425039493971028], [4.546253783996783, 5.546253783996784], [4.4619867212182145, 5.4619867212182145], [4.608082034893607, 5.608082034893607], [4.511074409987105, 5.511074409987105], [4.673289842125353, 5.673289842125353], [4.819303501215827, 5.819303501215827]]</td></tr><tr><td>meas_lo_range</td><td>[[6.729836446, 7.729836446], [6.604835349, 7.604835349000001], [6.8306589760000005, 7.8306589760000005], [6.632327716000001, 7.632327716000001], [6.713651857, 7.713651857], [6.812390622000001, 7.812390622000001], [6.7878388140000006, 7.7878388140000006]]</td></tr><tr><td>measure_esp_enabled</td><td>False</td></tr><tr><td>local</td><td>False</td></tr><tr><td>multi_meas_enabled</td><td>True</td></tr><tr><td>meas_kernels</td><td>['hw_qmfk']</td></tr><tr><td>pulse_num_channels</td><td>9</td></tr><tr><td>uchannels_enabled</td><td>True</td></tr><tr><td>conditional</td><td>False</td></tr><tr><td>rep_delay_range</td><td>[0.0, 500.0]</td></tr><tr><td>sample_name</td><td>family: Falcon, revision: 5.11, segment: H</td></tr><tr><td>pulse_num_qubits</td><td>3</td></tr><tr><td>discriminators</td><td>['linear_discriminator', 'quadratic_discriminator', 'hw_qmfk']</td></tr><tr><td>open_pulse</td><td>False</td></tr><tr><td>online_date</td><td>2022-03-25 04:00:00+00:00</td></tr><tr><td>n_uchannels</td><td>12</td></tr><tr><td>hamiltonian</td><td>$$\\begin{align} \\mathcal{H}/\\hbar = & \\sum_{i=0}^{6}\\left(\\frac{\\omega_{q,i}}{2}(\\mathbb{I}-\\sigma_i^{z})+\\frac{\\Delta_{i}}{2}(O_i^2-O_i)+\\Omega_{d,i}D_i(t)\\sigma_i^{X}\\right) \\\\ & + J_{0,1}(\\sigma_{0}^{+}\\sigma_{1}^{-}+\\sigma_{0}^{-}\\sigma_{1}^{+}) + J_{1,2}(\\sigma_{1}^{+}\\sigma_{2}^{-}+\\sigma_{1}^{-}\\sigma_{2}^{+}) + J_{4,5}(\\sigma_{4}^{+}\\sigma_{5}^{-}+\\sigma_{4}^{-}\\sigma_{5}^{+}) + J_{5,6}(\\sigma_{5}^{+}\\sigma_{6}^{-}+\\sigma_{5}^{-}\\sigma_{6}^{+}) \\\\ & + J_{1,3}(\\sigma_{1}^{+}\\sigma_{3}^{-}+\\sigma_{1}^{-}\\sigma_{3}^{+}) + J_{3,5}(\\sigma_{3}^{+}\\sigma_{5}^{-}+\\sigma_{3}^{-}\\sigma_{5}^{+}) \\\\ & + \\Omega_{d,0}(U_{0}^{(0,1)}(t))\\sigma_{0}^{X} + \\Omega_{d,1}(U_{1}^{(1,0)}(t)+U_{3}^{(1,3)}(t)+U_{2}^{(1,2)}(t))\\sigma_{1}^{X} \\\\ & + \\Omega_{d,2}(U_{4}^{(2,1)}(t))\\sigma_{2}^{X} + \\Omega_{d,3}(U_{5}^{(3,1)}(t)+U_{6}^{(3,5)}(t))\\sigma_{3}^{X} \\\\ & + \\Omega_{d,4}(U_{7}^{(4,5)}(t))\\sigma_{4}^{X} + \\Omega_{d,5}(U_{8}^{(5,3)}(t)+U_{10}^{(5,6)}(t)+U_{9}^{(5,4)}(t))\\sigma_{5}^{X} \\\\ & + \\Omega_{d,6}(U_{11}^{(6,5)}(t))\\sigma_{6}^{X} \\\\ \\end{align}$$</td></tr><tr><td>default_rep_delay</td><td>250.0</td></tr><tr><td>url</td><td>None</td></tr><tr><td>clops</td><td>2645</td></tr><tr><td>meas_levels</td><td>[1, 2]</td></tr><tr><td>acquisition_latency</td><td>[]</td></tr><tr><td>simulator</td><td>False</td></tr><tr><td>live_data</td><td>False</td></tr><tr><td>processor_type</td><td>{'family': 'Falcon', 'revision': '5.11', 'segment': 'H'}</td></tr><tr><td>dtm</td><td>0.2222222222222222</td></tr><tr><td>n_registers</td><td>1</td></tr><tr><td>coupling_map</td><td>[[0, 1], [1, 0], [1, 2], [1, 3], [2, 1], [3, 1], [3, 5], [4, 5], [5, 3], [5, 4], [5, 6], [6, 5]]</td></tr><tr><td>parametric_pulses</td><td>['gaussian', 'gaussian_square', 'drag', 'constant']</td></tr><tr><td>credits_required</td><td>True</td></tr><tr><td>u_channel_lo</td><td>[[{'q': 1, 'scale': (1+0j)}], [{'q': 0, 'scale': (1+0j)}], [{'q': 2, 'scale': (1+0j)}], [{'q': 3, 'scale': (1+0j)}], [{'q': 1, 'scale': (1+0j)}], [{'q': 1, 'scale': (1+0j)}], [{'q': 5, 'scale': (1+0j)}], [{'q': 5, 'scale': (1+0j)}], [{'q': 3, 'scale': (1+0j)}], [{'q': 4, 'scale': (1+0j)}], [{'q': 6, 'scale': (1+0j)}], [{'q': 5, 'scale': (1+0j)}]]</td></tr><tr><td>meas_map</td><td>[[0, 1, 2, 3, 4, 5, 6]]</td></tr><tr><td>input_allowed</td><td>['job', 'runtime']</td></tr><tr><td>allow_object_storage</td><td>True</td></tr><tr><td>supported_instructions</td><td>['measure', 'u3', 'x', 'u2', 'shiftf', 'rz', 'sx', 'acquire', 'reset', 'cx', 'u1', 'id', 'setf', 'play', 'delay']</td></tr><tr><td>backend_name</td><td>ibm_oslo</td></tr><tr><td>dynamic_reprate_enabled</td><td>True</td></tr><tr><td>rep_times</td><td>[1000.0]</td></tr><tr><td>dt</td><td>0.2222222222222222</td></tr><tr><td>description</td><td>7 qubit device</td></tr><tr><td>channels</td><td>{'acquire0': {'operates': {'qubits': [0]}, 'purpose': 'acquire', 'type': 'acquire'}, 'acquire1': {'operates': {'qubits': [1]}, 'purpose': 'acquire', 'type': 'acquire'}, 'acquire2': {'operates': {'qubits': [2]}, 'purpose': 'acquire', 'type': 'acquire'}, 'acquire3': {'operates': {'qubits': [3]}, 'purpose': 'acquire', 'type': 'acquire'}, 'acquire4': {'operates': {'qubits': [4]}, 'purpose': 'acquire', 'type': 'acquire'}, 'acquire5': {'operates': {'qubits': [5]}, 'purpose': 'acquire', 'type': 'acquire'}, 'acquire6': {'operates': {'qubits': [6]}, 'purpose': 'acquire', 'type': 'acquire'}, 'd0': {'operates': {'qubits': [0]}, 'purpose': 'drive', 'type': 'drive'}, 'd1': {'operates': {'qubits': [1]}, 'purpose': 'drive', 'type': 'drive'}, 'd2': {'operates': {'qubits': [2]}, 'purpose': 'drive', 'type': 'drive'}, 'd3': {'operates': {'qubits': [3]}, 'purpose': 'drive', 'type': 'drive'}, 'd4': {'operates': {'qubits': [4]}, 'purpose': 'drive', 'type': 'drive'}, 'd5': {'operates': {'qubits': [5]}, 'purpose': 'drive', 'type': 'drive'}, 'd6': {'operates': {'qubits': [6]}, 'purpose': 'drive', 'type': 'drive'}, 'm0': {'operates': {'qubits': [0]}, 'purpose': 'measure', 'type': 'measure'}, 'm1': {'operates': {'qubits': [1]}, 'purpose': 'measure', 'type': 'measure'}, 'm2': {'operates': {'qubits': [2]}, 'purpose': 'measure', 'type': 'measure'}, 'm3': {'operates': {'qubits': [3]}, 'purpose': 'measure', 'type': 'measure'}, 'm4': {'operates': {'qubits': [4]}, 'purpose': 'measure', 'type': 'measure'}, 'm5': {'operates': {'qubits': [5]}, 'purpose': 'measure', 'type': 'measure'}, 'm6': {'operates': {'qubits': [6]}, 'purpose': 'measure', 'type': 'measure'}, 'u0': {'operates': {'qubits': [0, 1]}, 'purpose': 'cross-resonance', 'type': 'control'}, 'u1': {'operates': {'qubits': [1, 0]}, 'purpose': 'cross-resonance', 'type': 'control'}, 'u10': {'operates': {'qubits': [5, 6]}, 'purpose': 'cross-resonance', 'type': 'control'}, 'u11': {'operates': {'qubits': [6, 5]}, 'purpose': 'cross-resonance', 'type': 'control'}, 'u2': {'operates': {'qubits': [1, 2]}, 'purpose': 'cross-resonance', 'type': 'control'}, 'u3': {'operates': {'qubits': [1, 3]}, 'purpose': 'cross-resonance', 'type': 'control'}, 'u4': {'operates': {'qubits': [2, 1]}, 'purpose': 'cross-resonance', 'type': 'control'}, 'u5': {'operates': {'qubits': [3, 1]}, 'purpose': 'cross-resonance', 'type': 'control'}, 'u6': {'operates': {'qubits': [3, 5]}, 'purpose': 'cross-resonance', 'type': 'control'}, 'u7': {'operates': {'qubits': [4, 5]}, 'purpose': 'cross-resonance', 'type': 'control'}, 'u8': {'operates': {'qubits': [5, 3]}, 'purpose': 'cross-resonance', 'type': 'control'}, 'u9': {'operates': {'qubits': [5, 4]}, 'purpose': 'cross-resonance', 'type': 'control'}}</td></tr><tr><td>timing_constraints</td><td>{'acquire_alignment': 16, 'granularity': 16, 'min_length': 64, 'pulse_alignment': 16}</td></tr><tr><td>conditional_latency</td><td>[]</td></tr></table>"
      }
     },
     "c62595691ae244a7b437896319bb4dca": {
      "model_module": "@jupyter-widgets/controls",
      "model_module_version": "1.5.0",
      "model_name": "DescriptionStyleModel",
      "state": {
       "description_width": ""
      }
     },
     "c65e092ccd634354b4f451f0ef1a4ce3": {
      "model_module": "@jupyter-widgets/controls",
      "model_module_version": "1.5.0",
      "model_name": "HTMLModel",
      "state": {
       "layout": "IPY_MODEL_991ff0e0aa9744ae84b57eeb2a989d48",
       "style": "IPY_MODEL_56dbf44af0ba4687a92bedfd843a98b5",
       "value": "<table><style>\ntable {\n    border-collapse: collapse;\n    width: auto;\n}\n\nth, td {\n    text-align: left;\n    padding: 8px;\n}\n\ntr:nth-child(even) {background-color: #f6f6f6;}\n</style><tr><th></th><th>Frequency</th><th>T1</th><th>T2</th><th>RZ</th><th>SX</th><th>X</th><th>Readout error</th></tr><tr><td><font style='font-weight:bold'>Q0</font></td><td>4.92504 GHz</td><td>79.3204 us</td><td>147.6838 us</td><td>0</td><td>0.00022</td><td>0.00022</td><td>0.011 </td><tr><td><font style='font-weight:bold'>Q1</font></td><td>5.04625 GHz</td><td>120.67864 us</td><td>33.61631 us</td><td>0</td><td>0.00031</td><td>0.00031</td><td>0.013 </td><tr><td><font style='font-weight:bold'>Q2</font></td><td>4.96199 GHz</td><td>183.4616 us</td><td>78.74645 us</td><td>0</td><td>0.00018</td><td>0.00018</td><td>0.0074 </td><tr><td><font style='font-weight:bold'>Q3</font></td><td>5.10808 GHz</td><td>49.86176 us</td><td>36.92709 us</td><td>0</td><td>0.00055</td><td>0.00055</td><td>0.0174 </td><tr><td><font style='font-weight:bold'>Q4</font></td><td>5.01107 GHz</td><td>182.43489 us</td><td>136.28387 us</td><td>0</td><td>0.00026</td><td>0.00026</td><td>0.0272 </td><tr><td><font style='font-weight:bold'>Q5</font></td><td>5.17329 GHz</td><td>128.55255 us</td><td>36.36279 us</td><td>0</td><td>0.00043</td><td>0.00043</td><td>0.0118 </td><tr><td><font style='font-weight:bold'>Q6</font></td><td>5.3193 GHz</td><td>125.79972 us</td><td>58.54227 us</td><td>0</td><td>0.00029</td><td>0.00029</td><td>0.0295 </td></table>"
      }
     },
     "c68d0591325e4d448400641618c97af1": {
      "model_module": "@jupyter-widgets/controls",
      "model_module_version": "1.5.0",
      "model_name": "DescriptionStyleModel",
      "state": {
       "description_width": ""
      }
     },
     "c6e4339e9d4d46e4bc4a8e7c18faa32c": {
      "model_module": "@jupyter-widgets/base",
      "model_module_version": "1.2.0",
      "model_name": "LayoutModel",
      "state": {
       "grid_area": "bottom",
       "width": "auto"
      }
     },
     "c73dece12a2548f28ec00b64f3c371af": {
      "model_module": "@jupyter-widgets/controls",
      "model_module_version": "1.5.0",
      "model_name": "HTMLMathModel",
      "state": {
       "layout": "IPY_MODEL_627c967b079641fa9031655efb1cfed3",
       "style": "IPY_MODEL_7314aa176c5944ac98c6275c4df4be57",
       "value": "<table><style>\ntable {\n    border-collapse: collapse;\n    width: auto;\n}\n\nth, td {\n    text-align: left;\n    padding: 8px;\n}\n\ntr:nth-child(even) {background-color: #f6f6f6;}\n</style><tr><th>Property</th><th>Value</th></tr><tr><td><font style='font-weight:bold'>n_qubits</font></td><td>7</td></tr><tr><td><font style='font-weight:bold'>quantum_volume</font></td><td>32</td></tr><tr><td><font style='font-weight:bold'>operational</font></td><td>True</td></tr><tr><td><font style='font-weight:bold'>status_msg</font></td><td>active</td></tr><tr><td><font style='font-weight:bold'>pending_jobs</font></td><td>95</td></tr><tr><td><font style='font-weight:bold'>backend_version</font></td><td>1.0.3</td></tr><tr><td><font style='font-weight:bold'>basis_gates</font></td><td>['id', 'rz', 'sx', 'x', 'cx', 'reset']</td></tr><tr><td><font style='font-weight:bold'>max_shots</font></td><td>20000</td></tr><tr><td><font style='font-weight:bold'>max_experiments</font></td><td>100</td></tr></table>"
      }
     },
     "c740a1c274474a0f88a659118afcc2ea": {
      "model_module": "@jupyter-widgets/base",
      "model_module_version": "1.2.0",
      "model_name": "LayoutModel",
      "state": {
       "width": "190px"
      }
     },
     "c9c0dfef8b8047018cc9631a2d6b2894": {
      "model_module": "@jupyter-widgets/controls",
      "model_module_version": "1.5.0",
      "model_name": "HBoxModel",
      "state": {
       "children": [
        "IPY_MODEL_1c410e0507df46d5819d2557bd4d9e03",
        "IPY_MODEL_6aa94f99d1e9458e97e79c1109b2c03b",
        "IPY_MODEL_94c8c417ea1a4f8c98ceb9eb0f261687",
        "IPY_MODEL_7c7798c664d7474cb68602c31971186e",
        "IPY_MODEL_7cbe657e843e454ca188d5a61ade082c",
        "IPY_MODEL_d471c036b20d465fafa2b871dc2fd8d5"
       ],
       "layout": "IPY_MODEL_363e833d8eea49ab89dba53d76570330"
      }
     },
     "c9c14031cd3c4165a8aa73680fc37deb": {
      "model_module": "@jupyter-widgets/controls",
      "model_module_version": "1.5.0",
      "model_name": "DescriptionStyleModel",
      "state": {
       "description_width": ""
      }
     },
     "c9fa8ffb24ca4036909ff89913ebdbfa": {
      "model_module": "@jupyter-widgets/controls",
      "model_module_version": "1.5.0",
      "model_name": "TabModel",
      "state": {
       "_titles": {
        "0": "Configuration",
        "1": "Qubit Properties",
        "2": "Multi-Qubit Gates",
        "3": "Error Map",
        "4": "Job History"
       },
       "children": [
        "IPY_MODEL_775890a391f04ce39ceedc0b2a48b5de",
        "IPY_MODEL_b5be6b4f5ebd42de92897e056f1792ad",
        "IPY_MODEL_caea4cb230074b39bd965b1a4cb2179c",
        "IPY_MODEL_f0d4b8b1a1e9453eaefd4536d33aa95b",
        "IPY_MODEL_00380d7da7ef4b1d9d2d4ceb201b2d28"
       ],
       "layout": "IPY_MODEL_e95557fb82254ae5ae6c4b68f4a757f0"
      }
     },
     "ca9dae5ee26849358976361bee2dcc6c": {
      "model_module": "@jupyter-widgets/controls",
      "model_module_version": "1.5.0",
      "model_name": "HTMLMathModel",
      "state": {
       "layout": "IPY_MODEL_29541dbbe7be47ebbfd119b204a8d7c0",
       "style": "IPY_MODEL_63f98cbcc3cb43d5930cd41f19395a46",
       "value": "<table><style>\ntable {\n    border-collapse: collapse;\n    width: auto;\n}\n\nth, td {\n    text-align: left;\n    padding: 8px;\n}\n\ntr:nth-child(even) {background-color: #f6f6f6;}\n</style><tr><th></th><th></th></tr><tr><td>allow_q_object</td><td>True</td></tr><tr><td>qubit_channel_mapping</td><td>[['m0', 'u0', 'u1', 'd0'], ['u3', 'u0', 'u2', 'd1', 'u5', 'u4', 'u1', 'm1'], ['d2', 'm2', 'u4', 'u2'], ['u3', 'u6', 'd3', 'm3', 'u8', 'u5'], ['u9', 'u7', 'm4', 'd4'], ['d5', 'u9', 'm5', 'u11', 'u6', 'u8', 'u7', 'u10'], ['u11', 'm6', 'd6', 'u10']]</td></tr><tr><td>supported_features</td><td>['qobj', 'qasm3']</td></tr><tr><td>memory</td><td>True</td></tr><tr><td>qubit_lo_range</td><td>[[4.425039493971028, 5.425039493971028], [4.546253783996783, 5.546253783996784], [4.4619867212182145, 5.4619867212182145], [4.608082034893607, 5.608082034893607], [4.511074409987105, 5.511074409987105], [4.673289842125353, 5.673289842125353], [4.819303501215827, 5.819303501215827]]</td></tr><tr><td>meas_lo_range</td><td>[[6.729836446, 7.729836446], [6.604835349, 7.604835349000001], [6.8306589760000005, 7.8306589760000005], [6.632327716000001, 7.632327716000001], [6.713651857, 7.713651857], [6.812390622000001, 7.812390622000001], [6.7878388140000006, 7.7878388140000006]]</td></tr><tr><td>measure_esp_enabled</td><td>False</td></tr><tr><td>local</td><td>False</td></tr><tr><td>multi_meas_enabled</td><td>True</td></tr><tr><td>meas_kernels</td><td>['hw_qmfk']</td></tr><tr><td>pulse_num_channels</td><td>9</td></tr><tr><td>uchannels_enabled</td><td>True</td></tr><tr><td>conditional</td><td>False</td></tr><tr><td>rep_delay_range</td><td>[0.0, 500.0]</td></tr><tr><td>sample_name</td><td>family: Falcon, revision: 5.11, segment: H</td></tr><tr><td>pulse_num_qubits</td><td>3</td></tr><tr><td>discriminators</td><td>['linear_discriminator', 'quadratic_discriminator', 'hw_qmfk']</td></tr><tr><td>open_pulse</td><td>False</td></tr><tr><td>online_date</td><td>2022-03-25 04:00:00+00:00</td></tr><tr><td>n_uchannels</td><td>12</td></tr><tr><td>hamiltonian</td><td>$$\\begin{align} \\mathcal{H}/\\hbar = & \\sum_{i=0}^{6}\\left(\\frac{\\omega_{q,i}}{2}(\\mathbb{I}-\\sigma_i^{z})+\\frac{\\Delta_{i}}{2}(O_i^2-O_i)+\\Omega_{d,i}D_i(t)\\sigma_i^{X}\\right) \\\\ & + J_{0,1}(\\sigma_{0}^{+}\\sigma_{1}^{-}+\\sigma_{0}^{-}\\sigma_{1}^{+}) + J_{1,2}(\\sigma_{1}^{+}\\sigma_{2}^{-}+\\sigma_{1}^{-}\\sigma_{2}^{+}) + J_{4,5}(\\sigma_{4}^{+}\\sigma_{5}^{-}+\\sigma_{4}^{-}\\sigma_{5}^{+}) + J_{5,6}(\\sigma_{5}^{+}\\sigma_{6}^{-}+\\sigma_{5}^{-}\\sigma_{6}^{+}) \\\\ & + J_{1,3}(\\sigma_{1}^{+}\\sigma_{3}^{-}+\\sigma_{1}^{-}\\sigma_{3}^{+}) + J_{3,5}(\\sigma_{3}^{+}\\sigma_{5}^{-}+\\sigma_{3}^{-}\\sigma_{5}^{+}) \\\\ & + \\Omega_{d,0}(U_{0}^{(0,1)}(t))\\sigma_{0}^{X} + \\Omega_{d,1}(U_{1}^{(1,0)}(t)+U_{3}^{(1,3)}(t)+U_{2}^{(1,2)}(t))\\sigma_{1}^{X} \\\\ & + \\Omega_{d,2}(U_{4}^{(2,1)}(t))\\sigma_{2}^{X} + \\Omega_{d,3}(U_{5}^{(3,1)}(t)+U_{6}^{(3,5)}(t))\\sigma_{3}^{X} \\\\ & + \\Omega_{d,4}(U_{7}^{(4,5)}(t))\\sigma_{4}^{X} + \\Omega_{d,5}(U_{8}^{(5,3)}(t)+U_{10}^{(5,6)}(t)+U_{9}^{(5,4)}(t))\\sigma_{5}^{X} \\\\ & + \\Omega_{d,6}(U_{11}^{(6,5)}(t))\\sigma_{6}^{X} \\\\ \\end{align}$$</td></tr><tr><td>default_rep_delay</td><td>250.0</td></tr><tr><td>url</td><td>None</td></tr><tr><td>clops</td><td>2645</td></tr><tr><td>meas_levels</td><td>[1, 2]</td></tr><tr><td>acquisition_latency</td><td>[]</td></tr><tr><td>simulator</td><td>False</td></tr><tr><td>live_data</td><td>False</td></tr><tr><td>processor_type</td><td>{'family': 'Falcon', 'revision': '5.11', 'segment': 'H'}</td></tr><tr><td>dtm</td><td>0.2222222222222222</td></tr><tr><td>n_registers</td><td>1</td></tr><tr><td>coupling_map</td><td>[[0, 1], [1, 0], [1, 2], [1, 3], [2, 1], [3, 1], [3, 5], [4, 5], [5, 3], [5, 4], [5, 6], [6, 5]]</td></tr><tr><td>parametric_pulses</td><td>['gaussian', 'gaussian_square', 'drag', 'constant']</td></tr><tr><td>credits_required</td><td>True</td></tr><tr><td>u_channel_lo</td><td>[[{'q': 1, 'scale': (1+0j)}], [{'q': 0, 'scale': (1+0j)}], [{'q': 2, 'scale': (1+0j)}], [{'q': 3, 'scale': (1+0j)}], [{'q': 1, 'scale': (1+0j)}], [{'q': 1, 'scale': (1+0j)}], [{'q': 5, 'scale': (1+0j)}], [{'q': 5, 'scale': (1+0j)}], [{'q': 3, 'scale': (1+0j)}], [{'q': 4, 'scale': (1+0j)}], [{'q': 6, 'scale': (1+0j)}], [{'q': 5, 'scale': (1+0j)}]]</td></tr><tr><td>meas_map</td><td>[[0, 1, 2, 3, 4, 5, 6]]</td></tr><tr><td>input_allowed</td><td>['job', 'runtime']</td></tr><tr><td>allow_object_storage</td><td>True</td></tr><tr><td>supported_instructions</td><td>['measure', 'u3', 'x', 'u2', 'shiftf', 'rz', 'sx', 'acquire', 'reset', 'cx', 'u1', 'id', 'setf', 'play', 'delay']</td></tr><tr><td>backend_name</td><td>ibm_oslo</td></tr><tr><td>dynamic_reprate_enabled</td><td>True</td></tr><tr><td>rep_times</td><td>[1000.0]</td></tr><tr><td>dt</td><td>0.2222222222222222</td></tr><tr><td>description</td><td>7 qubit device</td></tr><tr><td>channels</td><td>{'acquire0': {'operates': {'qubits': [0]}, 'purpose': 'acquire', 'type': 'acquire'}, 'acquire1': {'operates': {'qubits': [1]}, 'purpose': 'acquire', 'type': 'acquire'}, 'acquire2': {'operates': {'qubits': [2]}, 'purpose': 'acquire', 'type': 'acquire'}, 'acquire3': {'operates': {'qubits': [3]}, 'purpose': 'acquire', 'type': 'acquire'}, 'acquire4': {'operates': {'qubits': [4]}, 'purpose': 'acquire', 'type': 'acquire'}, 'acquire5': {'operates': {'qubits': [5]}, 'purpose': 'acquire', 'type': 'acquire'}, 'acquire6': {'operates': {'qubits': [6]}, 'purpose': 'acquire', 'type': 'acquire'}, 'd0': {'operates': {'qubits': [0]}, 'purpose': 'drive', 'type': 'drive'}, 'd1': {'operates': {'qubits': [1]}, 'purpose': 'drive', 'type': 'drive'}, 'd2': {'operates': {'qubits': [2]}, 'purpose': 'drive', 'type': 'drive'}, 'd3': {'operates': {'qubits': [3]}, 'purpose': 'drive', 'type': 'drive'}, 'd4': {'operates': {'qubits': [4]}, 'purpose': 'drive', 'type': 'drive'}, 'd5': {'operates': {'qubits': [5]}, 'purpose': 'drive', 'type': 'drive'}, 'd6': {'operates': {'qubits': [6]}, 'purpose': 'drive', 'type': 'drive'}, 'm0': {'operates': {'qubits': [0]}, 'purpose': 'measure', 'type': 'measure'}, 'm1': {'operates': {'qubits': [1]}, 'purpose': 'measure', 'type': 'measure'}, 'm2': {'operates': {'qubits': [2]}, 'purpose': 'measure', 'type': 'measure'}, 'm3': {'operates': {'qubits': [3]}, 'purpose': 'measure', 'type': 'measure'}, 'm4': {'operates': {'qubits': [4]}, 'purpose': 'measure', 'type': 'measure'}, 'm5': {'operates': {'qubits': [5]}, 'purpose': 'measure', 'type': 'measure'}, 'm6': {'operates': {'qubits': [6]}, 'purpose': 'measure', 'type': 'measure'}, 'u0': {'operates': {'qubits': [0, 1]}, 'purpose': 'cross-resonance', 'type': 'control'}, 'u1': {'operates': {'qubits': [1, 0]}, 'purpose': 'cross-resonance', 'type': 'control'}, 'u10': {'operates': {'qubits': [5, 6]}, 'purpose': 'cross-resonance', 'type': 'control'}, 'u11': {'operates': {'qubits': [6, 5]}, 'purpose': 'cross-resonance', 'type': 'control'}, 'u2': {'operates': {'qubits': [1, 2]}, 'purpose': 'cross-resonance', 'type': 'control'}, 'u3': {'operates': {'qubits': [1, 3]}, 'purpose': 'cross-resonance', 'type': 'control'}, 'u4': {'operates': {'qubits': [2, 1]}, 'purpose': 'cross-resonance', 'type': 'control'}, 'u5': {'operates': {'qubits': [3, 1]}, 'purpose': 'cross-resonance', 'type': 'control'}, 'u6': {'operates': {'qubits': [3, 5]}, 'purpose': 'cross-resonance', 'type': 'control'}, 'u7': {'operates': {'qubits': [4, 5]}, 'purpose': 'cross-resonance', 'type': 'control'}, 'u8': {'operates': {'qubits': [5, 3]}, 'purpose': 'cross-resonance', 'type': 'control'}, 'u9': {'operates': {'qubits': [5, 4]}, 'purpose': 'cross-resonance', 'type': 'control'}}</td></tr><tr><td>timing_constraints</td><td>{'acquire_alignment': 16, 'granularity': 16, 'min_length': 64, 'pulse_alignment': 16}</td></tr><tr><td>conditional_latency</td><td>[]</td></tr></table>"
      }
     },
     "caea4cb230074b39bd965b1a4cb2179c": {
      "model_module": "@jupyter-widgets/controls",
      "model_module_version": "1.5.0",
      "model_name": "GridBoxModel",
      "state": {
       "children": [
        "IPY_MODEL_37fcefa9576b4ab6ac5cf398bfa7b09e",
        "IPY_MODEL_536f8ab887d44654ab2f34e0530780c6",
        "IPY_MODEL_5eaf37ac4869484c9550b011c3321f0d",
        "IPY_MODEL_005a4c3a96f2407a8ebae740a12d31c4"
       ],
       "layout": "IPY_MODEL_a29f8c71195a480a87cf3c7697ecfe52"
      }
     },
     "cb3281fe1ec34337a3630949e8777e07": {
      "model_module": "@jupyter-widgets/controls",
      "model_module_version": "1.5.0",
      "model_name": "DescriptionStyleModel",
      "state": {
       "description_width": ""
      }
     },
     "cb4874271419426fa63b8858dd86c252": {
      "model_module": "@jupyter-widgets/controls",
      "model_module_version": "1.5.0",
      "model_name": "DescriptionStyleModel",
      "state": {
       "description_width": ""
      }
     },
     "cc76a67d5fbe41ed823c7b2129ed035e": {
      "model_module": "@jupyter-widgets/base",
      "model_module_version": "1.2.0",
      "model_name": "LayoutModel",
      "state": {
       "grid_area": "left",
       "width": "100%"
      }
     },
     "cd0e3ab55b964823b7edf0bf79f4675f": {
      "model_module": "@jupyter-widgets/controls",
      "model_module_version": "1.5.0",
      "model_name": "HTMLModel",
      "state": {
       "layout": "IPY_MODEL_3a00ad619e244923a6bbed3dc93959a7",
       "style": "IPY_MODEL_ddcf927664314a7db437d004352396e7",
       "value": "<h1 style='color:#ffffff;background-color:#000000;padding-top: 1%;padding-bottom: 1%;padding-left: 1%; margin-top: 0px'>ibm_oslo</h1>"
      }
     },
     "cdcb1bf86e1842d5a46251477ae5fdf5": {
      "model_module": "@jupyter-widgets/output",
      "model_module_version": "1.0.0",
      "model_name": "OutputModel",
      "state": {
       "layout": "IPY_MODEL_8c1f49efee4c4e0ab64b437479667c62",
       "outputs": [
        {
         "data": {
          "image/png": "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\n",
          "text/plain": "<Figure size 792x648 with 5 Axes>"
         },
         "metadata": {},
         "output_type": "display_data"
        }
       ]
      }
     },
     "cde23580ff1941a9a46fee8f16d30f76": {
      "model_module": "@jupyter-widgets/controls",
      "model_module_version": "1.5.0",
      "model_name": "HTMLModel",
      "state": {
       "layout": "IPY_MODEL_6d242cc9abd04144a73ea49cd7010e86",
       "style": "IPY_MODEL_51ed6085301a46628baba87d950257d3",
       "value": "<table><style>\ntable {\n    border-collapse: collapse;\n    width: auto;\n}\n\nth, td {\n    text-align: left;\n    padding: 8px;\n}\n\ntr:nth-child(even) {background-color: #f6f6f6;}\n</style><tr><th></th><th>Frequency</th><th>T1</th><th>T2</th><th>RZ</th><th>SX</th><th>X</th><th>Readout error</th></tr><tr><td><font style='font-weight:bold'>Q0</font></td><td>4.92504 GHz</td><td>172.12202 us</td><td>147.6838 us</td><td>0</td><td>0.00022</td><td>0.00022</td><td>0.011 </td><tr><td><font style='font-weight:bold'>Q1</font></td><td>5.04625 GHz</td><td>101.47156 us</td><td>33.61631 us</td><td>0</td><td>0.00031</td><td>0.00031</td><td>0.013 </td><tr><td><font style='font-weight:bold'>Q2</font></td><td>4.96199 GHz</td><td>162.21194 us</td><td>78.74645 us</td><td>0</td><td>0.00018</td><td>0.00018</td><td>0.0074 </td><tr><td><font style='font-weight:bold'>Q3</font></td><td>5.10808 GHz</td><td>60.86934 us</td><td>36.92709 us</td><td>0</td><td>0.00055</td><td>0.00055</td><td>0.0174 </td><tr><td><font style='font-weight:bold'>Q4</font></td><td>5.01107 GHz</td><td>168.01949 us</td><td>136.28387 us</td><td>0</td><td>0.00026</td><td>0.00026</td><td>0.0272 </td><tr><td><font style='font-weight:bold'>Q5</font></td><td>5.17329 GHz</td><td>112.91342 us</td><td>36.36279 us</td><td>0</td><td>0.00043</td><td>0.00043</td><td>0.0118 </td><tr><td><font style='font-weight:bold'>Q6</font></td><td>5.3193 GHz</td><td>92.8356 us</td><td>58.54227 us</td><td>0</td><td>0.00029</td><td>0.00029</td><td>0.0295 </td></table>"
      }
     },
     "cdf30a16a93d4e37aca7b1afd1320ed6": {
      "model_module": "@jupyter-widgets/base",
      "model_module_version": "1.2.0",
      "model_name": "LayoutModel",
      "state": {}
     },
     "ce317d12990b4771a2f7ff6dd9662e4f": {
      "model_module": "@jupyter-widgets/controls",
      "model_module_version": "1.5.0",
      "model_name": "HTMLModel",
      "state": {
       "layout": "IPY_MODEL_8cd1d6f385fc4a01a19421407f9924f7",
       "style": "IPY_MODEL_045a465d4fb54753bdb8664b697189b4",
       "value": "<table><style>\ntable {\n    border-collapse: collapse;\n    width: auto;\n}\n\nth, td {\n    text-align: left;\n    padding: 8px;\n}\n\ntr:nth-child(even) {background-color: #f6f6f6;};\n</style><tr><th></th><th>Type</th><th>Gate error</th></tr><tr><td><font style='font-weight:bold'>cx4_5</font></td><td>cx</td><td>0.01049</td></tr><tr><td><font style='font-weight:bold'>cx5_4</font></td><td>cx</td><td>0.01049</td></tr><tr><td><font style='font-weight:bold'>cx2_1</font></td><td>cx</td><td>0.00714</td></tr><tr><td><font style='font-weight:bold'>cx1_2</font></td><td>cx</td><td>0.00714</td></tr></table>"
      }
     },
     "ce38de0f7b5c4853a8b76ea1a1e560b3": {
      "model_module": "@jupyter-widgets/controls",
      "model_module_version": "1.5.0",
      "model_name": "VBoxModel",
      "state": {
       "children": [
        "IPY_MODEL_49dcbab033f64527b3a69c81b9793eb7",
        "IPY_MODEL_6685d565fe7b46c5b9feeea95b9b9d51"
       ],
       "layout": "IPY_MODEL_9dc1eaff04324623805574ddc2276553"
      }
     },
     "cfa00f3330ac4b648c602c398abdf22c": {
      "model_module": "@jupyter-widgets/base",
      "model_module_version": "1.2.0",
      "model_name": "LayoutModel",
      "state": {
       "grid_area": "middle"
      }
     },
     "d00ac8c6d1be471294ad3a88cf4203d9": {
      "model_module": "@jupyter-widgets/controls",
      "model_module_version": "1.5.0",
      "model_name": "DescriptionStyleModel",
      "state": {
       "description_width": ""
      }
     },
     "d0670670e34748a5a685f509ecf760af": {
      "model_module": "@jupyter-widgets/controls",
      "model_module_version": "1.5.0",
      "model_name": "HTMLModel",
      "state": {
       "layout": "IPY_MODEL_301f4d190d5f47b58730dbe26d220400",
       "style": "IPY_MODEL_8a6d8d7f7b90498283cfef8270b2bf2e",
       "value": "<div><font style='font-weight:bold'>last_update_date</font>: 2022-06-28 10:10:31+00:00</div>"
      }
     },
     "d1439440b0b2412294be6c583c52a2c5": {
      "model_module": "@jupyter-widgets/output",
      "model_module_version": "1.0.0",
      "model_name": "OutputModel",
      "state": {
       "layout": "IPY_MODEL_2cd394ca996b46ed80602c30c144e5c9",
       "outputs": [
        {
         "data": {
          "image/png": "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\n",
          "text/plain": "<Figure size 792x648 with 5 Axes>"
         },
         "metadata": {},
         "output_type": "display_data"
        }
       ]
      }
     },
     "d2bb758ae05a4ff395dcd47defe8f9c2": {
      "model_module": "@jupyter-widgets/base",
      "model_module_version": "1.2.0",
      "model_name": "LayoutModel",
      "state": {
       "align_items": "center",
       "display": "flex-inline",
       "grid_area": "right",
       "max_height": "325px",
       "padding": "10px 10px 10px 10px",
       "width": "auto"
      }
     },
     "d2e66387e6224687a83446c2b2f083ff": {
      "model_module": "@jupyter-widgets/output",
      "model_module_version": "1.0.0",
      "model_name": "OutputModel",
      "state": {
       "layout": "IPY_MODEL_62df3e6ea28b4fa0bf8a68c69fc2f004"
      }
     },
     "d3ae9912a69a4868b0bdd8eb252a44b3": {
      "model_module": "@jupyter-widgets/base",
      "model_module_version": "1.2.0",
      "model_name": "LayoutModel",
      "state": {
       "grid_area": "right"
      }
     },
     "d3ef2ec2c54a494d8320b37778615e11": {
      "model_module": "@jupyter-widgets/base",
      "model_module_version": "1.2.0",
      "model_name": "LayoutModel",
      "state": {}
     },
     "d402d8894e4f4e798b35b34235581074": {
      "model_module": "@jupyter-widgets/controls",
      "model_module_version": "1.5.0",
      "model_name": "HTMLMathModel",
      "state": {
       "layout": "IPY_MODEL_cc76a67d5fbe41ed823c7b2129ed035e",
       "style": "IPY_MODEL_7d45e7c3307a491e9074c4167c420e15",
       "value": "<table><style>\ntable {\n    border-collapse: collapse;\n    width: auto;\n}\n\nth, td {\n    text-align: left;\n    padding: 8px;\n}\n\ntr:nth-child(even) {background-color: #f6f6f6;}\n</style><tr><th>Property</th><th>Value</th></tr><tr><td><font style='font-weight:bold'>n_qubits</font></td><td>7</td></tr><tr><td><font style='font-weight:bold'>quantum_volume</font></td><td>32</td></tr><tr><td><font style='font-weight:bold'>operational</font></td><td>True</td></tr><tr><td><font style='font-weight:bold'>status_msg</font></td><td>active</td></tr><tr><td><font style='font-weight:bold'>pending_jobs</font></td><td>91</td></tr><tr><td><font style='font-weight:bold'>backend_version</font></td><td>1.0.3</td></tr><tr><td><font style='font-weight:bold'>basis_gates</font></td><td>['id', 'rz', 'sx', 'x', 'cx', 'reset']</td></tr><tr><td><font style='font-weight:bold'>max_shots</font></td><td>20000</td></tr><tr><td><font style='font-weight:bold'>max_experiments</font></td><td>100</td></tr></table>"
      }
     },
     "d4199472a41a474e876c309533f8dd1e": {
      "model_module": "@jupyter-widgets/output",
      "model_module_version": "1.0.0",
      "model_name": "OutputModel",
      "state": {
       "layout": "IPY_MODEL_b6f16c048e424efc9933c7f70bb1e048",
       "outputs": [
        {
         "data": {
          "image/png": "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\n",
          "text/plain": "<Figure size 360x360 with 1 Axes>"
         },
         "metadata": {},
         "output_type": "display_data"
        }
       ]
      }
     },
     "d471c036b20d465fafa2b871dc2fd8d5": {
      "model_module": "@jupyter-widgets/controls",
      "model_module_version": "1.5.0",
      "model_name": "HTMLModel",
      "state": {
       "layout": "IPY_MODEL_86bc5107aa794295a6c8f7364e2cba07",
       "style": "IPY_MODEL_32789a3735644e1b808f9a9217f29a0d",
       "value": "job is queued"
      }
     },
     "d6f651ef06634273804806acb949e8a2": {
      "model_module": "@jupyter-widgets/base",
      "model_module_version": "1.2.0",
      "model_name": "LayoutModel",
      "state": {
       "align_items": "center",
       "display": "flex-inline"
      }
     },
     "d70f29eabb39481d8d574158b3c5190a": {
      "model_module": "@jupyter-widgets/controls",
      "model_module_version": "1.5.0",
      "model_name": "VBoxModel",
      "state": {
       "children": [
        "IPY_MODEL_66c0d2af44de45589cdc84c70ddb465a",
        "IPY_MODEL_4c6adba7ac9447f697d18f6f604268d6"
       ],
       "layout": "IPY_MODEL_c3d3a27baf364a9fa675ee1eb3655b2b"
      }
     },
     "d7a764ffa99048cf908ec277e47f4b30": {
      "model_module": "@jupyter-widgets/base",
      "model_module_version": "1.2.0",
      "model_name": "LayoutModel",
      "state": {
       "overflow_y": "scroll"
      }
     },
     "d7b53da8f9c64841a04a0ab989c06cc8": {
      "model_module": "@jupyter-widgets/controls",
      "model_module_version": "1.5.0",
      "model_name": "GridBoxModel",
      "state": {
       "children": [
        "IPY_MODEL_8fe5684e7bd4447b90510e6cd906bf03",
        "IPY_MODEL_a083b4bc05904eb3864c64ed547f841b",
        "IPY_MODEL_5a0b6c4defb9422094da55b0a7e80734"
       ],
       "layout": "IPY_MODEL_3fc5e22b572548eba432a9fe5cdbda44"
      }
     },
     "d7cb252252bb44a0a4c217e567096313": {
      "model_module": "@jupyter-widgets/base",
      "model_module_version": "1.2.0",
      "model_name": "LayoutModel",
      "state": {
       "margin": "0px 0px 0px 0px"
      }
     },
     "d7cff0c8a6814a429a8e127625af9f11": {
      "model_module": "@jupyter-widgets/base",
      "model_module_version": "1.2.0",
      "model_name": "LayoutModel",
      "state": {
       "grid_area": "left",
       "width": "100%"
      }
     },
     "d7dedc739c51430f8ed8b6d6afb80692": {
      "model_module": "@jupyter-widgets/controls",
      "model_module_version": "1.5.0",
      "model_name": "VBoxModel",
      "state": {
       "children": [
        "IPY_MODEL_a9caab35a23c45d78c5b0bb7c698050f",
        "IPY_MODEL_dac9144f97334e14bd0e53f7edb6b8ef"
       ],
       "layout": "IPY_MODEL_c052a57f1a1f4f1d9f4e6f2004ada827"
      }
     },
     "d90ccd9cfd2248999e7826e2439e6967": {
      "model_module": "@jupyter-widgets/base",
      "model_module_version": "1.2.0",
      "model_name": "LayoutModel",
      "state": {
       "grid_area": "bottom",
       "width": "auto"
      }
     },
     "d938ce3fa0cb44248e5f58f4a010a055": {
      "model_module": "@jupyter-widgets/base",
      "model_module_version": "1.2.0",
      "model_name": "LayoutModel",
      "state": {
       "margin": "0px 0px 10px 0px"
      }
     },
     "d98f331840364b259940675d4cdfdcfe": {
      "model_module": "@jupyter-widgets/base",
      "model_module_version": "1.2.0",
      "model_name": "LayoutModel",
      "state": {
       "width": "95px"
      }
     },
     "dac9144f97334e14bd0e53f7edb6b8ef": {
      "model_module": "@jupyter-widgets/controls",
      "model_module_version": "1.5.0",
      "model_name": "HTMLModel",
      "state": {
       "layout": "IPY_MODEL_68408b93b3f24a80902d5e5c6db5ace2",
       "style": "IPY_MODEL_e932052c535744e6831454126db1a99e",
       "value": "<table><style>\ntable {\n    border-collapse: collapse;\n    width: auto;\n}\n\nth, td {\n    text-align: left;\n    padding: 8px;\n}\n\ntr:nth-child(even) {background-color: #f6f6f6;}\n</style><tr><th></th><th>Frequency</th><th>T1</th><th>T2</th><th>RZ</th><th>SX</th><th>X</th><th>Readout error</th></tr><tr><td><font style='font-weight:bold'>Q0</font></td><td>4.92504 GHz</td><td>79.3204 us</td><td>147.6838 us</td><td>0</td><td>0.00022</td><td>0.00022</td><td>0.011 </td><tr><td><font style='font-weight:bold'>Q1</font></td><td>5.04625 GHz</td><td>120.67864 us</td><td>33.61631 us</td><td>0</td><td>0.00031</td><td>0.00031</td><td>0.013 </td><tr><td><font style='font-weight:bold'>Q2</font></td><td>4.96199 GHz</td><td>183.4616 us</td><td>78.74645 us</td><td>0</td><td>0.00018</td><td>0.00018</td><td>0.0074 </td><tr><td><font style='font-weight:bold'>Q3</font></td><td>5.10808 GHz</td><td>49.86176 us</td><td>36.92709 us</td><td>0</td><td>0.00055</td><td>0.00055</td><td>0.0174 </td><tr><td><font style='font-weight:bold'>Q4</font></td><td>5.01107 GHz</td><td>182.43489 us</td><td>136.28387 us</td><td>0</td><td>0.00026</td><td>0.00026</td><td>0.0272 </td><tr><td><font style='font-weight:bold'>Q5</font></td><td>5.17329 GHz</td><td>128.55255 us</td><td>36.36279 us</td><td>0</td><td>0.00043</td><td>0.00043</td><td>0.0118 </td><tr><td><font style='font-weight:bold'>Q6</font></td><td>5.3193 GHz</td><td>125.79972 us</td><td>58.54227 us</td><td>0</td><td>0.00029</td><td>0.00029</td><td>0.0295 </td></table>"
      }
     },
     "db08f309bc354dc8be48c178b0cf5b54": {
      "model_module": "@jupyter-widgets/controls",
      "model_module_version": "1.5.0",
      "model_name": "GridBoxModel",
      "state": {
       "children": [
        "IPY_MODEL_e413935096fa4188aa0d3a6fdbd22167",
        "IPY_MODEL_0cd27c2ab6ee4666bfce064eb9d3c1a9",
        "IPY_MODEL_e6485b48a66b407b819a6db6848a67d3",
        "IPY_MODEL_43b4c9e7998b459890713aedf4a22b7a"
       ],
       "layout": "IPY_MODEL_585f5c9b474b4edda85a3f48d0797c5a"
      }
     },
     "db1423103e194e589d65783d2cc5dfa4": {
      "model_module": "@jupyter-widgets/base",
      "model_module_version": "1.2.0",
      "model_name": "LayoutModel",
      "state": {
       "max_height": "620px"
      }
     },
     "dbcecd1f9c7b4e04884387324b20eae7": {
      "model_module": "@jupyter-widgets/controls",
      "model_module_version": "1.5.0",
      "model_name": "DescriptionStyleModel",
      "state": {
       "description_width": ""
      }
     },
     "dc17b20ad4ce465c8c31f982567005d4": {
      "model_module": "@jupyter-widgets/base",
      "model_module_version": "1.2.0",
      "model_name": "LayoutModel",
      "state": {
       "overflow_y": "scroll"
      }
     },
     "dc63f9e22df945eab30df3c047610590": {
      "model_module": "@jupyter-widgets/controls",
      "model_module_version": "1.5.0",
      "model_name": "HTMLModel",
      "state": {
       "layout": "IPY_MODEL_a6f35d4721344929b0efc3cbcf01de60",
       "style": "IPY_MODEL_b6447d8ab85c409d848434bd9af9b653",
       "value": "<div><font style='font-weight:bold'>last_update_date</font>: Tue 28 June 2022 at 11:14 UTC</div>"
      }
     },
     "dc72a38fa6af47afa325a9b12cfd8182": {
      "model_module": "@jupyter-widgets/controls",
      "model_module_version": "1.5.0",
      "model_name": "HTMLModel",
      "state": {
       "layout": "IPY_MODEL_aca1644ee5f64aa3a866e520d8ed17f1",
       "style": "IPY_MODEL_ae143946e223415b9ae89dbbbe4d05fb",
       "value": "<h5>Backend</h5>"
      }
     },
     "ddcf927664314a7db437d004352396e7": {
      "model_module": "@jupyter-widgets/controls",
      "model_module_version": "1.5.0",
      "model_name": "DescriptionStyleModel",
      "state": {
       "description_width": ""
      }
     },
     "de534ea736f149fea5ea94dc3ec4ef47": {
      "model_module": "@jupyter-widgets/base",
      "model_module_version": "1.2.0",
      "model_name": "LayoutModel",
      "state": {
       "width": "190px"
      }
     },
     "de95182bb95944a48c655d9dfbd09390": {
      "model_module": "@jupyter-widgets/controls",
      "model_module_version": "1.5.0",
      "model_name": "TabModel",
      "state": {
       "layout": "IPY_MODEL_2f670a4ac45547349c7dccac7220c103"
      }
     },
     "de97f53c1efb4443af4e2de4a30411cd": {
      "model_module": "@jupyter-widgets/base",
      "model_module_version": "1.2.0",
      "model_name": "LayoutModel",
      "state": {
       "grid_area": "bottom",
       "width": "auto"
      }
     },
     "de98189b51204882a61c89086859c32a": {
      "model_module": "@jupyter-widgets/output",
      "model_module_version": "1.0.0",
      "model_name": "OutputModel",
      "state": {
       "layout": "IPY_MODEL_3ece198bbbe34f4f973262c2099df6b3",
       "outputs": [
        {
         "data": {
          "image/png": "iVBORw0KGgoAAAANSUhEUgAAAR4AAAEeCAYAAABcyXrWAAAAOXRFWHRTb2Z0d2FyZQBNYXRwbG90bGliIHZlcnNpb24zLjUuMSwgaHR0cHM6Ly9tYXRwbG90bGliLm9yZy/YYfK9AAAACXBIWXMAAAsTAAALEwEAmpwYAAAaA0lEQVR4nO3deZgdVZ3G8W8vWbs7IQlhSSBIVhKCEDYloMgygEhUeBB0YNTolIIMWirgggMqiAgqx8fgjBQqMMwgm2jAPAKCRA1LBILsWWUJSCCJJOm+nU5v88epJk0HQ9+6dX91b9f7eZ48NOncc06frnrr1KlTVTXd3d2IiFiqzboBIpI/Ch4RMafgERFzCh4RMafgERFzCh4RMafgERFzCh4RMafgERFzCh4RMafgERFzCh4RMafgERFzCh4RMafgERFzCh4RMafgERFzCh4RMafgERFzCh4RMafgERFzCh4RMafgERFzCh4RMafgERFzCh4RMafgERFzCh4RMafgERFzCh4RMafgERFzCh4RMafgERFzCh4RMafgERFzCh4RMafgERFzCh4RMafgERFzCh4RMafgERFzCh4RMafgERFzCh4RMafgERFzCh4RMafgERFzCh4RMafgERFzCh4RMafgERFzCh4RMafgERFzCh4RMafgERFzCh4RMVefdQMqWeAYBxwI7A004furBVgFPAIsjUI6s2uhncBRA+wGHADMAEYANfj+WIHvj+VRSFdmjTQU98cE/PaxF377qAGageXAw8DKKKQ7s0ZWsJrubvVLb4FjJhACJwNDgDagga0h3Y3fuGqAQcADwOXAnQMxhALHfsCXgA/j+2AL0AjUxf+kpz9q4+8vBL4P3DMQQyhwHAR8GTgB/zO347ePnv7owvdHXfz9P+C3j4UKoa0UPLHAcThwBf7oNYjiRoObgFbgYuDKgbDDBY5jgB8AE/EBXLf9T7yhGz8K2gRcCFw9EHa4wDEHH6jjgWH0f5qipz/+AXwd+N+B0B+lyn3wBI4GfOCcjt+gStECLANOjUKWl9q2LASOkcA84CRgeInFtQBPAB+NQp4vtW1ZCByjgauA95NOfywGTo9CXi61bdUs18ETOPYGfg+MpPTQ6dGJPx05Mwq5NqUyTQSO/YE78adSQ1MqtgN/uvrJKOSWlMo0EThmA3fgA2dISsW24/vj1ChkQUplVp3cXtWKd7L7gZ1JL3TAn5IMA34SOL6QYrllFe9kC4EdSS90wJ+yNgDXBY65KZZbVoHjKOBuYBTphQ740/hG4JbAcUqK5VaVXI54AsdewIP4kU45FYD/iEJ+UeZ6ShJPIP8Jv0OUUwE/8rm5zPWUJHC8G7iH0k+t3k4rcHIeRz65C57AMRh4Gj9pWmNQZStwUBTylEFdRQscw/GXf3fFpj8KwD5RyCqDuooWz3GtwI/8LDQD0/I255PHU61vYreTgR+m3xy4il0zdTn+dMKyP24MXMVue/Mo/8ivtyHA9fG6oNyo1F9+WQSOd+LX6JR7CN1bLX6h2bmGdfZL4DgEmEu6c1xvpw6YDpxpWGe/xPM6J5HuHNfbGQQcDJxmWGfmchU8wAWkO1HYXw3AVwOXSd3b821sd7IeDcCFgev32iAr38X2oNSjAfhOnkY9uQmewDEW+ADZ/cw1+KNpRQgcE4DDsDvF6msofm1MRQgc04GZGTZhNPDeDOs3lZvgAT4Nma4YbQK+kmH9fZ1JdqEDvj/Oy7D+vj5PtvcuNgDnZFi/qdxc1QocjwD7J/lsfR185D1w4FQYOhheeBVu+iP87ZWii2oHRkchzUnakabAsRSYWuznjpoFh82AcWOgthbmPwi3P5i4Ge1AQxTSnriElASO1fjbIYry8aNh8jgY1QgdnX6buOXP8PK6RM1oxffHgN8pczHiic+dpyf9/EcPhyP3g40FeGwlTNwVvngiNBY/O1IAZiVtR1riJQV7JvnsHjtBSxusTyc6N+Pv/M9U4GgCdkry2ffMhEIbLF4Km7fAPntC+GF/sEqgC5iU6JNVplIv8aZtEiS7cbNpGBy6N3R1wQ9vhU2t0NkFh0yHI/Yr+mg/FP9YiT8laUuK9sbv9IOK/eDP7/T//dwc2HFEye2oxffHYyWXVJpZ+INC0QtKL/o/PwIGGDMCLv0UjGqCcaPhhdeKbkcnvj9WFP3JKpOX4JmKv2eoaOPG+KPX2g0+dACeX+ODZ/exRRc3BLgicFyRpC0DUANwdeC4OuuGJNUTOgD18flDZxdsaElUXCMJTn+rUS5OtfDrVBJNpI6IL65u7jUL0RZ/PTKLC69SkYYMgk8e47+++1HYUEhUTC0+jAe8vIx4Ek/WbYw3oKG9TkqGDPb/TbhxyQDTOAy+8CF4xy7wxyfg1j+XVFzVP8upP/ISPAUShs/L6/3VitFN0DQcNhVgz53991YXfw4vA8zoJn+hYZfRsGAx3HZ/ScV14p/ZM+DlJXieIcFEKviguf9peO8+8OWT4KV1/rL65i1w71+LLq4VODcKuTJJW9ISP971ARLck3TY3jBlPEyI57dmTfKTzEtW+it+RWoGzopCriv6kymKbx35Hf450kX56qn+Uvq6jTB4EJx6uP/7h56F59YU3ZQW/LY64OUleF6ghNOtX97nJwwPnAI77QCr/g43/wmaW4suqh3/EPCsPQsMTvLBKeNh9oyt/7/7WP9n7cZEwQP+IfFZ+ysJb5UYFUf3mBFwdK+FEi++lih4BlEZ20fZ5WkB4f3AIRk3owMYEYUUH1kpCxxPkv0ami3A8Ep4SH7geA7YI+NmNOO3jwG/U+blqhbADWR//ry4EkIn9kvItC3dwL2VEDqxm/GPJM1KJ/DbPIQO5Ct4riPbn3cT8L0M6+/rKrK9V6sFuCzD+vuaR7b38m3Gv8UiF3ITPFHIBuAmyOwI2wb8NqO6txGFvIqfUM3q8u3rwH0Z1b2N+C0YpV2TKs3qKMzH/A7kKHhiF5PNcLoF+EYFnVb0uIDs+uO8Cjyt+BrZnH4WyNGd6ZCz4IlCVgD/ie1cTwfwOP7UpqJEIU/gH31q2R9bgEX4OaaKEoUsBn6KDwIrbcCCKOQOwzozl6vgif0I/3DzRPduJdAGfKwCj+49LgZewu6Uqw34RAX3x9eAtdjN9xSAzxrVVTFyFzzx6c4cYD3l39la8aFTsW/RjJ+F8378nEu5d7YCcGIUUvyTjIxEIZuB44CNBtUVgBOikPUGdVWU3AUPQBSyGjgUWEf5Rj6t+HdI3V6m8lMTv2rmvfj3e5crjAv4t2feU6byUxOFPAMcCWygfGHcAsyJwkwntDOTmwWEbyVw7IZ/Ze8epHdX8Bb8pdFTo5DfpVSmicAxCd8fu5LeQ8/b2DrSWZhSmSbi5zD/Dv+OrbT6YzN+oeAJUchDKZVZdXI54ukRj3z2xb9doJXSj/Yt+NfeTqm20AGIQlYCMwCH749Sj0oF4HZgcrWFDrwx8pmGvzCQxtWuAn5Jx6Q8hw7kfMTTW+CYAVwCHIvf4fr7rqlO/FF9FXBBFHJbeVpoK36t8SXAEfiFhv19NU8H/p60Z/FLCAbE63kDx8H4A9Rs/AG7v/e6tbP1yub51XCqaUHB00fg2AX4DPBv+FOwVvyGVoffATvxG9Jw/AT1nYCLQpZk0uAyCxzj8W+k+BiwO74/+t7FvQHfH2uBBfj+eNKynVYCxx7AWcAp+IfDF/DbRs9TlntvH2uAO/D9sdS+tZVLwbMd8Qv4ZsZ/GvAb12ZgJfBoFPJ6dq2zFziGAvsAi/t8633Akig0uRJUMQLHMPyp+nR80NTig2gZ8FgUsinD5lU0BY8ULXBvnvuJwvy8AVPSkevJZRHJhoJHRMwpeETEnIJHRMwpeETEnIJHRMwpeETEnIJHRMwpeETEnIJHRMwpeETEnIJHRMwpeETEnIJHRMwpeETEnIJHRMwpeETEnIJHRMwpeETEnIJHRMwpeETEnIJHRMwpeETEnIJHRMwpeETEnIJHRMwpeETEnIJHRMwpeETEnIJHRMwpeETEXE13d3fWbZAqEDjqgKnAgcB1fb59BvAw8GQU0mbdNqk+Ch75pwJHDXAYcA5wLNAOdANNff5pAegAhgGPApcB86OQDrvWSjVR8MhbChwnAj8AxgINQE0RH9+ED6JLgCuikM70WyjVTMEjbxI4dgR+BhyFD5xStACrgFOikGdLbZsMHAoeeUPgmA0sAIYCQ1IqtgtoAz4XhVyTUplS5XRVSwAIHEcBdwEjSS90wG9jw4ArA8cXUixXqphGPELgeBdwLzC8zFUVgLM08hEFT84FjiZgJX4S2UIrsL/mfPJNp1ryI6DRsL4hwE3xuiDJKQVPjgWOw4FT8XMwVmqBiUBoWKdUGAVPvn2b8s/rvJUG4PzAUZ9B3VIBFDw5FTgmAgdn2IR6YE6G9UuGFDz5dRbZ/v6bgK9kWL9kSFe1cipwLAcmJ/ns3GNg+gRoHAqb2+H5NfCrRfDia0UX1Q406cbS/NGIJ4cCxxBgj6SfHzMClq2GRU9DSyvMfAecleykqRWYmbQdUr00uZdPM/E7/aAkH/7+LVu/njAW/vM0GNUIdbXQ2VVUUfXAAcAjSdoh1UvBk09TKO5u820csS/sOhqm7+7//65Hiw4d8FfU9iqlHVKdFDz5NJQSg+eAKTBtN//1+k2w4uXERVkuXpQKoTmefCr5isL3b4Ezfwzz5sMODXDGB2B038eD9Y+e1ZNDCp58asE/rqJog+qgJh4rdXTCU8/7K1v1dTB2ZNHFdQMbk7RDqptOtfLpKRIedPbcFYLjYNlLUGiDKeNg+BDYWIAXXi26uGbgiSTtkOqm4MmnZSS8orWhGda8DjMmwNDBsKkVHl4Gtz8ErVuKLq4G/5B4yRktIMypwPE4sE/GzWgDhkdhstM+qV6a48mv6/EP5spKF3CnQiefFDz59TOy/f0XgMszrF8ypODJqShkHfAbsruc/SqwKKO6JWMKnny7ECh+Srh0BeCcKCx9PZFUJwVPjkUhS/EPA2sxrLYNuDsKuc2wTqkwCh65HP/SPavXDW8G/t2oLqlQCp6ci18vfDywnoSrmYvQAhwfhawtcz1S4RQ8QhSyGjgUWEf5Rj4twAejkPvLVL5UEQWPABCFrAD2B54h3TmfVvwVrKOikHtTLFeqmIJH3hCPfGYBF+MDo9RL7QXgBmByFPJQiWXJAKJbJuQtBY5pwLeAD+Hnfvr7Gpwt8b9/CLgwCllYnhZKNVPwyHYFjjHAp4HTgGn4B7T3fXjXRvxLAZ8DbgfmRSF/M2ymVBkFj/Rb4KgFpuLngXo7AHgyCjNZjChVSMEjRQvcm1ccR2Fpj1GV/NHksoiYU/CIiDkFj4iYU/CIiDkFj4iYU/CIiDkFj4iYU/CIiDkFj4iYU/CIiDkFj4iYU/CIiDkFj4iYU/CIiDkFj4iYU/CIiDkFj4iYU/CIiDkFj4iYU/CIiDkFj4iYU/CIiDkFj4iYU/CIiDkFj4iYU/CIiDkFj4iYU/CIiDkFj4iYU/CIiDkFj4iYq+nu7s66DRUpcAwBZgIHArOAUUAd0AI8BTwCPBqF/COzRhoKHEOBdwIHAD/p8+1z2NofG63bloXAMQzYF7997AeMAGqAZuBx4GFgSRTSnFUbK5mCp5fAUQscBZwLvA9oBeqB4X3+6Zb4e8OB54DLgBuikBartloIHHXAscB5wGz+eX+0AZvjv1+O74+bopBWu9aWX+CoBz6A74+DgQIwCBjW55/27o+n8f1xaxTSZtfayqbgAQJHDXAK8EP8kasBf/Tqr2b8aeuVwAVRyObUG2ko7o+P43eYYUBTkUX0HOUdcFEUsiW91tmL++MzwHeAwRTfH5uAbuBS4PIopCPdFlaf3AdP4NgZuAZ4Dz5wSlEA1gGnRCEPllhWJgLHeOB64CDS6Y+/Ax+JQpaU2rYsBI53ADcA+1B6f7QAz+O3j6dKLKuq5XpyOXAcCiwDjqT0jQr80Hp34N7A8fUUyjMVOI4GngUOJb3+mAgsChxnp1CeqcAxB3gSP4+TRn80AHsBfwkcc1Mor2rlNngCx5HAXfhTq8EpFz8MOD9wfC/lcssmcJwA/AZoxM9bpKUG3x+XBo7zUyy3rALHKcCN+LCoT7HoWnx/zAscn0+x3KqSy1OtwHEwcC/pHMW2pwB8Jwq5pMz1lCRwHA4sYNtJ47QVgPOikCvLXE9JAsdxwK/YdtI4ba3AGVHIdWWup+LkLngCRwOwAtjFqMpW4MhKnfMJHKPw/THaqMpW4N1RyONG9RUlcOyEvzI3wqjKVmDfKGS5UX0VIY+nWlcAIw3rGwbcFK+DqUT/RflHfr0NBW4OXKqnc6mIr15dA6a/q8HAjfFSjtzI1Q8bOGYDp1H+IXRfY4BvGdf5tgLHvwBzgCGG1dYA4/FrYSrNh4H3kv6c3/bUAVOBswzrzFyugge4APvQAT93clZ8mldJvkX553XeSgNwbuBMd/D+uAjb0V+PBuAbeRr15OYHDRy7AYdT3MLANHUDH82o7m0Ejqn4pf5ZqcWPMCpC4Ngf2DPDJgzDrxLPhdwED3BGxvU3UlmnF2eT7mXiYjVRWf0RYnvK2VcT/ladXMjNVa3A8Th+9WliB0+D4P3+698vgRsXFl1EO7BTFPJ6Ke1IQ+BYiV/cV7RzToZpu735715aC9+8vuii2oERlXCLSeB4Bdg56ednTYLjD4JxO0JHp++PefOhUNzdWW1AQxTSmbQd1SLLI56Z+GbHqaWUMaoR/vUIv1HV1yUupgDsj19DlJn4CtuEUsv5fa+bIDYkuz22FX8w+EupbSlFvKQg8XKCngNSewcsWQlt7bDnzjC4vujgacdvp88kbUu1yEXwANPwv9TEQ+m5x/ida/Vav6ElNAz/WIlMgwf/eIsCJa5VSTDi66sefztCpsGDPxgUSLjM4qRD/X/dr2HZ6pLa0Y3fPhQ8A8RESD58PXoWTB4H373Rf12CwcBlgeOykkqpEO4MqKmB59fArxbBc2uKLmI48JPAbfN8n6qx8w4wZoQf5Rx3AJz9QdhYgLsfhfuKXyLZSMLT32qTl8nloSS8mjVujD+izX8QXnwt5VZVqc1b4K+r4OFlsG4jTJ8A4YkwIosL8xlrjBdnDBkEO46Eh5fDDo1w2pGw36Sii6shm8v55vIy4kk82jlgMtTVwdTxMGUc7DbW//2+E2FLB9y2KK0mVo9587d+XVcLF38SdhwBe+0Oi5dm1qxMbOr1qLOf3+lHfe0dcMS+fht5bGXRRebiWT15CZ4W/Plz8Wqgtgb26bPCY+xImLRr6Q2rNoPrYdiQt55M7srHBdI3WbfRTyAPf4vZw7biH3/WgX9o2ICXl+B5koQTy7c/6P/0mHsMzJ6R+HJ6AfhiFHJVkrakJXBMwz8juehhfdNwuOjj8OxqWL8RJu7qRzsbWuDZF4puyibgs1HIDUV/MkWB40DgHhJMtnd2wT1LYM674VPHwsq/+4sPnV3wUPGjv57neQ94uZjjiUJehop43m0H/iHgWVuOv0eoaM2t8MAzflL1kBl+XmfJCvjhrdBc/GqcWnwAZu0JSriV5o6HYMFf/EjwoKnwcryG52+vFF3UUCqjP8ouTwsIF+JvAMxSO9BYCc8gDhxLyPaWCfAPRG+IQroybgeBYzkwOeNmvB6FjMq4DSZyMeKJXQuZvmqkG/hDJYRO7FrI9K0YXcDtlRA6sesh0xXUHcAtGdZvKk/B80uyu0EUfOhdnmH9fV1DwtOtlLQCP8iw/r5+mnH97fi3cuRCboInCikAv8D/grOwET+BWRHi+8VupoSlBiV6CVicUd3biEJewT+DO6sR2DN5evNEboIn9l2ymWRuAb4chQkv6ZfPN8mmP3qu7lVaf3yNbPqjFfhiBvVmJlfBE1/dOhvbuY0twELgJsM6+yUKWQV8Hdv+2AzMj0IWGNbZL1HI08Al2PZHK/A/UcgfDevMXK6CJ3YtfohvNcm7GZhbgUf3Hj/G35RodQraApxpVFcSl+JfumexgrgbeB34kkFdFSV3wRMHwMnAi5R/4yoAx0chr5a5nsTiq0onAK9S/vmeZuCYSnge0T8Tv174OOAflH++ZxNwdBRmenUxE7kLHoAoZD3+bZnPU76RTwswJwqp+Lu5opA1wCH41w2XY+TTjd/JjolCHi1D+amKQl4EZgNrKc/BqRvYALwvPr3LnVwGD7yxsx0MLCLdc/pW/A58RBRm/tydfot3tgPxK6vT7I8CfnR5WBTyQIrlllUUsgL/bJwnSL8/VgHvqtb3yacht8EDb4x8jsK/WqSZ0o723fiN6jpgShRm/nCrosVhfChwDn5nK+Vo340P4auAaZX6Ar/tiUJWAwfh305SoLRT0S58fzhgRhSSs/v43yw3t0y8ncAxHvgqMBe/0zT286M9q13vA75dTUf17Qkce+CveJ2O32mK7Y+7gIuisCLuTStZ4JgMnA+ciu+P/t5g24pfuHoHvj+qLoDLQcHTR+AYjt+4PoG/l2kIfm1Hz6rnbvyK30HAUmA+8N9RyEvmjTUQOBrxL0E8HdgX/3P3rHWpwfdHPb5PngF+DVwVL8gbcALHCPy28TH886Lr8POEvbePevzZxNP42yCujkLW2re2cil43kbgGAfsjT/C1eGP6CuB5Xl4G0Bv8St+x+P7Yzh+52rFv3t9RQXdd2Ui7o/dgRn4u9t7+mMpsKqCl1BkTsEjIuZyPbksItlQ8IiIOQWPiJhT8IiIOQWPiJhT8IiIOQWPiJhT8IiIOQWPiJhT8IiIOQWPiJhT8IiIOQWPiJhT8IiIOQWPiJhT8IiIOQWPiJhT8IiIOQWPiJhT8IiIOQWPiJhT8IiIOQWPiJhT8IiIOQWPiJhT8IiIOQWPiJhT8IiIOQWPiJhT8IiIOQWPiJhT8IiIOQWPiJhT8IiIOQWPiJhT8IiIOQWPiJhT8IiIOQWPiJhT8IiIOQWPiJhT8IiIOQWPiJhT8IiIOQWPiJhT8IiIOQWPiJhT8IiIOQWPiJhT8IiIOQWPiJhT8IiIOQWPiJhT8IiIOQWPiJhT8IiIuf8H1VM/tm5V/PAAAAAASUVORK5CYII=\n",
          "text/plain": "<Figure size 360x360 with 1 Axes>"
         },
         "metadata": {},
         "output_type": "display_data"
        }
       ]
      }
     },
     "dfffc978b2e5481696653a2907e333e7": {
      "model_module": "@jupyter-widgets/base",
      "model_module_version": "1.2.0",
      "model_name": "LayoutModel",
      "state": {
       "margin": "0px 0px 0px 0px"
      }
     },
     "e00a52806502436ea856659c9d9c27b6": {
      "model_module": "@jupyter-widgets/controls",
      "model_module_version": "1.5.0",
      "model_name": "VBoxModel",
      "state": {
       "children": [
        "IPY_MODEL_9107c446c9294e56a20ef6728fdd496f",
        "IPY_MODEL_47026e9939ca411e9057ca6f61bd18b1"
       ],
       "layout": "IPY_MODEL_8a3c769a0a144b7988fd4f273a34452f"
      }
     },
     "e035db32469147e88a2a7c4e7fcbc419": {
      "model_module": "@jupyter-widgets/controls",
      "model_module_version": "1.5.0",
      "model_name": "VBoxModel",
      "state": {
       "children": [
        "IPY_MODEL_91a63298ce324881a5c6d31c5071a0cd",
        "IPY_MODEL_e2db7bb830154ea985c69ddde87b03d6"
       ],
       "layout": "IPY_MODEL_67daf08530a44917bcd845e4e66f8fff"
      }
     },
     "e03bfc9e781948619537b781f45590d5": {
      "model_module": "@jupyter-widgets/controls",
      "model_module_version": "1.5.0",
      "model_name": "DescriptionStyleModel",
      "state": {
       "description_width": ""
      }
     },
     "e12f96e08ee84422a2748037c1a8e910": {
      "model_module": "@jupyter-widgets/controls",
      "model_module_version": "1.5.0",
      "model_name": "HTMLModel",
      "state": {
       "layout": "IPY_MODEL_193e09525ae342c7ba4b714838f5314a",
       "style": "IPY_MODEL_c46982a61f4f4e79bcacb00bef71d35b",
       "value": "<table><style>\ntable {\n    border-collapse: collapse;\n    width: auto;\n}\n\nth, td {\n    text-align: left;\n    padding: 8px;\n}\n\ntr:nth-child(even) {background-color: #f6f6f6;};\n</style><tr><th></th><th>Type</th><th>Gate error</th></tr><tr><td><font style='font-weight:bold'>cx6_5</font></td><td>cx</td><td>0.00755</td></tr><tr><td><font style='font-weight:bold'>cx5_6</font></td><td>cx</td><td>0.00755</td></tr><tr><td><font style='font-weight:bold'>cx0_1</font></td><td>cx</td><td>0.00972</td></tr><tr><td><font style='font-weight:bold'>cx1_0</font></td><td>cx</td><td>0.00972</td></tr></table>"
      }
     },
     "e197d07878a14454910fcbdd89f4591a": {
      "model_module": "@jupyter-widgets/controls",
      "model_module_version": "1.5.0",
      "model_name": "DescriptionStyleModel",
      "state": {
       "description_width": ""
      }
     },
     "e1e96941512a4eeca351d8ac7d4f5003": {
      "model_module": "@jupyter-widgets/base",
      "model_module_version": "1.2.0",
      "model_name": "LayoutModel",
      "state": {
       "grid_area": "bottom",
       "width": "auto"
      }
     },
     "e22e4960630f46b5a1ef22cf62e985cc": {
      "model_module": "@jupyter-widgets/base",
      "model_module_version": "1.2.0",
      "model_name": "LayoutModel",
      "state": {
       "margin": "0px 0px 0px 0px"
      }
     },
     "e25942def99b4183b68c2205d3abb35c": {
      "model_module": "@jupyter-widgets/controls",
      "model_module_version": "1.5.0",
      "model_name": "HTMLModel",
      "state": {
       "layout": "IPY_MODEL_25ab8d74d03c43ecbded075f5bc43341",
       "style": "IPY_MODEL_9029f081ff0f43f0b083cc7056655200",
       "value": "<table><style>\ntable {\n    border-collapse: collapse;\n    width: auto;\n}\n\nth, td {\n    text-align: left;\n    padding: 8px;\n}\n\ntr:nth-child(even) {background-color: #f6f6f6;}\n</style><tr><th></th><th>Frequency</th><th>T1</th><th>T2</th><th>RZ</th><th>SX</th><th>X</th><th>Readout error</th></tr><tr><td><font style='font-weight:bold'>Q0</font></td><td>4.92504 GHz</td><td>79.3204 us</td><td>147.6838 us</td><td>0</td><td>0.00022</td><td>0.00022</td><td>0.011 </td><tr><td><font style='font-weight:bold'>Q1</font></td><td>5.04625 GHz</td><td>120.67864 us</td><td>33.61631 us</td><td>0</td><td>0.00031</td><td>0.00031</td><td>0.013 </td><tr><td><font style='font-weight:bold'>Q2</font></td><td>4.96199 GHz</td><td>183.4616 us</td><td>78.74645 us</td><td>0</td><td>0.00018</td><td>0.00018</td><td>0.0074 </td><tr><td><font style='font-weight:bold'>Q3</font></td><td>5.10808 GHz</td><td>49.86176 us</td><td>36.92709 us</td><td>0</td><td>0.00055</td><td>0.00055</td><td>0.0174 </td><tr><td><font style='font-weight:bold'>Q4</font></td><td>5.01107 GHz</td><td>182.43489 us</td><td>136.28387 us</td><td>0</td><td>0.00026</td><td>0.00026</td><td>0.0272 </td><tr><td><font style='font-weight:bold'>Q5</font></td><td>5.17329 GHz</td><td>128.55255 us</td><td>36.36279 us</td><td>0</td><td>0.00043</td><td>0.00043</td><td>0.0118 </td><tr><td><font style='font-weight:bold'>Q6</font></td><td>5.3193 GHz</td><td>125.79972 us</td><td>58.54227 us</td><td>0</td><td>0.00029</td><td>0.00029</td><td>0.0295 </td></table>"
      }
     },
     "e2db7bb830154ea985c69ddde87b03d6": {
      "model_module": "@jupyter-widgets/controls",
      "model_module_version": "1.5.0",
      "model_name": "TabModel",
      "state": {
       "_titles": {
        "0": "Configuration",
        "1": "Qubit Properties",
        "2": "Multi-Qubit Gates",
        "3": "Error Map",
        "4": "Job History"
       },
       "children": [
        "IPY_MODEL_7c65fdf0f8264474b98f8b9a7b2563f5",
        "IPY_MODEL_d7dedc739c51430f8ed8b6d6afb80692",
        "IPY_MODEL_db08f309bc354dc8be48c178b0cf5b54",
        "IPY_MODEL_73173fa94b434a13867c1055cebda6ab",
        "IPY_MODEL_540f9ed21e3b47edab8b0169921cc9e5"
       ],
       "layout": "IPY_MODEL_0068c5221ca34c56b756556fe60bd844"
      }
     },
     "e32464ba92ba4650a087a6c3c7497279": {
      "model_module": "@jupyter-widgets/base",
      "model_module_version": "1.2.0",
      "model_name": "LayoutModel",
      "state": {
       "margin": "0px 0px 0px 0px"
      }
     },
     "e372ddf020d24715821aba708e2adc6d": {
      "model_module": "@jupyter-widgets/controls",
      "model_module_version": "1.5.0",
      "model_name": "DescriptionStyleModel",
      "state": {
       "description_width": ""
      }
     },
     "e3fc28852d8946e6870c93140c6aca8a": {
      "model_module": "@jupyter-widgets/base",
      "model_module_version": "1.2.0",
      "model_name": "LayoutModel",
      "state": {
       "grid_area": "right"
      }
     },
     "e40f5fe54dae4adc9112c9d32866826c": {
      "model_module": "@jupyter-widgets/base",
      "model_module_version": "1.2.0",
      "model_name": "LayoutModel",
      "state": {}
     },
     "e413935096fa4188aa0d3a6fdbd22167": {
      "model_module": "@jupyter-widgets/controls",
      "model_module_version": "1.5.0",
      "model_name": "HTMLModel",
      "state": {
       "layout": "IPY_MODEL_41f1caf0dcb5444987767b6bf62f1d87",
       "style": "IPY_MODEL_0863310dcd4a4ae5b868b41d526eda5f",
       "value": "<div><font style='font-weight:bold'>last_update_date</font>: 2022-06-28 11:14:01+00:00</div>"
      }
     },
     "e57d8387b8c943878d17467fb82dba02": {
      "model_module": "@jupyter-widgets/controls",
      "model_module_version": "1.5.0",
      "model_name": "HTMLModel",
      "state": {
       "layout": "IPY_MODEL_cdf30a16a93d4e37aca7b1afd1320ed6",
       "style": "IPY_MODEL_be95b1de2c3444c58b9696023245468a",
       "value": "<div><font style='font-weight:bold'>last_update_date</font>: Tue 28 June 2022 at 10:10 UTC</div>"
      }
     },
     "e6485b48a66b407b819a6db6848a67d3": {
      "model_module": "@jupyter-widgets/controls",
      "model_module_version": "1.5.0",
      "model_name": "HTMLModel",
      "state": {
       "layout": "IPY_MODEL_8ff66c9f486b4b40a8ab4fb6e5c8e7c0",
       "style": "IPY_MODEL_033693ac4637415aac51164dee3a536e",
       "value": "<table><style>\ntable {\n    border-collapse: collapse;\n    width: auto;\n}\n\nth, td {\n    text-align: left;\n    padding: 8px;\n}\n\ntr:nth-child(even) {background-color: #f6f6f6;};\n</style><tr><th></th><th>Type</th><th>Gate error</th></tr><tr><td><font style='font-weight:bold'>cx1_3</font></td><td>cx</td><td>0.00924</td></tr><tr><td><font style='font-weight:bold'>cx3_1</font></td><td>cx</td><td>0.00924</td></tr><tr><td><font style='font-weight:bold'>cx5_3</font></td><td>cx</td><td>0.00767</td></tr><tr><td><font style='font-weight:bold'>cx3_5</font></td><td>cx</td><td>0.00767</td></tr></table>"
      }
     },
     "e6719568a5c04eb6981e3da527924ea0": {
      "model_module": "@jupyter-widgets/controls",
      "model_module_version": "1.5.0",
      "model_name": "DescriptionStyleModel",
      "state": {
       "description_width": ""
      }
     },
     "e712c6fa739d413db83f480ab37a3dd5": {
      "model_module": "@jupyter-widgets/base",
      "model_module_version": "1.2.0",
      "model_name": "LayoutModel",
      "state": {}
     },
     "e7b0bbde66ed4a3489b43ee2d44d6a19": {
      "model_module": "@jupyter-widgets/controls",
      "model_module_version": "1.5.0",
      "model_name": "DescriptionStyleModel",
      "state": {
       "description_width": ""
      }
     },
     "e8672fe6026d415c8ea501f94d1f8652": {
      "model_module": "@jupyter-widgets/base",
      "model_module_version": "1.2.0",
      "model_name": "LayoutModel",
      "state": {
       "grid_area": "left",
       "width": "100%"
      }
     },
     "e8715f8294ca4dc9a51ed0f952bd2621": {
      "model_module": "@jupyter-widgets/controls",
      "model_module_version": "1.5.0",
      "model_name": "DescriptionStyleModel",
      "state": {
       "description_width": ""
      }
     },
     "e8819c9c1fb9479f849d2b3ee72f8f57": {
      "model_module": "@jupyter-widgets/base",
      "model_module_version": "1.2.0",
      "model_name": "LayoutModel",
      "state": {
       "align_items": "center",
       "display": "flex-inline"
      }
     },
     "e8de1af5881148d1a28fa9517520fe6a": {
      "model_module": "@jupyter-widgets/controls",
      "model_module_version": "1.5.0",
      "model_name": "DescriptionStyleModel",
      "state": {
       "description_width": ""
      }
     },
     "e90da568e03e4942bfd499d164ebdbb5": {
      "model_module": "@jupyter-widgets/controls",
      "model_module_version": "1.5.0",
      "model_name": "HTMLMathModel",
      "state": {
       "layout": "IPY_MODEL_d90ccd9cfd2248999e7826e2439e6967",
       "style": "IPY_MODEL_bb9f0d7b877649fa95ae0415c0b5f6ed",
       "value": "<table><style>\ntable {\n    border-collapse: collapse;\n    width: auto;\n}\n\nth, td {\n    text-align: left;\n    padding: 8px;\n}\n\ntr:nth-child(even) {background-color: #f6f6f6;}\n</style><tr><th></th><th></th></tr><tr><td>allow_q_object</td><td>True</td></tr><tr><td>qubit_channel_mapping</td><td>[['m0', 'u1', 'u0', 'd0'], ['u1', 'd1', 'u0', 'u5', 'u2', 'm1', 'u3', 'u4'], ['m2', 'd2', 'u4', 'u2'], ['m3', 'u5', 'u3', 'u8', 'u6', 'd3'], ['d4', 'u7', 'u9', 'm4'], ['d5', 'u7', 'u9', 'u10', 'm5', 'u11', 'u8', 'u6'], ['d6', 'm6', 'u10', 'u11']]</td></tr><tr><td>supported_features</td><td>['qobj', 'qasm3']</td></tr><tr><td>memory</td><td>True</td></tr><tr><td>qubit_lo_range</td><td>[[4.425039493971028, 5.425039493971028], [4.546253783996783, 5.546253783996784], [4.4619867212182145, 5.4619867212182145], [4.608082034893607, 5.608082034893607], [4.511074409987105, 5.511074409987105], [4.673289842125353, 5.673289842125353], [4.819303501215827, 5.819303501215827]]</td></tr><tr><td>meas_lo_range</td><td>[[6.729836446, 7.729836446], [6.604835349, 7.604835349000001], [6.8306589760000005, 7.8306589760000005], [6.632327716000001, 7.632327716000001], [6.713651857, 7.713651857], [6.812390622000001, 7.812390622000001], [6.7878388140000006, 7.7878388140000006]]</td></tr><tr><td>measure_esp_enabled</td><td>False</td></tr><tr><td>local</td><td>False</td></tr><tr><td>multi_meas_enabled</td><td>True</td></tr><tr><td>meas_kernels</td><td>['hw_qmfk']</td></tr><tr><td>pulse_num_channels</td><td>9</td></tr><tr><td>uchannels_enabled</td><td>True</td></tr><tr><td>conditional</td><td>False</td></tr><tr><td>rep_delay_range</td><td>[0.0, 500.0]</td></tr><tr><td>sample_name</td><td>family: Falcon, revision: 5.11, segment: H</td></tr><tr><td>pulse_num_qubits</td><td>3</td></tr><tr><td>discriminators</td><td>['quadratic_discriminator', 'linear_discriminator', 'hw_qmfk']</td></tr><tr><td>open_pulse</td><td>False</td></tr><tr><td>online_date</td><td>2022-03-25 04:00:00+00:00</td></tr><tr><td>n_uchannels</td><td>12</td></tr><tr><td>hamiltonian</td><td>$$\\begin{align} \\mathcal{H}/\\hbar = & \\sum_{i=0}^{6}\\left(\\frac{\\omega_{q,i}}{2}(\\mathbb{I}-\\sigma_i^{z})+\\frac{\\Delta_{i}}{2}(O_i^2-O_i)+\\Omega_{d,i}D_i(t)\\sigma_i^{X}\\right) \\\\ & + J_{0,1}(\\sigma_{0}^{+}\\sigma_{1}^{-}+\\sigma_{0}^{-}\\sigma_{1}^{+}) + J_{1,2}(\\sigma_{1}^{+}\\sigma_{2}^{-}+\\sigma_{1}^{-}\\sigma_{2}^{+}) + J_{4,5}(\\sigma_{4}^{+}\\sigma_{5}^{-}+\\sigma_{4}^{-}\\sigma_{5}^{+}) + J_{5,6}(\\sigma_{5}^{+}\\sigma_{6}^{-}+\\sigma_{5}^{-}\\sigma_{6}^{+}) \\\\ & + J_{1,3}(\\sigma_{1}^{+}\\sigma_{3}^{-}+\\sigma_{1}^{-}\\sigma_{3}^{+}) + J_{3,5}(\\sigma_{3}^{+}\\sigma_{5}^{-}+\\sigma_{3}^{-}\\sigma_{5}^{+}) \\\\ & + \\Omega_{d,0}(U_{0}^{(0,1)}(t))\\sigma_{0}^{X} + \\Omega_{d,1}(U_{1}^{(1,0)}(t)+U_{3}^{(1,3)}(t)+U_{2}^{(1,2)}(t))\\sigma_{1}^{X} \\\\ & + \\Omega_{d,2}(U_{4}^{(2,1)}(t))\\sigma_{2}^{X} + \\Omega_{d,3}(U_{5}^{(3,1)}(t)+U_{6}^{(3,5)}(t))\\sigma_{3}^{X} \\\\ & + \\Omega_{d,4}(U_{7}^{(4,5)}(t))\\sigma_{4}^{X} + \\Omega_{d,5}(U_{8}^{(5,3)}(t)+U_{10}^{(5,6)}(t)+U_{9}^{(5,4)}(t))\\sigma_{5}^{X} \\\\ & + \\Omega_{d,6}(U_{11}^{(6,5)}(t))\\sigma_{6}^{X} \\\\ \\end{align}$$</td></tr><tr><td>default_rep_delay</td><td>250.0</td></tr><tr><td>url</td><td>None</td></tr><tr><td>clops</td><td>2645</td></tr><tr><td>meas_levels</td><td>[1, 2]</td></tr><tr><td>acquisition_latency</td><td>[]</td></tr><tr><td>simulator</td><td>False</td></tr><tr><td>live_data</td><td>False</td></tr><tr><td>processor_type</td><td>{'family': 'Falcon', 'revision': '5.11', 'segment': 'H'}</td></tr><tr><td>dtm</td><td>0.2222222222222222</td></tr><tr><td>n_registers</td><td>1</td></tr><tr><td>coupling_map</td><td>[[0, 1], [1, 0], [1, 2], [1, 3], [2, 1], [3, 1], [3, 5], [4, 5], [5, 3], [5, 4], [5, 6], [6, 5]]</td></tr><tr><td>parametric_pulses</td><td>['gaussian', 'gaussian_square', 'drag', 'constant']</td></tr><tr><td>credits_required</td><td>True</td></tr><tr><td>u_channel_lo</td><td>[[{'q': 1, 'scale': (1+0j)}], [{'q': 0, 'scale': (1+0j)}], [{'q': 2, 'scale': (1+0j)}], [{'q': 3, 'scale': (1+0j)}], [{'q': 1, 'scale': (1+0j)}], [{'q': 1, 'scale': (1+0j)}], [{'q': 5, 'scale': (1+0j)}], [{'q': 5, 'scale': (1+0j)}], [{'q': 3, 'scale': (1+0j)}], [{'q': 4, 'scale': (1+0j)}], [{'q': 6, 'scale': (1+0j)}], [{'q': 5, 'scale': (1+0j)}]]</td></tr><tr><td>meas_map</td><td>[[0, 1, 2, 3, 4, 5, 6]]</td></tr><tr><td>input_allowed</td><td>['job', 'runtime']</td></tr><tr><td>allow_object_storage</td><td>True</td></tr><tr><td>supported_instructions</td><td>['u1', 'id', 'reset', 'sx', 'setf', 'shiftf', 'measure', 'u2', 'acquire', 'u3', 'cx', 'play', 'delay', 'x', 'rz']</td></tr><tr><td>backend_name</td><td>ibm_oslo</td></tr><tr><td>dynamic_reprate_enabled</td><td>True</td></tr><tr><td>rep_times</td><td>[1000.0]</td></tr><tr><td>dt</td><td>0.2222222222222222</td></tr><tr><td>description</td><td>7 qubit device</td></tr><tr><td>channels</td><td>{'acquire0': {'operates': {'qubits': [0]}, 'purpose': 'acquire', 'type': 'acquire'}, 'acquire1': {'operates': {'qubits': [1]}, 'purpose': 'acquire', 'type': 'acquire'}, 'acquire2': {'operates': {'qubits': [2]}, 'purpose': 'acquire', 'type': 'acquire'}, 'acquire3': {'operates': {'qubits': [3]}, 'purpose': 'acquire', 'type': 'acquire'}, 'acquire4': {'operates': {'qubits': [4]}, 'purpose': 'acquire', 'type': 'acquire'}, 'acquire5': {'operates': {'qubits': [5]}, 'purpose': 'acquire', 'type': 'acquire'}, 'acquire6': {'operates': {'qubits': [6]}, 'purpose': 'acquire', 'type': 'acquire'}, 'd0': {'operates': {'qubits': [0]}, 'purpose': 'drive', 'type': 'drive'}, 'd1': {'operates': {'qubits': [1]}, 'purpose': 'drive', 'type': 'drive'}, 'd2': {'operates': {'qubits': [2]}, 'purpose': 'drive', 'type': 'drive'}, 'd3': {'operates': {'qubits': [3]}, 'purpose': 'drive', 'type': 'drive'}, 'd4': {'operates': {'qubits': [4]}, 'purpose': 'drive', 'type': 'drive'}, 'd5': {'operates': {'qubits': [5]}, 'purpose': 'drive', 'type': 'drive'}, 'd6': {'operates': {'qubits': [6]}, 'purpose': 'drive', 'type': 'drive'}, 'm0': {'operates': {'qubits': [0]}, 'purpose': 'measure', 'type': 'measure'}, 'm1': {'operates': {'qubits': [1]}, 'purpose': 'measure', 'type': 'measure'}, 'm2': {'operates': {'qubits': [2]}, 'purpose': 'measure', 'type': 'measure'}, 'm3': {'operates': {'qubits': [3]}, 'purpose': 'measure', 'type': 'measure'}, 'm4': {'operates': {'qubits': [4]}, 'purpose': 'measure', 'type': 'measure'}, 'm5': {'operates': {'qubits': [5]}, 'purpose': 'measure', 'type': 'measure'}, 'm6': {'operates': {'qubits': [6]}, 'purpose': 'measure', 'type': 'measure'}, 'u0': {'operates': {'qubits': [0, 1]}, 'purpose': 'cross-resonance', 'type': 'control'}, 'u1': {'operates': {'qubits': [1, 0]}, 'purpose': 'cross-resonance', 'type': 'control'}, 'u10': {'operates': {'qubits': [5, 6]}, 'purpose': 'cross-resonance', 'type': 'control'}, 'u11': {'operates': {'qubits': [6, 5]}, 'purpose': 'cross-resonance', 'type': 'control'}, 'u2': {'operates': {'qubits': [1, 2]}, 'purpose': 'cross-resonance', 'type': 'control'}, 'u3': {'operates': {'qubits': [1, 3]}, 'purpose': 'cross-resonance', 'type': 'control'}, 'u4': {'operates': {'qubits': [2, 1]}, 'purpose': 'cross-resonance', 'type': 'control'}, 'u5': {'operates': {'qubits': [3, 1]}, 'purpose': 'cross-resonance', 'type': 'control'}, 'u6': {'operates': {'qubits': [3, 5]}, 'purpose': 'cross-resonance', 'type': 'control'}, 'u7': {'operates': {'qubits': [4, 5]}, 'purpose': 'cross-resonance', 'type': 'control'}, 'u8': {'operates': {'qubits': [5, 3]}, 'purpose': 'cross-resonance', 'type': 'control'}, 'u9': {'operates': {'qubits': [5, 4]}, 'purpose': 'cross-resonance', 'type': 'control'}}</td></tr><tr><td>timing_constraints</td><td>{'acquire_alignment': 16, 'granularity': 16, 'min_length': 64, 'pulse_alignment': 16}</td></tr><tr><td>conditional_latency</td><td>[]</td></tr></table>"
      }
     },
     "e932052c535744e6831454126db1a99e": {
      "model_module": "@jupyter-widgets/controls",
      "model_module_version": "1.5.0",
      "model_name": "DescriptionStyleModel",
      "state": {
       "description_width": ""
      }
     },
     "e95557fb82254ae5ae6c4b68f4a757f0": {
      "model_module": "@jupyter-widgets/base",
      "model_module_version": "1.2.0",
      "model_name": "LayoutModel",
      "state": {
       "overflow_y": "scroll"
      }
     },
     "e995e849d7454d10bac0b2fd2e353b47": {
      "model_module": "@jupyter-widgets/base",
      "model_module_version": "1.2.0",
      "model_name": "LayoutModel",
      "state": {
       "grid_area": "top"
      }
     },
     "e9ef516b81b248879c587561861137c7": {
      "model_module": "@jupyter-widgets/base",
      "model_module_version": "1.2.0",
      "model_name": "LayoutModel",
      "state": {
       "align_items": "center",
       "display": "flex-inline"
      }
     },
     "eb518203a54846dd98ba876b987e8f90": {
      "model_module": "@jupyter-widgets/base",
      "model_module_version": "1.2.0",
      "model_name": "LayoutModel",
      "state": {}
     },
     "ebd25898372f42818a1e4b191002b1b2": {
      "model_module": "@jupyter-widgets/controls",
      "model_module_version": "1.5.0",
      "model_name": "DescriptionStyleModel",
      "state": {
       "description_width": ""
      }
     },
     "ebe72b6c326f400abd89568275ac51d7": {
      "model_module": "@jupyter-widgets/controls",
      "model_module_version": "1.5.0",
      "model_name": "HTMLModel",
      "state": {
       "layout": "IPY_MODEL_ba182c26eb0e4fe08a4755b6d8540d90",
       "style": "IPY_MODEL_ff9368c606134ab691e31d0f690f5bb6",
       "value": "<h1 style='color:#ffffff;background-color:#000000;padding-top: 1%;padding-bottom: 1%;padding-left: 1%; margin-top: 0px'>ibm_oslo</h1>"
      }
     },
     "ed30ddd4cfec401dad225f06743f4d5c": {
      "model_module": "@jupyter-widgets/controls",
      "model_module_version": "1.5.0",
      "model_name": "HTMLModel",
      "state": {
       "layout": "IPY_MODEL_2d67cb95e1d642e3a09a1c13a7a54ab6",
       "style": "IPY_MODEL_82776859018c4704bd28c786b692e2c3",
       "value": "<table><style>\ntable {\n    border-collapse: collapse;\n    width: auto;\n}\n\nth, td {\n    text-align: left;\n    padding: 8px;\n}\n\ntr:nth-child(even) {background-color: #f6f6f6;};\n</style><tr><th></th><th>Type</th><th>Gate error</th></tr><tr><td><font style='font-weight:bold'>cx6_5</font></td><td>cx</td><td>0.00755</td></tr><tr><td><font style='font-weight:bold'>cx5_6</font></td><td>cx</td><td>0.00755</td></tr><tr><td><font style='font-weight:bold'>cx0_1</font></td><td>cx</td><td>0.00972</td></tr><tr><td><font style='font-weight:bold'>cx1_0</font></td><td>cx</td><td>0.00972</td></tr></table>"
      }
     },
     "ed904240235c41db8511349c9c226301": {
      "model_module": "@jupyter-widgets/base",
      "model_module_version": "1.2.0",
      "model_name": "LayoutModel",
      "state": {
       "align_items": "center",
       "display": "flex-inline"
      }
     },
     "eebb31d926cd49bda944cd85558d83a5": {
      "model_module": "@jupyter-widgets/base",
      "model_module_version": "1.2.0",
      "model_name": "LayoutModel",
      "state": {}
     },
     "ef060ebaf875425893d0a389d2d42dab": {
      "model_module": "@jupyter-widgets/controls",
      "model_module_version": "1.5.0",
      "model_name": "HTMLModel",
      "state": {
       "layout": "IPY_MODEL_fd91f878322142debc64bcfe4867a043",
       "style": "IPY_MODEL_2933ea5ce3fc4d14b07efe6c5a63ba63",
       "value": "<div><font style='font-weight:bold'>last_update_date</font>: 2022-06-28 11:14:01+00:00</div>"
      }
     },
     "f067ce1ccb194095bbba343baa85e8a1": {
      "model_module": "@jupyter-widgets/base",
      "model_module_version": "1.2.0",
      "model_name": "LayoutModel",
      "state": {
       "grid_gap": "0px 0px",
       "grid_template_areas": "\n                               \"left right right right\"\n                               \"bottom bottom bottom bottom\"\n                               ",
       "grid_template_columns": "31% 23% 23% 23%",
       "grid_template_rows": "auto auto"
      }
     },
     "f0d4b8b1a1e9453eaefd4536d33aa95b": {
      "model_module": "@jupyter-widgets/output",
      "model_module_version": "1.0.0",
      "model_name": "OutputModel",
      "state": {
       "layout": "IPY_MODEL_e9ef516b81b248879c587561861137c7"
      }
     },
     "f25196d5d2424275af822417ee58cc94": {
      "model_module": "@jupyter-widgets/base",
      "model_module_version": "1.2.0",
      "model_name": "LayoutModel",
      "state": {
       "max_height": "620px"
      }
     },
     "f26505eaf34f4853bb26bb9d0ff90676": {
      "model_module": "@jupyter-widgets/controls",
      "model_module_version": "1.5.0",
      "model_name": "VBoxModel",
      "state": {
       "children": [
        "IPY_MODEL_f39aadb7db354f3aa042d45c628f6c39",
        "IPY_MODEL_c65e092ccd634354b4f451f0ef1a4ce3"
       ],
       "layout": "IPY_MODEL_7577253974d5498a8bc814be42553d68"
      }
     },
     "f2a47de6b23b4e369886a099126de470": {
      "model_module": "@jupyter-widgets/output",
      "model_module_version": "1.0.0",
      "model_name": "OutputModel",
      "state": {
       "layout": "IPY_MODEL_c193c4e4205b4bca8a19b0fc518ed3eb"
      }
     },
     "f38800396a144a7ebac0e729f253c3c4": {
      "model_module": "@jupyter-widgets/base",
      "model_module_version": "1.2.0",
      "model_name": "LayoutModel",
      "state": {
       "margin": "0px 0px 0px 0px"
      }
     },
     "f39aadb7db354f3aa042d45c628f6c39": {
      "model_module": "@jupyter-widgets/controls",
      "model_module_version": "1.5.0",
      "model_name": "HTMLModel",
      "state": {
       "layout": "IPY_MODEL_e712c6fa739d413db83f480ab37a3dd5",
       "style": "IPY_MODEL_2bfe7820cd6f43adb4751f9923a49223",
       "value": "<div><font style='font-weight:bold'>last_update_date</font>: Tue 28 June 2022 at 12:20 UTC</div>"
      }
     },
     "f3be8a1f412c46988a587b083b315b49": {
      "model_module": "@jupyter-widgets/base",
      "model_module_version": "1.2.0",
      "model_name": "LayoutModel",
      "state": {
       "grid_area": "left"
      }
     },
     "f5405466da0d4aca84da2304e6e9432c": {
      "model_module": "@jupyter-widgets/base",
      "model_module_version": "1.2.0",
      "model_name": "LayoutModel",
      "state": {
       "max_height": "620px"
      }
     },
     "f56d8433f43744779cd38622ae01ed51": {
      "model_module": "@jupyter-widgets/controls",
      "model_module_version": "1.5.0",
      "model_name": "GridBoxModel",
      "state": {
       "children": [
        "IPY_MODEL_60bd99e3bbf34caeb9b8a4755109125e",
        "IPY_MODEL_3f2b5535e75943418be66f6a40bb087c",
        "IPY_MODEL_ca9dae5ee26849358976361bee2dcc6c"
       ],
       "layout": "IPY_MODEL_86e2829acdaf44dfb672b14dc3f75094"
      }
     },
     "f6264aa78a254ca180fd2e61dbcbc4a0": {
      "model_module": "@jupyter-widgets/controls",
      "model_module_version": "1.5.0",
      "model_name": "VBoxModel",
      "state": {
       "children": [
        "IPY_MODEL_73b8f2e61e6f4c4597ff640bee3a9609",
        "IPY_MODEL_22d3aa07d2f249ebb548f0258321915b"
       ],
       "layout": "IPY_MODEL_3894eb5489964851a8da4f11e584f0fc"
      }
     },
     "f63d042321284a12af511a90a6549821": {
      "model_module": "@jupyter-widgets/base",
      "model_module_version": "1.2.0",
      "model_name": "LayoutModel",
      "state": {
       "grid_area": "left",
       "width": "100%"
      }
     },
     "f64d62460bd24e16a596c8b9de78ea6c": {
      "model_module": "@jupyter-widgets/base",
      "model_module_version": "1.2.0",
      "model_name": "LayoutModel",
      "state": {
       "max_height": "620px"
      }
     },
     "f8b7ea0e624c4d3fa39aef45c94e7fd0": {
      "model_module": "@jupyter-widgets/controls",
      "model_module_version": "1.5.0",
      "model_name": "GridBoxModel",
      "state": {
       "children": [
        "IPY_MODEL_2628a0bb42b748099cf0d99a4a66ad20",
        "IPY_MODEL_8b6a21532e1d4091888e6b7abed9f6c2",
        "IPY_MODEL_a446f9ac94b34663a8c4fbda2d01ed06"
       ],
       "layout": "IPY_MODEL_7b81ba5d13a34fb98e493e4a64bc64b7"
      }
     },
     "f8d9184e813244ceb543cfaa3bfae823": {
      "model_module": "@jupyter-widgets/controls",
      "model_module_version": "1.5.0",
      "model_name": "TabModel",
      "state": {
       "layout": "IPY_MODEL_f25196d5d2424275af822417ee58cc94"
      }
     },
     "f8f706ab6d2e4f96b89032b4c064a9bd": {
      "model_module": "@jupyter-widgets/controls",
      "model_module_version": "1.5.0",
      "model_name": "GridBoxModel",
      "state": {
       "children": [
        "IPY_MODEL_c73dece12a2548f28ec00b64f3c371af",
        "IPY_MODEL_80b0e924cfc748c1ab68307ff2d260d3",
        "IPY_MODEL_20e5ea1da7b44c019485b2b0acaaf1df"
       ],
       "layout": "IPY_MODEL_c1b8e79b78ee4f64ad59cf1689cf23fd"
      }
     },
     "f8fc5c34433f443e86365ecc3c7adc3c": {
      "model_module": "@jupyter-widgets/controls",
      "model_module_version": "1.5.0",
      "model_name": "HTMLModel",
      "state": {
       "layout": "IPY_MODEL_9b8308b88fe242269f7b606c61edeeb3",
       "style": "IPY_MODEL_636e1437823e43af8c163ee8a45b8882",
       "value": "<div><font style='font-weight:bold'>last_update_date</font>: Tue 28 June 2022 at 10:10 UTC</div>"
      }
     },
     "f98902b220de494fabd87673abad473e": {
      "model_module": "@jupyter-widgets/controls",
      "model_module_version": "1.5.0",
      "model_name": "HTMLModel",
      "state": {
       "layout": "IPY_MODEL_41604474bed54c20bd24ce302148998c",
       "style": "IPY_MODEL_9765db68a07e480c8ff90a027f3270ef",
       "value": "<h5>Status</h5>"
      }
     },
     "fa0cc9c51cf747b0a0bef50b6470e00b": {
      "model_module": "@jupyter-widgets/controls",
      "model_module_version": "1.5.0",
      "model_name": "HTMLModel",
      "state": {
       "layout": "IPY_MODEL_2c37c92298f340aa8730f1419f30b017",
       "style": "IPY_MODEL_4cd1f58cf33d4a78886e1450b5376c5a",
       "value": "<table><style>\ntable {\n    border-collapse: collapse;\n    width: auto;\n}\n\nth, td {\n    text-align: left;\n    padding: 8px;\n}\n\ntr:nth-child(even) {background-color: #f6f6f6;};\n</style><tr><th></th><th>Type</th><th>Gate error</th></tr><tr><td><font style='font-weight:bold'>cx4_5</font></td><td>cx</td><td>0.01049</td></tr><tr><td><font style='font-weight:bold'>cx5_4</font></td><td>cx</td><td>0.01049</td></tr><tr><td><font style='font-weight:bold'>cx2_1</font></td><td>cx</td><td>0.00714</td></tr><tr><td><font style='font-weight:bold'>cx1_2</font></td><td>cx</td><td>0.00714</td></tr></table>"
      }
     },
     "faee2da01edf430f9d899bb81014e655": {
      "model_module": "@jupyter-widgets/base",
      "model_module_version": "1.2.0",
      "model_name": "LayoutModel",
      "state": {
       "width": "145px"
      }
     },
     "faf25a98e47a4518b1f1cf430b4e3bcc": {
      "model_module": "@jupyter-widgets/controls",
      "model_module_version": "1.5.0",
      "model_name": "GridBoxModel",
      "state": {
       "children": [
        "IPY_MODEL_72d5fb8d62614936b6335442f95e878f",
        "IPY_MODEL_197d9c68b2244e6582e503a927aadc31",
        "IPY_MODEL_ac7839c39dc84bd891453592488eca75",
        "IPY_MODEL_18dacdb98c4c40d99badfc0a63003c13"
       ],
       "layout": "IPY_MODEL_6ee25aeb7c474410bd5515761415619b"
      }
     },
     "fb5e34b1fde74e23b15ebd0da3e0cae9": {
      "model_module": "@jupyter-widgets/controls",
      "model_module_version": "1.5.0",
      "model_name": "HBoxModel",
      "state": {
       "children": [
        "IPY_MODEL_0948f300079c4979a1f50da839337853",
        "IPY_MODEL_dc72a38fa6af47afa325a9b12cfd8182",
        "IPY_MODEL_f98902b220de494fabd87673abad473e",
        "IPY_MODEL_a57ad4b6a1f94781b7c45566eb3bc2e3",
        "IPY_MODEL_b422a1bd172a493484fb36cbd1cbc0af"
       ],
       "layout": "IPY_MODEL_6c5a3bb9b89d4e0cab3ff65237570213"
      }
     },
     "fbde527f675a482c8e6eee65cc604e12": {
      "model_module": "@jupyter-widgets/controls",
      "model_module_version": "1.5.0",
      "model_name": "DescriptionStyleModel",
      "state": {
       "description_width": ""
      }
     },
     "fd91f878322142debc64bcfe4867a043": {
      "model_module": "@jupyter-widgets/base",
      "model_module_version": "1.2.0",
      "model_name": "LayoutModel",
      "state": {
       "grid_area": "top"
      }
     },
     "fd945fb677784b0e9a202dbc373e89ec": {
      "model_module": "@jupyter-widgets/controls",
      "model_module_version": "1.5.0",
      "model_name": "DescriptionStyleModel",
      "state": {
       "description_width": ""
      }
     },
     "fe6592039e4e4ff39457e091dd65b007": {
      "model_module": "@jupyter-widgets/base",
      "model_module_version": "1.2.0",
      "model_name": "LayoutModel",
      "state": {
       "overflow_y": "scroll"
      }
     },
     "ff200a9d34d149e79dd44514e23e9124": {
      "model_module": "@jupyter-widgets/base",
      "model_module_version": "1.2.0",
      "model_name": "LayoutModel",
      "state": {
       "overflow_y": "scroll"
      }
     },
     "ff9368c606134ab691e31d0f690f5bb6": {
      "model_module": "@jupyter-widgets/controls",
      "model_module_version": "1.5.0",
      "model_name": "DescriptionStyleModel",
      "state": {
       "description_width": ""
      }
     }
    },
    "version_major": 2,
    "version_minor": 0
   }
  }
 },
 "nbformat": 4,
 "nbformat_minor": 5
}
